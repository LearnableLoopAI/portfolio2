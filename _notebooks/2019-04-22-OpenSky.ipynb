{
 "cells": [
  {
   "cell_type": "markdown",
   "metadata": {},
   "source": [
    "# \"Real-time Capture of Airline Data from OpenSky\"\n",
    "\n",
    "> \"Adoption of Automatic Dependent Surveillance – Broadcast (ADS–B) by airlines is leading to the wide availability of flight data in the public domain\"\n",
    "- toc: true\n",
    "- branch: master\n",
    "- badges: false\n",
    "- comments: true\n",
    "- hide: false\n",
    "- search_exclude: true\n",
    "- metadata_key1: metadata_value1\n",
    "- metadata_key2: metadata_value2\n",
    "- image: images/opensky_logo.png\n",
    "- categories: [Airline_Industry,   ADS-B,API,   Python,urllib]\n",
    "- show_tags: true"
   ]
  },
  {
   "cell_type": "markdown",
   "metadata": {},
   "source": [
    "## Purpose"
   ]
  },
  {
   "cell_type": "markdown",
   "metadata": {},
   "source": [
    "The gradual adoption of *Automatic Dependent Surveillance – Broadcast* (ADS–B) by airlines is leading to the wide availability of flight data in the public domain. Wikipedia gives a good overview of this technology (\"Automatic dependent surveillance – broadcast,\" n.d.). The ADS-B technology allows an aircraft to use satellite navigation to find its position. It then broadcasts this information periodically which enables ground stations to track it. This method is used as a replacement for secondary surveillance radar (SSR) and does not depend on an interrogation signal from the ground. The data that is broadcast can also update the situational awareness of other aircraft in the area.\n",
    "\n",
    "The increasing use of ADS-B has led to many flight tracking sites that publish basic flight data for consumption by the public. See \"This Is How Flight Tracking Sites Work\" (Rabinowitz, 2017). This data is relatively superficial and usually consists of a dozen or so measured quantities. Some of the more prominent players are:\n",
    "* ADS-B Exchange at https://www.adsbexchange.com/  \n",
    "* OpenSky at https://opensky-network.org/ \n",
    "* FlightAware at https://flightaware.com/ \n",
    "* ADSBHub at http://www.adsbhub.org/ \n",
    "* planefinder at https://planefinder.net/ \n",
    "* Aireon at https://aireon.com/ \n",
    "* flightradar24 at https://www.flightradar24.com/\n",
    "* RadarBox at https://www.radarbox24.com/\n",
    "\n",
    "This project makes use of the [OpenSky](https://opensky-network.org/) API to assess the usefulness of real-time capture of airline data."
   ]
  },
  {
   "cell_type": "markdown",
   "metadata": {},
   "source": [
    "## Dataset and Variables"
   ]
  },
  {
   "cell_type": "markdown",
   "metadata": {},
   "source": [
    "A process was setup to capture the real-time flight data of a large number of flights from many carriers, once every 60 seconds. This activity continued for about 12 hours."
   ]
  },
  {
   "cell_type": "markdown",
   "metadata": {},
   "source": [
    "The data consists of 3,252,478 rows, each capturing 17 features. The data is prepared in the notebooks:\n",
    "\n",
    "[1_CollectRawData.ipynb](https://nbviewer.jupyter.org/github/kobus78/OpenSky/blob/master/1_CollectRawData.ipynb)\n",
    "\n",
    "[2_Combine.ipynb](https://nbviewer.jupyter.org/github/kobus78/OpenSky/blob/master/2_Combine.ipynb)"
   ]
  },
  {
   "cell_type": "markdown",
   "metadata": {},
   "source": [
    "The features are:\n",
    "\n",
    "- datetime\n",
    "- icao24\n",
    "- callsign\n",
    "- origin_country\n",
    "- time_position\n",
    "- last_contact\n",
    "- longitude\n",
    "- latitude\n",
    "- baro_altitude\n",
    "- on_ground\n",
    "- velocity\n",
    "- true_track\n",
    "- vertical_rate\n",
    "- sensors\n",
    "- geo_altitude\n",
    "- squawk\n",
    "- spi\n",
    "- position_source"
   ]
  },
  {
   "cell_type": "markdown",
   "metadata": {},
   "source": [
    "## Exploratory Data Analysis"
   ]
  },
  {
   "cell_type": "markdown",
   "metadata": {},
   "source": [
    "Some exploratory data analysis is undertaken in the notebook:\n",
    "\n",
    "[3_EDA.ipynb](https://nbviewer.jupyter.org/github/kobus78/OpenSky/blob/master/3_EDA.ipynb)"
   ]
  },
  {
   "cell_type": "markdown",
   "metadata": {},
   "source": [
    "## Conclusion"
   ]
  },
  {
   "cell_type": "markdown",
   "metadata": {},
   "source": [
    "Even though the OpenSky API provides quite useful data, there is often a need to have more in-depth flight data for serious post-flight analyses. Such data are not provided by any of the ADS-B sources listed above.\n",
    "\n",
    "Detailed, in-depth flight data is generally unavailable to the public. There are a few sources that make de-indentified data available but usefulness varies. A few sources are:\n",
    "* DASHlink at https://c3.nasa.gov/dashlink/ \n",
    "* IATA at https://www.iata.org/services/statistics/gadm/Pages/fdx.aspx \n",
    "* Data.gov at https://www.data.gov/ with a search term of “ads-b”\n",
    "\n",
    "Note that these sources do not provide real-time data. An example project that makes use of the DASHlink source is:\n",
    "\n",
    "[Time-series Classification (Deep Learning to Classify Flight Profiles)](https://learnableloopai.github.io/portfolio/airline%20industry/deep%20learning/time%20series/image%20classification/cnn/rnn/python/fastai/matlab/2019/09/15/TimeSeriesClassification.html)"
   ]
  },
  {
   "cell_type": "markdown",
   "metadata": {},
   "source": [
    "## References/Bibliography"
   ]
  },
  {
   "cell_type": "markdown",
   "metadata": {},
   "source": [
    "Automatic dependent surveillance – broadcast. (n.d.). In Wikipedia. Retrieved September 19, 2019, from   http://en.wikipedia.org/wiki/https://en.wikipedia.org/wiki/Automatic_dependent_surveillance_%E2%80%93_broadcast"
   ]
  },
  {
   "cell_type": "markdown",
   "metadata": {},
   "source": [
    "Rabinowitz, J. (2017). This Is How Flight Tracking Sites Work. Retrieved from https://thepointsguy.com/2017/09/how-flight-tracking-sites-work/"
   ]
  }
 ],
 "metadata": {
  "kernelspec": {
   "display_name": "Python 3",
   "language": "python",
   "name": "python3"
  },
  "language_info": {
   "codemirror_mode": {
    "name": "ipython",
    "version": 3
   },
   "file_extension": ".py",
   "mimetype": "text/x-python",
   "name": "python",
   "nbconvert_exporter": "python",
   "pygments_lexer": "ipython3",
   "version": "3.7.1"
  }
 },
 "nbformat": 4,
 "nbformat_minor": 2
}
