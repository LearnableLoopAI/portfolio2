{
 "cells": [
  {
   "cell_type": "markdown",
   "metadata": {},
   "source": [
    "# Critique of a Data Product (Annual Report)\n",
    "\n",
    "> Communicating about data is a special art...\n",
    "- toc: true\n",
    "- branch: master\n",
    "- badges: false\n",
    "- comments: true\n",
    "- hide: false\n",
    "- search_exclude: true\n",
    "- metadata_key1: metadata_value1\n",
    "- metadata_key2: metadata_value2\n",
    "- image: images/dpc_fig1_replacement.png\n",
    "- categories: [Translation Industry,   Data Product,Visualization]\n",
    "- show_tags: true"
   ]
  },
  {
   "cell_type": "markdown",
   "metadata": {},
   "source": [
    "## Purpose\n",
    "This project involves the critique of the format and contents of the annual report of a non-profit. The annual report is about the operations of an initiative known as MissionTran. The need that the client has is to evaluate the current structure and contents of the annual report in the light of best-practice data communication standards, as well as obtain recommendations to improve the data communication aspects of it. A copy of the annual report may be found [here](/portfolio/AnnualReport2018.pdf)."
   ]
  },
  {
   "cell_type": "markdown",
   "metadata": {},
   "source": [
    "## Description of the Data Product"
   ]
  },
  {
   "cell_type": "markdown",
   "metadata": {},
   "source": [
    "The MissionTran project uses a team of volunteers to proofread machine-translated sermons into a number of languages. Users proofread and correct machine-translated sentences one-by-one. Each proofreading effort to a sentence is called a *contribution* and comes in the form of an *edit*.\n",
    "\n",
    "There are two kinds of contributions: *Votes* and *Creates*. A vote contribution happens when the user decides to simply vote for the provided translation, i.e. the user deems the translation to be correct. A create contribution happens when the user edits the translation to correct it."
   ]
  },
  {
   "cell_type": "markdown",
   "metadata": {},
   "source": [
    "There are a number of *bases* upon which a contribution is made. For *vote* contributions, the bases are:\n",
    "- By *accepting* the machine-translated sentence as is (‘a’)\n",
    "- By *creating* a new edit (‘c’)\n",
    "- By *topping*, i.e. by voting for the current edit with the most votes (‘t’)\n",
    "- By *picking* another edit to vote for (‘p’)"
   ]
  },
  {
   "cell_type": "markdown",
   "metadata": {},
   "source": [
    "For create contributions the bases are:\n",
    "- By *clearing* (‘k’)\n",
    "- By *modifying* (‘m’)"
   ]
  },
  {
   "cell_type": "markdown",
   "metadata": {},
   "source": [
    "A number of metrics are collected by the system:\n",
    "- time used to make a vote contribution \n",
    "- time used to make a create contribution \n",
    "- vote time spent to proofread a complete translation (assignment)\n",
    "- create time spent to proofread a complete translation (assignment)"
   ]
  },
  {
   "cell_type": "markdown",
   "metadata": {},
   "source": [
    "The components of the system may be summarized as follows:\n",
    "- a Translation has many\n",
    "    - Sentences has many\n",
    "        - Edits has many\n",
    "            - Contributions\n",
    "- a Translation has many\n",
    "    - Assignments has many\n",
    "        - Contributions\n",
    "- A User has many\n",
    "    - Assignments"
   ]
  },
  {
   "cell_type": "markdown",
   "metadata": {},
   "source": [
    "## Finding Your Purpose and Message"
   ]
  },
  {
   "cell_type": "markdown",
   "metadata": {},
   "source": [
    "### Actionable data"
   ]
  },
  {
   "cell_type": "markdown",
   "metadata": {},
   "source": [
    "The location of *actionable data* in the annual report is not straightforward. Most charts seem to simply dump data. Only some charts seem to suggest its use as a trigger for action. One such chart is the report's Figure 12 which shows the number of contributions by username by contribution kind:"
   ]
  },
  {
   "cell_type": "markdown",
   "metadata": {},
   "source": [
    "![](../images/dpc_fig12.png \"Figure 12:  Number of contributions by username by contribution kind\")"
   ]
  },
  {
   "cell_type": "markdown",
   "metadata": {},
   "source": [
    "This chart shows how productive users were by showing the total number of contributions each made. This number is further broken down into *vote* contribution and *create* contributions."
   ]
  },
  {
   "cell_type": "markdown",
   "metadata": {},
   "source": [
    "### Balance"
   ]
  },
  {
   "cell_type": "markdown",
   "metadata": {},
   "source": [
    "There should be a balance between the representations for the *data*, the *author*, and the *audience*. In the report, the balance is tilted strongly in the direction of the data. There is a strong impression that all available data has simply been dropped into the document. The consumer is then expected to pick out pieces for consumption. \n",
    "\n",
    "The document does not reveal much about the objectives of the *author*, except maybe to communicate the progress of the translation team. \n",
    "\n",
    "There is an implication that the *audience’s* need is simply to know the progress of the project."
   ]
  },
  {
   "cell_type": "markdown",
   "metadata": {},
   "source": [
    "### Audience factors"
   ]
  },
  {
   "cell_type": "markdown",
   "metadata": {},
   "source": [
    "The *role* of the audience seems to be stakeholders interested in the status of the project. There is hardly any structure that would make it easy and direct to answer high-priority questions. \n",
    "\n",
    "The *workflow* of the audience might be catered for as the information is presented in the form of charts that can be accessed easily in an office setting. \n",
    "\n",
    "There is no elaboration on the *data comfort and skills* of the audience. The author does point out that “The workings of the translation system will not be presented here as most stakeholders are well aware of the details.” This suggests that the audience possess the *industry and data expertise* and does not need embedded explanations."
   ]
  },
  {
   "cell_type": "markdown",
   "metadata": {},
   "source": [
    "## Information Discrimination"
   ]
  },
  {
   "cell_type": "markdown",
   "metadata": {},
   "source": [
    "There is no identifiable core problem/theme. The report is simply a series of charts that try to convey the performance of the team. There is not a good separation of *reporting* from *exploration*. Some charts, like Figure 10, are totally unnecessary. This chart should have at least been pushed to an appendix but there is no appendix. Here is Figure 10:"
   ]
  },
  {
   "cell_type": "markdown",
   "metadata": {},
   "source": [
    "![](../images/dpc_fig10.png \"Figure 10:  Joint distribution of assignment total vote/create time\")"
   ]
  },
  {
   "cell_type": "markdown",
   "metadata": {},
   "source": [
    "Figure 10 seems much too technical and does not belong with the remaining charts."
   ]
  },
  {
   "cell_type": "markdown",
   "metadata": {},
   "source": [
    "There is a section (at the end) on “Day of Week.” The chart in this section (Figure 13), breaks down contribution effort (in seconds) by day-of-week by contribution kind:"
   ]
  },
  {
   "cell_type": "markdown",
   "metadata": {},
   "source": [
    "![](../images/dpc_fig13.png \"Figure 13:  Distribution of effort by day-of-week by contribution kind\")"
   ]
  },
  {
   "cell_type": "markdown",
   "metadata": {},
   "source": [
    "It seems unnatural to do this kind of breakdown. Why would distribution of effort per contribution vary with day of week. I cannot think of a fundamental reason why a user’s need for time to proofread a specific sentence would vary by day-of-week. This is not a meaningful chart. It should be thrown out. \n",
    "\n",
    "With a stretch of imagination one could think of the following scenario. Let us say on Mondays, there are always a series of celebrations in the large conference room next door. This might be distracting to the proofreaders. This kind of scenario, however, should be investigated in the 'backroom'. It should not be part of regular annual report."
   ]
  },
  {
   "cell_type": "markdown",
   "metadata": {},
   "source": [
    "If the author happens to insist on keeping this chart, it should be changed considerably. Its current form hardly shows the required information. The presence of a few outliers compresses the real data so much that nothing is revealed. Here is a first suggestion. The weekdays are ordered, the axis labels are improved, and a measure of transparency is given to the markers. This helps to show how much overlap of points there are:"
   ]
  },
  {
   "cell_type": "markdown",
   "metadata": {},
   "source": [
    "![](../images/dpc_fig13_replacement1.png \"Figure 13-1:  Replacement suggestion 1\")"
   ]
  },
  {
   "cell_type": "markdown",
   "metadata": {},
   "source": [
    "Even better, we can provide a small amount of sideways random jitter to help reveal the overlap:"
   ]
  },
  {
   "cell_type": "markdown",
   "metadata": {},
   "source": [
    "![](../images/dpc_fig13_replacement2.png \"Figure 13-2:  Replacement suggestion 2\")"
   ]
  },
  {
   "cell_type": "markdown",
   "metadata": {},
   "source": [
    "If we remove the outliers, the chart becomes more effective:"
   ]
  },
  {
   "cell_type": "markdown",
   "metadata": {},
   "source": [
    "![](../images/dpc_fig13_replacement3.png \"Figure 13-3:  Replacement suggestion 3\")"
   ]
  },
  {
   "cell_type": "markdown",
   "metadata": {},
   "source": [
    "We may also use a boxplot which is commonly used in a case like this:"
   ]
  },
  {
   "cell_type": "markdown",
   "metadata": {},
   "source": [
    "![](../images/dpc_fig13_replacement4.png \"Figure 13-4:  Replacement suggestion 4\")"
   ]
  },
  {
   "cell_type": "markdown",
   "metadata": {},
   "source": [
    "A violin plot will also be effective:"
   ]
  },
  {
   "cell_type": "markdown",
   "metadata": {},
   "source": [
    "![](../images/dpc_fig13_replacement5.png \"Figure 13-5:  Replacement suggestion 5\")"
   ]
  },
  {
   "cell_type": "markdown",
   "metadata": {},
   "source": [
    "The latest plots all reveal that there is no real variation in contribution effort per sentence over day-of-week. This was certainly not evident from the original chart."
   ]
  },
  {
   "cell_type": "markdown",
   "metadata": {},
   "source": [
    "## Defining Meaningful and Actionable Metrics"
   ]
  },
  {
   "cell_type": "markdown",
   "metadata": {},
   "source": [
    "The area of metrics is the strong point of the document. Metrics are: \n",
    "- not too *simplistic*\n",
    "- not overly *complex*\n",
    "- not too *many*\n",
    "- none are *vanity* metrics"
   ]
  },
  {
   "cell_type": "markdown",
   "metadata": {},
   "source": [
    "The metrics have a *common interpretation*, e.g.\n",
    "-\ttime used to make a vote contribution \n",
    "-\ttime used to make a create contribution \n",
    "-\tvote time spent to proofread a complete translation (assignment)\n",
    "-\tcreate time spent to proofread a complete translation (assignment)\n",
    "-   total vote time spent during an assignment."
   ]
  },
  {
   "cell_type": "markdown",
   "metadata": {},
   "source": [
    "Metrics are mostly *actionable*; e.g. how much time is spent per sentence."
   ]
  },
  {
   "cell_type": "markdown",
   "metadata": {},
   "source": [
    "Metrics are *accessible* and also *transparent* with simple calculations."
   ]
  },
  {
   "cell_type": "markdown",
   "metadata": {},
   "source": [
    "## Creating Structure and Flow to your Data Products"
   ]
  },
  {
   "cell_type": "markdown",
   "metadata": {},
   "source": [
    "There is a simplistic logical structure and *no narrative* at all – very poor!"
   ]
  },
  {
   "cell_type": "markdown",
   "metadata": {},
   "source": [
    "The author could have chosen one of many narrative flows, e.g. to \n",
    "-\tshow how machine-translated assisted proofreading is more efficient than humans translating from scratch\n",
    "-\tshow how the productivity of users varies by language\n",
    "-\tshow the work patterns of users, i.e. a steady amount each workday, or only on one day per week, etc."
   ]
  },
  {
   "cell_type": "markdown",
   "metadata": {},
   "source": [
    "There is no meaningful flow however. There is no notion of the “guided safari” storytelling, or even of a traditional story. This is a glaring weakness in the data product."
   ]
  },
  {
   "cell_type": "markdown",
   "metadata": {},
   "source": [
    "## Designing Attractive, Easy-to-understand Data Products"
   ]
  },
  {
   "cell_type": "markdown",
   "metadata": {},
   "source": [
    "The presentation looks rough and unfinished (low aesthetic value). Given the author’s comment about the stakeholders’ understanding of the workings of the system, this might be overlooked somewhat. \n",
    "\n",
    "There is no need for *connectivity*, *data detail*, *interactivity*, and *mobility* as this is an annual report. \n",
    "\n",
    "The use of *color* in charts was mostly acceptable."
   ]
  },
  {
   "cell_type": "markdown",
   "metadata": {},
   "source": [
    "The author often did not choose the most appropriate chart type, e.g. in Figures 1 and 2 a line chart should have been used instead of the heat maps:"
   ]
  },
  {
   "cell_type": "markdown",
   "metadata": {},
   "source": [
    "![](../images/dpc_fig1.png \"Figure 1:  Contributions\")"
   ]
  },
  {
   "cell_type": "markdown",
   "metadata": {},
   "source": [
    "If the author insists on having a heat map, it could have been made simpler and more effective:"
   ]
  },
  {
   "cell_type": "markdown",
   "metadata": {},
   "source": [
    "![](../images/dpc_fig1_replacement.png \"Figure 1-1:  Replacement suggestion\")"
   ]
  },
  {
   "cell_type": "markdown",
   "metadata": {},
   "source": [
    "The chart type for Figure 6 was chosen poorly and the presence of a few outliers hide most of the real data:"
   ]
  },
  {
   "cell_type": "markdown",
   "metadata": {},
   "source": [
    "![](../images/dpc_fig6.png \"Figure 6:  Distribution of effort by contribution kind by sentence type\")"
   ]
  },
  {
   "cell_type": "markdown",
   "metadata": {},
   "source": [
    "The following chart would have been more effective (after removing the outliers):"
   ]
  },
  {
   "cell_type": "markdown",
   "metadata": {},
   "source": [
    "![](../images/dpc_fig6_replacement.png \"Figure 6-1:  Replacement suggestion\")"
   ]
  },
  {
   "cell_type": "markdown",
   "metadata": {},
   "source": [
    "## Creating Dialogue with Your Data Products"
   ]
  },
  {
   "cell_type": "markdown",
   "metadata": {},
   "source": [
    "In general, there is not a lot of *chart junk*. The author mostly used sufficient *contrast*. *Readability of labels* are generally bad. A serious omission is that no chart has a heading! For example, Figure 11:"
   ]
  },
  {
   "cell_type": "markdown",
   "metadata": {},
   "source": [
    "![](../images/dpc_fig11.png \"Figure 11:  Distribution of effort\")"
   ]
  },
  {
   "cell_type": "markdown",
   "metadata": {},
   "source": [
    "The time units are always in seconds which is often inappropriate. Although the meaning of variables is explained, it is bothersome that they appear in their “software” form on axes, as in Figure 8:"
   ]
  },
  {
   "cell_type": "markdown",
   "metadata": {},
   "source": [
    "![](../images/dpc_fig8.png \"Figure 8:  Assignment total create time versus translation sentence count\")"
   ]
  },
  {
   "cell_type": "markdown",
   "metadata": {},
   "source": [
    "Sentence types are not defined anywhere."
   ]
  },
  {
   "cell_type": "markdown",
   "metadata": {},
   "source": [
    "*Sorting for comprehension* could have been done in Figure 5 and 12:"
   ]
  },
  {
   "cell_type": "markdown",
   "metadata": {},
   "source": [
    "![](../images/dpc_fig5.png \"Figure 5:  Distribution of effort by language by sentence type\")"
   ]
  },
  {
   "cell_type": "markdown",
   "metadata": {},
   "source": [
    "![](../images/dpc_fig12.png \"Figure 12:  Number of contributions by username by contribution kind\")"
   ]
  },
  {
   "cell_type": "markdown",
   "metadata": {},
   "source": [
    "In addition, monotone *color variants* could have been used in Figure 12."
   ]
  },
  {
   "cell_type": "markdown",
   "metadata": {},
   "source": [
    "## Summary"
   ]
  },
  {
   "cell_type": "markdown",
   "metadata": {},
   "source": [
    "The annual report showcases a lot of data. The disappointing part is that it has been done ineffectively and unprofessionally."
   ]
  },
  {
   "cell_type": "markdown",
   "metadata": {},
   "source": [
    "The main weaknesses are:\n",
    "-\tNo purpose or message\n",
    "-\tUse of data indiscriminately\n",
    "-\tWeak structure and no narrative flow \n",
    "-\tNo mentionable design\n",
    "-\tWill not trigger conversation and dialogue in a straightforward way"
   ]
  },
  {
   "cell_type": "markdown",
   "metadata": {},
   "source": [
    "The one strength:\n",
    "-\tMeaningful metrics"
   ]
  },
  {
   "cell_type": "code",
   "execution_count": null,
   "metadata": {},
   "outputs": [],
   "source": []
  }
 ],
 "metadata": {
  "kernelspec": {
   "display_name": "Python 3",
   "language": "python",
   "name": "python3"
  },
  "language_info": {
   "codemirror_mode": {
    "name": "ipython",
    "version": 3
   },
   "file_extension": ".py",
   "mimetype": "text/x-python",
   "name": "python",
   "nbconvert_exporter": "python",
   "pygments_lexer": "ipython3",
   "version": "3.7.1"
  }
 },
 "nbformat": 4,
 "nbformat_minor": 2
}
