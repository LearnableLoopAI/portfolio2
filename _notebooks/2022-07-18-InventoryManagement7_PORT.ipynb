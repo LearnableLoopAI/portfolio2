{
  "nbformat": 4,
  "nbformat_minor": 0,
  "metadata": {
    "colab": {
      "provenance": [],
      "collapsed_sections": []
    },
    "kernelspec": {
      "display_name": "Python 3",
      "language": "python",
      "name": "python3"
    },
    "pycharm": {
      "stem_cell": {
        "cell_type": "raw",
        "metadata": {
          "collapsed": false
        },
        "source": []
      }
    }
  },
  "cells": [
    {
      "cell_type": "markdown",
      "metadata": {
        "id": "klGNgWREsvQv"
      },
      "source": [
        "# \"An RL Approach for Inventory Management (Part 7)\"\n",
        "\n",
        "> Tabular Monte-Carlo Prediction\n",
        "- toc: true\n",
        "- branch: master\n",
        "- badges: false\n",
        "- comments: true\n",
        "- hide: false\n",
        "- search_exclude: true\n",
        "- metadata_key1: metadata_value1\n",
        "- metadata_key2: metadata_value2\n",
        "- image: images/InventoryManagement7.png\n",
        "- categories: [Inventory_Management,   Markov_Decision_Process,   MC]\n",
        "- show_tags: true"
      ]
    },
    {
      "cell_type": "code",
      "source": [
        "# hide\n",
        "# based on 0^mc_simple_inventory_mrp_KE.ipynb"
      ],
      "metadata": {
        "id": "KpGG-6QEGi1O"
      },
      "execution_count": null,
      "outputs": []
    },
    {
      "cell_type": "markdown",
      "source": [
        "## 1 Overview of the Reinforcement Learning Approach"
      ],
      "metadata": {
        "id": "1FvA1Om_-cQO"
      }
    },
    {
      "cell_type": "markdown",
      "source": [
        "So far, we always had a *model* for the environment. This model came in the form of transition probabilities. It is often the case in the real world that we do not have these probabilties. We simply get individual experiences of next state and reward, given we take a specific action in a specific state. However, we still need a way to obtain the optimal value function or the optimal policy. There are algorithms available for this need. We have now entered the subfield of Reinforcement Learning. When we have a model (as in previous parts) the subfield is called Dynamic Programming or Approximate Dynamic Programming.\n",
        "\n",
        "Note that we can use Reinforcement Learning even if we may have the option to obtain a model. Sometimes the state space is so large that obtaining a model is hard or the computational aspects become intractable. "
      ],
      "metadata": {
        "id": "w6rGooLv2dFn"
      }
    },
    {
      "cell_type": "markdown",
      "source": [
        "## 2 RL for Prediction"
      ],
      "metadata": {
        "id": "IVtuYrv798Im"
      }
    },
    {
      "cell_type": "markdown",
      "source": [
        "Let us repeat some points related to *prediction*:\n",
        "- *prediction* is the problem of estimating the *value function* of an MDP given a policy $\\pi$\n",
        "- the equivalent problem is to estimate the value function of the $\\pi$-implied MRP\n",
        "\n",
        "In this project we choose to work with MRPs, rather than MDPs, depending on the latter point. The relationship with the MRP environment is such that the:\n",
        "- Environment is available as an interface that serves up individual experiences of (next state, reward), given a current state. Note the absence of an action.\n",
        "- Environment might the *real* or *simulated*.\n",
        "\n",
        "We define the agent's experience with the environment as follows:\n",
        "  - *atomic experience*\n",
        "    - agent receives a single experience of (next state, reward), given current state\n",
        "  - *trace experience*\n",
        "    - starting from state $S_0$, repeated interactions with the environment leading to a sequence of atomic experiences\n",
        "\n",
        "The RL prediction problem is the estimate the value function, given a stream of atomic experiences or a stream of trace experiences.\n",
        "\n",
        "An MRP's value function is:\n",
        "\n",
        "$$\n",
        "V(s) = \\mathbb E[G_t|S_t=s]\n",
        "$$\n",
        "\n",
        "for all $s \\in \\mathcal N$, for all $t=0,1,2,...$\n",
        "\n",
        "where the return $G_t$ for each $t=0,1,2,...$ is defined as:\n",
        "\n",
        "$$\n",
        "\\begin{aligned}\n",
        "G_t &= R_{t+1}+\\gamma \\cdot R_{t+2}+\\gamma^2 \\cdot R_{t+3}+... \\\\\n",
        "&= \\sum_{i=t+1}^\\infty \\gamma ^{i-t-1} \\cdot R_i \\\\\n",
        "&= R_{t+1}+\\gamma \\cdot G_{t+1}\n",
        "\\end{aligned}\n",
        "$$\n",
        "\n",
        "This infinite sum is true even if a trace experience terminates, say at $t=T$ ($S_T \\in \\mathcal T$) because we take $R_i=0$ for all $i>T$."
      ],
      "metadata": {
        "id": "4H_DaAXS-DKr"
      }
    },
    {
      "cell_type": "code",
      "metadata": {
        "id": "4E8ujfcND6pJ",
        "colab": {
          "base_uri": "https://localhost:8080/"
        },
        "outputId": "0cd86f13-8f0b-4afa-9a5e-fe8bb9ec82d6"
      },
      "source": [
        "#hide\n",
        "from google.colab import drive\n",
        "drive.mount('/content/gdrive', force_remount=True)\n",
        "root_dir = \"/content/gdrive/My Drive\"\n",
        "base_dir = root_dir + '/Rao_CME241/RL-book'"
      ],
      "execution_count": 1,
      "outputs": [
        {
          "output_type": "stream",
          "name": "stdout",
          "text": [
            "Mounted at /content/gdrive\n"
          ]
        }
      ]
    },
    {
      "cell_type": "code",
      "source": [
        "!python --version"
      ],
      "metadata": {
        "colab": {
          "base_uri": "https://localhost:8080/"
        },
        "id": "Dfw0MzREJJ94",
        "outputId": "835cbecc-c421-4be9-f413-f7fe78b85c78"
      },
      "execution_count": 2,
      "outputs": [
        {
          "output_type": "stream",
          "name": "stdout",
          "text": [
            "Python 3.7.15\n"
          ]
        }
      ]
    },
    {
      "cell_type": "code",
      "source": [
        "# hide\n",
        "base_dir"
      ],
      "metadata": {
        "colab": {
          "base_uri": "https://localhost:8080/",
          "height": 36
        },
        "id": "mp-RjDSfw8TU",
        "outputId": "aaeb0f87-ae22-44b1-c8df-1faecee24f07"
      },
      "execution_count": 3,
      "outputs": [
        {
          "output_type": "execute_result",
          "data": {
            "text/plain": [
              "'/content/gdrive/My Drive/Rao_CME241/RL-book'"
            ],
            "application/vnd.google.colaboratory.intrinsic+json": {
              "type": "string"
            }
          },
          "metadata": {},
          "execution_count": 3
        }
      ]
    },
    {
      "cell_type": "code",
      "source": [
        "# hide\n",
        "import sys\n",
        "sys.path"
      ],
      "metadata": {
        "id": "OYgFYLkywzJR",
        "colab": {
          "base_uri": "https://localhost:8080/"
        },
        "outputId": "6f249a44-a45c-4a64-8f43-93fa868af62e"
      },
      "execution_count": 4,
      "outputs": [
        {
          "output_type": "execute_result",
          "data": {
            "text/plain": [
              "['/content',\n",
              " '/env/python',\n",
              " '/usr/lib/python37.zip',\n",
              " '/usr/lib/python3.7',\n",
              " '/usr/lib/python3.7/lib-dynload',\n",
              " '',\n",
              " '/usr/local/lib/python3.7/dist-packages',\n",
              " '/usr/lib/python3/dist-packages',\n",
              " '/usr/local/lib/python3.7/dist-packages/IPython/extensions',\n",
              " '/root/.ipython']"
            ]
          },
          "metadata": {},
          "execution_count": 4
        }
      ]
    },
    {
      "cell_type": "code",
      "source": [
        "# hide\n",
        "# sys.path.insert(0, f\"{base_dir}/gen_utils\"); sys.path\n",
        "sys.path.append(f\"{base_dir}\"); sys.path"
      ],
      "metadata": {
        "colab": {
          "base_uri": "https://localhost:8080/"
        },
        "id": "WvyJD3YkYHK9",
        "outputId": "9ae627cc-af3f-413a-efbe-c8a897ae18c0"
      },
      "execution_count": 5,
      "outputs": [
        {
          "output_type": "execute_result",
          "data": {
            "text/plain": [
              "['/content',\n",
              " '/env/python',\n",
              " '/usr/lib/python37.zip',\n",
              " '/usr/lib/python3.7',\n",
              " '/usr/lib/python3.7/lib-dynload',\n",
              " '',\n",
              " '/usr/local/lib/python3.7/dist-packages',\n",
              " '/usr/lib/python3/dist-packages',\n",
              " '/usr/local/lib/python3.7/dist-packages/IPython/extensions',\n",
              " '/root/.ipython',\n",
              " '/content/gdrive/My Drive/Rao_CME241/RL-book']"
            ]
          },
          "metadata": {},
          "execution_count": 5
        }
      ]
    },
    {
      "cell_type": "markdown",
      "source": [
        "We make use of the approach and code used in http://web.stanford.edu/class/cme241/."
      ],
      "metadata": {
        "id": "s_EISU3QG_rJ"
      }
    },
    {
      "cell_type": "code",
      "source": [
        "from __future__ import annotations\n",
        "from typing import Tuple, Sequence, Iterator, List, TypeVar, Generic, overload, Mapping, Iterable\n",
        "from dataclasses import dataclass\n",
        "from abc import ABC, abstractmethod\n",
        "import itertools as it\n",
        "import inspect\n",
        "import math"
      ],
      "metadata": {
        "id": "zFY2Ix31JaY-"
      },
      "execution_count": 6,
      "outputs": []
    },
    {
      "cell_type": "code",
      "source": [
        "# hide\n",
        "# from rl.markov_decision_process_ANNO import NonTerminal\n",
        "from rl.markov_process_ANNO import TransitionStep, S, MarkovProcess\n",
        "from rl.function_approx_ANNO import Tabular\n",
        "# from rl.approximate_dynamic_programming_ANNO import ValueFunctionApprox\n",
        "# from rl.iterate_ANNO import accumulate, last\n",
        "import rl.iterate_ANNO as iterate\n",
        "# from rl.monte_carlo_ANNO import mc_prediction\n",
        "from rl.distribution_ANNO import Choose"
      ],
      "metadata": {
        "id": "8Si7FaA-_Gtf"
      },
      "execution_count": 7,
      "outputs": []
    },
    {
      "cell_type": "code",
      "source": [
        "# hide\n",
        "from rl.book3_github2.simple_inventory_mrp import (\n",
        "    SimpleInventoryMRPFinite,\n",
        "    InventoryState)\n",
        "from rl.book11_github10.prediction_utils_ANNO import (\n",
        "#     mrp_episodes_stream, \n",
        "#     fmrp_episodes_stream, \n",
        "    mc_finite_prediction_equal_wts,\n",
        "    mc_finite_equal_wts_correctness,\n",
        "    mc_finite_learning_rate_correctness)"
      ],
      "metadata": {
        "id": "J0-OhHIDx_wR"
      },
      "execution_count": 8,
      "outputs": []
    },
    {
      "cell_type": "markdown",
      "source": [
        "Let us setup our Inventory problem again:"
      ],
      "metadata": {
        "id": "aLC_wxEXhtXa"
      }
    },
    {
      "cell_type": "code",
      "source": [
        "capacity: int = 2\n",
        "poisson_lambda: float = 1.0\n",
        "holding_cost: float = 1.0\n",
        "stockout_cost: float = 10.0\n",
        "si_mrp: SimpleInventoryMRPFinite = SimpleInventoryMRPFinite(\n",
        "    capacity=capacity,\n",
        "    poisson_lambda=poisson_lambda,\n",
        "    holding_cost=holding_cost,\n",
        "    stockout_cost=stockout_cost\n",
        ")"
      ],
      "metadata": {
        "id": "a2RhHcSTg5Yt"
      },
      "execution_count": 9,
      "outputs": []
    },
    {
      "cell_type": "code",
      "source": [
        "# hide\n",
        "inspect.getmro(SimpleInventoryMRPFinite)"
      ],
      "metadata": {
        "colab": {
          "base_uri": "https://localhost:8080/"
        },
        "id": "yPoVt-Wyg5Yu",
        "outputId": "449f3096-f5a9-48c8-ba3e-e4cefad37c2d"
      },
      "execution_count": 10,
      "outputs": [
        {
          "output_type": "execute_result",
          "data": {
            "text/plain": [
              "(rl.book3_github2.simple_inventory_mrp.SimpleInventoryMRPFinite,\n",
              " rl.markov_process_ANNO.FiniteMarkovRewardProcess,\n",
              " rl.markov_process_ANNO.FiniteMarkovProcess,\n",
              " rl.markov_process_ANNO.MarkovRewardProcess,\n",
              " rl.markov_process_ANNO.MarkovProcess,\n",
              " abc.ABC,\n",
              " typing.Generic,\n",
              " object)"
            ]
          },
          "metadata": {},
          "execution_count": 10
        }
      ]
    },
    {
      "cell_type": "markdown",
      "source": [
        "Next we look at how we want to implement the simulation of experiences as stated above in code. The essential element is the `TransitionStep`:\n",
        "\n"
      ],
      "metadata": {
        "id": "jGmIDedYJfkp"
      }
    },
    {
      "cell_type": "code",
      "source": [
        "@dataclass(frozen=True)\n",
        "class TransitionStep(Generic[S]): #. s -> s'r   (atomic experience)\n",
        "    state: NonTerminal[S]\n",
        "    next_state: State[S]\n",
        "    reward: float\n",
        "    \n",
        "    def add_return(self, γ: float, return_: float) -> ReturnStep[S]:\n",
        "        return ReturnStep( #. s -> s'r\n",
        "            self.state,\n",
        "            self.next_state,\n",
        "            self.reward,\n",
        "            return_=self.reward + γ*return_\n",
        "        )"
      ],
      "metadata": {
        "id": "I7PrWuGIKW1U"
      },
      "execution_count": 11,
      "outputs": []
    },
    {
      "cell_type": "markdown",
      "source": [
        "A `TransitionStep` instance captures an atomic experience. It carries the `state`, `next_state`, and `reward` information. The `add_return` method allows for the incorporation of return values, making use of the class `ReturnStep`:"
      ],
      "metadata": {
        "id": "XIroVJ0eNe1T"
      }
    },
    {
      "cell_type": "code",
      "source": [
        "@dataclass(frozen=True)\n",
        "class ReturnStep(TransitionStep[S]):\n",
        "    return_: float"
      ],
      "metadata": {
        "id": "MdGc0R3zNpHS"
      },
      "execution_count": 12,
      "outputs": []
    },
    {
      "cell_type": "markdown",
      "source": [
        "In general, the input to an RL prediction algorithm will be either:\n",
        "- a stream/sequence of atomic experiences\n",
        "  - `Iterable[TransitionStep[S]]`\n",
        "- a stream/sequence of trace experiences\n",
        "  - `Iterable[Iterable[TransitionStep[S]]]`"
      ],
      "metadata": {
        "id": "JGKBBmYHLmL-"
      }
    },
    {
      "cell_type": "markdown",
      "source": [
        "As before, we make use of the class `MarkovRewardProcess`:"
      ],
      "metadata": {
        "id": "57-3LUfoNLMp"
      }
    },
    {
      "cell_type": "code",
      "source": [
        "class MarkovRewardProcess(MarkovProcess[S]):\n",
        "    #. transition from this state\n",
        "    def transition(self, state: NonTerminal[S]) -> Distribution[State[S]]: #s'|s or s->s'\n",
        "        distribution = self.transition_reward(state)\n",
        "        def next_state(distribution=distribution):\n",
        "            next_s, _ = distribution.sample() #.ignores reward\n",
        "            return next_s\n",
        "        return SampledDistribution(next_state)\n",
        "\n",
        "    @abstractmethod\n",
        "    def transition_reward(#. transition from this state\n",
        "        self, \n",
        "        state: NonTerminal[S]\n",
        "    ) -> Distribution[Tuple[State[S], float]]: #. s'r|s or s->s'r\n",
        "        pass\n",
        "    \n",
        "    def simulate_reward(\n",
        "        self,\n",
        "        start_state_distribution: Distribution[NonTerminal[S]]\n",
        "    ) -> Iterable[TransitionStep[S]]: #. sequence of atomic experiences\n",
        "        state: State[S] = start_state_distribution.sample()\n",
        "        reward: float = 0.\n",
        "        while isinstance(state, NonTerminal):\n",
        "            next_distribution = self.transition_reward(state)\n",
        "            next_state, reward = next_distribution.sample()\n",
        "            yield TransitionStep(state, next_state, reward) # s -> s'r\n",
        "            state = next_state\n",
        "\n",
        "    def reward_traces(\n",
        "        self,\n",
        "        start_state_distribution: Distribution[NonTerminal[S]]\n",
        "    ) -> Iterable[Iterable[TransitionStep[S]]]: #. sequence of trace experiences\n",
        "        while True:\n",
        "            yield self.simulate_reward(start_state_distribution)"
      ],
      "metadata": {
        "id": "fcK2fcBWKhw7"
      },
      "execution_count": 13,
      "outputs": []
    },
    {
      "cell_type": "markdown",
      "source": [
        "Our current focus is on the methods:\n",
        "- `simulate_reward()`\n",
        "  - operates as a step (atomic experience) generator\n",
        "  - yields a sequence of (state, next state, reward) 3-tuples, i.e. a sequence of atomic experiences\n",
        "- `reward_traces()`\n",
        "  - operates as a trace (trace experience) generator\n",
        "  - yields a sequence of trace experiences, each trace yielding a sequence of (state, next state, reward) atomic experiences\n",
        "  - picks a start state $S_0$ from the provided `start_state_distribution` "
      ],
      "metadata": {
        "id": "Zl_SqDR_Opk_"
      }
    },
    {
      "cell_type": "code",
      "source": [
        "# hide\n",
        "# mc_finite_equal_wts_correctness() <prediction_utils>\n",
        "#   mc_finite_prediction_equal_wts() <prediction_utils>\n",
        "#     fmrp_episodes_stream() <prediction_utils>\n",
        "#       mrp_episodes_stream() <prediction_utils>\n",
        "#         reward_traces() <markov_process>[MarkovRewardProcess]\n",
        "#     mc_prediction() <monte_carlo>\n",
        "#       returns() <returns>\n",
        "#         islice() <itertools>\n",
        "#         accumulate() <iterate>\n",
        "#           accumulate() <itertools>\n",
        "#         islice() <itertools>\n",
        "#       iterate_updates() <function_approx>[FunctionApprox]\n",
        "#         accumulate() <itertools>\n",
        "#       last() <iterate>\n",
        "#   islice() <itertools>\n",
        "#   last() <itertools>"
      ],
      "metadata": {
        "id": "m2tYn8NUgI8I"
      },
      "execution_count": 14,
      "outputs": []
    },
    {
      "cell_type": "code",
      "source": [
        "si_mrp.non_terminal_states"
      ],
      "metadata": {
        "colab": {
          "base_uri": "https://localhost:8080/"
        },
        "id": "SS08igAw0iWd",
        "outputId": "9f02d03d-6f0b-4ca9-df1d-97738711112e"
      },
      "execution_count": 15,
      "outputs": [
        {
          "output_type": "execute_result",
          "data": {
            "text/plain": [
              "[NonTerminal(state=InventoryState(on_hand=0, on_order=0)),\n",
              " NonTerminal(state=InventoryState(on_hand=0, on_order=1)),\n",
              " NonTerminal(state=InventoryState(on_hand=0, on_order=2)),\n",
              " NonTerminal(state=InventoryState(on_hand=1, on_order=0)),\n",
              " NonTerminal(state=InventoryState(on_hand=1, on_order=1)),\n",
              " NonTerminal(state=InventoryState(on_hand=2, on_order=0))]"
            ]
          },
          "metadata": {},
          "execution_count": 15
        }
      ]
    },
    {
      "cell_type": "code",
      "source": [
        "# \n",
        "# start_state_distribution\n",
        "ssd = Choose(si_mrp.non_terminal_states); ssd"
      ],
      "metadata": {
        "colab": {
          "base_uri": "https://localhost:8080/"
        },
        "id": "wPxTfwO10auy",
        "outputId": "a4028c3e-1fc1-4f70-c0a6-5bb7bdde38c4"
      },
      "execution_count": 16,
      "outputs": [
        {
          "output_type": "execute_result",
          "data": {
            "text/plain": [
              "{NonTerminal(state=InventoryState(on_hand=0, on_order=0)): 0.16666666666666666, NonTerminal(state=InventoryState(on_hand=0, on_order=1)): 0.16666666666666666, NonTerminal(state=InventoryState(on_hand=0, on_order=2)): 0.16666666666666666, NonTerminal(state=InventoryState(on_hand=1, on_order=0)): 0.16666666666666666, NonTerminal(state=InventoryState(on_hand=1, on_order=1)): 0.16666666666666666, NonTerminal(state=InventoryState(on_hand=2, on_order=0)): 0.16666666666666666}"
            ]
          },
          "metadata": {},
          "execution_count": 16
        }
      ]
    },
    {
      "cell_type": "code",
      "source": [
        "# \n",
        "# atomic experience\n",
        "next(si_mrp.simulate_reward(ssd))"
      ],
      "metadata": {
        "colab": {
          "base_uri": "https://localhost:8080/"
        },
        "id": "-cWEDXnUtE0B",
        "outputId": "bbb485c2-e160-4c2b-b9d7-feb6d649277c"
      },
      "execution_count": 17,
      "outputs": [
        {
          "output_type": "execute_result",
          "data": {
            "text/plain": [
              "TransitionStep(state=NonTerminal(state=InventoryState(on_hand=1, on_order=0)), next_state=NonTerminal(state=InventoryState(on_hand=1, on_order=1)), reward=-1.0)"
            ]
          },
          "metadata": {},
          "execution_count": 17
        }
      ]
    },
    {
      "cell_type": "code",
      "source": [
        "# hide\n",
        "next(next(si_mrp.reward_traces(ssd)))"
      ],
      "metadata": {
        "colab": {
          "base_uri": "https://localhost:8080/"
        },
        "id": "_q-VaYEotEwJ",
        "outputId": "b28aad95-47fd-4248-9ceb-30bb0e687e0f"
      },
      "execution_count": 18,
      "outputs": [
        {
          "output_type": "execute_result",
          "data": {
            "text/plain": [
              "TransitionStep(state=NonTerminal(state=InventoryState(on_hand=0, on_order=0)), next_state=NonTerminal(state=InventoryState(on_hand=0, on_order=2)), reward=-10.0)"
            ]
          },
          "metadata": {},
          "execution_count": 18
        }
      ]
    },
    {
      "cell_type": "code",
      "source": [
        "# \n",
        "# let's say we need 3 traces\n",
        "n_traces = 3"
      ],
      "metadata": {
        "id": "WeB4q8n619Q9"
      },
      "execution_count": 19,
      "outputs": []
    },
    {
      "cell_type": "code",
      "source": [
        "# \n",
        "# this trace generator (reward_traces()) will generate 3 atomic generators (simulate_reward())\n",
        "[atom_gen for atom_gen in it.islice(si_mrp.reward_traces(ssd), n_traces)]"
      ],
      "metadata": {
        "colab": {
          "base_uri": "https://localhost:8080/"
        },
        "id": "uX5z7eCSzx4a",
        "outputId": "318364ff-8687-4971-d9aa-462e2800f06f"
      },
      "execution_count": 20,
      "outputs": [
        {
          "output_type": "execute_result",
          "data": {
            "text/plain": [
              "[<generator object MarkovRewardProcess.simulate_reward at 0x7fde24b94dd0>,\n",
              " <generator object MarkovRewardProcess.simulate_reward at 0x7fde24b94750>,\n",
              " <generator object MarkovRewardProcess.simulate_reward at 0x7fde24bc9150>]"
            ]
          },
          "metadata": {},
          "execution_count": 20
        }
      ]
    },
    {
      "cell_type": "code",
      "source": [
        "# \n",
        "# let's say we want 4 steps/atoms for each trace\n",
        "n_atoms = 4"
      ],
      "metadata": {
        "id": "Tob3beZ-2LSQ"
      },
      "execution_count": 21,
      "outputs": []
    },
    {
      "cell_type": "code",
      "source": [
        "trac_gen = si_mrp.reward_traces(ssd); trac_gen"
      ],
      "metadata": {
        "colab": {
          "base_uri": "https://localhost:8080/"
        },
        "id": "7lRLt80o7Bsj",
        "outputId": "c7370844-8b23-49b2-a981-6d20633f09d6"
      },
      "execution_count": 22,
      "outputs": [
        {
          "output_type": "execute_result",
          "data": {
            "text/plain": [
              "<generator object MarkovRewardProcess.reward_traces at 0x7fde24bc90d0>"
            ]
          },
          "metadata": {},
          "execution_count": 22
        }
      ]
    },
    {
      "cell_type": "code",
      "source": [
        "[list(it.islice(atom_gen, n_atoms)) for atom_gen in it.islice(trac_gen, n_traces)]"
      ],
      "metadata": {
        "colab": {
          "base_uri": "https://localhost:8080/"
        },
        "id": "8-XZkol01CMg",
        "outputId": "3568968f-7bbb-4133-e58f-13cd0400e0ea"
      },
      "execution_count": 25,
      "outputs": [
        {
          "output_type": "execute_result",
          "data": {
            "text/plain": [
              "[[TransitionStep(state=NonTerminal(state=InventoryState(on_hand=1, on_order=0)), next_state=NonTerminal(state=InventoryState(on_hand=0, on_order=1)), reward=-4.678794411714423),\n",
              "  TransitionStep(state=NonTerminal(state=InventoryState(on_hand=0, on_order=1)), next_state=NonTerminal(state=InventoryState(on_hand=0, on_order=1)), reward=-3.6787944117144233),\n",
              "  TransitionStep(state=NonTerminal(state=InventoryState(on_hand=0, on_order=1)), next_state=NonTerminal(state=InventoryState(on_hand=1, on_order=1)), reward=-0.0),\n",
              "  TransitionStep(state=NonTerminal(state=InventoryState(on_hand=1, on_order=1)), next_state=NonTerminal(state=InventoryState(on_hand=0, on_order=0)), reward=-2.0363832351432696)],\n",
              " [TransitionStep(state=NonTerminal(state=InventoryState(on_hand=1, on_order=1)), next_state=NonTerminal(state=InventoryState(on_hand=0, on_order=0)), reward=-2.0363832351432696),\n",
              "  TransitionStep(state=NonTerminal(state=InventoryState(on_hand=0, on_order=0)), next_state=NonTerminal(state=InventoryState(on_hand=0, on_order=2)), reward=-10.0),\n",
              "  TransitionStep(state=NonTerminal(state=InventoryState(on_hand=0, on_order=2)), next_state=NonTerminal(state=InventoryState(on_hand=2, on_order=0)), reward=-0.0),\n",
              "  TransitionStep(state=NonTerminal(state=InventoryState(on_hand=2, on_order=0)), next_state=NonTerminal(state=InventoryState(on_hand=2, on_order=0)), reward=-2.0)],\n",
              " [TransitionStep(state=NonTerminal(state=InventoryState(on_hand=0, on_order=2)), next_state=NonTerminal(state=InventoryState(on_hand=1, on_order=0)), reward=-0.0),\n",
              "  TransitionStep(state=NonTerminal(state=InventoryState(on_hand=1, on_order=0)), next_state=NonTerminal(state=InventoryState(on_hand=1, on_order=1)), reward=-1.0),\n",
              "  TransitionStep(state=NonTerminal(state=InventoryState(on_hand=1, on_order=1)), next_state=NonTerminal(state=InventoryState(on_hand=0, on_order=0)), reward=-2.0363832351432696),\n",
              "  TransitionStep(state=NonTerminal(state=InventoryState(on_hand=0, on_order=0)), next_state=NonTerminal(state=InventoryState(on_hand=0, on_order=2)), reward=-10.0)]]"
            ]
          },
          "metadata": {},
          "execution_count": 25
        }
      ]
    },
    {
      "cell_type": "markdown",
      "source": [
        "## 3 Monte-Carlo (MC) Prediction"
      ],
      "metadata": {
        "id": "K2JyqE2rRn6T"
      }
    },
    {
      "cell_type": "markdown",
      "source": [
        "The Monte_Carlo (MC) prediction algorithm is a popular and simple RL algorithm which:\n",
        "- performs supervised learning in an incremental way\n",
        "- takes as predictor points $x$ the encountered states across the stream of input trace experiences\n",
        "- takes as response points $y$ the associated returns on the trace experiences, i.e. starting from the corresponding encountered state\n",
        "- predict the expected return from any state of an MRP\n",
        "\n",
        "The function `mc_prediction()` provides this prediction:"
      ],
      "metadata": {
        "id": "sSRo9NPsR55O"
      }
    },
    {
      "cell_type": "code",
      "source": [
        "def mc_prediction(\n",
        "    traces: Iterable[Iterable[mp.TransitionStep[S]]],#. seq/stream of trace experiences\n",
        "    approx_0: ValueFunctionApprox[S],\n",
        "    γ: float,\n",
        "    episode_length_tolerance: float = 1e-6\n",
        ") -> Iterator[ValueFunctionApprox[S]]:\n",
        "    episodes: Iterator[Iterator[mp.ReturnStep[S]]] = \\\n",
        "        (returns(trace, γ, episode_length_tolerance) for trace in traces)\n",
        "    f = approx_0\n",
        "    yield f\n",
        "\n",
        "    for i,episode in enumerate(episodes): #.\n",
        "        print(f\"\\repisode {i}\", end=\"\") #.\n",
        "        f = iterate.last(f.iterate_updates(\n",
        "            [(step.state, step.return_)] for step in episode\n",
        "        ))\n",
        "        yield f\n",
        "    print('\\n') #."
      ],
      "metadata": {
        "id": "CstSTg5VKhtT"
      },
      "execution_count": 26,
      "outputs": []
    },
    {
      "cell_type": "markdown",
      "source": [
        "### 3.1 Setup a trace generator"
      ],
      "metadata": {
        "id": "zxH4spNq61GH"
      }
    },
    {
      "cell_type": "markdown",
      "source": [
        "The inputs to `mc_prediction()` are:\n",
        "- `traces: Iterable[Iterable[mp.TransitionStep[S]]]`\n",
        "  - stream/sequence of of trace experiences\n",
        "  - each trace experience is a `Iterable` `TransitionStep`s\n",
        "\n",
        "To prepare the stream of trace experiences we make use of two helper functions:\n",
        "- `fmrp_episodes_stream()`\n",
        "- `mrp_episodes_stream()`\n"
      ],
      "metadata": {
        "id": "3mHoTshqUE8G"
      }
    },
    {
      "cell_type": "code",
      "source": [
        "def mrp_episodes_stream(\n",
        "    mrp: MarkovRewardProcess[S],\n",
        "    start_state_distribution: NTStateDistribution[S]\n",
        ") -> Iterable[Iterable[TransitionStep[S]]]:\n",
        "    return mrp.reward_traces(start_state_distribution)\n",
        "\n",
        "def fmrp_episodes_stream(\n",
        "    fmrp: FiniteMarkovRewardProcess[S]\n",
        ") -> Iterable[Iterable[TransitionStep[S]]]:\n",
        "    return mrp_episodes_stream(fmrp, Choose(fmrp.non_terminal_states))"
      ],
      "metadata": {
        "id": "AAxsgAxUKhp6"
      },
      "execution_count": 27,
      "outputs": []
    },
    {
      "cell_type": "code",
      "source": [
        "# hide\n",
        "# mc_finite_equal_wts_correctness() <prediction_utils>\n",
        "#   mc_finite_prediction_equal_wts() <prediction_utils>\n",
        "#     fmrp_episodes_stream() <prediction_utils>\n",
        "#       mrp_episodes_stream() <prediction_utils>\n",
        "#         reward_traces() <markov_process>[MarkovRewardProcess]\n",
        "#     mc_prediction() <monte_carlo>\n",
        "#       returns() <returns>\n",
        "#         islice() <itertools>\n",
        "#         accumulate() <iterate>\n",
        "#           accumulate() <itertools>\n",
        "#         islice() <itertools>\n",
        "#       iterate_updates() <function_approx>[FunctionApprox]\n",
        "#         accumulate() <itertools>\n",
        "#       last() <iterate>\n",
        "#   islice() <itertools>\n",
        "#   last() <itertools>"
      ],
      "metadata": {
        "id": "3Dhs20SYKhmR"
      },
      "execution_count": 28,
      "outputs": []
    },
    {
      "cell_type": "markdown",
      "source": [
        "Let us see how they behave."
      ],
      "metadata": {
        "id": "Wzcf7sSip99S"
      }
    },
    {
      "cell_type": "code",
      "source": [
        "# \n",
        "# +++study mrp_episodes_stream()"
      ],
      "metadata": {
        "id": "gOSaTsqtz1vG"
      },
      "execution_count": 29,
      "outputs": []
    },
    {
      "cell_type": "code",
      "source": [
        "trac_gen1 = mrp_episodes_stream(si_mrp, ssd); trac_gen1"
      ],
      "metadata": {
        "colab": {
          "base_uri": "https://localhost:8080/"
        },
        "id": "mbrOvxLvz1qa",
        "outputId": "ea1d0840-01ea-4675-d20c-06f6cd1b054e"
      },
      "execution_count": 30,
      "outputs": [
        {
          "output_type": "execute_result",
          "data": {
            "text/plain": [
              "<generator object MarkovRewardProcess.reward_traces at 0x7fde24bc95d0>"
            ]
          },
          "metadata": {},
          "execution_count": 30
        }
      ]
    },
    {
      "cell_type": "code",
      "source": [
        "list(it.islice(trac_gen1, 2))"
      ],
      "metadata": {
        "colab": {
          "base_uri": "https://localhost:8080/"
        },
        "id": "dnTH0WwHCdZ2",
        "outputId": "14be79e7-d839-4d9b-982d-fe533294915d"
      },
      "execution_count": 31,
      "outputs": [
        {
          "output_type": "execute_result",
          "data": {
            "text/plain": [
              "[<generator object MarkovRewardProcess.simulate_reward at 0x7fde24bc96d0>,\n",
              " <generator object MarkovRewardProcess.simulate_reward at 0x7fde24bc92d0>]"
            ]
          },
          "metadata": {},
          "execution_count": 31
        }
      ]
    },
    {
      "cell_type": "code",
      "source": [
        "# \n",
        "# ---study mrp_episodes_stream()"
      ],
      "metadata": {
        "id": "hZD1xGdSz1jW"
      },
      "execution_count": 32,
      "outputs": []
    },
    {
      "cell_type": "code",
      "source": [
        "# \n",
        "# +++study fmrp_episodes_stream()"
      ],
      "metadata": {
        "id": "7muDUrEvjWgU"
      },
      "execution_count": 33,
      "outputs": []
    },
    {
      "cell_type": "code",
      "source": [
        "trac_gen2 = fmrp_episodes_stream(si_mrp); trac_gen2"
      ],
      "metadata": {
        "colab": {
          "base_uri": "https://localhost:8080/"
        },
        "id": "W5h3X7wcjV--",
        "outputId": "85498e09-a443-418b-92ea-ce0e0206bbf6"
      },
      "execution_count": 34,
      "outputs": [
        {
          "output_type": "execute_result",
          "data": {
            "text/plain": [
              "<generator object MarkovRewardProcess.reward_traces at 0x7fde24bc9750>"
            ]
          },
          "metadata": {},
          "execution_count": 34
        }
      ]
    },
    {
      "cell_type": "code",
      "source": [
        "list(it.islice(trac_gen2, 2))"
      ],
      "metadata": {
        "colab": {
          "base_uri": "https://localhost:8080/"
        },
        "id": "_eHpOvWDjV7j",
        "outputId": "e740fdf3-d169-4638-8018-02ebd56b15c5"
      },
      "execution_count": 35,
      "outputs": [
        {
          "output_type": "execute_result",
          "data": {
            "text/plain": [
              "[<generator object MarkovRewardProcess.simulate_reward at 0x7fde24bc98d0>,\n",
              " <generator object MarkovRewardProcess.simulate_reward at 0x7fde24bc97d0>]"
            ]
          },
          "metadata": {},
          "execution_count": 35
        }
      ]
    },
    {
      "cell_type": "code",
      "source": [
        "# \n",
        "# ---study fmrp_episodes_stream()"
      ],
      "metadata": {
        "id": "LxckAFmBjVpB"
      },
      "execution_count": 36,
      "outputs": []
    },
    {
      "cell_type": "code",
      "source": [
        "# hide\n",
        "# +++study mc_prediction()\n",
        "#     mc_prediction() <monte_carlo>\n",
        "#       returns() <returns>\n",
        "#         it.islice()\n",
        "#         accumulate() <iterate>\n",
        "#           it.accumulate()\n",
        "#         it.islice()\n",
        "#       iterate_updates() <function_approx>[FunctionApprox]\n",
        "#         it.accumulate()\n",
        "#       last() <iterate>"
      ],
      "metadata": {
        "id": "wKart_DjFmrR"
      },
      "execution_count": 37,
      "outputs": []
    },
    {
      "cell_type": "code",
      "source": [
        "initial_vf_dict: Mapping[NonTerminal[InventoryState], float] = \\\n",
        "    {s: 0. for s in si_mrp.non_terminal_states}\n",
        "initial_vf_dict"
      ],
      "metadata": {
        "colab": {
          "base_uri": "https://localhost:8080/"
        },
        "id": "MiQpKc3ed5vE",
        "outputId": "054c531f-55ed-4eaa-8c64-533bf5fd3577"
      },
      "execution_count": 38,
      "outputs": [
        {
          "output_type": "execute_result",
          "data": {
            "text/plain": [
              "{NonTerminal(state=InventoryState(on_hand=0, on_order=0)): 0.0,\n",
              " NonTerminal(state=InventoryState(on_hand=0, on_order=1)): 0.0,\n",
              " NonTerminal(state=InventoryState(on_hand=0, on_order=2)): 0.0,\n",
              " NonTerminal(state=InventoryState(on_hand=1, on_order=0)): 0.0,\n",
              " NonTerminal(state=InventoryState(on_hand=1, on_order=1)): 0.0,\n",
              " NonTerminal(state=InventoryState(on_hand=2, on_order=0)): 0.0}"
            ]
          },
          "metadata": {},
          "execution_count": 38
        }
      ]
    },
    {
      "cell_type": "code",
      "source": [
        "traces: Iterable[Iterable[TransitionStep[S]]] = fmrp_episodes_stream(si_mrp)"
      ],
      "metadata": {
        "id": "0TZ603RvFmoM"
      },
      "execution_count": 39,
      "outputs": []
    },
    {
      "cell_type": "code",
      "source": [
        "n_traces = 2\n",
        "n_atoms = 4\n",
        "some_traces = [list(it.islice(trace, n_atoms)) for trace in it.islice(traces, n_traces)]; some_traces"
      ],
      "metadata": {
        "colab": {
          "base_uri": "https://localhost:8080/"
        },
        "id": "yauk2S_sFmlW",
        "outputId": "10da279a-0362-47ed-dcfd-1821910d27df"
      },
      "execution_count": 40,
      "outputs": [
        {
          "output_type": "execute_result",
          "data": {
            "text/plain": [
              "[[TransitionStep(state=NonTerminal(state=InventoryState(on_hand=1, on_order=0)), next_state=NonTerminal(state=InventoryState(on_hand=1, on_order=1)), reward=-1.0),\n",
              "  TransitionStep(state=NonTerminal(state=InventoryState(on_hand=1, on_order=1)), next_state=NonTerminal(state=InventoryState(on_hand=1, on_order=0)), reward=-1.0),\n",
              "  TransitionStep(state=NonTerminal(state=InventoryState(on_hand=1, on_order=0)), next_state=NonTerminal(state=InventoryState(on_hand=1, on_order=1)), reward=-1.0),\n",
              "  TransitionStep(state=NonTerminal(state=InventoryState(on_hand=1, on_order=1)), next_state=NonTerminal(state=InventoryState(on_hand=1, on_order=0)), reward=-1.0)],\n",
              " [TransitionStep(state=NonTerminal(state=InventoryState(on_hand=1, on_order=0)), next_state=NonTerminal(state=InventoryState(on_hand=0, on_order=1)), reward=-4.678794411714423),\n",
              "  TransitionStep(state=NonTerminal(state=InventoryState(on_hand=0, on_order=1)), next_state=NonTerminal(state=InventoryState(on_hand=0, on_order=1)), reward=-3.6787944117144233),\n",
              "  TransitionStep(state=NonTerminal(state=InventoryState(on_hand=0, on_order=1)), next_state=NonTerminal(state=InventoryState(on_hand=0, on_order=1)), reward=-3.6787944117144233),\n",
              "  TransitionStep(state=NonTerminal(state=InventoryState(on_hand=0, on_order=1)), next_state=NonTerminal(state=InventoryState(on_hand=0, on_order=1)), reward=-3.6787944117144233)]]"
            ]
          },
          "metadata": {},
          "execution_count": 40
        }
      ]
    },
    {
      "cell_type": "markdown",
      "source": [
        "### 3.2 Calculate the returns for each state"
      ],
      "metadata": {
        "id": "g7sIp56d7G8X"
      }
    },
    {
      "cell_type": "code",
      "source": [
        "# \n",
        "# +++.+++study returns()"
      ],
      "metadata": {
        "id": "Lwe21Kt2FmiO"
      },
      "execution_count": 41,
      "outputs": []
    },
    {
      "cell_type": "markdown",
      "source": [
        "The `returns()` function calculates the accumulated discounted rewards, $G_t$, from each state $S_t$ in a trace experience. This is done by walking backwards from the end of the trace to the start (allowing the reuse of the calculated returns) making use of\n",
        "\n",
        "$$\n",
        "G_t = R_{t+1} + \\gamma \\cdot G_{t+1}\n",
        "$$\n",
        "\n",
        "It makes use of `iterate.accumulate` to perform the backwards-walk, which uses `TransistionStep`s `add_return` to return a `ReturnStep`. class `ReturnStep` is derived from `TransitionStep` and it allows for the inclusion of the `return_` attribute which captures the return.\n",
        "\n",
        "Trace experiences are of two kinds:\n",
        "- *episodic trace*\n",
        "  - trace experience ends in a terminal state\n",
        "- *continuing trace*\n",
        "  - trace experience does not terminate\n",
        "\n",
        "An RL problem is:\n",
        "- *episodic*\n",
        "  - all the input trace experiences are episodic\n",
        "- *continuing*\n",
        "  - some of the input trace experiences are continuing"
      ],
      "metadata": {
        "id": "xWXpb5JR0vsT"
      }
    },
    {
      "cell_type": "code",
      "source": [
        "def returns(trace, γ, tolerance):\n",
        "    trace = iter(trace)\n",
        "\n",
        "    max_steps = round(math.log(tolerance)/math.log(γ)) if γ < 1 else None\n",
        "    if max_steps is not None:\n",
        "        trace = it.islice(trace, max_steps*2)\n",
        "\n",
        "    *transitions, last_transition = list(trace)\n",
        "\n",
        "    return_steps = iterate.accumulate(\n",
        "        reversed(transitions),\n",
        "        func=lambda next, curr: curr.add_return(γ, next.return_),\n",
        "        initial=last_transition.add_return(γ, 0)\n",
        "    )\n",
        "    return_steps = reversed(list(return_steps))\n",
        "\n",
        "    if max_steps is not None:\n",
        "        return_steps = it.islice(return_steps, max_steps)\n",
        "\n",
        "    return return_steps"
      ],
      "metadata": {
        "id": "sj-HrgCQvDNd"
      },
      "execution_count": 42,
      "outputs": []
    },
    {
      "cell_type": "code",
      "source": [
        "a_trace = some_traces[0]; a_trace"
      ],
      "metadata": {
        "id": "QZHHjRnXFmfI",
        "colab": {
          "base_uri": "https://localhost:8080/"
        },
        "outputId": "1389cdbf-9fb6-4c7a-8f69-7fbebbc99c3f"
      },
      "execution_count": 43,
      "outputs": [
        {
          "output_type": "execute_result",
          "data": {
            "text/plain": [
              "[TransitionStep(state=NonTerminal(state=InventoryState(on_hand=1, on_order=0)), next_state=NonTerminal(state=InventoryState(on_hand=1, on_order=1)), reward=-1.0),\n",
              " TransitionStep(state=NonTerminal(state=InventoryState(on_hand=1, on_order=1)), next_state=NonTerminal(state=InventoryState(on_hand=1, on_order=0)), reward=-1.0),\n",
              " TransitionStep(state=NonTerminal(state=InventoryState(on_hand=1, on_order=0)), next_state=NonTerminal(state=InventoryState(on_hand=1, on_order=1)), reward=-1.0),\n",
              " TransitionStep(state=NonTerminal(state=InventoryState(on_hand=1, on_order=1)), next_state=NonTerminal(state=InventoryState(on_hand=1, on_order=0)), reward=-1.0)]"
            ]
          },
          "metadata": {},
          "execution_count": 43
        }
      ]
    },
    {
      "cell_type": "code",
      "source": [
        "trace = iter(a_trace); trace"
      ],
      "metadata": {
        "id": "ewqOTYTpFmbu",
        "colab": {
          "base_uri": "https://localhost:8080/"
        },
        "outputId": "da9b7cfc-f02b-4e92-9d31-f772b91a98d7"
      },
      "execution_count": 44,
      "outputs": [
        {
          "output_type": "execute_result",
          "data": {
            "text/plain": [
              "<list_iterator at 0x7fde24b5ca10>"
            ]
          },
          "metadata": {},
          "execution_count": 44
        }
      ]
    },
    {
      "cell_type": "code",
      "source": [
        "gamma: float = 0.9\n",
        "episode_length_tolerance: float = 1e-6\n",
        "max_steps = round(math.log(episode_length_tolerance)/math.log(gamma)) if gamma < 1 else None; max_steps"
      ],
      "metadata": {
        "colab": {
          "base_uri": "https://localhost:8080/"
        },
        "id": "J---8p0Ro-_5",
        "outputId": "9880540b-8eed-4a66-e39b-af9d3be51618"
      },
      "execution_count": 45,
      "outputs": [
        {
          "output_type": "execute_result",
          "data": {
            "text/plain": [
              "131"
            ]
          },
          "metadata": {},
          "execution_count": 45
        }
      ]
    },
    {
      "cell_type": "code",
      "source": [
        "trace = it.islice(trace, max_steps*2); trace"
      ],
      "metadata": {
        "colab": {
          "base_uri": "https://localhost:8080/"
        },
        "id": "H32lP3kLozqT",
        "outputId": "28c9af8c-b17d-487e-df96-3129a6030d7e"
      },
      "execution_count": 46,
      "outputs": [
        {
          "output_type": "execute_result",
          "data": {
            "text/plain": [
              "<itertools.islice at 0x7fde24b7a170>"
            ]
          },
          "metadata": {},
          "execution_count": 46
        }
      ]
    },
    {
      "cell_type": "code",
      "source": [
        "*transitions, last_transition = list(trace)"
      ],
      "metadata": {
        "id": "TkiDWw0PrCpL"
      },
      "execution_count": 47,
      "outputs": []
    },
    {
      "cell_type": "code",
      "source": [
        "transitions"
      ],
      "metadata": {
        "colab": {
          "base_uri": "https://localhost:8080/"
        },
        "id": "TIcrkv6ErzGD",
        "outputId": "cfef7455-0e35-4070-c2b1-6a7eaf5b521a"
      },
      "execution_count": 48,
      "outputs": [
        {
          "output_type": "execute_result",
          "data": {
            "text/plain": [
              "[TransitionStep(state=NonTerminal(state=InventoryState(on_hand=1, on_order=0)), next_state=NonTerminal(state=InventoryState(on_hand=1, on_order=1)), reward=-1.0),\n",
              " TransitionStep(state=NonTerminal(state=InventoryState(on_hand=1, on_order=1)), next_state=NonTerminal(state=InventoryState(on_hand=1, on_order=0)), reward=-1.0),\n",
              " TransitionStep(state=NonTerminal(state=InventoryState(on_hand=1, on_order=0)), next_state=NonTerminal(state=InventoryState(on_hand=1, on_order=1)), reward=-1.0)]"
            ]
          },
          "metadata": {},
          "execution_count": 48
        }
      ]
    },
    {
      "cell_type": "code",
      "source": [
        "last_transition"
      ],
      "metadata": {
        "colab": {
          "base_uri": "https://localhost:8080/"
        },
        "id": "5E1Zx_pFry0t",
        "outputId": "7764107a-d3f0-4728-cd19-93611bff8e8f"
      },
      "execution_count": 49,
      "outputs": [
        {
          "output_type": "execute_result",
          "data": {
            "text/plain": [
              "TransitionStep(state=NonTerminal(state=InventoryState(on_hand=1, on_order=1)), next_state=NonTerminal(state=InventoryState(on_hand=1, on_order=0)), reward=-1.0)"
            ]
          },
          "metadata": {},
          "execution_count": 49
        }
      ]
    },
    {
      "cell_type": "markdown",
      "source": [
        "The `iterate` `accumulate()` function is a wrapper around the `itertools` `accumulate()` function. "
      ],
      "metadata": {
        "id": "_pMWq77BJQge"
      }
    },
    {
      "cell_type": "code",
      "source": [
        "# \n",
        "# +++.+++.+++study accumulate() <iterate>"
      ],
      "metadata": {
        "id": "euhJsG95w8S1"
      },
      "execution_count": 50,
      "outputs": []
    },
    {
      "cell_type": "markdown",
      "source": [
        "Let us investigate how the `accumulate()` function in the `itertools` module works."
      ],
      "metadata": {
        "id": "awp2S5gTJ17P"
      }
    },
    {
      "cell_type": "code",
      "source": [
        "# \n",
        "# +++.+++.+++.+++study accumulate() <itertools>"
      ],
      "metadata": {
        "id": "O3X8Hq1QxG2L"
      },
      "execution_count": 52,
      "outputs": []
    },
    {
      "cell_type": "markdown",
      "source": [
        "Multiply"
      ],
      "metadata": {
        "id": "g2g0IGa5zNQV"
      }
    },
    {
      "cell_type": "code",
      "source": [
        "my_lst = [1, 2, 3, 4, 5]"
      ],
      "metadata": {
        "id": "3mltn9coyDKd"
      },
      "execution_count": 53,
      "outputs": []
    },
    {
      "cell_type": "code",
      "source": [
        "import operator\n",
        "result = it.accumulate(my_lst, operator.mul); result"
      ],
      "metadata": {
        "colab": {
          "base_uri": "https://localhost:8080/"
        },
        "id": "U2GQnB3GyDHu",
        "outputId": "243e6b2c-d7f5-4b03-ae7c-4057ad48834b"
      },
      "execution_count": 54,
      "outputs": [
        {
          "output_type": "execute_result",
          "data": {
            "text/plain": [
              "<itertools.accumulate at 0x7fde24b64a50>"
            ]
          },
          "metadata": {},
          "execution_count": 54
        }
      ]
    },
    {
      "cell_type": "code",
      "source": [
        "list(result)"
      ],
      "metadata": {
        "colab": {
          "base_uri": "https://localhost:8080/"
        },
        "id": "JyqOxHYEyDEH",
        "outputId": "1d0e47e9-0b40-42ec-e9d8-be8e319f1ef0"
      },
      "execution_count": 55,
      "outputs": [
        {
          "output_type": "execute_result",
          "data": {
            "text/plain": [
              "[1, 2, 6, 24, 120]"
            ]
          },
          "metadata": {},
          "execution_count": 55
        }
      ]
    },
    {
      "cell_type": "markdown",
      "source": [
        "Max"
      ],
      "metadata": {
        "id": "7dZNjDc8zQx9"
      }
    },
    {
      "cell_type": "code",
      "source": [
        "my_lst = [5, 3, 6, 2, 1, 9, 1]"
      ],
      "metadata": {
        "id": "r8zqmcSkxqOc"
      },
      "execution_count": 56,
      "outputs": []
    },
    {
      "cell_type": "code",
      "source": [
        "result = it.accumulate(my_lst, max); result"
      ],
      "metadata": {
        "colab": {
          "base_uri": "https://localhost:8080/"
        },
        "id": "FKICJEuNxqJR",
        "outputId": "6441e5c1-9202-471a-d6fa-e90b7bdb70de"
      },
      "execution_count": 57,
      "outputs": [
        {
          "output_type": "execute_result",
          "data": {
            "text/plain": [
              "<itertools.accumulate at 0x7fde24b62a50>"
            ]
          },
          "metadata": {},
          "execution_count": 57
        }
      ]
    },
    {
      "cell_type": "code",
      "source": [
        "list(result)"
      ],
      "metadata": {
        "colab": {
          "base_uri": "https://localhost:8080/"
        },
        "id": "8dk_IttYxqCd",
        "outputId": "3c91415f-d188-4f8f-e2eb-7731fbe5eaed"
      },
      "execution_count": 58,
      "outputs": [
        {
          "output_type": "execute_result",
          "data": {
            "text/plain": [
              "[5, 5, 6, 6, 6, 9, 9]"
            ]
          },
          "metadata": {},
          "execution_count": 58
        }
      ]
    },
    {
      "cell_type": "code",
      "source": [
        "# \n",
        "# ---.---.---.---study accumulate() <itertools>"
      ],
      "metadata": {
        "id": "grAYcsVqxdWp"
      },
      "execution_count": 59,
      "outputs": []
    },
    {
      "cell_type": "code",
      "source": [
        "transitions # s->s'r"
      ],
      "metadata": {
        "colab": {
          "base_uri": "https://localhost:8080/"
        },
        "id": "ylcbkl2V2DT-",
        "outputId": "5ace5d7c-53ca-4c2a-c950-01d2bf8d1261"
      },
      "execution_count": 60,
      "outputs": [
        {
          "output_type": "execute_result",
          "data": {
            "text/plain": [
              "[TransitionStep(state=NonTerminal(state=InventoryState(on_hand=1, on_order=0)), next_state=NonTerminal(state=InventoryState(on_hand=1, on_order=1)), reward=-1.0),\n",
              " TransitionStep(state=NonTerminal(state=InventoryState(on_hand=1, on_order=1)), next_state=NonTerminal(state=InventoryState(on_hand=1, on_order=0)), reward=-1.0),\n",
              " TransitionStep(state=NonTerminal(state=InventoryState(on_hand=1, on_order=0)), next_state=NonTerminal(state=InventoryState(on_hand=1, on_order=1)), reward=-1.0)]"
            ]
          },
          "metadata": {},
          "execution_count": 60
        }
      ]
    },
    {
      "cell_type": "code",
      "source": [
        "transitions[0]"
      ],
      "metadata": {
        "colab": {
          "base_uri": "https://localhost:8080/"
        },
        "id": "saVn2gz1-MxG",
        "outputId": "0a70cd13-e59f-4e5d-96db-6c4cd73b396f"
      },
      "execution_count": 61,
      "outputs": [
        {
          "output_type": "execute_result",
          "data": {
            "text/plain": [
              "TransitionStep(state=NonTerminal(state=InventoryState(on_hand=1, on_order=0)), next_state=NonTerminal(state=InventoryState(on_hand=1, on_order=1)), reward=-1.0)"
            ]
          },
          "metadata": {},
          "execution_count": 61
        }
      ]
    },
    {
      "cell_type": "code",
      "source": [
        "last_transition"
      ],
      "metadata": {
        "colab": {
          "base_uri": "https://localhost:8080/"
        },
        "id": "h5BJmX-d9RIc",
        "outputId": "74b3176c-d685-4907-cc22-8fb30a7b709f"
      },
      "execution_count": 62,
      "outputs": [
        {
          "output_type": "execute_result",
          "data": {
            "text/plain": [
              "TransitionStep(state=NonTerminal(state=InventoryState(on_hand=1, on_order=1)), next_state=NonTerminal(state=InventoryState(on_hand=1, on_order=0)), reward=-1.0)"
            ]
          },
          "metadata": {},
          "execution_count": 62
        }
      ]
    },
    {
      "cell_type": "code",
      "source": [
        "list(reversed(transitions))"
      ],
      "metadata": {
        "colab": {
          "base_uri": "https://localhost:8080/"
        },
        "id": "IrmUeDjM4ICN",
        "outputId": "bf572cf0-2ae0-410c-b37e-cec5025403e5"
      },
      "execution_count": 63,
      "outputs": [
        {
          "output_type": "execute_result",
          "data": {
            "text/plain": [
              "[TransitionStep(state=NonTerminal(state=InventoryState(on_hand=1, on_order=0)), next_state=NonTerminal(state=InventoryState(on_hand=1, on_order=1)), reward=-1.0),\n",
              " TransitionStep(state=NonTerminal(state=InventoryState(on_hand=1, on_order=1)), next_state=NonTerminal(state=InventoryState(on_hand=1, on_order=0)), reward=-1.0),\n",
              " TransitionStep(state=NonTerminal(state=InventoryState(on_hand=1, on_order=0)), next_state=NonTerminal(state=InventoryState(on_hand=1, on_order=1)), reward=-1.0)]"
            ]
          },
          "metadata": {},
          "execution_count": 63
        }
      ]
    },
    {
      "cell_type": "code",
      "source": [
        "last_transition.add_return(gamma, 0)"
      ],
      "metadata": {
        "colab": {
          "base_uri": "https://localhost:8080/"
        },
        "id": "1kriGc2q3owt",
        "outputId": "51ad7bcc-a6d2-4318-c4d1-329b08df8efa"
      },
      "execution_count": 64,
      "outputs": [
        {
          "output_type": "execute_result",
          "data": {
            "text/plain": [
              "ReturnStep(state=NonTerminal(state=InventoryState(on_hand=1, on_order=1)), next_state=NonTerminal(state=InventoryState(on_hand=1, on_order=0)), reward=-1.0, return_=-1.0)"
            ]
          },
          "metadata": {},
          "execution_count": 64
        }
      ]
    },
    {
      "cell_type": "code",
      "source": [
        "return_steps = iterate.accumulate(\n",
        "        reversed(transitions),\n",
        "        func=lambda next, curr: curr.add_return(gamma, next.return_),\n",
        "        initial=last_transition.add_return(gamma, 0)\n",
        "    )\n",
        "return_steps"
      ],
      "metadata": {
        "colab": {
          "base_uri": "https://localhost:8080/"
        },
        "id": "ZI-Lkqjd1Kt0",
        "outputId": "3035567e-a6e1-4572-9209-deb444589561"
      },
      "execution_count": 65,
      "outputs": [
        {
          "output_type": "execute_result",
          "data": {
            "text/plain": [
              "<itertools.accumulate at 0x7fde2579aaf0>"
            ]
          },
          "metadata": {},
          "execution_count": 65
        }
      ]
    },
    {
      "cell_type": "code",
      "source": [
        "my_return_steps = list(return_steps); my_return_steps"
      ],
      "metadata": {
        "colab": {
          "base_uri": "https://localhost:8080/"
        },
        "id": "1tWty3Lg1Kp5",
        "outputId": "7dc6adf1-a7de-48b3-c22a-d065cff5a4de"
      },
      "execution_count": 66,
      "outputs": [
        {
          "output_type": "execute_result",
          "data": {
            "text/plain": [
              "[ReturnStep(state=NonTerminal(state=InventoryState(on_hand=1, on_order=1)), next_state=NonTerminal(state=InventoryState(on_hand=1, on_order=0)), reward=-1.0, return_=-1.0),\n",
              " ReturnStep(state=NonTerminal(state=InventoryState(on_hand=1, on_order=0)), next_state=NonTerminal(state=InventoryState(on_hand=1, on_order=1)), reward=-1.0, return_=-1.9),\n",
              " ReturnStep(state=NonTerminal(state=InventoryState(on_hand=1, on_order=1)), next_state=NonTerminal(state=InventoryState(on_hand=1, on_order=0)), reward=-1.0, return_=-2.71),\n",
              " ReturnStep(state=NonTerminal(state=InventoryState(on_hand=1, on_order=0)), next_state=NonTerminal(state=InventoryState(on_hand=1, on_order=1)), reward=-1.0, return_=-3.439)]"
            ]
          },
          "metadata": {},
          "execution_count": 66
        }
      ]
    },
    {
      "cell_type": "code",
      "source": [
        "from pprint import pprint\n",
        "pprint(my_return_steps)"
      ],
      "metadata": {
        "colab": {
          "base_uri": "https://localhost:8080/"
        },
        "id": "8TpvGgFR1Kl5",
        "outputId": "38da573c-0d1e-4353-c0d5-dd06d309b881"
      },
      "execution_count": 67,
      "outputs": [
        {
          "output_type": "stream",
          "name": "stdout",
          "text": [
            "[ReturnStep(state=NonTerminal(state=InventoryState(on_hand=1, on_order=1)), next_state=NonTerminal(state=InventoryState(on_hand=1, on_order=0)), reward=-1.0, return_=-1.0),\n",
            " ReturnStep(state=NonTerminal(state=InventoryState(on_hand=1, on_order=0)), next_state=NonTerminal(state=InventoryState(on_hand=1, on_order=1)), reward=-1.0, return_=-1.9),\n",
            " ReturnStep(state=NonTerminal(state=InventoryState(on_hand=1, on_order=1)), next_state=NonTerminal(state=InventoryState(on_hand=1, on_order=0)), reward=-1.0, return_=-2.71),\n",
            " ReturnStep(state=NonTerminal(state=InventoryState(on_hand=1, on_order=0)), next_state=NonTerminal(state=InventoryState(on_hand=1, on_order=1)), reward=-1.0, return_=-3.439)]\n"
          ]
        }
      ]
    },
    {
      "cell_type": "code",
      "source": [
        "# \n",
        "# ---.---.---study accumulate() <iterate>"
      ],
      "metadata": {
        "id": "8s6GPk0axGtY"
      },
      "execution_count": 68,
      "outputs": []
    },
    {
      "cell_type": "code",
      "source": [
        "# \n",
        "# ---.---study returns()"
      ],
      "metadata": {
        "id": "Bs9cF8BCFmYl"
      },
      "execution_count": 69,
      "outputs": []
    },
    {
      "cell_type": "markdown",
      "source": [
        "### 3.3 Learning the Value Function in each state"
      ],
      "metadata": {
        "id": "Go2GqJ9D7i8U"
      }
    },
    {
      "cell_type": "code",
      "source": [
        "# \n",
        "# +++.+++study iterate_updates() <function_approx>[FunctionApprox]"
      ],
      "metadata": {
        "id": "lYYfyHxA6b0M"
      },
      "execution_count": 70,
      "outputs": []
    },
    {
      "cell_type": "markdown",
      "source": [
        "The other important function called by the `mc_prediction()` is `FunctionApprox`'s `iterate_updates()`. This method calls the `update` method of `FunctionApprox` in an iterative manner. Each call to `update` updates the `ValueFunctionApprox` for a single (state, return) data point. Here is the `FunctionApprox` class:"
      ],
      "metadata": {
        "id": "vLalIWHY-jze"
      }
    },
    {
      "cell_type": "code",
      "source": [
        "X = TypeVar('X') #. for arbitrary data types scriptX\n",
        "\n",
        "class FunctionApprox(ABC, Generic[X]):\n",
        "    @abstractmethod\n",
        "    def __add__(self: F, other: F) -> F:\n",
        "        pass\n",
        "\n",
        "    @abstractmethod\n",
        "    def __mul__(self: F, scalar: float) -> F:\n",
        "        pass\n",
        "\n",
        "    @abstractmethod\n",
        "    def objective_gradient( #. scriptG(w_t)\n",
        "        self: F,\n",
        "        xy_vals_seq: Iterable[Tuple[X, float]],\n",
        "        obj_deriv_out_fun: Callable[[Sequence[X], Sequence[float]], np.ndarray]\n",
        "    ) -> Gradient[F]:\n",
        "      pass\n",
        "\n",
        "    @abstractmethod\n",
        "    def evaluate(self, x_values_seq: Iterable[X]) -> np.ndarray:\n",
        "      pass\n",
        "\n",
        "    def __call__(self, x_value: X) -> float:\n",
        "        return self.evaluate([x_value]).item()\n",
        "\n",
        "    @abstractmethod\n",
        "    def update_with_gradient(\n",
        "        self: F,\n",
        "        gradient: Gradient[F]\n",
        "    ) -> F:\n",
        "      pass\n",
        "\n",
        "    def update(\n",
        "        self: F,\n",
        "        xy_vals_seq: Iterable[Tuple[X, float]]\n",
        "    ) -> F:\n",
        "        def deriv_func(x: Sequence[X], y: Sequence[float]) -> np.ndarray:\n",
        "            return self.evaluate(x) - np.array(y)\n",
        "\n",
        "        return self.update_with_gradient(\n",
        "            self.objective_gradient(xy_vals_seq, deriv_func)\n",
        "        )\n",
        "\n",
        "    @abstractmethod\n",
        "    def solve(\n",
        "        self: F,\n",
        "        xy_vals_seq: Iterable[Tuple[X, float]],\n",
        "        error_tolerance: Optional[float] = None\n",
        "    ) -> F:\n",
        "      pass\n",
        "\n",
        "    @abstractmethod\n",
        "    def within(self: F, other: F, tolerance: float) -> bool:\n",
        "      pass\n",
        "\n",
        "    def iterate_updates(\n",
        "        self: F,\n",
        "        xy_seq_stream: Iterator[Iterable[Tuple[X, float]]]\n",
        "    ) -> Iterator[F]:\n",
        "        return iterate.accumulate(\n",
        "            xy_seq_stream,\n",
        "            lambda fa, xy: fa.update(xy),\n",
        "            initial=self\n",
        "        )\n",
        "\n",
        "    def rmse(\n",
        "        self,\n",
        "        xy_vals_seq: Iterable[Tuple[X, float]]\n",
        "    ) -> float:\n",
        "        x_seq, y_seq = zip(*xy_vals_seq)\n",
        "        errors: np.ndarray = self.evaluate(x_seq) - np.array(y_seq)\n",
        "        return np.sqrt(np.mean(errors * errors))\n",
        "\n",
        "    def argmax(self, xs: Iterable[X]) -> X:\n",
        "        args: Sequence[X] = list(xs)\n",
        "        return args[np.argmax(self.evaluate(args))]"
      ],
      "metadata": {
        "id": "mfbG0_swA0_M"
      },
      "execution_count": 71,
      "outputs": []
    },
    {
      "cell_type": "code",
      "source": [
        "# hide\n",
        "# mc_finite_equal_wts_correctness() <prediction_utils>\n",
        "#   mc_finite_prediction_equal_wts() <prediction_utils>\n",
        "#     fmrp_episodes_stream() <prediction_utils>\n",
        "#       mrp_episodes_stream() <prediction_utils>\n",
        "#         reward_traces() <markov_process>[MarkovRewardProcess]\n",
        "#     mc_prediction() <monte_carlo>\n",
        "#       returns() <returns>\n",
        "#         islice() <itertools>\n",
        "#         accumulate() <iterate>\n",
        "#           accumulate() <itertools>\n",
        "#         islice() <itertools>\n",
        "#       iterate_updates() <function_approx>[FunctionApprox]\n",
        "#         accumulate() <itertools>\n",
        "#       last() <iterate>\n",
        "#   islice() <itertools>\n",
        "#   last() <itertools>"
      ],
      "metadata": {
        "id": "SgZcoWWR6Fs1"
      },
      "execution_count": 72,
      "outputs": []
    },
    {
      "cell_type": "markdown",
      "source": [
        "As stated before, we perform incremental supervised learning with:\n",
        "- state $x=S_t$ represented by `step.state`\n",
        "- return $y=G_t$ represented by `step.return_`\n",
        "- return estimate $\\hat y=V(S_t;w)$ represented by `f: ValueFunctionApprox[S]` \n",
        "\n",
        "The loss function is:\n",
        "\n",
        "$$\n",
        "\\mathcal L_{(S_t,G_t)}(w) = \\frac{1}{2}\\cdot [V(S_t;w)-G_t]^2\n",
        "$$\n",
        "\n",
        "where $S_t$ is a state visited at time $t$ in a trace experience and $G_t$ is its associated return on the trace experience.\n",
        "\n",
        "The gradient with respect to $w$ is:\n",
        "\n",
        "$$\n",
        "\\nabla_w \\mathcal L_{(S_t,G_t)}(w) = [V(S_t;w)-G_t] \\cdot \\nabla_w V(S_t;w)\n",
        "$$\n",
        "\n",
        "The change in the parameters is:\n",
        "\n",
        "$$\n",
        "\\Delta w = \\alpha \\cdot [G_t-V(S_t;w)] \\cdot \\nabla_w V(S_t;w) \n",
        "$$\n",
        "\n",
        "where the 3 factors are the:\n",
        "- *step size* or *learning rate*\n",
        "- *return residual*\n",
        "- *gradient estimate*"
      ],
      "metadata": {
        "id": "KYZW12YoCVOO"
      }
    },
    {
      "cell_type": "code",
      "source": [
        "traces: Iterable[Iterable[mp.TransitionStep[S]]] = fmrp_episodes_stream(si_mrp); traces"
      ],
      "metadata": {
        "colab": {
          "base_uri": "https://localhost:8080/"
        },
        "outputId": "6278cde5-90a7-44c1-ffd4-c9ad55a36a07",
        "id": "A5q8SQurDUXz"
      },
      "execution_count": 73,
      "outputs": [
        {
          "output_type": "execute_result",
          "data": {
            "text/plain": [
              "<generator object MarkovRewardProcess.reward_traces at 0x7fde240be950>"
            ]
          },
          "metadata": {},
          "execution_count": 73
        }
      ]
    },
    {
      "cell_type": "code",
      "source": [
        "episodes: Iterator[Iterator[mp.ReturnStep[S]]] = \\\n",
        "        (returns(trace, gamma, episode_length_tolerance) for trace in traces); episodes"
      ],
      "metadata": {
        "colab": {
          "base_uri": "https://localhost:8080/"
        },
        "id": "JcC1NvbpF3iW",
        "outputId": "3f5f4c0d-8b8e-48ac-af6e-b8b2e16faf35"
      },
      "execution_count": 74,
      "outputs": [
        {
          "output_type": "execute_result",
          "data": {
            "text/plain": [
              "<generator object <genexpr> at 0x7fde2409d1d0>"
            ]
          },
          "metadata": {},
          "execution_count": 74
        }
      ]
    },
    {
      "cell_type": "code",
      "source": [
        "approx_0 = Tabular(values_map=initial_vf_dict); approx_0"
      ],
      "metadata": {
        "colab": {
          "base_uri": "https://localhost:8080/"
        },
        "outputId": "58f1807a-1d08-4a9a-f557-ae8dfed76275",
        "id": "SUFgkjodDUXz"
      },
      "execution_count": 75,
      "outputs": [
        {
          "output_type": "execute_result",
          "data": {
            "text/plain": [
              "Tabular(values_map={NonTerminal(state=InventoryState(on_hand=0, on_order=0)): 0.0, NonTerminal(state=InventoryState(on_hand=0, on_order=1)): 0.0, NonTerminal(state=InventoryState(on_hand=0, on_order=2)): 0.0, NonTerminal(state=InventoryState(on_hand=1, on_order=0)): 0.0, NonTerminal(state=InventoryState(on_hand=1, on_order=1)): 0.0, NonTerminal(state=InventoryState(on_hand=2, on_order=0)): 0.0}, counts_map={}, count_to_weight_func=<function Tabular.<lambda>.<locals>.<lambda> at 0x7fde240c0dd0>)"
            ]
          },
          "metadata": {},
          "execution_count": 75
        }
      ]
    },
    {
      "cell_type": "code",
      "source": [
        "# \n",
        "# reduce episodes for ease of understanding\n",
        "episodes_ = it.islice(episodes, 3); episodes_"
      ],
      "metadata": {
        "colab": {
          "base_uri": "https://localhost:8080/"
        },
        "id": "vRsZ95AY3ECN",
        "outputId": "21f5c179-9413-41ce-83ff-04c2c42a76d8"
      },
      "execution_count": 76,
      "outputs": [
        {
          "output_type": "execute_result",
          "data": {
            "text/plain": [
              "<itertools.islice at 0x7fde2404f350>"
            ]
          },
          "metadata": {},
          "execution_count": 76
        }
      ]
    },
    {
      "cell_type": "code",
      "source": [
        "for i,episode in enumerate(episodes_):\n",
        "  lst = [(step.state, step.return_) for step in episode]\n",
        "  # print(f\"step.state={step.state}, step.return_={step.return_}\")\n",
        "  print(lst)\n",
        "  # print(f\"\\repisode {i}\", end=\"\") #."
      ],
      "metadata": {
        "colab": {
          "base_uri": "https://localhost:8080/"
        },
        "id": "S6og9q7O0pdZ",
        "outputId": "b71b1103-efaf-4e3a-91db-d4d581fa3378"
      },
      "execution_count": 77,
      "outputs": [
        {
          "output_type": "stream",
          "name": "stdout",
          "text": [
            "[(NonTerminal(state=InventoryState(on_hand=2, on_order=0)), -36.80235899659813), (NonTerminal(state=InventoryState(on_hand=1, on_order=0)), -38.66928777399792), (NonTerminal(state=InventoryState(on_hand=1, on_order=1)), -41.85476419333102), (NonTerminal(state=InventoryState(on_hand=0, on_order=0)), -44.2426455090975), (NonTerminal(state=InventoryState(on_hand=0, on_order=2)), -38.04738389899722), (NonTerminal(state=InventoryState(on_hand=0, on_order=0)), -41.12333407094883), (NonTerminal(state=InventoryState(on_hand=0, on_order=2)), -34.58148230105426), (NonTerminal(state=InventoryState(on_hand=0, on_order=0)), -37.27233229545665), (NonTerminal(state=InventoryState(on_hand=0, on_order=2)), -30.302591439396274), (NonTerminal(state=InventoryState(on_hand=1, on_order=0)), -33.669546043773636), (NonTerminal(state=InventoryState(on_hand=0, on_order=1)), -32.21194625784357), (NonTerminal(state=InventoryState(on_hand=0, on_order=1)), -31.703502051254606), (NonTerminal(state=InventoryState(on_hand=0, on_order=1)), -31.138564043933535), (NonTerminal(state=InventoryState(on_hand=0, on_order=1)), -30.51085514691012), (NonTerminal(state=InventoryState(on_hand=0, on_order=1)), -29.81340081688411), (NonTerminal(state=InventoryState(on_hand=0, on_order=1)), -29.03845156129965), (NonTerminal(state=InventoryState(on_hand=0, on_order=1)), -28.17739683287247), (NonTerminal(state=InventoryState(on_hand=0, on_order=1)), -27.220669356842276), (NonTerminal(state=InventoryState(on_hand=0, on_order=1)), -26.157638827919836), (NonTerminal(state=InventoryState(on_hand=0, on_order=1)), -24.97649379578379), (NonTerminal(state=InventoryState(on_hand=0, on_order=1)), -23.664110426743736), (NonTerminal(state=InventoryState(on_hand=0, on_order=1)), -22.205906683365903), (NonTerminal(state=InventoryState(on_hand=0, on_order=1)), -20.585680301834977), (NonTerminal(state=InventoryState(on_hand=0, on_order=1)), -18.785428766800614), (NonTerminal(state=InventoryState(on_hand=1, on_order=1)), -20.87269862977846), (NonTerminal(state=InventoryState(on_hand=1, on_order=0)), -22.0807762553094), (NonTerminal(state=InventoryState(on_hand=1, on_order=1)), -23.423084728121555), (NonTerminal(state=InventoryState(on_hand=1, on_order=0)), -24.91453858680173), (NonTerminal(state=InventoryState(on_hand=0, on_order=1)), -22.48416019454145), (NonTerminal(state=InventoryState(on_hand=0, on_order=1)), -20.894850869807804), (NonTerminal(state=InventoryState(on_hand=1, on_order=1)), -23.216500966453115), (NonTerminal(state=InventoryState(on_hand=1, on_order=0)), -24.685001073836794), (NonTerminal(state=InventoryState(on_hand=0, on_order=1)), -22.2291185134693), (NonTerminal(state=InventoryState(on_hand=1, on_order=1)), -24.699020570521444), (NonTerminal(state=InventoryState(on_hand=1, on_order=0)), -26.33224507835716), (NonTerminal(state=InventoryState(on_hand=1, on_order=1)), -28.146938975952402), (NonTerminal(state=InventoryState(on_hand=2, on_order=0)), -30.163265528836003), (NonTerminal(state=InventoryState(on_hand=2, on_order=0)), -31.292517254262226), (NonTerminal(state=InventoryState(on_hand=0, on_order=0)), -31.39570446568773), (NonTerminal(state=InventoryState(on_hand=0, on_order=2)), -23.77300496187525), (NonTerminal(state=InventoryState(on_hand=1, on_order=0)), -26.414449957639167), (NonTerminal(state=InventoryState(on_hand=1, on_order=1)), -28.238277730710184), (NonTerminal(state=InventoryState(on_hand=2, on_order=0)), -30.264753034122425), (NonTerminal(state=InventoryState(on_hand=1, on_order=0)), -31.405281149024916), (NonTerminal(state=InventoryState(on_hand=0, on_order=1)), -29.696096374789434), (NonTerminal(state=InventoryState(on_hand=0, on_order=1)), -28.908113292305565), (NonTerminal(state=InventoryState(on_hand=0, on_order=1)), -28.032576533990156), (NonTerminal(state=InventoryState(on_hand=0, on_order=1)), -27.0597579136397), (NonTerminal(state=InventoryState(on_hand=0, on_order=1)), -25.978848335472527), (NonTerminal(state=InventoryState(on_hand=0, on_order=1)), -24.77783769306456), (NonTerminal(state=InventoryState(on_hand=0, on_order=1)), -23.44338142372237), (NonTerminal(state=InventoryState(on_hand=0, on_order=1)), -21.960652235564385), (NonTerminal(state=InventoryState(on_hand=0, on_order=1)), -20.31317535983329), (NonTerminal(state=InventoryState(on_hand=0, on_order=1)), -18.48264549790985), (NonTerminal(state=InventoryState(on_hand=1, on_order=1)), -20.536272775455387), (NonTerminal(state=InventoryState(on_hand=2, on_order=0)), -21.706969750505984), (NonTerminal(state=InventoryState(on_hand=2, on_order=0)), -21.896633056117757), (NonTerminal(state=InventoryState(on_hand=2, on_order=0)), -22.107370062353063), (NonTerminal(state=InventoryState(on_hand=1, on_order=0)), -22.341522291503402), (NonTerminal(state=InventoryState(on_hand=1, on_order=1)), -23.71280254611489), (NonTerminal(state=InventoryState(on_hand=1, on_order=0)), -25.23644727346099), (NonTerminal(state=InventoryState(on_hand=1, on_order=1)), -26.929385859401098), (NonTerminal(state=InventoryState(on_hand=2, on_order=0)), -28.810428732667887), (NonTerminal(state=InventoryState(on_hand=2, on_order=0)), -29.789365258519876), (NonTerminal(state=InventoryState(on_hand=0, on_order=0)), -29.725535581529563), (NonTerminal(state=InventoryState(on_hand=0, on_order=2)), -21.91726175725507), (NonTerminal(state=InventoryState(on_hand=2, on_order=0)), -24.352513063616744), (NonTerminal(state=InventoryState(on_hand=1, on_order=0)), -24.836125626240825), (NonTerminal(state=InventoryState(on_hand=0, on_order=1)), -22.397034682807114), (NonTerminal(state=InventoryState(on_hand=1, on_order=1)), -24.885594092007903), (NonTerminal(state=InventoryState(on_hand=1, on_order=0)), -26.53954899111989), (NonTerminal(state=InventoryState(on_hand=0, on_order=1)), -24.289727310450516), (NonTerminal(state=InventoryState(on_hand=1, on_order=1)), -26.988585900500574), (NonTerminal(state=InventoryState(on_hand=1, on_order=0)), -28.87620655611175), (NonTerminal(state=InventoryState(on_hand=0, on_order=1)), -26.886013493774804), (NonTerminal(state=InventoryState(on_hand=1, on_order=1)), -29.873348326416448), (NonTerminal(state=InventoryState(on_hand=0, on_order=0)), -30.929961212525754), (NonTerminal(state=InventoryState(on_hand=0, on_order=2)), -23.25551245836195), (NonTerminal(state=InventoryState(on_hand=1, on_order=0)), -25.83945828706883), (NonTerminal(state=InventoryState(on_hand=0, on_order=1)), -23.511848750393785), (NonTerminal(state=InventoryState(on_hand=1, on_order=1)), -26.12427638932643), (NonTerminal(state=InventoryState(on_hand=1, on_order=0)), -27.915862654807142), (NonTerminal(state=InventoryState(on_hand=1, on_order=1)), -29.906514060896825), (NonTerminal(state=InventoryState(on_hand=2, on_order=0)), -32.118348956552026), (NonTerminal(state=InventoryState(on_hand=2, on_order=0)), -33.46483217394669), (NonTerminal(state=InventoryState(on_hand=1, on_order=0)), -34.96092463771855), (NonTerminal(state=InventoryState(on_hand=0, on_order=1)), -33.646811362226806), (NonTerminal(state=InventoryState(on_hand=0, on_order=1)), -33.297796611680425), (NonTerminal(state=InventoryState(on_hand=1, on_order=1)), -36.99755179075603), (NonTerminal(state=InventoryState(on_hand=1, on_order=0)), -39.9972797675067), (NonTerminal(state=InventoryState(on_hand=1, on_order=1)), -43.33031085278522), (NonTerminal(state=InventoryState(on_hand=0, on_order=0)), -45.882141797379944), (NonTerminal(state=InventoryState(on_hand=0, on_order=2)), -39.86904644153327), (NonTerminal(state=InventoryState(on_hand=2, on_order=0)), -44.29894049059252), (NonTerminal(state=InventoryState(on_hand=0, on_order=0)), -45.84728583938806), (NonTerminal(state=InventoryState(on_hand=0, on_order=2)), -39.83031759932006), (NonTerminal(state=InventoryState(on_hand=2, on_order=0)), -44.25590844368895), (NonTerminal(state=InventoryState(on_hand=0, on_order=0)), -45.79947245393965), (NonTerminal(state=InventoryState(on_hand=0, on_order=2)), -39.7771916154885), (NonTerminal(state=InventoryState(on_hand=0, on_order=0)), -43.04534264482803), (NonTerminal(state=InventoryState(on_hand=0, on_order=2)), -36.71704738314226), (NonTerminal(state=InventoryState(on_hand=0, on_order=0)), -39.64518238666554), (NonTerminal(state=InventoryState(on_hand=0, on_order=2)), -32.93909154073949), (NonTerminal(state=InventoryState(on_hand=2, on_order=0)), -36.59899060082166), (NonTerminal(state=InventoryState(on_hand=0, on_order=0)), -37.291785961864875), (NonTerminal(state=InventoryState(on_hand=0, on_order=2)), -30.32420662429431), (NonTerminal(state=InventoryState(on_hand=0, on_order=0)), -32.5420259879456), (NonTerminal(state=InventoryState(on_hand=0, on_order=2)), -25.04669554216178), (NonTerminal(state=InventoryState(on_hand=1, on_order=0)), -27.829661713513087), (NonTerminal(state=InventoryState(on_hand=0, on_order=1)), -25.723185890887404), (NonTerminal(state=InventoryState(on_hand=1, on_order=1)), -28.581317656541557), (NonTerminal(state=InventoryState(on_hand=1, on_order=0)), -30.6459085072684), (NonTerminal(state=InventoryState(on_hand=0, on_order=1)), -28.85234899505997), (NonTerminal(state=InventoryState(on_hand=0, on_order=1)), -27.97061620371727), (NonTerminal(state=InventoryState(on_hand=0, on_order=1)), -26.990913102225385), (NonTerminal(state=InventoryState(on_hand=1, on_order=1)), -29.989903446917094), (NonTerminal(state=InventoryState(on_hand=1, on_order=0)), -32.21100382990788), (NonTerminal(state=InventoryState(on_hand=0, on_order=1)), -30.59134379799273), (NonTerminal(state=InventoryState(on_hand=1, on_order=1)), -33.9903819977697), (NonTerminal(state=InventoryState(on_hand=0, on_order=0)), -35.50444306958492), (NonTerminal(state=InventoryState(on_hand=0, on_order=2)), -28.338270077316583), (NonTerminal(state=InventoryState(on_hand=0, on_order=0)), -30.335429824637014), (NonTerminal(state=InventoryState(on_hand=0, on_order=2)), -22.59492202737446), (NonTerminal(state=InventoryState(on_hand=1, on_order=0)), -25.105468919304954), (NonTerminal(state=InventoryState(on_hand=0, on_order=1)), -22.69630500843392), (NonTerminal(state=InventoryState(on_hand=1, on_order=1)), -25.21811667603769), (NonTerminal(state=InventoryState(on_hand=2, on_order=0)), -26.909018528930766), (NonTerminal(state=InventoryState(on_hand=1, on_order=0)), -27.67668725436752), (NonTerminal(state=InventoryState(on_hand=0, on_order=1)), -25.55321426961455), (NonTerminal(state=InventoryState(on_hand=0, on_order=1)), -24.30491095322236), (NonTerminal(state=InventoryState(on_hand=1, on_order=1)), -27.00545661469151)]\n",
            "[(NonTerminal(state=InventoryState(on_hand=1, on_order=0)), -30.337311265963837), (NonTerminal(state=InventoryState(on_hand=1, on_order=1)), -32.597012517737596), (NonTerminal(state=InventoryState(on_hand=0, on_order=0)), -33.956254758438135), (NonTerminal(state=InventoryState(on_hand=0, on_order=2)), -26.61806084270904), (NonTerminal(state=InventoryState(on_hand=0, on_order=0)), -28.42408623062863), (NonTerminal(state=InventoryState(on_hand=0, on_order=2)), -20.4712069229207), (NonTerminal(state=InventoryState(on_hand=1, on_order=0)), -22.74578546991189), (NonTerminal(state=InventoryState(on_hand=1, on_order=1)), -24.161983855457656), (NonTerminal(state=InventoryState(on_hand=2, on_order=0)), -25.735537617175172), (NonTerminal(state=InventoryState(on_hand=2, on_order=0)), -26.37281957463908), (NonTerminal(state=InventoryState(on_hand=2, on_order=0)), -27.080910638487868), (NonTerminal(state=InventoryState(on_hand=1, on_order=0)), -27.867678487208742), (NonTerminal(state=InventoryState(on_hand=1, on_order=1)), -29.8529760968986), (NonTerminal(state=InventoryState(on_hand=1, on_order=0)), -32.05886232988733), (NonTerminal(state=InventoryState(on_hand=0, on_order=1)), -30.42229768685879), (NonTerminal(state=InventoryState(on_hand=1, on_order=1)), -33.802552985398655), (NonTerminal(state=InventoryState(on_hand=1, on_order=0)), -36.447281094887394), (NonTerminal(state=InventoryState(on_hand=0, on_order=1)), -35.29831853685886), (NonTerminal(state=InventoryState(on_hand=0, on_order=1)), -35.132804583493815), (NonTerminal(state=InventoryState(on_hand=0, on_order=1)), -34.94890019086599), (NonTerminal(state=InventoryState(on_hand=0, on_order=1)), -34.74456197683507), (NonTerminal(state=InventoryState(on_hand=0, on_order=1)), -34.517519516800725), (NonTerminal(state=InventoryState(on_hand=1, on_order=1)), -38.352799463111914), (NonTerminal(state=InventoryState(on_hand=0, on_order=0)), -40.35157358663183), (NonTerminal(state=InventoryState(on_hand=0, on_order=2)), -33.72397065181314), (NonTerminal(state=InventoryState(on_hand=0, on_order=0)), -36.31954157407763), (NonTerminal(state=InventoryState(on_hand=0, on_order=2)), -29.243935082308482), (NonTerminal(state=InventoryState(on_hand=2, on_order=0)), -32.49326120256498), (NonTerminal(state=InventoryState(on_hand=1, on_order=0)), -33.88140133618331), (NonTerminal(state=InventoryState(on_hand=0, on_order=1)), -32.44734102718765), (NonTerminal(state=InventoryState(on_hand=0, on_order=1)), -31.96505179497025), (NonTerminal(state=InventoryState(on_hand=0, on_order=1)), -31.42917487028425), (NonTerminal(state=InventoryState(on_hand=0, on_order=1)), -30.833756065077583), (NonTerminal(state=InventoryState(on_hand=0, on_order=1)), -30.172179614847956), (NonTerminal(state=InventoryState(on_hand=0, on_order=1)), -29.43709467014837), (NonTerminal(state=InventoryState(on_hand=0, on_order=1)), -28.62033362048216), (NonTerminal(state=InventoryState(on_hand=0, on_order=1)), -27.712821343075262), (NonTerminal(state=InventoryState(on_hand=0, on_order=1)), -26.70447436817871), (NonTerminal(state=InventoryState(on_hand=1, on_order=1)), -29.67163818686523), (NonTerminal(state=InventoryState(on_hand=1, on_order=0)), -31.85737576318359), (NonTerminal(state=InventoryState(on_hand=0, on_order=1)), -30.198423723854628), (NonTerminal(state=InventoryState(on_hand=1, on_order=1)), -33.553804137616254), (NonTerminal(state=InventoryState(on_hand=0, on_order=0)), -35.019356558303315), (NonTerminal(state=InventoryState(on_hand=0, on_order=2)), -27.799285064781465), (NonTerminal(state=InventoryState(on_hand=0, on_order=0)), -29.736557588486885), (NonTerminal(state=InventoryState(on_hand=0, on_order=2)), -21.929508431652096), (NonTerminal(state=InventoryState(on_hand=2, on_order=0)), -24.36612047961344), (NonTerminal(state=InventoryState(on_hand=2, on_order=0)), -24.851244977348266), (NonTerminal(state=InventoryState(on_hand=2, on_order=0)), -25.39027219705363), (NonTerminal(state=InventoryState(on_hand=1, on_order=0)), -25.989191330059587), (NonTerminal(state=InventoryState(on_hand=1, on_order=1)), -27.765768144510652), (NonTerminal(state=InventoryState(on_hand=2, on_order=0)), -29.73974238278961), (NonTerminal(state=InventoryState(on_hand=1, on_order=0)), -30.821935980877345), (NonTerminal(state=InventoryState(on_hand=0, on_order=1)), -29.04793507684769), (NonTerminal(state=InventoryState(on_hand=0, on_order=1)), -28.187934072370293), (NonTerminal(state=InventoryState(on_hand=1, on_order=1)), -31.319926747078103), (NonTerminal(state=InventoryState(on_hand=2, on_order=0)), -33.68880749675345), (NonTerminal(state=InventoryState(on_hand=2, on_order=0)), -35.20978610750383), (NonTerminal(state=InventoryState(on_hand=2, on_order=0)), -36.89976234167092), (NonTerminal(state=InventoryState(on_hand=2, on_order=0)), -38.77751371296769), (NonTerminal(state=InventoryState(on_hand=2, on_order=0)), -40.86390412551965), (NonTerminal(state=InventoryState(on_hand=0, on_order=0)), -42.03057876708487), (NonTerminal(state=InventoryState(on_hand=0, on_order=2)), -35.58953196342763), (NonTerminal(state=InventoryState(on_hand=2, on_order=0)), -39.543924403808475), (NonTerminal(state=InventoryState(on_hand=0, on_order=0)), -40.56393463185023), (NonTerminal(state=InventoryState(on_hand=0, on_order=2)), -33.95992736872248), (NonTerminal(state=InventoryState(on_hand=2, on_order=0)), -37.73325263191387), (NonTerminal(state=InventoryState(on_hand=0, on_order=0)), -38.55207710752289), (NonTerminal(state=InventoryState(on_hand=0, on_order=2)), -31.72453011946988), (NonTerminal(state=InventoryState(on_hand=0, on_order=0)), -34.09794098258512), (NonTerminal(state=InventoryState(on_hand=0, on_order=2)), -26.775489980650136), (NonTerminal(state=InventoryState(on_hand=2, on_order=0)), -29.750544422944596), (NonTerminal(state=InventoryState(on_hand=2, on_order=0)), -30.83393824771622), (NonTerminal(state=InventoryState(on_hand=1, on_order=0)), -32.03770916412913), (NonTerminal(state=InventoryState(on_hand=0, on_order=1)), -30.398794169349678), (NonTerminal(state=InventoryState(on_hand=0, on_order=1)), -29.688888619594724), (NonTerminal(state=InventoryState(on_hand=1, on_order=1)), -32.98765402177192), (NonTerminal(state=InventoryState(on_hand=0, on_order=0)), -34.39030087403183), (NonTerminal(state=InventoryState(on_hand=0, on_order=2)), -27.10033430447981), (NonTerminal(state=InventoryState(on_hand=1, on_order=0)), -30.11148256053312), (NonTerminal(state=InventoryState(on_hand=0, on_order=1)), -28.258542387576327), (NonTerminal(state=InventoryState(on_hand=1, on_order=1)), -31.398380430640362), (NonTerminal(state=InventoryState(on_hand=1, on_order=0)), -33.77597825626707), (NonTerminal(state=InventoryState(on_hand=0, on_order=1)), -32.33020427172516), (NonTerminal(state=InventoryState(on_hand=0, on_order=1)), -31.834899844456373), (NonTerminal(state=InventoryState(on_hand=0, on_order=1)), -31.2845615919355), (NonTerminal(state=InventoryState(on_hand=0, on_order=1)), -30.673074644690082), (NonTerminal(state=InventoryState(on_hand=0, on_order=1)), -29.993644703306288), (NonTerminal(state=InventoryState(on_hand=0, on_order=1)), -29.238722546213182), (NonTerminal(state=InventoryState(on_hand=0, on_order=1)), -28.399920149443062), (NonTerminal(state=InventoryState(on_hand=1, on_order=1)), -31.55546683271451), (NonTerminal(state=InventoryState(on_hand=0, on_order=0)), -32.798981775079156), (NonTerminal(state=InventoryState(on_hand=0, on_order=2)), -25.33220197231017), (NonTerminal(state=InventoryState(on_hand=1, on_order=0)), -28.14689108034463), (NonTerminal(state=InventoryState(on_hand=0, on_order=1)), -26.075662965144673), (NonTerminal(state=InventoryState(on_hand=0, on_order=1)), -24.88540950381139), (NonTerminal(state=InventoryState(on_hand=0, on_order=1)), -23.562905657885516), (NonTerminal(state=InventoryState(on_hand=1, on_order=1)), -26.18100628653946), (NonTerminal(state=InventoryState(on_hand=1, on_order=0)), -27.978895873932732), (NonTerminal(state=InventoryState(on_hand=0, on_order=1)), -25.88900162468701), (NonTerminal(state=InventoryState(on_hand=0, on_order=1)), -24.678008014413983), (NonTerminal(state=InventoryState(on_hand=1, on_order=1)), -27.420008904904424), (NonTerminal(state=InventoryState(on_hand=2, on_order=0)), -29.355565449893803), (NonTerminal(state=InventoryState(on_hand=2, on_order=0)), -30.395072722104224), (NonTerminal(state=InventoryState(on_hand=1, on_order=0)), -31.550080802338027), (NonTerminal(state=InventoryState(on_hand=0, on_order=1)), -29.85698487847067), (NonTerminal(state=InventoryState(on_hand=0, on_order=1)), -29.086878296395827), (NonTerminal(state=InventoryState(on_hand=0, on_order=1)), -28.23120431631267), (NonTerminal(state=InventoryState(on_hand=1, on_order=1)), -31.368004795902966), (NonTerminal(state=InventoryState(on_hand=0, on_order=0)), -32.59069062306633), (NonTerminal(state=InventoryState(on_hand=0, on_order=2)), -25.10076735896259), (NonTerminal(state=InventoryState(on_hand=1, on_order=0)), -27.88974150995843), (NonTerminal(state=InventoryState(on_hand=1, on_order=1)), -29.877490566620477), (NonTerminal(state=InventoryState(on_hand=0, on_order=0)), -30.93456370164134), (NonTerminal(state=InventoryState(on_hand=0, on_order=2)), -23.260626335157045), (NonTerminal(state=InventoryState(on_hand=1, on_order=0)), -25.845140372396717), (NonTerminal(state=InventoryState(on_hand=0, on_order=1)), -23.51816217853588), (NonTerminal(state=InventoryState(on_hand=0, on_order=1)), -22.043741963134952), (NonTerminal(state=InventoryState(on_hand=0, on_order=1)), -20.40549727935614), (NonTerminal(state=InventoryState(on_hand=0, on_order=1)), -18.585225408490796), (NonTerminal(state=InventoryState(on_hand=1, on_order=1)), -20.650250453878662), (NonTerminal(state=InventoryState(on_hand=1, on_order=0)), -21.833611615420736), (NonTerminal(state=InventoryState(on_hand=0, on_order=1)), -19.060908004118122), (NonTerminal(state=InventoryState(on_hand=1, on_order=1)), -21.178786671242356), (NonTerminal(state=InventoryState(on_hand=2, on_order=0)), -22.420874079158175), (NonTerminal(state=InventoryState(on_hand=2, on_order=0)), -22.689860087953527), (NonTerminal(state=InventoryState(on_hand=1, on_order=0)), -22.988733431059472), (NonTerminal(state=InventoryState(on_hand=0, on_order=1)), -20.344376688161162), (NonTerminal(state=InventoryState(on_hand=1, on_order=1)), -22.604862986845735), (NonTerminal(state=InventoryState(on_hand=1, on_order=0)), -24.005403318717484), (NonTerminal(state=InventoryState(on_hand=1, on_order=1)), -25.561559243019428)]\n",
            "[(NonTerminal(state=InventoryState(on_hand=1, on_order=1)), -38.69076506175256), (NonTerminal(state=InventoryState(on_hand=0, on_order=0)), -40.72709091845476), (NonTerminal(state=InventoryState(on_hand=0, on_order=2)), -34.1412121316164), (NonTerminal(state=InventoryState(on_hand=0, on_order=0)), -36.78314321830348), (NonTerminal(state=InventoryState(on_hand=0, on_order=2)), -29.759048020337193), (NonTerminal(state=InventoryState(on_hand=2, on_order=0)), -33.06560891148577), (NonTerminal(state=InventoryState(on_hand=2, on_order=0)), -34.51734323498418), (NonTerminal(state=InventoryState(on_hand=0, on_order=0)), -34.97884444426768), (NonTerminal(state=InventoryState(on_hand=0, on_order=2)), -27.754271604741863), (NonTerminal(state=InventoryState(on_hand=0, on_order=0)), -29.686542632887324), (NonTerminal(state=InventoryState(on_hand=0, on_order=2)), -21.873936258763692), (NonTerminal(state=InventoryState(on_hand=1, on_order=0)), -24.304373620848548), (NonTerminal(state=InventoryState(on_hand=0, on_order=1)), -21.806199121260136), (NonTerminal(state=InventoryState(on_hand=1, on_order=1)), -24.229110134733485), (NonTerminal(state=InventoryState(on_hand=1, on_order=0)), -25.810122371926095), (NonTerminal(state=InventoryState(on_hand=1, on_order=1)), -27.566802635473437), (NonTerminal(state=InventoryState(on_hand=1, on_order=0)), -29.518669594970483), (NonTerminal(state=InventoryState(on_hand=0, on_order=1)), -27.599861314728955), (NonTerminal(state=InventoryState(on_hand=0, on_order=1)), -26.578963225571698), (NonTerminal(state=InventoryState(on_hand=0, on_order=1)), -25.44463201539697), (NonTerminal(state=InventoryState(on_hand=0, on_order=1)), -24.184264004091716), (NonTerminal(state=InventoryState(on_hand=0, on_order=1)), -22.783855102641436), (NonTerminal(state=InventoryState(on_hand=0, on_order=1)), -21.227845212141123), (NonTerminal(state=InventoryState(on_hand=0, on_order=1)), -19.49894533380744), (NonTerminal(state=InventoryState(on_hand=1, on_order=1)), -21.6654948153416), (NonTerminal(state=InventoryState(on_hand=1, on_order=0)), -22.96166090593511), (NonTerminal(state=InventoryState(on_hand=1, on_order=1)), -24.40184545103901), (NonTerminal(state=InventoryState(on_hand=1, on_order=0)), -26.002050501154454), (NonTerminal(state=InventoryState(on_hand=0, on_order=1)), -23.692506766044477), (NonTerminal(state=InventoryState(on_hand=0, on_order=1)), -22.237458171477837), (NonTerminal(state=InventoryState(on_hand=0, on_order=1)), -20.620737510848237), (NonTerminal(state=InventoryState(on_hand=0, on_order=1)), -18.82438122125979), (NonTerminal(state=InventoryState(on_hand=1, on_order=1)), -20.915979134733103), (NonTerminal(state=InventoryState(on_hand=1, on_order=0)), -22.128865705259003), (NonTerminal(state=InventoryState(on_hand=1, on_order=1)), -23.47651745028778), (NonTerminal(state=InventoryState(on_hand=2, on_order=0)), -24.973908278097532), (NonTerminal(state=InventoryState(on_hand=2, on_order=0)), -25.5265647534417), (NonTerminal(state=InventoryState(on_hand=1, on_order=0)), -26.14062750382411), (NonTerminal(state=InventoryState(on_hand=1, on_order=1)), -27.934030559804565), (NonTerminal(state=InventoryState(on_hand=1, on_order=0)), -29.92670062200507), (NonTerminal(state=InventoryState(on_hand=0, on_order=1)), -28.05322912254516), (NonTerminal(state=InventoryState(on_hand=0, on_order=1)), -27.082705234256373), (NonTerminal(state=InventoryState(on_hand=1, on_order=1)), -30.091894704729302), (NonTerminal(state=InventoryState(on_hand=1, on_order=0)), -32.324327449699226), (NonTerminal(state=InventoryState(on_hand=0, on_order=1)), -30.717258931094225), (NonTerminal(state=InventoryState(on_hand=0, on_order=1)), -30.042738354866444), (NonTerminal(state=InventoryState(on_hand=0, on_order=1)), -29.29327104794669), (NonTerminal(state=InventoryState(on_hand=1, on_order=1)), -32.54807894216299), (NonTerminal(state=InventoryState(on_hand=1, on_order=0)), -35.05342104684777), (NonTerminal(state=InventoryState(on_hand=0, on_order=1)), -33.74958515014816), (NonTerminal(state=InventoryState(on_hand=0, on_order=1)), -33.411989709370815), (NonTerminal(state=InventoryState(on_hand=0, on_order=1)), -33.03688366406266), (NonTerminal(state=InventoryState(on_hand=0, on_order=1)), -32.62009916927582), (NonTerminal(state=InventoryState(on_hand=0, on_order=1)), -32.15700528617933), (NonTerminal(state=InventoryState(on_hand=0, on_order=1)), -31.642456527183228), (NonTerminal(state=InventoryState(on_hand=0, on_order=1)), -31.070735683854224), (NonTerminal(state=InventoryState(on_hand=0, on_order=1)), -30.435490302377556), (NonTerminal(state=InventoryState(on_hand=0, on_order=1)), -29.72966210073681), (NonTerminal(state=InventoryState(on_hand=0, on_order=1)), -28.945408543358205), (NonTerminal(state=InventoryState(on_hand=1, on_order=1)), -32.16156504817578), (NonTerminal(state=InventoryState(on_hand=0, on_order=0)), -33.472424236702786), (NonTerminal(state=InventoryState(on_hand=0, on_order=2)), -26.080471374114204), (NonTerminal(state=InventoryState(on_hand=1, on_order=0)), -28.978301526793558), (NonTerminal(state=InventoryState(on_hand=0, on_order=1)), -26.999452350087925), (NonTerminal(state=InventoryState(on_hand=0, on_order=1)), -25.911842153748335), (NonTerminal(state=InventoryState(on_hand=0, on_order=1)), -24.703386380037678), (NonTerminal(state=InventoryState(on_hand=1, on_order=1)), -27.44820708893075), (NonTerminal(state=InventoryState(on_hand=2, on_order=0)), -29.38689676547861), (NonTerminal(state=InventoryState(on_hand=2, on_order=0)), -30.429885294976234), (NonTerminal(state=InventoryState(on_hand=2, on_order=0)), -31.58876143886248), (NonTerminal(state=InventoryState(on_hand=2, on_order=0)), -32.87640159873609), (NonTerminal(state=InventoryState(on_hand=0, on_order=0)), -33.155575959547576), (NonTerminal(state=InventoryState(on_hand=0, on_order=2)), -25.728417732830636), (NonTerminal(state=InventoryState(on_hand=2, on_order=0)), -28.587130814256263), (NonTerminal(state=InventoryState(on_hand=1, on_order=0)), -29.541256460284735), (NonTerminal(state=InventoryState(on_hand=0, on_order=1)), -27.62495783174479), (NonTerminal(state=InventoryState(on_hand=1, on_order=1)), -30.694397590827545), (NonTerminal(state=InventoryState(on_hand=1, on_order=0)), -32.99377510091949), (NonTerminal(state=InventoryState(on_hand=0, on_order=1)), -31.461089654672303), (NonTerminal(state=InventoryState(on_hand=0, on_order=1)), -30.869216936619864), (NonTerminal(state=InventoryState(on_hand=1, on_order=1)), -34.299129929577624), (NonTerminal(state=InventoryState(on_hand=2, on_order=0)), -36.999033255086246), (NonTerminal(state=InventoryState(on_hand=0, on_order=0)), -37.73627779993664), (NonTerminal(state=InventoryState(on_hand=0, on_order=2)), -30.818086444374043), (NonTerminal(state=InventoryState(on_hand=1, on_order=0)), -34.24231827152671), (NonTerminal(state=InventoryState(on_hand=1, on_order=1)), -36.935909190585235), (NonTerminal(state=InventoryState(on_hand=0, on_order=0)), -38.777251061602186), (NonTerminal(state=InventoryState(on_hand=0, on_order=2)), -31.974723401780203), (NonTerminal(state=InventoryState(on_hand=2, on_order=0)), -35.52747044642245), (NonTerminal(state=InventoryState(on_hand=0, on_order=0)), -36.10120801253242), (NonTerminal(state=InventoryState(on_hand=0, on_order=2)), -29.00134223614713), (NonTerminal(state=InventoryState(on_hand=1, on_order=0)), -32.22371359571903), (NonTerminal(state=InventoryState(on_hand=0, on_order=1)), -30.605465760005124), (NonTerminal(state=InventoryState(on_hand=0, on_order=1)), -29.918523720322998), (NonTerminal(state=InventoryState(on_hand=0, on_order=1)), -29.15525478734286), (NonTerminal(state=InventoryState(on_hand=0, on_order=1)), -28.307178195142704), (NonTerminal(state=InventoryState(on_hand=0, on_order=1)), -27.364870870475865), (NonTerminal(state=InventoryState(on_hand=1, on_order=1)), -30.405412078306515), (NonTerminal(state=InventoryState(on_hand=2, on_order=0)), -32.67268008700724), (NonTerminal(state=InventoryState(on_hand=2, on_order=0)), -34.080755652230266), (NonTerminal(state=InventoryState(on_hand=0, on_order=0)), -34.49374713009666), (NonTerminal(state=InventoryState(on_hand=0, on_order=2)), -27.215274588996287), (NonTerminal(state=InventoryState(on_hand=0, on_order=0)), -29.087657059836687), (NonTerminal(state=InventoryState(on_hand=0, on_order=2)), -21.208507844262986), (NonTerminal(state=InventoryState(on_hand=1, on_order=0)), -23.56500871584776), (NonTerminal(state=InventoryState(on_hand=1, on_order=1)), -25.07223190649751), (NonTerminal(state=InventoryState(on_hand=1, on_order=0)), -26.746924340552788), (NonTerminal(state=InventoryState(on_hand=0, on_order=1)), -24.52014436537596), (NonTerminal(state=InventoryState(on_hand=1, on_order=1)), -27.244604850417733), (NonTerminal(state=InventoryState(on_hand=2, on_order=0)), -29.160672056019703), (NonTerminal(state=InventoryState(on_hand=2, on_order=0)), -30.178524506688557), (NonTerminal(state=InventoryState(on_hand=0, on_order=0)), -30.15793474616143), (NonTerminal(state=InventoryState(on_hand=0, on_order=2)), -22.3977052735127), (NonTerminal(state=InventoryState(on_hand=2, on_order=0)), -24.886339192791887), (NonTerminal(state=InventoryState(on_hand=2, on_order=0)), -25.42926576976876), (NonTerminal(state=InventoryState(on_hand=2, on_order=0)), -26.03251752196529), (NonTerminal(state=InventoryState(on_hand=1, on_order=0)), -26.702797246628098), (NonTerminal(state=InventoryState(on_hand=0, on_order=1)), -24.47111426101519), (NonTerminal(state=InventoryState(on_hand=1, on_order=1)), -27.190126956683546), (NonTerminal(state=InventoryState(on_hand=1, on_order=0)), -29.100141062981717), (NonTerminal(state=InventoryState(on_hand=0, on_order=1)), -27.134829612519212), (NonTerminal(state=InventoryState(on_hand=1, on_order=1)), -30.149810680576902), (NonTerminal(state=InventoryState(on_hand=0, on_order=0)), -31.23714160603737), (NonTerminal(state=InventoryState(on_hand=0, on_order=2)), -23.596824006708186), (NonTerminal(state=InventoryState(on_hand=1, on_order=0)), -26.218693340786874), (NonTerminal(state=InventoryState(on_hand=1, on_order=1)), -28.02077037865208), (NonTerminal(state=InventoryState(on_hand=1, on_order=0)), -30.02307819850231), (NonTerminal(state=InventoryState(on_hand=1, on_order=1)), -32.24786466500257), (NonTerminal(state=InventoryState(on_hand=0, on_order=0)), -33.56831269984366), (NonTerminal(state=InventoryState(on_hand=0, on_order=2)), -26.187014110937398), (NonTerminal(state=InventoryState(on_hand=2, on_order=0)), -29.096682345486)]\n"
          ]
        }
      ]
    },
    {
      "cell_type": "code",
      "source": [
        "f = approx_0"
      ],
      "metadata": {
        "id": "1rSBHNo3QIEX"
      },
      "execution_count": 78,
      "outputs": []
    },
    {
      "cell_type": "code",
      "source": [
        "for i,episode in enumerate(episodes_):\n",
        "  print(f\"\\repisode {i}\", end=\"\") #.\n",
        "  f = iterate.last(f.iterate_updates(\n",
        "      [(step.state, step.return_)] for step in episode)\n",
        "  )\n",
        "  # print(f)"
      ],
      "metadata": {
        "id": "7b4wASXVFKlD"
      },
      "execution_count": 79,
      "outputs": []
    },
    {
      "cell_type": "code",
      "source": [
        "pprint(f)"
      ],
      "metadata": {
        "colab": {
          "base_uri": "https://localhost:8080/"
        },
        "id": "4eDiyJd67h1m",
        "outputId": "c4046139-6814-4314-d251-524d646beced"
      },
      "execution_count": 80,
      "outputs": [
        {
          "output_type": "stream",
          "name": "stdout",
          "text": [
            "Tabular(values_map={NonTerminal(state=InventoryState(on_hand=0, on_order=0)): 0.0, NonTerminal(state=InventoryState(on_hand=0, on_order=1)): 0.0, NonTerminal(state=InventoryState(on_hand=0, on_order=2)): 0.0, NonTerminal(state=InventoryState(on_hand=1, on_order=0)): 0.0, NonTerminal(state=InventoryState(on_hand=1, on_order=1)): 0.0, NonTerminal(state=InventoryState(on_hand=2, on_order=0)): 0.0}, counts_map={}, count_to_weight_func=<function Tabular.<lambda>.<locals>.<lambda> at 0x7fde240c0dd0>)\n"
          ]
        }
      ]
    },
    {
      "cell_type": "code",
      "source": [
        "# \n",
        "# ---.---study iterate_updates() <function_approx>[FunctionApprox]"
      ],
      "metadata": {
        "id": "DZIostpG6FZM"
      },
      "execution_count": 81,
      "outputs": []
    },
    {
      "cell_type": "code",
      "source": [
        "episodes = fmrp_episodes_stream(si_mrp); episodes"
      ],
      "metadata": {
        "colab": {
          "base_uri": "https://localhost:8080/"
        },
        "id": "KAgE8kc0w6Ks",
        "outputId": "4a7d88af-e7a4-4726-ba43-a9fd6a436406"
      },
      "execution_count": 82,
      "outputs": [
        {
          "output_type": "execute_result",
          "data": {
            "text/plain": [
              "<generator object MarkovRewardProcess.reward_traces at 0x7fde240c53d0>"
            ]
          },
          "metadata": {},
          "execution_count": 82
        }
      ]
    },
    {
      "cell_type": "code",
      "source": [
        "approx_0 = Tabular(values_map=initial_vf_dict); pprint(approx_0)"
      ],
      "metadata": {
        "colab": {
          "base_uri": "https://localhost:8080/"
        },
        "id": "CLLGClP7DQ7X",
        "outputId": "158bd5aa-312f-4b81-b064-a1406e5a4b43"
      },
      "execution_count": 83,
      "outputs": [
        {
          "output_type": "stream",
          "name": "stdout",
          "text": [
            "Tabular(values_map={NonTerminal(state=InventoryState(on_hand=0, on_order=0)): 0.0, NonTerminal(state=InventoryState(on_hand=0, on_order=1)): 0.0, NonTerminal(state=InventoryState(on_hand=0, on_order=2)): 0.0, NonTerminal(state=InventoryState(on_hand=1, on_order=0)): 0.0, NonTerminal(state=InventoryState(on_hand=1, on_order=1)): 0.0, NonTerminal(state=InventoryState(on_hand=2, on_order=0)): 0.0}, counts_map={}, count_to_weight_func=<function Tabular.<lambda>.<locals>.<lambda> at 0x7fde240c3b00>)\n"
          ]
        }
      ]
    },
    {
      "cell_type": "code",
      "source": [
        "# \n",
        "# Tabular(\n",
        "#     values_map={\n",
        "#         NonTerminal(state=InventoryState(on_hand=0, on_order=0)): 0.0, \n",
        "#         NonTerminal(state=InventoryState(on_hand=0, on_order=1)): 0.0, \n",
        "#         NonTerminal(state=InventoryState(on_hand=0, on_order=2)): 0.0, \n",
        "#         NonTerminal(state=InventoryState(on_hand=1, on_order=0)): 0.0, \n",
        "#         NonTerminal(state=InventoryState(on_hand=1, on_order=1)): 0.0, \n",
        "#         NonTerminal(state=InventoryState(on_hand=2, on_order=0)): 0.0}, \n",
        "#     counts_map={}, \n",
        "#     count_to_weight_func=<function Tabular.<lambda>.<locals>.<lambda> at 0x7f65c8d738c0>\n",
        "# )"
      ],
      "metadata": {
        "id": "u4ZYCFGOE6qL"
      },
      "execution_count": 84,
      "outputs": []
    },
    {
      "cell_type": "code",
      "source": [
        "vfa_gen = mc_prediction(\n",
        "    traces=episodes,\n",
        "    approx_0=Tabular(values_map=initial_vf_dict),\n",
        "    γ=gamma,\n",
        "    episode_length_tolerance=episode_length_tolerance\n",
        ")\n",
        "vfa_gen"
      ],
      "metadata": {
        "colab": {
          "base_uri": "https://localhost:8080/"
        },
        "id": "J0Tx7_29FXfo",
        "outputId": "90541525-1f23-4a1b-d54f-d7ece7b266ba"
      },
      "execution_count": 85,
      "outputs": [
        {
          "output_type": "execute_result",
          "data": {
            "text/plain": [
              "<generator object mc_prediction at 0x7fde240c5b50>"
            ]
          },
          "metadata": {},
          "execution_count": 85
        }
      ]
    },
    {
      "cell_type": "code",
      "source": [
        "next(vfa_gen)\n",
        "next(vfa_gen)\n",
        "next(vfa_gen)\n",
        "next(vfa_gen)\n",
        "a_vfa = next(vfa_gen); a_vfa"
      ],
      "metadata": {
        "colab": {
          "base_uri": "https://localhost:8080/"
        },
        "id": "0iH8RKRrGtJy",
        "outputId": "1a10d7dc-709d-481f-9432-373be006a82e"
      },
      "execution_count": 86,
      "outputs": [
        {
          "output_type": "stream",
          "name": "stdout",
          "text": [
            "\repisode 0\repisode 1\repisode 2\repisode 3"
          ]
        },
        {
          "output_type": "execute_result",
          "data": {
            "text/plain": [
              "Tabular(values_map={NonTerminal(state=InventoryState(on_hand=0, on_order=0)): -33.93609296741643, NonTerminal(state=InventoryState(on_hand=0, on_order=1)): -28.2923333935379, NonTerminal(state=InventoryState(on_hand=0, on_order=2)): -26.654802007458628, NonTerminal(state=InventoryState(on_hand=1, on_order=0)): -28.400756560600964, NonTerminal(state=InventoryState(on_hand=1, on_order=1)): -29.143275761034605, NonTerminal(state=InventoryState(on_hand=2, on_order=0)): -29.5809835739014}, counts_map={NonTerminal(state=InventoryState(on_hand=0, on_order=2)): 67, NonTerminal(state=InventoryState(on_hand=0, on_order=0)): 66, NonTerminal(state=InventoryState(on_hand=2, on_order=0)): 97, NonTerminal(state=InventoryState(on_hand=1, on_order=0)): 87, NonTerminal(state=InventoryState(on_hand=0, on_order=1)): 120, NonTerminal(state=InventoryState(on_hand=1, on_order=1)): 87}, count_to_weight_func=<function Tabular.<lambda>.<locals>.<lambda> at 0x7fde240c35f0>)"
            ]
          },
          "metadata": {},
          "execution_count": 86
        }
      ]
    },
    {
      "cell_type": "code",
      "source": [
        "pprint(a_vfa)"
      ],
      "metadata": {
        "colab": {
          "base_uri": "https://localhost:8080/"
        },
        "id": "h4GsjEwYHQNA",
        "outputId": "df1aadd2-2614-49f4-dd72-9822b1455be7"
      },
      "execution_count": 87,
      "outputs": [
        {
          "output_type": "stream",
          "name": "stdout",
          "text": [
            "Tabular(values_map={NonTerminal(state=InventoryState(on_hand=0, on_order=0)): -33.93609296741643, NonTerminal(state=InventoryState(on_hand=0, on_order=1)): -28.2923333935379, NonTerminal(state=InventoryState(on_hand=0, on_order=2)): -26.654802007458628, NonTerminal(state=InventoryState(on_hand=1, on_order=0)): -28.400756560600964, NonTerminal(state=InventoryState(on_hand=1, on_order=1)): -29.143275761034605, NonTerminal(state=InventoryState(on_hand=2, on_order=0)): -29.5809835739014}, counts_map={NonTerminal(state=InventoryState(on_hand=0, on_order=2)): 67, NonTerminal(state=InventoryState(on_hand=0, on_order=0)): 66, NonTerminal(state=InventoryState(on_hand=2, on_order=0)): 97, NonTerminal(state=InventoryState(on_hand=1, on_order=0)): 87, NonTerminal(state=InventoryState(on_hand=0, on_order=1)): 120, NonTerminal(state=InventoryState(on_hand=1, on_order=1)): 87}, count_to_weight_func=<function Tabular.<lambda>.<locals>.<lambda> at 0x7fde240c35f0>)\n"
          ]
        }
      ]
    },
    {
      "cell_type": "code",
      "source": [
        "# \n",
        "# Tabular(\n",
        "#     values_map={\n",
        "#         NonTerminal(state=InventoryState(on_hand=0, on_order=0)): -34.424545927793496, \n",
        "#         NonTerminal(state=InventoryState(on_hand=0, on_order=1)): -26.88378412441469, \n",
        "#         NonTerminal(state=InventoryState(on_hand=0, on_order=2)): -27.126144224638786, \n",
        "#         NonTerminal(state=InventoryState(on_hand=1, on_order=0)): -28.348748283036677, \n",
        "#         NonTerminal(state=InventoryState(on_hand=1, on_order=1)): -28.678457445602575, \n",
        "#         NonTerminal(state=InventoryState(on_hand=2, on_order=0)): -29.25572665163403}, \n",
        "#         counts_map={\n",
        "#             NonTerminal(state=InventoryState(on_hand=0, on_order=1)): 368, \n",
        "#             NonTerminal(state=InventoryState(on_hand=1, on_order=1)): 222, \n",
        "#             NonTerminal(state=InventoryState(on_hand=0, on_order=0)): 141, \n",
        "#             NonTerminal(state=InventoryState(on_hand=0, on_order=2)): 143, \n",
        "#             NonTerminal(state=InventoryState(on_hand=2, on_order=0)): 216, \n",
        "#             NonTerminal(state=InventoryState(on_hand=1, on_order=0)): 220}, \n",
        "#         count_to_weight_func=<function Tabular.<lambda>.<locals>.<lambda> at 0x7f65c8db0680>)"
      ],
      "metadata": {
        "id": "lAs2-akhFXcf"
      },
      "execution_count": null,
      "outputs": []
    },
    {
      "cell_type": "code",
      "source": [
        "# \n",
        "# ---study mc_prediction()"
      ],
      "metadata": {
        "id": "cmfpy7QIFmVJ"
      },
      "execution_count": 88,
      "outputs": []
    },
    {
      "cell_type": "code",
      "source": [
        "# hide\n",
        "# +++study mc_finite_equal_wts_correctness()"
      ],
      "metadata": {
        "id": "FpjmPPkxtUBN"
      },
      "execution_count": 89,
      "outputs": []
    },
    {
      "cell_type": "code",
      "source": [
        "# hide\n",
        "# mc_vfs: Iterator[ValueFunctionApprox[S]] = \\\n",
        "#     mc_finite_prediction_equal_wts(\n",
        "#         fmrp=si_mrp,\n",
        "#         gamma=gamma,\n",
        "#         episode_length_tolerance=episode_length_tolerance,\n",
        "#         initial_vf_dict=initial_vf_dict\n",
        "#     )"
      ],
      "metadata": {
        "id": "DInHUBGNtT9i"
      },
      "execution_count": 90,
      "outputs": []
    },
    {
      "cell_type": "code",
      "source": [
        "# hide\n",
        "# next(mc_vfs)"
      ],
      "metadata": {
        "id": "vbz8-rIf47Np"
      },
      "execution_count": 91,
      "outputs": []
    },
    {
      "cell_type": "code",
      "source": [
        "# hide\n",
        "# num_episodes = 1000\n",
        "# final_mc_vf: ValueFunctionApprox[S] = iterate.last(it.islice(mc_vfs, num_episodes))"
      ],
      "metadata": {
        "id": "w8xbYstXtT5l"
      },
      "execution_count": 92,
      "outputs": []
    },
    {
      "cell_type": "code",
      "source": [
        "# hide\n",
        "# print(f\"Equal-Weights-MC Value Function with {num_episodes:d} episodes\")\n",
        "# pprint({s: round(final_mc_vf(s), 3) for s in si_mrp.non_terminal_states})"
      ],
      "metadata": {
        "id": "gawEqTjW6prj"
      },
      "execution_count": 93,
      "outputs": []
    },
    {
      "cell_type": "code",
      "source": [
        "# hide\n",
        "# print(\"True Value Function\")\n",
        "# si_mrp.display_value_function(gamma=gamma)"
      ],
      "metadata": {
        "id": "RIkKv6lo61j_"
      },
      "execution_count": 94,
      "outputs": []
    },
    {
      "cell_type": "code",
      "source": [
        "# hide\n",
        "# ---study mc_finite_equal_wts_correctness()"
      ],
      "metadata": {
        "id": "saLl0Q46tTtH"
      },
      "execution_count": 95,
      "outputs": []
    },
    {
      "cell_type": "code",
      "source": [
        "# hide\n",
        "# +++study mc_finite_learning_rate_correctness()"
      ],
      "metadata": {
        "id": "MnkDTYcg7acr"
      },
      "execution_count": 96,
      "outputs": []
    },
    {
      "cell_type": "code",
      "source": [
        "# hide\n",
        "# mc_episode_length_tol: float = 1e-6\n",
        "# num_episodes = 1_000\n",
        "# initial_learning_rate: float = 0.03\n",
        "# half_life: float = 1000.0\n",
        "# exponent: float = 0.5\n",
        "\n",
        "# mc_finite_learning_rate_correctness(\n",
        "#     fmrp=si_mrp,\n",
        "#     gamma=gamma,\n",
        "#     episode_length_tolerance=mc_episode_length_tol,\n",
        "#     num_episodes=num_episodes,\n",
        "#     initial_learning_rate=initial_learning_rate,\n",
        "#     half_life=half_life,\n",
        "#     exponent=exponent,\n",
        "#     initial_vf_dict=initial_vf_dict\n",
        "# )"
      ],
      "metadata": {
        "id": "nXJitRoy7aR4"
      },
      "execution_count": 97,
      "outputs": []
    },
    {
      "cell_type": "code",
      "source": [
        "# hide\n",
        "# ---study mc_finite_learning_rate_correctness()"
      ],
      "metadata": {
        "id": "KxxKmZ-ZFMT3"
      },
      "execution_count": 98,
      "outputs": []
    },
    {
      "cell_type": "code",
      "source": [
        "# hide\n",
        "# +++study td_lambda_finite_learning_rate_correctness()"
      ],
      "metadata": {
        "id": "CuLF1t_v5QYi"
      },
      "execution_count": 99,
      "outputs": []
    },
    {
      "cell_type": "code",
      "source": [
        "# hide\n",
        "# %%time\n",
        "# td_lambda_finite_learning_rate_correctness(\n",
        "#     fmrp=si_mrp,\n",
        "#     gamma=gamma,\n",
        "#     lambd=lambda_param,\n",
        "#     episode_length=td_episode_length,\n",
        "#     num_episodes=num_episodes,\n",
        "#     initial_learning_rate=initial_learning_rate,\n",
        "#     half_life=half_life,\n",
        "#     exponent=exponent,\n",
        "#     initial_vf_dict=initial_vf_dict\n",
        "# )"
      ],
      "metadata": {
        "id": "0l-wPc0f5QT-"
      },
      "execution_count": 100,
      "outputs": []
    },
    {
      "cell_type": "code",
      "source": [
        "# ---study td_lambda_finite_learning_rate_correctness()"
      ],
      "metadata": {
        "id": "m9c16fuN5QLO"
      },
      "execution_count": 101,
      "outputs": []
    },
    {
      "cell_type": "markdown",
      "source": [
        "### 3.4 Visualize"
      ],
      "metadata": {
        "id": "M5Ez2KsaDhMa"
      }
    },
    {
      "cell_type": "markdown",
      "source": [
        "Let us now focus on the essential part of this project. We create an instance of the MRP."
      ],
      "metadata": {
        "id": "_p4setOtMMWy"
      }
    },
    {
      "cell_type": "code",
      "source": [
        "item_capacity: int = 2\n",
        "item_poisson_lambda: float = 1.0\n",
        "item_holding_cost: float = 1.0\n",
        "item_stockout_cost: float = 10.0\n",
        "item_gamma: float = 0.9"
      ],
      "metadata": {
        "id": "HOnutKGVKB7c"
      },
      "execution_count": null,
      "outputs": []
    },
    {
      "cell_type": "code",
      "source": [
        "si_mrp: SimpleInventoryMRPFinite = SimpleInventoryMRPFinite(\n",
        "    capacity=item_capacity,\n",
        "    poisson_lambda=item_poisson_lambda,\n",
        "    holding_cost=item_holding_cost,\n",
        "    stockout_cost=item_stockout_cost\n",
        ")"
      ],
      "metadata": {
        "id": "Yc9XHlOzM8j2"
      },
      "execution_count": null,
      "outputs": []
    },
    {
      "cell_type": "markdown",
      "source": [
        " This is the exact value function:"
      ],
      "metadata": {
        "id": "8elRBxDaOKCM"
      }
    },
    {
      "cell_type": "code",
      "source": [
        "si_mrp.display_value_function(gamma=item_gamma)"
      ],
      "metadata": {
        "colab": {
          "base_uri": "https://localhost:8080/"
        },
        "id": "ARMJ1vIQNBRd",
        "outputId": "e1ec7112-1edd-4ed1-c523-5dfae9451cff"
      },
      "execution_count": null,
      "outputs": [
        {
          "output_type": "stream",
          "name": "stdout",
          "text": [
            "{NonTerminal(state=InventoryState(on_hand=0, on_order=0)): -35.511,\n",
            " NonTerminal(state=InventoryState(on_hand=0, on_order=1)): -27.932,\n",
            " NonTerminal(state=InventoryState(on_hand=0, on_order=2)): -28.345,\n",
            " NonTerminal(state=InventoryState(on_hand=1, on_order=0)): -28.932,\n",
            " NonTerminal(state=InventoryState(on_hand=1, on_order=1)): -29.345,\n",
            " NonTerminal(state=InventoryState(on_hand=2, on_order=0)): -30.345}\n"
          ]
        }
      ]
    },
    {
      "cell_type": "markdown",
      "source": [
        "Now we perform a Monte-Carlo Prediction. First, we generate a stream of trace experiences:"
      ],
      "metadata": {
        "id": "ioOPnsb9OaCc"
      }
    },
    {
      "cell_type": "code",
      "source": [
        "traces: Iterable[Iterable[TransitionStep[S]]] = \\\n",
        "  si_mrp.reward_traces(Choose(si_mrp.non_terminal_states))\n",
        "traces"
      ],
      "metadata": {
        "colab": {
          "base_uri": "https://localhost:8080/"
        },
        "id": "giUU8WmQOj6l",
        "outputId": "1e89daa1-3e3a-45c8-9379-fad55b8c0e02"
      },
      "execution_count": null,
      "outputs": [
        {
          "output_type": "execute_result",
          "data": {
            "text/plain": [
              "<generator object MarkovRewardProcess.reward_traces at 0x7fe478d55c50>"
            ]
          },
          "metadata": {},
          "execution_count": 274
        }
      ]
    },
    {
      "cell_type": "markdown",
      "source": [
        "Here are the value function approximations:"
      ],
      "metadata": {
        "id": "XlwWGy6RQyYh"
      }
    },
    {
      "cell_type": "code",
      "source": [
        "# \n",
        "# initial_vf_dict: Mapping[NonTerminal[InventoryState], float] = \\\n",
        "#     {s: 0. for s in si_mrp.non_terminal_states}\n",
        "# initial_vf_dict"
      ],
      "metadata": {
        "id": "4DnkxI9eRXY1"
      },
      "execution_count": null,
      "outputs": []
    },
    {
      "cell_type": "code",
      "source": [
        "vfas: Iterator[ValueFunctionApprox[InventoryState]] = \\\n",
        "  mc_prediction(\n",
        "      traces=traces,\n",
        "      # approx_0=Tabular(values_map=initial_vf_dict),\n",
        "      approx_0=Tabular(),\n",
        "      γ=item_gamma,\n",
        "      episode_length_tolerance=1e-6\n",
        "  )\n",
        "vfas"
      ],
      "metadata": {
        "colab": {
          "base_uri": "https://localhost:8080/"
        },
        "id": "hbCfLwClOj21",
        "outputId": "ae550b6d-de35-4491-fa9d-76eea0a90998"
      },
      "execution_count": null,
      "outputs": [
        {
          "output_type": "execute_result",
          "data": {
            "text/plain": [
              "<generator object mc_prediction at 0x7fe478646ed0>"
            ]
          },
          "metadata": {},
          "execution_count": 276
        }
      ]
    },
    {
      "cell_type": "code",
      "source": [
        "n_traces = 60_000"
      ],
      "metadata": {
        "id": "VxVem27EOjxk"
      },
      "execution_count": null,
      "outputs": []
    },
    {
      "cell_type": "code",
      "source": [
        "%%time\n",
        "import itertools as it\n",
        "vfa_lst = [vfa for vfa in it.islice(vfas, n_traces)]"
      ],
      "metadata": {
        "colab": {
          "base_uri": "https://localhost:8080/"
        },
        "id": "yx_xrU5Wyyc2",
        "outputId": "5ff6e508-12d2-4ec7-a3fd-ed5d25334e98"
      },
      "execution_count": null,
      "outputs": [
        {
          "output_type": "stream",
          "name": "stdout",
          "text": [
            "episode 59998CPU times: user 10min, sys: 12.3 s, total: 10min 12s\n",
            "Wall time: 10min 18s\n"
          ]
        }
      ]
    },
    {
      "cell_type": "code",
      "source": [
        "%%time\n",
        "# last_func: ValueFunctionApprox[InventoryState] = iterate.last(it.islice(vfas, n_traces))\n",
        "last_func: ValueFunctionApprox[InventoryState] = iterate.last(vfa_lst)"
      ],
      "metadata": {
        "colab": {
          "base_uri": "https://localhost:8080/"
        },
        "id": "dyzrNj6EShIk",
        "outputId": "f36045bf-0e38-4c23-a3d9-a1c6f724c359"
      },
      "execution_count": null,
      "outputs": [
        {
          "output_type": "stream",
          "name": "stdout",
          "text": [
            "CPU times: user 509 µs, sys: 0 ns, total: 509 µs\n",
            "Wall time: 518 µs\n"
          ]
        }
      ]
    },
    {
      "cell_type": "code",
      "source": [
        "last_func"
      ],
      "metadata": {
        "colab": {
          "base_uri": "https://localhost:8080/"
        },
        "id": "cLOgGvkbVFWw",
        "outputId": "59fbddfb-5314-41d8-d224-75af58dc721a"
      },
      "execution_count": null,
      "outputs": [
        {
          "output_type": "execute_result",
          "data": {
            "text/plain": [
              "Tabular(values_map={NonTerminal(state=InventoryState(on_hand=1, on_order=1)): -29.33718825911932, NonTerminal(state=InventoryState(on_hand=2, on_order=0)): -30.3204417831081, NonTerminal(state=InventoryState(on_hand=1, on_order=0)): -28.92510625546161, NonTerminal(state=InventoryState(on_hand=0, on_order=1)): -27.919237394996568, NonTerminal(state=InventoryState(on_hand=0, on_order=0)): -35.51051162503372, NonTerminal(state=InventoryState(on_hand=0, on_order=2)): -28.34249492226053}, counts_map={NonTerminal(state=InventoryState(on_hand=1, on_order=1)): 212530, NonTerminal(state=InventoryState(on_hand=2, on_order=0)): 212155, NonTerminal(state=InventoryState(on_hand=1, on_order=0)): 213439, NonTerminal(state=InventoryState(on_hand=0, on_order=1)): 364768, NonTerminal(state=InventoryState(on_hand=0, on_order=0)): 153249, NonTerminal(state=InventoryState(on_hand=0, on_order=2)): 153728}, count_to_weight_func=<function Tabular.<lambda>.<locals>.<lambda> at 0x7fe478c00320>)"
            ]
          },
          "metadata": {},
          "execution_count": 241
        }
      ]
    },
    {
      "cell_type": "markdown",
      "source": [
        "After Monte-Carlo:"
      ],
      "metadata": {
        "id": "nOMQpX4lqAJB"
      }
    },
    {
      "cell_type": "code",
      "source": [
        "pprint(\n",
        "    {\n",
        "      s: round(last_func.evaluate([s])[0], 3)\n",
        "      for s in si_mrp.non_terminal_states\n",
        "    }\n",
        ")"
      ],
      "metadata": {
        "colab": {
          "base_uri": "https://localhost:8080/"
        },
        "id": "sXs0v9mfooMT",
        "outputId": "f951d39f-1eae-4628-fc76-e746c1982327"
      },
      "execution_count": null,
      "outputs": [
        {
          "output_type": "stream",
          "name": "stdout",
          "text": [
            "{NonTerminal(state=InventoryState(on_hand=0, on_order=2)): -28.342,\n",
            " NonTerminal(state=InventoryState(on_hand=2, on_order=0)): -30.32,\n",
            " NonTerminal(state=InventoryState(on_hand=0, on_order=0)): -35.511,\n",
            " NonTerminal(state=InventoryState(on_hand=1, on_order=0)): -28.925,\n",
            " NonTerminal(state=InventoryState(on_hand=1, on_order=1)): -29.337,\n",
            " NonTerminal(state=InventoryState(on_hand=0, on_order=1)): -27.919}\n"
          ]
        }
      ]
    },
    {
      "cell_type": "markdown",
      "source": [
        "Exact Value Function:"
      ],
      "metadata": {
        "id": "zaCUma4xqDmi"
      }
    },
    {
      "cell_type": "code",
      "source": [
        "si_mrp.display_value_function(gamma=item_gamma)"
      ],
      "metadata": {
        "colab": {
          "base_uri": "https://localhost:8080/"
        },
        "id": "kQIbOa0rooJL",
        "outputId": "1964822a-b682-4955-ce73-4c26b8a1722d"
      },
      "execution_count": null,
      "outputs": [
        {
          "output_type": "stream",
          "name": "stdout",
          "text": [
            "{NonTerminal(state=InventoryState(on_hand=0, on_order=2)): -28.345,\n",
            " NonTerminal(state=InventoryState(on_hand=2, on_order=0)): -30.345,\n",
            " NonTerminal(state=InventoryState(on_hand=0, on_order=0)): -35.511,\n",
            " NonTerminal(state=InventoryState(on_hand=1, on_order=0)): -28.932,\n",
            " NonTerminal(state=InventoryState(on_hand=1, on_order=1)): -29.345,\n",
            " NonTerminal(state=InventoryState(on_hand=0, on_order=1)): -27.932}\n"
          ]
        }
      ]
    },
    {
      "cell_type": "markdown",
      "source": [
        "The comparison shows that, with 60,000 trace experiences, the Tabular Monte-Carlo Prediction is within 0.01 of the exact Value Function for the states."
      ],
      "metadata": {
        "id": "ZKqv1peGxWdk"
      }
    },
    {
      "cell_type": "markdown",
      "source": [
        "Let us visualize the convergence of the State Value Function for each of the states:"
      ],
      "metadata": {
        "id": "smHS_jAcx-ll"
      }
    },
    {
      "cell_type": "code",
      "source": [
        "# hide\n",
        "# %%time\n",
        "# vfa_lst = [vfa for vfa in it.islice(vfas, n_traces)]"
      ],
      "metadata": {
        "id": "6_TTN8EFaSIM"
      },
      "execution_count": null,
      "outputs": []
    },
    {
      "cell_type": "code",
      "source": [
        "vfa_lst[1]"
      ],
      "metadata": {
        "colab": {
          "base_uri": "https://localhost:8080/"
        },
        "id": "y2dmHhfcY69I",
        "outputId": "2893d9aa-82bd-48af-9d09-dfe6ae01ce1b"
      },
      "execution_count": null,
      "outputs": [
        {
          "output_type": "execute_result",
          "data": {
            "text/plain": [
              "Tabular(values_map={NonTerminal(state=InventoryState(on_hand=1, on_order=1)): -27.47703855547519, NonTerminal(state=InventoryState(on_hand=2, on_order=0)): -28.266796323503186, NonTerminal(state=InventoryState(on_hand=1, on_order=0)): -27.692010838072004, NonTerminal(state=InventoryState(on_hand=0, on_order=1)): -27.81699461451744, NonTerminal(state=InventoryState(on_hand=0, on_order=0)): -33.31945960871553, NonTerminal(state=InventoryState(on_hand=0, on_order=2)): -25.606237182246815}, counts_map={NonTerminal(state=InventoryState(on_hand=1, on_order=1)): 22, NonTerminal(state=InventoryState(on_hand=2, on_order=0)): 25, NonTerminal(state=InventoryState(on_hand=1, on_order=0)): 21, NonTerminal(state=InventoryState(on_hand=0, on_order=1)): 44, NonTerminal(state=InventoryState(on_hand=0, on_order=0)): 10, NonTerminal(state=InventoryState(on_hand=0, on_order=2)): 9}, count_to_weight_func=<function Tabular.<lambda>.<locals>.<lambda> at 0x7fe478c00320>)"
            ]
          },
          "metadata": {},
          "execution_count": 254
        }
      ]
    },
    {
      "cell_type": "code",
      "source": [
        "vfa_lst[1].values_map"
      ],
      "metadata": {
        "colab": {
          "base_uri": "https://localhost:8080/"
        },
        "id": "BZGVL3uSY62F",
        "outputId": "8c7dd41b-34a7-49b8-98b0-5685a28b00bd"
      },
      "execution_count": null,
      "outputs": [
        {
          "output_type": "execute_result",
          "data": {
            "text/plain": [
              "{NonTerminal(state=InventoryState(on_hand=1, on_order=1)): -27.47703855547519,\n",
              " NonTerminal(state=InventoryState(on_hand=2, on_order=0)): -28.266796323503186,\n",
              " NonTerminal(state=InventoryState(on_hand=1, on_order=0)): -27.692010838072004,\n",
              " NonTerminal(state=InventoryState(on_hand=0, on_order=1)): -27.81699461451744,\n",
              " NonTerminal(state=InventoryState(on_hand=0, on_order=0)): -33.31945960871553,\n",
              " NonTerminal(state=InventoryState(on_hand=0, on_order=2)): -25.606237182246815}"
            ]
          },
          "metadata": {},
          "execution_count": 255
        }
      ]
    },
    {
      "cell_type": "code",
      "source": [
        "vfa_lst[1].counts_map"
      ],
      "metadata": {
        "colab": {
          "base_uri": "https://localhost:8080/"
        },
        "id": "Y_En8Q2ebt9D",
        "outputId": "f2cf47fe-56d5-4603-ea7c-20960f1dcf36"
      },
      "execution_count": null,
      "outputs": [
        {
          "output_type": "execute_result",
          "data": {
            "text/plain": [
              "{NonTerminal(state=InventoryState(on_hand=1, on_order=1)): 22,\n",
              " NonTerminal(state=InventoryState(on_hand=2, on_order=0)): 25,\n",
              " NonTerminal(state=InventoryState(on_hand=1, on_order=0)): 21,\n",
              " NonTerminal(state=InventoryState(on_hand=0, on_order=1)): 44,\n",
              " NonTerminal(state=InventoryState(on_hand=0, on_order=0)): 10,\n",
              " NonTerminal(state=InventoryState(on_hand=0, on_order=2)): 9}"
            ]
          },
          "metadata": {},
          "execution_count": 256
        }
      ]
    },
    {
      "cell_type": "markdown",
      "source": [
        "Let us visualize how the value function for each state converges during the operation of the Monte-Carlo algorithm."
      ],
      "metadata": {
        "id": "jLlDE3Pl4D-X"
      }
    },
    {
      "cell_type": "code",
      "source": [
        "values_dicts = [(vfa.values_map) for vfa in vfa_lst]\n",
        "# values_dicts"
      ],
      "metadata": {
        "id": "xj5nwnzykaF-"
      },
      "execution_count": null,
      "outputs": []
    },
    {
      "cell_type": "code",
      "source": [
        "# https://stackoverflow.com/questions/5946236/how-to-merge-dicts-collecting-values-from-matching-keys\n",
        "from collections import defaultdict\n",
        "ds = values_dicts\n",
        "merged_dict = defaultdict(list)\n",
        "for d in ds: #input dicts\n",
        "    for key, value in d.items():\n",
        "        merged_dict[key].append(value)\n",
        "# merged_dict"
      ],
      "metadata": {
        "id": "rhH7jSHfkI4a"
      },
      "execution_count": null,
      "outputs": []
    },
    {
      "cell_type": "code",
      "source": [
        "len(merged_dict)"
      ],
      "metadata": {
        "colab": {
          "base_uri": "https://localhost:8080/"
        },
        "id": "2-u7PCSnkIxz",
        "outputId": "feecd130-b117-4bf5-b34c-2b506be95621"
      },
      "execution_count": null,
      "outputs": [
        {
          "output_type": "execute_result",
          "data": {
            "text/plain": [
              "6"
            ]
          },
          "metadata": {},
          "execution_count": 264
        }
      ]
    },
    {
      "cell_type": "code",
      "source": [
        "import matplotlib.pyplot as plt\n",
        "fig,axs = plt.subplots(figsize=(13,10))\n",
        "axs.set_xlabel('Iterations', fontsize=20)\n",
        "axs.set_title(f'Convergence of value functions during Monte-Carlo', fontsize=24)\n",
        "for it in merged_dict.items():\n",
        "  axs.plot(it[1], label=f'{it[0].state}')\n",
        "axs.legend(fontsize=20);"
      ],
      "metadata": {
        "colab": {
          "base_uri": "https://localhost:8080/",
          "height": 639
        },
        "id": "vc8g4rEpkIuN",
        "outputId": "682b12c3-a72f-422a-fc0f-9b63f077eef9"
      },
      "execution_count": null,
      "outputs": [
        {
          "output_type": "display_data",
          "data": {
            "text/plain": [
              "<Figure size 936x720 with 1 Axes>"
            ],
            "image/png": "[encoded data removed]"
          },
          "metadata": {
            "needs_background": "light"
          }
        }
      ]
    },
    {
      "cell_type": "markdown",
      "source": [
        "Next we visualize the number of visits for each state during the operation of the Monte-Carlo algorithm."
      ],
      "metadata": {
        "id": "TzkDGJaA3lZu"
      }
    },
    {
      "cell_type": "code",
      "source": [
        "counts_dicts = [(vfa.counts_map) for vfa in vfa_lst]\n",
        "# counts_dicts"
      ],
      "metadata": {
        "id": "KWA1WqtF3CAd"
      },
      "execution_count": null,
      "outputs": []
    },
    {
      "cell_type": "code",
      "source": [
        "# https://stackoverflow.com/questions/5946236/how-to-merge-dicts-collecting-values-from-matching-keys\n",
        "from collections import defaultdict\n",
        "ds = counts_dicts\n",
        "merged_dict = defaultdict(list)\n",
        "for d in ds: #input dicts\n",
        "    for key, value in d.items():\n",
        "        merged_dict[key].append(value)\n",
        "# merged_dict"
      ],
      "metadata": {
        "id": "iZU7-dj13CAe"
      },
      "execution_count": null,
      "outputs": []
    },
    {
      "cell_type": "code",
      "source": [
        "len(merged_dict)"
      ],
      "metadata": {
        "colab": {
          "base_uri": "https://localhost:8080/"
        },
        "outputId": "2f007fd8-31fe-4f52-b288-53ad5e3f0755",
        "id": "lA4Q-nC73CAe"
      },
      "execution_count": null,
      "outputs": [
        {
          "output_type": "execute_result",
          "data": {
            "text/plain": [
              "6"
            ]
          },
          "metadata": {},
          "execution_count": 268
        }
      ]
    },
    {
      "cell_type": "code",
      "source": [
        "import matplotlib.pyplot as plt\n",
        "fig,axs = plt.subplots(figsize=(13,10))\n",
        "axs.set_xlabel('Iterations', fontsize=20)\n",
        "axs.set_title(f'Visits to each state during Monte-Carlo', fontsize=24)\n",
        "for it in merged_dict.items():\n",
        "  axs.plot(it[1], label=f'{it[0].state}')\n",
        "axs.legend(fontsize=20);"
      ],
      "metadata": {
        "colab": {
          "base_uri": "https://localhost:8080/",
          "height": 639
        },
        "outputId": "bcaea299-896a-4e92-89ac-7b1c1332b9de",
        "id": "iD6B-8wO3CAe"
      },
      "execution_count": null,
      "outputs": [
        {
          "output_type": "display_data",
          "data": {
            "text/plain": [
              "<Figure size 936x720 with 1 Axes>"
            ],
            "image/png": "[encoded data removed]"
          },
          "metadata": {
            "needs_background": "light"
          }
        }
      ]
    },
    {
      "cell_type": "code",
      "source": [
        "# hide\n",
        "# INSTEAD OF MERGING DICTS\n",
        "# for i,vfa in enumerate(vfa_lst):\n",
        "#   for state in vfa.values_map:\n",
        "#     print(i, state.state, vfa.values_map[state])"
      ],
      "metadata": {
        "id": "L9PR-cNhkIYm"
      },
      "execution_count": null,
      "outputs": []
    },
    {
      "cell_type": "code",
      "source": [
        "# hide\n",
        "# my_lst = \\\n",
        "# [\n",
        "# [i, state.state, vfa.values_map[state]]\n",
        "# for i,vfa in enumerate(vfa_lst)\n",
        "# for state in vfa.values_map\n",
        "# ]\n",
        "# my_lst"
      ],
      "metadata": {
        "id": "o9qHq-kHfKCM"
      },
      "execution_count": null,
      "outputs": []
    },
    {
      "cell_type": "code",
      "source": [
        "# hide\n",
        "# vfa_i, states, values = zip(*my_lst)"
      ],
      "metadata": {
        "id": "ch-6GDv0iKXA"
      },
      "execution_count": null,
      "outputs": []
    },
    {
      "cell_type": "code",
      "source": [
        "# hide\n",
        "# vfa_i, states, values"
      ],
      "metadata": {
        "id": "0Q2azin5ihIs"
      },
      "execution_count": null,
      "outputs": []
    },
    {
      "cell_type": "code",
      "source": [],
      "metadata": {
        "id": "969fn5YkcUD9"
      },
      "execution_count": null,
      "outputs": []
    },
    {
      "cell_type": "code",
      "source": [
        "# hide\n",
        "# LEGEND:\n",
        "#   [Class]\n",
        "#   <module/file>\n",
        "\n",
        "# mc_finite_equal_wts_correctness() <prediction_utils>\n",
        "#   mc_finite_prediction_equal_wts() <prediction_utils>\n",
        "#     fmrp_episodes_stream() <prediction_utils>\n",
        "#       mrp_episodes_stream() <prediction_utils>\n",
        "#         reward_traces() <markov_process>[MarkovRewardProcess]\n",
        "#     mc_prediction() <monte_carlo>\n",
        "#       returns() <returns>\n",
        "#         islice() <itertools>\n",
        "#         accumulate() <iterate>\n",
        "#           accumulate() <itertools>\n",
        "#         islice() <itertools>\n",
        "#       iterate_updates() <function_approx>[FunctionApprox]\n",
        "#         accumulate() <itertools>\n",
        "#       last() <iterate>\n",
        "#   islice() <itertools>\n",
        "#   last() <itertools>"
      ],
      "metadata": {
        "id": "Hxsy-UqOKULk"
      },
      "execution_count": null,
      "outputs": []
    },
    {
      "cell_type": "code",
      "source": [
        "# hide\n",
        "# plot_batch: int = 50\n",
        "# plot_start: int = 0\n",
        "# learning_rates: Sequence[Tuple[float, float, float]] = \\\n",
        "#     [(0.01, 100000, 0.5), (0.03, 1000, 0.5)]"
      ],
      "metadata": {
        "id": "YDOPfmqCS7FO"
      },
      "execution_count": null,
      "outputs": []
    },
    {
      "cell_type": "code",
      "source": [
        "# hide\n",
        "# %%time\n",
        "# compare_td_and_mc(\n",
        "#     fmrp=si_mrp,\n",
        "#     gamma=gamma,\n",
        "#     mc_episode_length_tol=mc_episode_length_tol,\n",
        "#     num_episodes=num_episodes,\n",
        "#     learning_rates=learning_rates,\n",
        "#     initial_vf_dict=initial_vf_dict,\n",
        "#     plot_batch=plot_batch,\n",
        "#     plot_start=plot_start\n",
        "# )"
      ],
      "metadata": {
        "id": "svQjlKayS7Cl"
      },
      "execution_count": null,
      "outputs": []
    },
    {
      "cell_type": "code",
      "source": [],
      "metadata": {
        "id": "P20p8-CgS6tO"
      },
      "execution_count": null,
      "outputs": []
    }
  ]
}