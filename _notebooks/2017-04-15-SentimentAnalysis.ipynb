{
 "cells": [
  {
   "cell_type": "markdown",
   "metadata": {},
   "source": [
    "# Sentiment Analysis\n",
    "\n",
    "> Is the American Public Willing to Change Course with President Trump?\n",
    "- toc: true\n",
    "- branch: master\n",
    "- badges: false\n",
    "- comments: true\n",
    "- hide: false\n",
    "- search_exclude: true\n",
    "- metadata_key1: metadata_value1\n",
    "- metadata_key2: metadata_value2\n",
    "- image: images/sa_fig1.png\n",
    "- categories: [API,NLP,   Python,nltk, R]\n",
    "- show_tags: true"
   ]
  },
  {
   "cell_type": "markdown",
   "metadata": {},
   "source": [
    "# PURPOSE\n",
    "The purpose of this project is to demonstrate how social media data can be used to capture public sentiment."
   ]
  },
  {
   "cell_type": "markdown",
   "metadata": {},
   "source": [
    "# SUMMARY"
   ]
  },
  {
   "cell_type": "markdown",
   "metadata": {},
   "source": [
    "President Trump recently authorized a missile strike on Syria in response to an alleged chemical weapon attack by the president of Syria on members of his own population on April 4 2017. This led to the beginning of heated debates about the appropriateness and consequences of this drastic, largely unexpected, and seemingly impulsive act. The presidential election afforded Trump a popular vote of 46%. One might argue that the country’s approval of the missile strike might roughly align with this partition given the recentness of the election. This investigation is about whether this is a valid assumption. My prediction is that the missile strike approval partition will be *different* from the popular vote partition. This is an interesting question for the American public as this incident of military action represents a dramatic change in direction relative to the president’s campaign stance in this regard."
   ]
  },
  {
   "cell_type": "markdown",
   "metadata": {},
   "source": [
    "The *Twitter Streaming API* was used to collect 5,000 tweets on April 11 2017, 4 days after the missile strike. It was important to collect this information as soon as possible after the event. Only tweets that contain *all* of the words 'trump syria strike' were collected (the word order did not matter). So-called *retweets* were also collected, as these were taken to indicate that the person sending the retweet agrees with the originator of the tweet. *Sentiment analysis* techniques were used. Features were extracted from the tweets in the form of words that convey *positive* sentiment (interpreted as *approval* for the strike) or *negative* sentiment (interpreted as *disapproval*). A *classifier* was then trained (using a different *labeled* data set of 100,000 tweets) to associate patterns of words with the appropriate sentiment. After training, the classifier was used to estimate the sentiment of each of the 5,000 collected tweets on the Syria missile strike. The accuracy of the classifier was found to be 75% (which means it got 75% of classifications correct on the test data)."
   ]
  },
  {
   "cell_type": "markdown",
   "metadata": {},
   "source": [
    "The analysis found that, out of the 4,999 usable tweets that were collected, 2,918 were estimated to have *positive* sentiment. These were interpreted as conveying *approval* for the Syria missile strike. This number represents a 58% approval rating. Compare this with the 46% popularity rating during the presidential election (see the blue columns in Figure 1). Using a statistical proportion test, the assumption that the strike approval rating would align with the popular vote partition, was *rejected*. Strong evidence was found, therefore, that there is a clear willingness on the part of the American public to support a dramatic change of course undertaken by the president relative to his campaign stance on matters of this sort."
   ]
  },
  {
   "cell_type": "markdown",
   "metadata": {},
   "source": [
    "![](../images/sa_fig1.png \"Figure 1 President Trump's Syria Strike Approval\")"
   ]
  },
  {
   "cell_type": "markdown",
   "metadata": {},
   "source": [
    "# CODE"
   ]
  },
  {
   "cell_type": "markdown",
   "metadata": {},
   "source": [
    "# Part 1. Capture training data and train a sentiment classifier"
   ]
  },
  {
   "cell_type": "markdown",
   "metadata": {},
   "source": [
    "## IMPORTANT NOTE:\n",
    "\n",
    "Please note that the code of a few cells have been commented out. This was done to prevent accidental triggering of longer-running pieces of code (e.g. it takes about 10 minutes to train the classifier). If desired, it is easy to remove the comments to verify this code."
   ]
  },
  {
   "cell_type": "markdown",
   "metadata": {
    "collapsed": true
   },
   "source": [
    "A Naive Bayes classifier will be trained on a labeled data set. This data set will also come from a body of tweets to ensure similarity to the style of text associated with tweets (i.e. to-the-point-ness, conciseness, use of exclamation marks, emoticons, etc.). An example of such a labeled data set is http://thinknook.com/twitter-sentiment-analysis-training-corpus-dataset-2012-09-22/. I have selected the first 100,000 rows of this data set for training."
   ]
  },
  {
   "cell_type": "code",
   "execution_count": 15,
   "metadata": {
    "collapsed": true
   },
   "outputs": [],
   "source": [
    "import nltk\n",
    "import pickle\n",
    "import pandas as pd"
   ]
  },
  {
   "cell_type": "markdown",
   "metadata": {},
   "source": [
    "## 1.1 Read in and prepare training data "
   ]
  },
  {
   "cell_type": "code",
   "execution_count": 46,
   "metadata": {},
   "outputs": [],
   "source": [
    "# Fix a few spurious use of quotation marks\n",
    "filetext = ''\n",
    "with open(\"SentimentAnalysisDataset.csv\", encoding='utf-8') as text_file:\n",
    "    filetext = text_file.read()\n",
    "    filetext = filetext.replace('\"\" Brokeback Mountain \"\"', 'Brokeback Mountain')\n",
    "    filetext = filetext.replace('\" Brokeback Mountain \"', 'Brokeback Mountain')\n",
    "    filetext = filetext.replace('\" brokeback mountain was terrible.', 'brokeback mountain was terrible.')\n",
    "with open(\"SentimentAnalysisDataset_fixed.csv\", \"w\", encoding='utf-8') as out:\n",
    "    out.write(filetext)\n",
    "del filetext"
   ]
  },
  {
   "cell_type": "code",
   "execution_count": 47,
   "metadata": {},
   "outputs": [
    {
     "data": {
      "text/html": [
       "<div>\n",
       "<table border=\"1\" class=\"dataframe\">\n",
       "  <thead>\n",
       "    <tr style=\"text-align: right;\">\n",
       "      <th></th>\n",
       "      <th>ItemID</th>\n",
       "      <th>Sentiment</th>\n",
       "      <th>SentimentText</th>\n",
       "    </tr>\n",
       "  </thead>\n",
       "  <tbody>\n",
       "    <tr>\n",
       "      <th>0</th>\n",
       "      <td>1</td>\n",
       "      <td>0</td>\n",
       "      <td>is so sad for my APL frie...</td>\n",
       "    </tr>\n",
       "    <tr>\n",
       "      <th>1</th>\n",
       "      <td>2</td>\n",
       "      <td>0</td>\n",
       "      <td>I missed the New Moon trail...</td>\n",
       "    </tr>\n",
       "    <tr>\n",
       "      <th>2</th>\n",
       "      <td>3</td>\n",
       "      <td>1</td>\n",
       "      <td>omg its already 7:30 :O</td>\n",
       "    </tr>\n",
       "    <tr>\n",
       "      <th>3</th>\n",
       "      <td>4</td>\n",
       "      <td>0</td>\n",
       "      <td>.. Omgaga. Im sooo  im gunna CRy. I'...</td>\n",
       "    </tr>\n",
       "    <tr>\n",
       "      <th>4</th>\n",
       "      <td>5</td>\n",
       "      <td>0</td>\n",
       "      <td>i think mi bf is cheating on me!!!   ...</td>\n",
       "    </tr>\n",
       "  </tbody>\n",
       "</table>\n",
       "</div>"
      ],
      "text/plain": [
       "   ItemID  Sentiment                                      SentimentText\n",
       "0       1          0                       is so sad for my APL frie...\n",
       "1       2          0                     I missed the New Moon trail...\n",
       "2       3          1                            omg its already 7:30 :O\n",
       "3       4          0            .. Omgaga. Im sooo  im gunna CRy. I'...\n",
       "4       5          0           i think mi bf is cheating on me!!!   ..."
      ]
     },
     "execution_count": 47,
     "metadata": {},
     "output_type": "execute_result"
    }
   ],
   "source": [
    "# Make a dataframe and set a split point for training/testing\n",
    "# Note that a positive sentiment is indicated by a '1', and a negative sentiment by a '0' in the 'Sentiment' column\n",
    "df = pd.read_csv('SentimentAnalysisDataset_fixed.csv', nrows=100000)\n",
    "splitpoint = 80000 #train/test: 80%/20%\n",
    "df.drop('SentimentSource', axis=1, inplace=True)\n",
    "df.head()"
   ]
  },
  {
   "cell_type": "code",
   "execution_count": 13,
   "metadata": {
    "collapsed": true
   },
   "outputs": [],
   "source": [
    "# Define a function to word-tokenize a tweet's text\n",
    "def word_tokenize(tweet):\n",
    "    \"\"\"Breaks a string up into words.\n",
    "    This function uses the NLTK package's word_tokenize function to split a string up\n",
    "    into word tokens.\n",
    "    \n",
    "    Parameters\n",
    "    ----------\n",
    "    tweet : str\n",
    "        The text of a tweet.\n",
    "    \n",
    "    Returns\n",
    "    -------\n",
    "    list\n",
    "        A list consisting of the words in the input tweet string.\n",
    "    \"\"\"\n",
    "    return(nltk.word_tokenize(tweet))"
   ]
  },
  {
   "cell_type": "markdown",
   "metadata": {},
   "source": [
    "## 1.2 Gather all words in a bag and form tuples of (tokenized-tweets, sentiment)"
   ]
  },
  {
   "cell_type": "code",
   "execution_count": 49,
   "metadata": {},
   "outputs": [
    {
     "name": "stderr",
     "output_type": "stream",
     "text": [
      "100000it [00:34, 2870.05it/s]"
     ]
    },
    {
     "name": "stdout",
     "output_type": "stream",
     "text": [
      "Number of words:  1719434\n"
     ]
    },
    {
     "name": "stderr",
     "output_type": "stream",
     "text": [
      "\n"
     ]
    }
   ],
   "source": [
    "from tqdm import tqdm #for progress bar\n",
    "all_words = []\n",
    "tweet_tuples = []\n",
    "for index, row in tqdm(df.iterrows()):\n",
    "    tweet_words = word_tokenize(row['SentimentText'])\n",
    "    tweet_words = list(map(lambda w: w.lower(), tweet_words))\n",
    "    tweet_tuples.append( (tweet_words, str(row['Sentiment'])) )\n",
    "    for w in tweet_words:\n",
    "        all_words.append(w)\n",
    "print('Number of words: ', len(all_words))"
   ]
  },
  {
   "cell_type": "code",
   "execution_count": 50,
   "metadata": {},
   "outputs": [],
   "source": [
    "# Recover some memory\n",
    "del df\n",
    "del index\n",
    "del row\n",
    "del tweet_words\n",
    "del w"
   ]
  },
  {
   "cell_type": "markdown",
   "metadata": {},
   "source": [
    "## 1.3 Get frequency distribution of the words"
   ]
  },
  {
   "cell_type": "code",
   "execution_count": 51,
   "metadata": {},
   "outputs": [
    {
     "name": "stdout",
     "output_type": "stream",
     "text": [
      "The 30 most common words are:  [('@', 90794), ('i', 62578), ('!', 57937), ('.', 51116), (',', 32555), ('the', 29914), ('you', 29844), ('to', 29561), ('?', 25284), ('a', 22062), ('it', 22041), ('...', 18448), ('and', 16303), (';', 16178), ('&', 14440), ('my', 13790), ('that', 13587), ('for', 12553), ('is', 12534), (\"'s\", 11912), ('in', 11822), (\"n't\", 11791), ('me', 11025), ('of', 10606), ('have', 10531), ('on', 9618), ('quot', 9153), ('so', 9106), ('but', 8956), (\"'m\", 8500)]\n"
     ]
    },
    {
     "data": {
      "image/png": "[encoded data removed]",
      "text/plain": [
       "<matplotlib.figure.Figure at 0x60b5a6b00>"
      ]
     },
     "metadata": {},
     "output_type": "display_data"
    }
   ],
   "source": [
    "all_words = nltk.FreqDist(all_words)\n",
    "\n",
    "# inspect the frequency distribution of the words\n",
    "print('The 30 most common words are: ', all_words.most_common(30))\n",
    "all_words.plot(30, cumulative=False)"
   ]
  },
  {
   "cell_type": "markdown",
   "metadata": {},
   "source": [
    "## 1.4 Select the top 5000 most common words as features"
   ]
  },
  {
   "cell_type": "code",
   "execution_count": 53,
   "metadata": {
    "collapsed": true
   },
   "outputs": [],
   "source": [
    "freq_tuples = all_words.most_common(5000)"
   ]
  },
  {
   "cell_type": "markdown",
   "metadata": {},
   "source": [
    "## 1.5 Remove the 30 most common words again\n",
    "The most common words often have less 'signal' in them and may be ignored."
   ]
  },
  {
   "cell_type": "code",
   "execution_count": 54,
   "metadata": {
    "collapsed": true
   },
   "outputs": [],
   "source": [
    "freq_tuples = freq_tuples[30:] #remove the 30 most common words"
   ]
  },
  {
   "cell_type": "markdown",
   "metadata": {},
   "source": [
    "## 1.6 Prepare the word features"
   ]
  },
  {
   "cell_type": "code",
   "execution_count": 55,
   "metadata": {
    "collapsed": true
   },
   "outputs": [],
   "source": [
    "word_features = [w for (w, freq) in freq_tuples]"
   ]
  },
  {
   "cell_type": "markdown",
   "metadata": {},
   "source": [
    "## 1.7 Save the word_features"
   ]
  },
  {
   "cell_type": "code",
   "execution_count": 57,
   "metadata": {},
   "outputs": [],
   "source": [
    "f = open('word_features.pkl', 'wb')\n",
    "pickle.dump(word_features, f)\n",
    "f.close()"
   ]
  },
  {
   "cell_type": "code",
   "execution_count": 58,
   "metadata": {
    "collapsed": true
   },
   "outputs": [],
   "source": [
    "# Recover memory\n",
    "del all_words\n",
    "del freq_tuples"
   ]
  },
  {
   "cell_type": "code",
   "execution_count": 11,
   "metadata": {
    "collapsed": true
   },
   "outputs": [],
   "source": [
    "# Define a function to extract sentiment features from the words of a tweet.\n",
    "def sentiment_features(tweet_words):\n",
    "    \"\"\"Extract sentiment features from a tweet.\n",
    "    This function extracts sentiment features from the words of a tweet.\n",
    "    \n",
    "    Parameters\n",
    "    ----------\n",
    "    tweet_words : list of words\n",
    "        The text of a tweet, tokenized into words.\n",
    "    \n",
    "    Returns\n",
    "    -------\n",
    "    dict\n",
    "        A dictionary that has a key for each word in the list of word features (word_features).\n",
    "        The value of each entry indicates whether that specific word is present in this tweet.\n",
    "    \"\"\"\n",
    "    uniq_words = set(tweet_words) #keep unique words only\n",
    "    features = {}\n",
    "    for w in word_features:\n",
    "        features[w] = (w in uniq_words)\n",
    "    return(features)"
   ]
  },
  {
   "cell_type": "markdown",
   "metadata": {},
   "source": [
    "## 1.8 Prepare featuresets for the complete classifier data set"
   ]
  },
  {
   "cell_type": "code",
   "execution_count": 60,
   "metadata": {},
   "outputs": [
    {
     "name": "stderr",
     "output_type": "stream",
     "text": [
      "100%|██████████| 100000/100000 [01:29<00:00, 1119.71it/s]"
     ]
    },
    {
     "name": "stdout",
     "output_type": "stream",
     "text": [
      "Number of featuresets:  100000\n"
     ]
    },
    {
     "name": "stderr",
     "output_type": "stream",
     "text": [
      "\n"
     ]
    }
   ],
   "source": [
    "from tqdm import tqdm\n",
    "featuresets = [(sentiment_features(tweet_words), sentiment) for (tweet_words, sentiment) in tqdm(tweet_tuples)]\n",
    "print('Number of featuresets: ', len(featuresets))"
   ]
  },
  {
   "cell_type": "code",
   "execution_count": 61,
   "metadata": {
    "collapsed": true
   },
   "outputs": [],
   "source": [
    "# Recover memory\n",
    "del tweet_tuples"
   ]
  },
  {
   "cell_type": "markdown",
   "metadata": {},
   "source": [
    "## 1.9 Split the data set for training and testing"
   ]
  },
  {
   "cell_type": "code",
   "execution_count": 66,
   "metadata": {},
   "outputs": [
    {
     "name": "stdout",
     "output_type": "stream",
     "text": [
      "Length of featuresets:  100000\n",
      "Length of training_set:  80000\n",
      "Length of testing_set:  20000\n"
     ]
    }
   ],
   "source": [
    "# Takes about 1 minute\n",
    "training_set = featuresets[:splitpoint]\n",
    "testing_set = featuresets[splitpoint:]\n",
    "print('Length of featuresets: ', len(featuresets))\n",
    "print('Length of training_set: ', len(training_set))\n",
    "print('Length of testing_set: ', len(testing_set))"
   ]
  },
  {
   "cell_type": "code",
   "execution_count": 67,
   "metadata": {
    "collapsed": true
   },
   "outputs": [],
   "source": [
    "# Recover memory\n",
    "del featuresets"
   ]
  },
  {
   "cell_type": "markdown",
   "metadata": {},
   "source": [
    "## 1.10 Train classifier"
   ]
  },
  {
   "cell_type": "code",
   "execution_count": 22,
   "metadata": {},
   "outputs": [
    {
     "name": "stderr",
     "output_type": "stream",
     "text": [
      "100%|██████████| 80000/80000 [09:46<00:00, 136.45it/s]\n"
     ]
    }
   ],
   "source": [
    "# takes about 10 minutes\n",
    "\"\"\"commented out to protect\n",
    "classifier = nltk.NaiveBayesClassifier.train(tqdm(training_set))\n",
    "\"\"\""
   ]
  },
  {
   "cell_type": "markdown",
   "metadata": {},
   "source": [
    "## 1.11 Score classifier"
   ]
  },
  {
   "cell_type": "code",
   "execution_count": 28,
   "metadata": {},
   "outputs": [
    {
     "name": "stdout",
     "output_type": "stream",
     "text": [
      "Accuracy:  0.75205\n"
     ]
    }
   ],
   "source": [
    "# takes about 10 minutes\n",
    "\"\"\"commented out to protect\n",
    "accuracy = nltk.classify.accuracy(classifier, testing_set)\n",
    "print('Accuracy: ', accuracy)\n",
    "\"\"\""
   ]
  },
  {
   "cell_type": "code",
   "execution_count": 29,
   "metadata": {},
   "outputs": [
    {
     "name": "stdout",
     "output_type": "stream",
     "text": [
      "Most Informative Features\n",
      "               cancelled = True                0 : 1      =     29.0 : 1.0\n",
      "                   ak618 = True                0 : 1      =     29.0 : 1.0\n",
      "             appreciated = True                1 : 0      =     26.2 : 1.0\n",
      "            aaroncarter7 = True                0 : 1      =     24.0 : 1.0\n",
      "                 *cries* = True                0 : 1      =     24.0 : 1.0\n",
      "                 hurting = True                0 : 1      =     21.4 : 1.0\n",
      "                    grrr = True                0 : 1      =     21.4 : 1.0\n",
      "                     sad = True                0 : 1      =     21.1 : 1.0\n",
      "                canceled = True                0 : 1      =     19.8 : 1.0\n",
      "             musicmonday = True                1 : 0      =     19.7 : 1.0\n",
      "          recommendation = True                1 : 0      =     18.2 : 1.0\n",
      "                 sadness = True                0 : 1      =     18.1 : 1.0\n",
      "                  gutted = True                0 : 1      =     17.5 : 1.0\n",
      "                 blessed = True                1 : 0      =     16.7 : 1.0\n",
      "                 swollen = True                0 : 1      =     16.4 : 1.0\n",
      "            followfriday = True                1 : 0      =     16.2 : 1.0\n",
      "           disappointing = True                0 : 1      =     15.6 : 1.0\n",
      "                   r.i.p = True                0 : 1      =     15.6 : 1.0\n",
      "                 *sniff* = True                0 : 1      =     15.6 : 1.0\n",
      "                    booo = True                0 : 1      =     15.4 : 1.0\n",
      "               3hotwords = True                1 : 0      =     15.1 : 1.0\n",
      "                   sadly = True                0 : 1      =     14.4 : 1.0\n",
      "                   sucks = True                0 : 1      =     14.2 : 1.0\n",
      "                  bummed = True                0 : 1      =     13.9 : 1.0\n",
      "             frustrating = True                0 : 1      =     13.9 : 1.0\n",
      "                 surgery = True                0 : 1      =     13.9 : 1.0\n",
      "          noundiessunday = True                1 : 0      =     13.5 : 1.0\n",
      "                    argh = True                0 : 1      =     13.3 : 1.0\n",
      "                  bummer = True                0 : 1      =     12.7 : 1.0\n",
      "                   blows = True                0 : 1      =     12.4 : 1.0\n",
      "                   ughhh = True                0 : 1      =     12.2 : 1.0\n",
      "         congratulations = True                1 : 0      =     11.9 : 1.0\n",
      "                     sux = True                0 : 1      =     11.7 : 1.0\n",
      "                downside = True                0 : 1      =     11.4 : 1.0\n",
      "              depressing = True                0 : 1      =     11.4 : 1.0\n",
      "                    leak = True                0 : 1      =     11.4 : 1.0\n",
      "               emotional = True                0 : 1      =     11.4 : 1.0\n",
      "                      /3 = True                0 : 1      =     11.4 : 1.0\n",
      "                  cramps = True                0 : 1      =     11.4 : 1.0\n",
      "                    poor = True                0 : 1      =     11.2 : 1.0\n"
     ]
    }
   ],
   "source": [
    "# show_most_informative_features: 1 for positive, 0 for negative\n",
    "\"\"\"commented out to protect\n",
    "classifier.show_most_informative_features(40)\n",
    "\"\"\""
   ]
  },
  {
   "cell_type": "markdown",
   "metadata": {},
   "source": [
    "## 1.12 Define a function to estimate the sentiment of a tweet"
   ]
  },
  {
   "cell_type": "code",
   "execution_count": 9,
   "metadata": {
    "collapsed": true
   },
   "outputs": [],
   "source": [
    "# Define a function to estimate the sentiment of a tweet.\n",
    "def estimate_sentiment(tweet):\n",
    "    \"\"\"Estimate the sentiment of a tweet.\n",
    "    This function estimates the sentiment of a tweet.\n",
    "    \n",
    "    Parameters\n",
    "    ----------\n",
    "    tweet : str\n",
    "        The text of a tweet.\n",
    "    \n",
    "    Returns\n",
    "    -------\n",
    "    int\n",
    "        A value that indicates the sentiment of the tweet: \n",
    "        1 for positive, and\n",
    "        0 for negative\n",
    "    \"\"\"\n",
    "    return( classifier.classify(sentiment_features(word_tokenize(tweet))) )"
   ]
  },
  {
   "cell_type": "markdown",
   "metadata": {},
   "source": [
    "## 1.13 Hand-test classifier"
   ]
  },
  {
   "cell_type": "code",
   "execution_count": 69,
   "metadata": {},
   "outputs": [
    {
     "name": "stdout",
     "output_type": "stream",
     "text": [
      "1\n",
      "0\n",
      "1\n",
      "0\n",
      "1\n",
      "0\n"
     ]
    }
   ],
   "source": [
    "print( estimate_sentiment('I feel fine today!') )\n",
    "print( estimate_sentiment('I feel horrible today!') )\n",
    "print( estimate_sentiment('This is good news.') )\n",
    "print( estimate_sentiment('This was a mistake') )\n",
    "print( estimate_sentiment('He had to do it') )\n",
    "print( estimate_sentiment('Not fair to Syria') )"
   ]
  },
  {
   "cell_type": "markdown",
   "metadata": {},
   "source": [
    "## 1.14 Save classifier"
   ]
  },
  {
   "cell_type": "code",
   "execution_count": 32,
   "metadata": {
    "collapsed": true
   },
   "outputs": [],
   "source": [
    "\"\"\"commented out to protect\n",
    "f = open('tweepy_naivebayes.pkl', 'wb')\n",
    "pickle.dump(classifier, f)\n",
    "f.close()\n",
    "\"\"\""
   ]
  },
  {
   "cell_type": "markdown",
   "metadata": {},
   "source": [
    "# Part 2. Capture twitter data on Trump Syria Strike"
   ]
  },
  {
   "cell_type": "code",
   "execution_count": 70,
   "metadata": {
    "collapsed": true
   },
   "outputs": [],
   "source": [
    "import tweepy\n",
    "import time\n",
    "from datetime import datetime"
   ]
  },
  {
   "cell_type": "code",
   "execution_count": 71,
   "metadata": {
    "collapsed": true
   },
   "outputs": [],
   "source": [
    "file_name = 'trump_syria_strike15.txt'\n",
    "track_string = 'trump syria strike'"
   ]
  },
  {
   "cell_type": "code",
   "execution_count": null,
   "metadata": {
    "collapsed": true
   },
   "outputs": [],
   "source": [
    "# Define a class to setup and capture a stream of tweets.\n",
    "class WritingTxtStreamListener(tweepy.StreamListener):\n",
    "    \"\"\"Sets up and captures a stream of tweets.    \n",
    "    This class sets up and captures a stream of tweets from the Twitter Streaming API.    \n",
    "    \"\"\"\n",
    "    __count = 0\n",
    "\n",
    "    #captures the json of a tweet\n",
    "    def on_data(self, data):\n",
    "        try:\n",
    "            f = open(file_name, 'a', encoding='utf-8')\n",
    "            f.write( data )\n",
    "            f.close()\n",
    "            self.__count += 1\n",
    "            print( str(datetime.now().time())+': '+str(self.__count) )\n",
    "            return(True)\n",
    "        except BaseException as e:\n",
    "            print('ERROR: ' + str(e))\n",
    "            time.sleep(5)\n",
    "\n",
    "    #disconnect the stream if we receive an error message indicating we are overloading Twitter\n",
    "    def on_error(self, status_code):\n",
    "        print('ERROR: status_code = ' + str(status_code))\n",
    "        if status_code == 420:\n",
    "            #returning False in on_data disconnects the stream\n",
    "            return False"
   ]
  },
  {
   "cell_type": "code",
   "execution_count": null,
   "metadata": {
    "collapsed": true
   },
   "outputs": [],
   "source": [
    "con_key = ''\n",
    "con_secret = ''\n",
    "acc_token = ''\n",
    "acc_secret = ''"
   ]
  },
  {
   "cell_type": "code",
   "execution_count": null,
   "metadata": {
    "collapsed": true
   },
   "outputs": [],
   "source": [
    "# Authenticate\n",
    "auth = tweepy.OAuthHandler(consumer_key=con_key, consumer_secret=con_secret)\n",
    "auth.set_access_token(acc_token, acc_secret)"
   ]
  },
  {
   "cell_type": "code",
   "execution_count": null,
   "metadata": {
    "collapsed": true
   },
   "outputs": [],
   "source": [
    "# Create a wrapper for the API provided by Twitter\n",
    "api = tweepy.API(auth, wait_on_rate_limit=True, wait_on_rate_limit_notify=True, retry_count=10, retry_delay=5, retry_errors=5)         "
   ]
  },
  {
   "cell_type": "code",
   "execution_count": null,
   "metadata": {
    "collapsed": true
   },
   "outputs": [],
   "source": [
    "# Create and authenticate an instance of our listener class\n",
    "my_stream_listener = WritingTxtStreamListener()\n",
    "my_stream = tweepy.Stream(auth = api.auth, listener=my_stream_listener)"
   ]
  },
  {
   "cell_type": "code",
   "execution_count": null,
   "metadata": {
    "collapsed": true
   },
   "outputs": [],
   "source": [
    "# Collect tweets\n",
    "my_stream.filter(track=[track_string], languages=['en'])"
   ]
  },
  {
   "cell_type": "code",
   "execution_count": null,
   "metadata": {
    "collapsed": true
   },
   "outputs": [],
   "source": [
    "# Disconnect from stream\n",
    "my_stream.disconnect()"
   ]
  },
  {
   "cell_type": "markdown",
   "metadata": {},
   "source": [
    "# 3. Analyze twitter data on Trump Syria Strike"
   ]
  },
  {
   "cell_type": "code",
   "execution_count": 1,
   "metadata": {
    "collapsed": true
   },
   "outputs": [],
   "source": [
    "import json\n",
    "import pandas as pd"
   ]
  },
  {
   "cell_type": "markdown",
   "metadata": {},
   "source": [
    "## 3.1 Load the json study data"
   ]
  },
  {
   "cell_type": "code",
   "execution_count": 32,
   "metadata": {},
   "outputs": [
    {
     "name": "stdout",
     "output_type": "stream",
     "text": [
      "Number of tweets:  5000\n"
     ]
    }
   ],
   "source": [
    "tweets_data = []\n",
    "tweets_file = open('trump_syria_strike15.txt', \"r\")\n",
    "for line in tweets_file:\n",
    "    try:\n",
    "        tweet_json = json.loads(line)\n",
    "        tweets_data.append(tweet_json)\n",
    "    except:\n",
    "        continue\n",
    "tweets_file.close()\n",
    "print( 'Number of tweets: ', len(tweets_data) )"
   ]
  },
  {
   "cell_type": "code",
   "execution_count": 33,
   "metadata": {},
   "outputs": [
    {
     "data": {
      "text/html": [
       "<div>\n",
       "<table border=\"1\" class=\"dataframe\">\n",
       "  <thead>\n",
       "    <tr style=\"text-align: right;\">\n",
       "      <th></th>\n",
       "      <th>text</th>\n",
       "    </tr>\n",
       "  </thead>\n",
       "  <tbody>\n",
       "    <tr>\n",
       "      <th>0</th>\n",
       "      <td>RT @WilliamAder: Most daughters would be happy...</td>\n",
       "    </tr>\n",
       "    <tr>\n",
       "      <th>1</th>\n",
       "      <td>RT @TheEconomist: Listen: We discuss what Dona...</td>\n",
       "    </tr>\n",
       "    <tr>\n",
       "      <th>2</th>\n",
       "      <td>RT @davebernstein: Translation:\\n\\nIntent of S...</td>\n",
       "    </tr>\n",
       "    <tr>\n",
       "      <th>3</th>\n",
       "      <td>RT @JoeMyGod: Ann Coulter Denounces Trump Over...</td>\n",
       "    </tr>\n",
       "    <tr>\n",
       "      <th>4</th>\n",
       "      <td>RT @ddale8: Can you even imagine if a Hillary ...</td>\n",
       "    </tr>\n",
       "  </tbody>\n",
       "</table>\n",
       "</div>"
      ],
      "text/plain": [
       "                                                text\n",
       "0  RT @WilliamAder: Most daughters would be happy...\n",
       "1  RT @TheEconomist: Listen: We discuss what Dona...\n",
       "2  RT @davebernstein: Translation:\\n\\nIntent of S...\n",
       "3  RT @JoeMyGod: Ann Coulter Denounces Trump Over...\n",
       "4  RT @ddale8: Can you even imagine if a Hillary ..."
      ]
     },
     "execution_count": 33,
     "metadata": {},
     "output_type": "execute_result"
    }
   ],
   "source": [
    "# Setup a dataframe\n",
    "tweets = pd.DataFrame()\n",
    "tweets['text'] = list(map(lambda x: x['text'], tweets_data))\n",
    "tweets.head()"
   ]
  },
  {
   "cell_type": "code",
   "execution_count": 34,
   "metadata": {
    "collapsed": true
   },
   "outputs": [],
   "source": [
    "# Remove newlines within a tweet\n",
    "import re\n",
    "def suppress_newlines(tweet):\n",
    "    res = re.sub(r'\\n', ' ', tweet)\n",
    "    return(res)\n",
    "\n",
    "tweets['text'] = tweets['text'].apply(suppress_newlines)"
   ]
  },
  {
   "cell_type": "markdown",
   "metadata": {},
   "source": [
    "## 3.2 Load the sentiment classifier"
   ]
  },
  {
   "cell_type": "code",
   "execution_count": 35,
   "metadata": {},
   "outputs": [],
   "source": [
    "import pickle\n",
    "f = open('tweepy_naivebayes.pkl', 'rb')\n",
    "classifier = pickle.load(f)\n",
    "f.close()"
   ]
  },
  {
   "cell_type": "markdown",
   "metadata": {},
   "source": [
    "## 3.3 Load the word features (from word_features)"
   ]
  },
  {
   "cell_type": "code",
   "execution_count": 36,
   "metadata": {
    "collapsed": true
   },
   "outputs": [],
   "source": [
    "f = open('word_features.pkl', 'rb')\n",
    "word_features = pickle.load(f)\n",
    "f.close()"
   ]
  },
  {
   "cell_type": "markdown",
   "metadata": {},
   "source": [
    "## 3.4 Estimate the sentiment for each tweet in the data on Trump Syria Strike"
   ]
  },
  {
   "cell_type": "code",
   "execution_count": 37,
   "metadata": {
    "scrolled": true
   },
   "outputs": [
    {
     "data": {
      "text/html": [
       "<div>\n",
       "<table border=\"1\" class=\"dataframe\">\n",
       "  <thead>\n",
       "    <tr style=\"text-align: right;\">\n",
       "      <th></th>\n",
       "      <th>text</th>\n",
       "      <th>est_sentiment</th>\n",
       "    </tr>\n",
       "  </thead>\n",
       "  <tbody>\n",
       "    <tr>\n",
       "      <th>0</th>\n",
       "      <td>RT @WilliamAder: Most daughters would be happy...</td>\n",
       "      <td>1</td>\n",
       "    </tr>\n",
       "    <tr>\n",
       "      <th>1</th>\n",
       "      <td>RT @TheEconomist: Listen: We discuss what Dona...</td>\n",
       "      <td>1</td>\n",
       "    </tr>\n",
       "    <tr>\n",
       "      <th>2</th>\n",
       "      <td>RT @davebernstein: Translation:  Intent of Syr...</td>\n",
       "      <td>0</td>\n",
       "    </tr>\n",
       "    <tr>\n",
       "      <th>3</th>\n",
       "      <td>RT @JoeMyGod: Ann Coulter Denounces Trump Over...</td>\n",
       "      <td>1</td>\n",
       "    </tr>\n",
       "    <tr>\n",
       "      <th>4</th>\n",
       "      <td>RT @ddale8: Can you even imagine if a Hillary ...</td>\n",
       "      <td>0</td>\n",
       "    </tr>\n",
       "  </tbody>\n",
       "</table>\n",
       "</div>"
      ],
      "text/plain": [
       "                                                text est_sentiment\n",
       "0  RT @WilliamAder: Most daughters would be happy...             1\n",
       "1  RT @TheEconomist: Listen: We discuss what Dona...             1\n",
       "2  RT @davebernstein: Translation:  Intent of Syr...             0\n",
       "3  RT @JoeMyGod: Ann Coulter Denounces Trump Over...             1\n",
       "4  RT @ddale8: Can you even imagine if a Hillary ...             0"
      ]
     },
     "execution_count": 37,
     "metadata": {},
     "output_type": "execute_result"
    }
   ],
   "source": [
    "# Takes about 3 minutes: uncomment the progress bar activation code if needed:\n",
    "#from tqdm import tqdm, tqdm_pandas\n",
    "#tqdm_pandas(tqdm())\n",
    "\n",
    "tweets['est_sentiment'] = ''\n",
    "#tweets['est_sentiment'] = tweets['text'].progress_apply(estimate_sentiment)\n",
    "tweets['est_sentiment'] = tweets['text'].apply(estimate_sentiment)\n",
    "tweets.head()"
   ]
  },
  {
   "cell_type": "markdown",
   "metadata": {},
   "source": [
    "## 3.5 Save analysis in updated dataframe"
   ]
  },
  {
   "cell_type": "code",
   "execution_count": 38,
   "metadata": {
    "collapsed": true
   },
   "outputs": [],
   "source": [
    "tweets.to_csv('trump_syria_strike15.csv', encoding='utf-8', sep='|')"
   ]
  },
  {
   "cell_type": "markdown",
   "metadata": {
    "collapsed": true
   },
   "source": [
    "# 4. Statistical proportion test\n",
    "### (R Language)"
   ]
  },
  {
   "cell_type": "markdown",
   "metadata": {},
   "source": [
    "~~~ r\n",
    "## Load sentiment data on Trump Syria Strike\n",
    "df <- read.csv(\"trump_syria_strike15.csv\", sep = \"|\", stringsAsFactors = FALSE)\n",
    "head(df)\n",
    "names(df)\n",
    "~~~"
   ]
  },
  {
   "cell_type": "markdown",
   "metadata": {},
   "source": [
    "~~~ r\n",
    "## Count the tweets with positive sentiment, disregard a handful of rows that have NAs\n",
    "total.evals <- sum(complete.cases(df))\n",
    "total.evals\n",
    "total.approvals <- sum(df[,'est_sentiment'], na.rm = TRUE)\n",
    "total.approvals\n",
    "fraction.approvals <- total.approvals/total.evals\n",
    "fraction.approvals\n",
    "~~~"
   ]
  },
  {
   "cell_type": "markdown",
   "metadata": {},
   "source": [
    "~~~ r\n",
    "## Perform a hypothesis test of proportions\n",
    "\n",
    "### Setup hypotheses\n",
    "\n",
    "The hypotheses will be:\n",
    "\n",
    "    H0: p = p0\n",
    "    H1: p != p0\n",
    "    \n",
    "where \n",
    "\n",
    "p is the true proportion of the American public that *approves* the strike, and p0 = 0.46. \n",
    "    \n",
    "The *null* hypothesis, therefore, states that the proportion of the public that *approves* the strike (associated with *positive* sentiment tweets), is the *same* as the proportion of popular votes (46%) during the presidential election. \n",
    "    \n",
    "The *alternative* hypothesis, states that the proportion of the public that approves the strike is *different* from the proportion of popular votes. The type of hypothesis test will be a *one-sample test for a proportion*. The test will be *two-sided*.\n",
    "\n",
    "### Perform hypothesis test\n",
    "\n",
    "prop.test(total.approvals, n = total.evals, p = 0.46, alternative = 'two.sided')\n",
    "\n",
    "### Conclusion\n",
    "\n",
    "The p-value is much smaller than 0.05. At the 0.05 significance level, we *reject* the null hypothesis. There is enough evidence to claim that the proportion of the American public that *approves* the missile strike is *different* from 46%. The proportion that approves the strike is 58%.\n",
    "~~~"
   ]
  },
  {
   "cell_type": "code",
   "execution_count": null,
   "metadata": {},
   "outputs": [],
   "source": []
  }
 ],
 "metadata": {
  "anaconda-cloud": {},
  "kernelspec": {
   "display_name": "Python 3",
   "language": "python",
   "name": "python3"
  },
  "language_info": {
   "codemirror_mode": {
    "name": "ipython",
    "version": 3
   },
   "file_extension": ".py",
   "mimetype": "text/x-python",
   "name": "python",
   "nbconvert_exporter": "python",
   "pygments_lexer": "ipython3",
   "version": "3.7.1"
  }
 },
 "nbformat": 4,
 "nbformat_minor": 1
}
