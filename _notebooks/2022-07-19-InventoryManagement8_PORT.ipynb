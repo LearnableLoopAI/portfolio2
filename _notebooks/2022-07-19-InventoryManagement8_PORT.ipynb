{
  "nbformat": 4,
  "nbformat_minor": 0,
  "metadata": {
    "colab": {
      "provenance": [],
      "collapsed_sections": []
    },
    "kernelspec": {
      "display_name": "Python 3",
      "language": "python",
      "name": "python3"
    },
    "pycharm": {
      "stem_cell": {
        "cell_type": "raw",
        "metadata": {
          "collapsed": false
        },
        "source": []
      }
    }
  },
  "cells": [
    {
      "cell_type": "markdown",
      "metadata": {
        "id": "klGNgWREsvQv"
      },
      "source": [
        "# \"An RL Approach for Inventory Management (Part 8)\"\n",
        "\n",
        "> Tabular Temporal-Difference Prediction\n",
        "- toc: true\n",
        "- branch: master\n",
        "- badges: false\n",
        "- comments: true\n",
        "- hide: false\n",
        "- search_exclude: true\n",
        "- metadata_key1: metadata_value1\n",
        "- metadata_key2: metadata_value2\n",
        "- image: images/InventoryManagement8.png\n",
        "- categories: [Inventory_Management,   Markov_Decision_Process,   TD]\n",
        "- show_tags: true"
      ]
    },
    {
      "cell_type": "code",
      "source": [
        "# hide\n",
        "# based on 0^td_simple_inventory_mrp_KE.ipynb"
      ],
      "metadata": {
        "id": "9K5x-fbuZFaH"
      },
      "execution_count": 2,
      "outputs": []
    },
    {
      "cell_type": "markdown",
      "source": [
        "## 1 Overview of the Reinforcement Learning Approach"
      ],
      "metadata": {
        "id": "1FvA1Om_-cQO"
      }
    },
    {
      "cell_type": "markdown",
      "source": [
        "So far, we always had a *model* for the environment. This model came in the form of transition probabilities. It is often the case in the real world that we do not have these probabilties. We simply get individual experiences of next state and reward, given we take a specific action in a specific state. However, we still need a way to obtain the optimal value function or the optimal policy. There are algorithms available for this need. We have now entered the subfield of Reinforcement Learning. When we have a model (as in previous parts) the subfield is called Dynamic Programming or Approximate Dynamic Programming.\n",
        "\n",
        "Note that we can use Reinforcement Learning even if we may have the option to obtain a model. Sometimes the state space is so large that obtaining a model is hard or the computational aspects become intractable. "
      ],
      "metadata": {
        "id": "w6rGooLv2dFn"
      }
    },
    {
      "cell_type": "markdown",
      "source": [
        "## 2 RL for Prediction"
      ],
      "metadata": {
        "id": "IVtuYrv798Im"
      }
    },
    {
      "cell_type": "markdown",
      "source": [
        "Let us repeat some points related to *prediction*:\n",
        "- *prediction* is the problem of estimating the *value function* of an MDP given a policy $\\pi$\n",
        "- the equivalent problem is to estimate the value function of the $\\pi$-implied MRP\n",
        "\n",
        "In this project we choose to work with MRPs, rather than MDPs, depending on the latter point. The relationship with the MRP environment is such that the:\n",
        "- Environment is available as an interface that serves up individual experiences of (next state, reward), given a current state. Note the absence of an action.\n",
        "- Environment might the *real* or *simulated*.\n",
        "\n",
        "We define the agent's experience with the environment as follows:\n",
        "  - *atomic experience*\n",
        "    - agent receives a single experience of (next state, reward), given current state\n",
        "  - *trace experience*\n",
        "    - starting from state $S_0$, repeated interactions with the environment leading to a sequence of atomic experiences\n",
        "\n",
        "The RL prediction problem is the estimate the value function, given a stream of atomic experiences or a stream of trace experiences.\n",
        "\n",
        "An MRP's value function is:\n",
        "\n",
        "$$\n",
        "V(s) = \\mathbb E[G_t|S_t=s]\n",
        "$$\n",
        "\n",
        "for all $s \\in \\mathcal N$, for all $t=0,1,2,...$\n",
        "\n",
        "where the return $G_t$ for each $t=0,1,2,...$ is defined as:\n",
        "\n",
        "$$\n",
        "\\begin{aligned}\n",
        "G_t &= R_{t+1}+\\gamma \\cdot R_{t+2}+\\gamma^2 \\cdot R_{t+3}+... \\\\\n",
        "&= \\sum_{i=t+1}^\\infty \\gamma ^{i-t-1} \\cdot R_i \\\\\n",
        "&= R_{t+1}+\\gamma \\cdot G_{t+1}\n",
        "\\end{aligned}\n",
        "$$\n",
        "\n",
        "This infinite sum is true even if a trace experience terminates, say at $t=T$ ($S_T \\in \\mathcal T$) because we take $R_i=0$ for all $i>T$."
      ],
      "metadata": {
        "id": "4H_DaAXS-DKr"
      }
    },
    {
      "cell_type": "code",
      "metadata": {
        "id": "4E8ujfcND6pJ",
        "colab": {
          "base_uri": "https://localhost:8080/"
        },
        "outputId": "b1bfba9e-e6cd-4f76-b357-43640f55ae70"
      },
      "source": [
        "#hide\n",
        "from google.colab import drive\n",
        "drive.mount('/content/gdrive', force_remount=True)\n",
        "root_dir = \"/content/gdrive/My Drive\"\n",
        "base_dir = root_dir + '/Rao_CME241/RL-book'"
      ],
      "execution_count": 3,
      "outputs": [
        {
          "output_type": "stream",
          "name": "stdout",
          "text": [
            "Mounted at /content/gdrive\n"
          ]
        }
      ]
    },
    {
      "cell_type": "code",
      "source": [
        "!python --version"
      ],
      "metadata": {
        "colab": {
          "base_uri": "https://localhost:8080/"
        },
        "id": "Dfw0MzREJJ94",
        "outputId": "e0915700-3b4b-4649-aac5-8b26a464d3ed"
      },
      "execution_count": 4,
      "outputs": [
        {
          "output_type": "stream",
          "name": "stdout",
          "text": [
            "Python 3.7.15\n"
          ]
        }
      ]
    },
    {
      "cell_type": "code",
      "source": [
        "# hide\n",
        "base_dir"
      ],
      "metadata": {
        "colab": {
          "base_uri": "https://localhost:8080/",
          "height": 36
        },
        "id": "mp-RjDSfw8TU",
        "outputId": "7a387fc6-3b06-4ff7-c465-1a618d5719b6"
      },
      "execution_count": 5,
      "outputs": [
        {
          "output_type": "execute_result",
          "data": {
            "text/plain": [
              "'/content/gdrive/My Drive/Rao_CME241/RL-book'"
            ],
            "application/vnd.google.colaboratory.intrinsic+json": {
              "type": "string"
            }
          },
          "metadata": {},
          "execution_count": 5
        }
      ]
    },
    {
      "cell_type": "code",
      "source": [
        "# hide\n",
        "import sys\n",
        "sys.path"
      ],
      "metadata": {
        "id": "OYgFYLkywzJR",
        "colab": {
          "base_uri": "https://localhost:8080/"
        },
        "outputId": "55281b25-b634-48f8-b02c-b5928c922273"
      },
      "execution_count": 6,
      "outputs": [
        {
          "output_type": "execute_result",
          "data": {
            "text/plain": [
              "['/content',\n",
              " '/env/python',\n",
              " '/usr/lib/python37.zip',\n",
              " '/usr/lib/python3.7',\n",
              " '/usr/lib/python3.7/lib-dynload',\n",
              " '',\n",
              " '/usr/local/lib/python3.7/dist-packages',\n",
              " '/usr/lib/python3/dist-packages',\n",
              " '/usr/local/lib/python3.7/dist-packages/IPython/extensions',\n",
              " '/root/.ipython']"
            ]
          },
          "metadata": {},
          "execution_count": 6
        }
      ]
    },
    {
      "cell_type": "code",
      "source": [
        "# hide\n",
        "# sys.path.insert(0, f\"{base_dir}/gen_utils\"); sys.path\n",
        "sys.path.append(f\"{base_dir}\"); sys.path"
      ],
      "metadata": {
        "colab": {
          "base_uri": "https://localhost:8080/"
        },
        "id": "WvyJD3YkYHK9",
        "outputId": "b06bafe5-da5a-4aa1-970a-c5d9da9457b3"
      },
      "execution_count": 7,
      "outputs": [
        {
          "output_type": "execute_result",
          "data": {
            "text/plain": [
              "['/content',\n",
              " '/env/python',\n",
              " '/usr/lib/python37.zip',\n",
              " '/usr/lib/python3.7',\n",
              " '/usr/lib/python3.7/lib-dynload',\n",
              " '',\n",
              " '/usr/local/lib/python3.7/dist-packages',\n",
              " '/usr/lib/python3/dist-packages',\n",
              " '/usr/local/lib/python3.7/dist-packages/IPython/extensions',\n",
              " '/root/.ipython',\n",
              " '/content/gdrive/My Drive/Rao_CME241/RL-book']"
            ]
          },
          "metadata": {},
          "execution_count": 7
        }
      ]
    },
    {
      "cell_type": "markdown",
      "source": [
        "We make use of the approach and code used in http://web.stanford.edu/class/cme241/."
      ],
      "metadata": {
        "id": "L6gHdlRKZTrU"
      }
    },
    {
      "cell_type": "code",
      "source": [
        "from __future__ import annotations\n",
        "from typing import Tuple, Sequence, Iterator, List, TypeVar, Generic, overload, Mapping, Iterable, Callable\n",
        "from dataclasses import dataclass\n",
        "from abc import ABC, abstractmethod\n",
        "import itertools as it\n",
        "import inspect\n",
        "import math\n",
        "from pprint import pprint"
      ],
      "metadata": {
        "id": "zFY2Ix31JaY-"
      },
      "execution_count": 8,
      "outputs": []
    },
    {
      "cell_type": "code",
      "source": [
        "# hide\n",
        "# from rl.markov_decision_process_ANNO import NonTerminal\n",
        "from rl.markov_process_ANNO import TransitionStep, S, MarkovProcess\n",
        "from rl.function_approx_ANNO import Tabular\n",
        "# from rl.approximate_dynamic_programming_ANNO import ValueFunctionApprox\n",
        "# from rl.iterate_ANNO import accumulate, last\n",
        "import rl.iterate_ANNO as iterate\n",
        "# from rl.monte_carlo_ANNO import mc_prediction\n",
        "from rl.distribution_ANNO import Choose"
      ],
      "metadata": {
        "id": "8Si7FaA-_Gtf"
      },
      "execution_count": 9,
      "outputs": []
    },
    {
      "cell_type": "code",
      "source": [
        "# hide\n",
        "from rl.book3_github2.simple_inventory_mrp import (\n",
        "    SimpleInventoryMRPFinite,\n",
        "    InventoryState)\n",
        "# from rl.book11_github10.prediction_utils_ANNO import (\n",
        "#     mrp_episodes_stream, \n",
        "#     fmrp_episodes_stream, \n",
        "    # mc_finite_prediction_equal_wts,\n",
        "    # mc_finite_equal_wts_correctness,\n",
        "    # mc_finite_learning_rate_correctness)"
      ],
      "metadata": {
        "id": "J0-OhHIDx_wR"
      },
      "execution_count": 10,
      "outputs": []
    },
    {
      "cell_type": "markdown",
      "source": [
        "Let us setup our Inventory problem again:"
      ],
      "metadata": {
        "id": "aLC_wxEXhtXa"
      }
    },
    {
      "cell_type": "code",
      "source": [
        "capacity: int = 2\n",
        "poisson_lambda: float = 1.0\n",
        "holding_cost: float = 1.0\n",
        "stockout_cost: float = 10.0\n",
        "si_mrp: SimpleInventoryMRPFinite = SimpleInventoryMRPFinite(\n",
        "    capacity=capacity,\n",
        "    poisson_lambda=poisson_lambda,\n",
        "    holding_cost=holding_cost,\n",
        "    stockout_cost=stockout_cost\n",
        ")"
      ],
      "metadata": {
        "id": "a2RhHcSTg5Yt"
      },
      "execution_count": 11,
      "outputs": []
    },
    {
      "cell_type": "code",
      "source": [
        "# hide\n",
        "inspect.getmro(SimpleInventoryMRPFinite)"
      ],
      "metadata": {
        "colab": {
          "base_uri": "https://localhost:8080/"
        },
        "id": "yPoVt-Wyg5Yu",
        "outputId": "66f7a200-935c-4be3-9b25-87ed243028dd"
      },
      "execution_count": 12,
      "outputs": [
        {
          "output_type": "execute_result",
          "data": {
            "text/plain": [
              "(rl.book3_github2.simple_inventory_mrp.SimpleInventoryMRPFinite,\n",
              " rl.markov_process_ANNO.FiniteMarkovRewardProcess,\n",
              " rl.markov_process_ANNO.FiniteMarkovProcess,\n",
              " rl.markov_process_ANNO.MarkovRewardProcess,\n",
              " rl.markov_process_ANNO.MarkovProcess,\n",
              " abc.ABC,\n",
              " typing.Generic,\n",
              " object)"
            ]
          },
          "metadata": {},
          "execution_count": 12
        }
      ]
    },
    {
      "cell_type": "markdown",
      "source": [
        "Next we look at how we want to implement the simulation of experiences as stated above in code. The essential element is the `TransitionStep`:\n",
        "\n"
      ],
      "metadata": {
        "id": "jGmIDedYJfkp"
      }
    },
    {
      "cell_type": "code",
      "source": [
        "@dataclass(frozen=True)\n",
        "class TransitionStep(Generic[S]): #. s -> s'r   (atomic experience)\n",
        "    state: NonTerminal[S]\n",
        "    next_state: State[S]\n",
        "    reward: float\n",
        "    \n",
        "    def add_return(self, γ: float, return_: float) -> ReturnStep[S]:\n",
        "        return ReturnStep( #. s -> s'r\n",
        "            self.state,\n",
        "            self.next_state,\n",
        "            self.reward,\n",
        "            return_=self.reward + γ*return_\n",
        "        )"
      ],
      "metadata": {
        "id": "I7PrWuGIKW1U"
      },
      "execution_count": 13,
      "outputs": []
    },
    {
      "cell_type": "markdown",
      "source": [
        "A `TransitionStep` instance captures an atomic experience. It carries the `state`, `next_state`, and `reward` information. The `add_return` method allows for the incorporation of return values, making use of the class `ReturnStep`:"
      ],
      "metadata": {
        "id": "XIroVJ0eNe1T"
      }
    },
    {
      "cell_type": "code",
      "source": [
        "@dataclass(frozen=True)\n",
        "class ReturnStep(TransitionStep[S]):\n",
        "    return_: float"
      ],
      "metadata": {
        "id": "MdGc0R3zNpHS"
      },
      "execution_count": 14,
      "outputs": []
    },
    {
      "cell_type": "markdown",
      "source": [
        "In general, the input to an RL prediction algorithm will be either:\n",
        "- a stream/sequence of atomic experiences\n",
        "  - `Iterable[TransitionStep[S]]`\n",
        "- a stream/sequence of trace experiences\n",
        "  - `Iterable[Iterable[TransitionStep[S]]]`"
      ],
      "metadata": {
        "id": "JGKBBmYHLmL-"
      }
    },
    {
      "cell_type": "markdown",
      "source": [
        "As before, we make use of the class `MarkovRewardProcess`:"
      ],
      "metadata": {
        "id": "57-3LUfoNLMp"
      }
    },
    {
      "cell_type": "code",
      "source": [
        "class MarkovRewardProcess(MarkovProcess[S]):\n",
        "    #. transition from this state\n",
        "    def transition(self, state: NonTerminal[S]) -> Distribution[State[S]]: #s'|s or s->s'\n",
        "        distribution = self.transition_reward(state)\n",
        "        def next_state(distribution=distribution):\n",
        "            next_s, _ = distribution.sample() #.ignores reward\n",
        "            return next_s\n",
        "        return SampledDistribution(next_state)\n",
        "\n",
        "    @abstractmethod\n",
        "    def transition_reward(#. transition from this state\n",
        "        self, \n",
        "        state: NonTerminal[S]\n",
        "    ) -> Distribution[Tuple[State[S], float]]: #. s'r|s or s->s'r\n",
        "        pass\n",
        "    \n",
        "    #. future: simulate_transition\n",
        "    #. 's'imulate for 's'tep-generator\n",
        "    def simulate_reward( #. 'reward' for MarkovRewardProcess?\n",
        "        self,\n",
        "        start_state_distribution: Distribution[NonTerminal[S]]\n",
        "    ) -> Iterable[TransitionStep[S]]: #. sequence of atomic experiences\n",
        "        state: State[S] = start_state_distribution.sample()\n",
        "        reward: float = 0.\n",
        "        while isinstance(state, NonTerminal):\n",
        "            next_distribution = self.transition_reward(state)\n",
        "            next_state, reward = next_distribution.sample()\n",
        "            yield TransitionStep(state, next_state, reward) # s -> s'r\n",
        "            state = next_state\n",
        "\n",
        "    #. 't'races for 't'race-generator\n",
        "    def reward_traces( #. 'reward' for MarkovRewardProcess?\n",
        "        self,\n",
        "        start_state_distribution: Distribution[NonTerminal[S]]\n",
        "    ) -> Iterable[Iterable[TransitionStep[S]]]: #. sequence of trace experiences\n",
        "        while True:\n",
        "            yield self.simulate_reward(start_state_distribution)"
      ],
      "metadata": {
        "id": "fcK2fcBWKhw7"
      },
      "execution_count": 15,
      "outputs": []
    },
    {
      "cell_type": "markdown",
      "source": [
        "Our current focus is on the methods:\n",
        "- `simulate_reward()`\n",
        "  - operates as a step (atomic experience) generator\n",
        "  - yields a sequence of (state, next state, reward) 3-tuples, i.e. a sequence of atomic experiences\n",
        "- `reward_traces()`\n",
        "  - operates as a trace (trace experience) generator\n",
        "  - yields a sequence of trace experiences, each trace yielding a sequence of (state, next state, reward) atomic experiences\n",
        "  - picks a start state $S_0$ from the provided `start_state_distribution` "
      ],
      "metadata": {
        "id": "Zl_SqDR_Opk_"
      }
    },
    {
      "cell_type": "code",
      "source": [
        "si_mrp.non_terminal_states"
      ],
      "metadata": {
        "colab": {
          "base_uri": "https://localhost:8080/"
        },
        "id": "SS08igAw0iWd",
        "outputId": "f688295a-3b74-415f-ee68-5490d5b6eed8"
      },
      "execution_count": 16,
      "outputs": [
        {
          "output_type": "execute_result",
          "data": {
            "text/plain": [
              "[NonTerminal(state=InventoryState(on_hand=0, on_order=0)),\n",
              " NonTerminal(state=InventoryState(on_hand=0, on_order=1)),\n",
              " NonTerminal(state=InventoryState(on_hand=0, on_order=2)),\n",
              " NonTerminal(state=InventoryState(on_hand=1, on_order=0)),\n",
              " NonTerminal(state=InventoryState(on_hand=1, on_order=1)),\n",
              " NonTerminal(state=InventoryState(on_hand=2, on_order=0))]"
            ]
          },
          "metadata": {},
          "execution_count": 16
        }
      ]
    },
    {
      "cell_type": "code",
      "source": [
        "# \n",
        "# start_state_distribution\n",
        "ssd = Choose(si_mrp.non_terminal_states); ssd"
      ],
      "metadata": {
        "colab": {
          "base_uri": "https://localhost:8080/"
        },
        "id": "wPxTfwO10auy",
        "outputId": "3bb1a3ec-cd85-4a46-c17f-9b3a1a8a7725"
      },
      "execution_count": 17,
      "outputs": [
        {
          "output_type": "execute_result",
          "data": {
            "text/plain": [
              "{NonTerminal(state=InventoryState(on_hand=0, on_order=0)): 0.16666666666666666, NonTerminal(state=InventoryState(on_hand=0, on_order=1)): 0.16666666666666666, NonTerminal(state=InventoryState(on_hand=0, on_order=2)): 0.16666666666666666, NonTerminal(state=InventoryState(on_hand=1, on_order=0)): 0.16666666666666666, NonTerminal(state=InventoryState(on_hand=1, on_order=1)): 0.16666666666666666, NonTerminal(state=InventoryState(on_hand=2, on_order=0)): 0.16666666666666666}"
            ]
          },
          "metadata": {},
          "execution_count": 17
        }
      ]
    },
    {
      "cell_type": "code",
      "source": [
        "# \n",
        "# atomic experience\n",
        "next(si_mrp.simulate_reward(ssd))"
      ],
      "metadata": {
        "colab": {
          "base_uri": "https://localhost:8080/"
        },
        "id": "-cWEDXnUtE0B",
        "outputId": "b0dc8d76-8437-404d-c16a-d2f1bfd9249e"
      },
      "execution_count": 18,
      "outputs": [
        {
          "output_type": "execute_result",
          "data": {
            "text/plain": [
              "TransitionStep(state=NonTerminal(state=InventoryState(on_hand=0, on_order=2)), next_state=NonTerminal(state=InventoryState(on_hand=2, on_order=0)), reward=-0.0)"
            ]
          },
          "metadata": {},
          "execution_count": 18
        }
      ]
    },
    {
      "cell_type": "code",
      "source": [
        "# hide\n",
        "next(next(si_mrp.reward_traces(ssd)))"
      ],
      "metadata": {
        "colab": {
          "base_uri": "https://localhost:8080/"
        },
        "id": "_q-VaYEotEwJ",
        "outputId": "817221d9-cb01-4478-d093-d1d130fc0aac"
      },
      "execution_count": 19,
      "outputs": [
        {
          "output_type": "execute_result",
          "data": {
            "text/plain": [
              "TransitionStep(state=NonTerminal(state=InventoryState(on_hand=2, on_order=0)), next_state=NonTerminal(state=InventoryState(on_hand=1, on_order=0)), reward=-2.0)"
            ]
          },
          "metadata": {},
          "execution_count": 19
        }
      ]
    },
    {
      "cell_type": "code",
      "source": [
        "# \n",
        "# let's say we need 3 traces\n",
        "n_traces = 3"
      ],
      "metadata": {
        "id": "WeB4q8n619Q9"
      },
      "execution_count": 20,
      "outputs": []
    },
    {
      "cell_type": "code",
      "source": [
        "# \n",
        "# this trace generator (reward_traces()) will generate 3 atomic generators (simulate_reward())\n",
        "[atom_gen for atom_gen in it.islice(si_mrp.reward_traces(ssd), n_traces)]"
      ],
      "metadata": {
        "colab": {
          "base_uri": "https://localhost:8080/"
        },
        "id": "uX5z7eCSzx4a",
        "outputId": "0b51354b-0260-4ad2-d1f7-1983c03dd0b7"
      },
      "execution_count": 21,
      "outputs": [
        {
          "output_type": "execute_result",
          "data": {
            "text/plain": [
              "[<generator object MarkovRewardProcess.simulate_reward at 0x7faf46c59750>,\n",
              " <generator object MarkovRewardProcess.simulate_reward at 0x7faf46c596d0>,\n",
              " <generator object MarkovRewardProcess.simulate_reward at 0x7faf46c597d0>]"
            ]
          },
          "metadata": {},
          "execution_count": 21
        }
      ]
    },
    {
      "cell_type": "code",
      "source": [
        "# \n",
        "# let's say we want 4 steps/atoms for each trace\n",
        "n_atoms = 4"
      ],
      "metadata": {
        "id": "Tob3beZ-2LSQ"
      },
      "execution_count": 22,
      "outputs": []
    },
    {
      "cell_type": "code",
      "source": [
        "trac_gen = si_mrp.reward_traces(ssd); trac_gen"
      ],
      "metadata": {
        "colab": {
          "base_uri": "https://localhost:8080/"
        },
        "id": "7lRLt80o7Bsj",
        "outputId": "7a9dd86c-7b6f-4dc3-dcc6-e3ebe4128e4f"
      },
      "execution_count": 23,
      "outputs": [
        {
          "output_type": "execute_result",
          "data": {
            "text/plain": [
              "<generator object MarkovRewardProcess.reward_traces at 0x7faf46c599d0>"
            ]
          },
          "metadata": {},
          "execution_count": 23
        }
      ]
    },
    {
      "cell_type": "code",
      "source": [
        "[list(it.islice(atom_gen, n_atoms)) for atom_gen in it.islice(trac_gen, n_traces)]"
      ],
      "metadata": {
        "colab": {
          "base_uri": "https://localhost:8080/"
        },
        "id": "8-XZkol01CMg",
        "outputId": "1cf1b5bf-d658-4b0b-e2fc-d962c54e4f4b"
      },
      "execution_count": 24,
      "outputs": [
        {
          "output_type": "execute_result",
          "data": {
            "text/plain": [
              "[[TransitionStep(state=NonTerminal(state=InventoryState(on_hand=0, on_order=2)), next_state=NonTerminal(state=InventoryState(on_hand=2, on_order=0)), reward=-0.0),\n",
              "  TransitionStep(state=NonTerminal(state=InventoryState(on_hand=2, on_order=0)), next_state=NonTerminal(state=InventoryState(on_hand=1, on_order=0)), reward=-2.0),\n",
              "  TransitionStep(state=NonTerminal(state=InventoryState(on_hand=1, on_order=0)), next_state=NonTerminal(state=InventoryState(on_hand=0, on_order=1)), reward=-4.678794411714423),\n",
              "  TransitionStep(state=NonTerminal(state=InventoryState(on_hand=0, on_order=1)), next_state=NonTerminal(state=InventoryState(on_hand=1, on_order=1)), reward=-0.0)],\n",
              " [TransitionStep(state=NonTerminal(state=InventoryState(on_hand=1, on_order=1)), next_state=NonTerminal(state=InventoryState(on_hand=1, on_order=0)), reward=-1.0),\n",
              "  TransitionStep(state=NonTerminal(state=InventoryState(on_hand=1, on_order=0)), next_state=NonTerminal(state=InventoryState(on_hand=0, on_order=1)), reward=-4.678794411714423),\n",
              "  TransitionStep(state=NonTerminal(state=InventoryState(on_hand=0, on_order=1)), next_state=NonTerminal(state=InventoryState(on_hand=0, on_order=1)), reward=-3.6787944117144233),\n",
              "  TransitionStep(state=NonTerminal(state=InventoryState(on_hand=0, on_order=1)), next_state=NonTerminal(state=InventoryState(on_hand=0, on_order=1)), reward=-3.6787944117144233)],\n",
              " [TransitionStep(state=NonTerminal(state=InventoryState(on_hand=1, on_order=1)), next_state=NonTerminal(state=InventoryState(on_hand=0, on_order=0)), reward=-2.0363832351432696),\n",
              "  TransitionStep(state=NonTerminal(state=InventoryState(on_hand=0, on_order=0)), next_state=NonTerminal(state=InventoryState(on_hand=0, on_order=2)), reward=-10.0),\n",
              "  TransitionStep(state=NonTerminal(state=InventoryState(on_hand=0, on_order=2)), next_state=NonTerminal(state=InventoryState(on_hand=1, on_order=0)), reward=-0.0),\n",
              "  TransitionStep(state=NonTerminal(state=InventoryState(on_hand=1, on_order=0)), next_state=NonTerminal(state=InventoryState(on_hand=0, on_order=1)), reward=-4.678794411714423)]]"
            ]
          },
          "metadata": {},
          "execution_count": 24
        }
      ]
    },
    {
      "cell_type": "markdown",
      "source": [
        "## 3 Temporal-Difference (TD) Prediction"
      ],
      "metadata": {
        "id": "K2JyqE2rRn6T"
      }
    },
    {
      "cell_type": "markdown",
      "source": [
        "### 3.1 TD Prediction with TAB (Tabular)"
      ],
      "metadata": {
        "id": "GRUoiifBYZw-"
      }
    },
    {
      "cell_type": "markdown",
      "source": [
        "With TAB TD, an update is made to the *value* of the Value Function every time we transition from a state $St$ to state $S_{t+1}$ with reward $R_{t+1}$.\n",
        "\n",
        "Let us consider again the Value Function update for MC (Monte-Carlo) Prediction in the TAB case:\n",
        "\n",
        "$$\n",
        "V(S_t) ← V(S_t) + \\alpha ⋅ [G_t - V(S_t)]\n",
        "$$\n",
        "\n",
        "To move from MC to TD we take advantage of the recursive structure of the Value Function in the MRP Bellman equation. We do this by forming an estimate for $G_t$ from $R_{t+1}$ and $V(S_{t+1})$. This means the update for TAB TD Prediction is:\n",
        "\n",
        "$$\n",
        "V(S_t) ← V(S_t) + \\alpha ⋅ [R_{t+1} + \\gamma \\cdot V(S_{t+1}) - V(S_t)]\n",
        "$$\n",
        "\n",
        "where the\n",
        "\n",
        "- TD Target is $R_{t+1} + \\gamma \\cdot V(S_{t+1})$\n",
        "- TD Error is $\\delta_t = R_{t+1} + \\gamma \\cdot V(S_{t+1}) - V(S_t)$\n",
        "\n",
        "Practical advantages of TD:\n",
        "- it can be used with incomplete trace experiences when\n",
        "  - experiment is disrupted\n",
        "  - experiment is curtailed\n",
        "- it can be used with continuing trace experiences when a terminal state is never reached\n",
        "- it learns after each atomic experience, called *continuous learning* (unlike MC which only learns after a trace experience)\n",
        "- it can be used with *any* steam of atomic experiences regardless whether an atomic experience is part of a trace experience; atomic experiences can even be shuffled"
      ],
      "metadata": {
        "id": "sSRo9NPsR55O"
      }
    },
    {
      "cell_type": "markdown",
      "source": [
        "### 3.2 TD Prediction with FAP (Function Approximation)"
      ],
      "metadata": {
        "id": "K6suHlY703Aw"
      }
    },
    {
      "cell_type": "markdown",
      "source": [
        "With FAP TD, an update is made to the *parameters* of the Value Function every time we transition from a state $St$ to state $S_{t+1}$ with reward $R_{t+1}$.\n",
        "\n",
        "Let us consider again the loss function for MC Prediction:\n",
        "\n",
        "$$\n",
        "\\mathcal L_{(S_t,G_t)}(w) = \\frac{1}{2}\\cdot [V(S_t;w)-G_t]^2\n",
        "$$\n",
        "\n",
        "To move from MC to TD we do the same replacement, i.e. we replace $G_t$ with $R_{t+1}+\\gamma \\cdot V(S_{t+1};w)$. This means the loss function for FAP TD Prediction is:\n",
        "\n",
        "$$\n",
        "\\mathcal L_{(S_t,S_{t+1},R_{t+1}}(w) = \\frac{1}{2}\\cdot [V(S_t;w)-(R_{t+1}+\\gamma \\cdot V(S_{t+1};w))]^2\n",
        "$$\n",
        "\n",
        "This leads to the parameter update:\n",
        "\n",
        "$$\n",
        "\\Delta w = \\alpha \\cdot [(R_{t+1}+\\gamma \\cdot V(S_{t+1};w))-V(S_t;w)] \\cdot \\nabla_w V(S_t;w) \n",
        "$$\n",
        "\n",
        "where we, instead of taking the fradient of the loss function, we \"cheat\" by ignoring the depencency of $V(S_{t+1}; w)$ on $w$. This is called *semi-gradient*.\n",
        "\n",
        "This resembles the technique of replacing $G_t$ with $R_{t+1}+\\gamma \\cdot V(S_{t+1};w)$.\n",
        "\n",
        "The parameter update can again be broken down into 3 factors:\n",
        "- *step size* or *learning rate* which is $\\alpha$\n",
        "- TD Error is $\\delta_t = R_{t+1} + \\gamma \\cdot V(S_{t+1};w) - V(S_t;w)$\n",
        "- *gradient estimate* of the conditional expected return $V(S_t;w)$ with respect to the parameters $w$"
      ],
      "metadata": {
        "id": "hPCTBYb72EqG"
      }
    },
    {
      "cell_type": "markdown",
      "source": [
        "The function `td_prediction()` provides this prediction:"
      ],
      "metadata": {
        "id": "UrKA4yFU_KY9"
      }
    },
    {
      "cell_type": "code",
      "source": [
        "def td_prediction(\n",
        "      transitions: Iterable[mp.TransitionStep[S]],#. stream of transition experiences\n",
        "      approx_0: ValueFunctionApprox[S],\n",
        "      γ: float\n",
        ") -> Iterator[ValueFunctionApprox[S]]:\n",
        "    def step(\n",
        "            v: ValueFunctionApprox[S],\n",
        "            transition: mp.TransitionStep[S]\n",
        "    ) -> ValueFunctionApprox[S]:\n",
        "        return v.update([(\n",
        "            transition.state,\n",
        "            transition.reward + γ*extended_vf(v, transition.next_state)\n",
        "        )])\n",
        "    return iterate.accumulate(transitions, step, initial=approx_0)"
      ],
      "metadata": {
        "id": "CstSTg5VKhtT"
      },
      "execution_count": 25,
      "outputs": []
    },
    {
      "cell_type": "code",
      "source": [
        "def extended_vf(vf: ValueFunctionApprox[S], s: State[S]) -> float:\n",
        "    return s.on_non_terminal(vf, 0.0)"
      ],
      "metadata": {
        "id": "tllD6_h3Gh5N"
      },
      "execution_count": 26,
      "outputs": []
    },
    {
      "cell_type": "markdown",
      "source": [
        "### 3.3 Setup a transition generator"
      ],
      "metadata": {
        "id": "zxH4spNq61GH"
      }
    },
    {
      "cell_type": "markdown",
      "source": [
        "The inputs to `td_prediction()` are:\n",
        "- `transitions: Iterable[mp.TransitionStep[S]]`\n",
        "  - stream of transition experiences\n",
        "\n",
        "To prepare the stream of transition experiences we make use of three helper functions:\n",
        "- `unit_experiences_from _episodes()`\n",
        "- `fmrp_episodes_stream()`\n",
        "- `mrp_episodes_stream()`\n"
      ],
      "metadata": {
        "id": "3mHoTshqUE8G"
      }
    },
    {
      "cell_type": "code",
      "source": [
        "def mrp_episodes_stream(\n",
        "    mrp: MarkovRewardProcess[S],\n",
        "    start_state_distribution: NTStateDistribution[S]\n",
        ") -> Iterable[Iterable[TransitionStep[S]]]:\n",
        "    return mrp.reward_traces(start_state_distribution)\n",
        "\n",
        "def fmrp_episodes_stream(\n",
        "    fmrp: FiniteMarkovRewardProcess[S]\n",
        ") -> Iterable[Iterable[TransitionStep[S]]]:\n",
        "    return mrp_episodes_stream(fmrp, Choose(fmrp.non_terminal_states))\n",
        "\n",
        "def unit_experiences_from_episodes(\n",
        "    episodes: Iterable[Iterable[TransitionStep[S]]],\n",
        "    episode_length: int\n",
        ") -> Iterable[TransitionStep[S]]:\n",
        "    return it.chain.from_iterable(\n",
        "        it.islice(episode, episode_length) for episode in episodes\n",
        "    )"
      ],
      "metadata": {
        "id": "AAxsgAxUKhp6"
      },
      "execution_count": 27,
      "outputs": []
    },
    {
      "cell_type": "markdown",
      "source": [
        "Let us see how they behave."
      ],
      "metadata": {
        "id": "Wzcf7sSip99S"
      }
    },
    {
      "cell_type": "code",
      "source": [
        "# \n",
        "# +++study mrp_episodes_stream()"
      ],
      "metadata": {
        "id": "gOSaTsqtz1vG"
      },
      "execution_count": 28,
      "outputs": []
    },
    {
      "cell_type": "code",
      "source": [
        "trac_gen1 = mrp_episodes_stream(si_mrp, ssd); trac_gen1"
      ],
      "metadata": {
        "colab": {
          "base_uri": "https://localhost:8080/"
        },
        "id": "mbrOvxLvz1qa",
        "outputId": "61d71eab-f165-45e7-cb43-e0660e70fe16"
      },
      "execution_count": 29,
      "outputs": [
        {
          "output_type": "execute_result",
          "data": {
            "text/plain": [
              "<generator object MarkovRewardProcess.reward_traces at 0x7faf46c59850>"
            ]
          },
          "metadata": {},
          "execution_count": 29
        }
      ]
    },
    {
      "cell_type": "code",
      "source": [
        "list(it.islice(trac_gen1, 2))"
      ],
      "metadata": {
        "colab": {
          "base_uri": "https://localhost:8080/"
        },
        "id": "dnTH0WwHCdZ2",
        "outputId": "67d69c2b-4e14-4ac8-8a71-391c3336b16c"
      },
      "execution_count": 30,
      "outputs": [
        {
          "output_type": "execute_result",
          "data": {
            "text/plain": [
              "[<generator object MarkovRewardProcess.simulate_reward at 0x7faf46c59cd0>,\n",
              " <generator object MarkovRewardProcess.simulate_reward at 0x7faf46c59550>]"
            ]
          },
          "metadata": {},
          "execution_count": 30
        }
      ]
    },
    {
      "cell_type": "code",
      "source": [
        "# \n",
        "# ---study mrp_episodes_stream()"
      ],
      "metadata": {
        "id": "hZD1xGdSz1jW"
      },
      "execution_count": 31,
      "outputs": []
    },
    {
      "cell_type": "code",
      "source": [
        "# \n",
        "# +++study fmrp_episodes_stream()"
      ],
      "metadata": {
        "id": "7muDUrEvjWgU"
      },
      "execution_count": 32,
      "outputs": []
    },
    {
      "cell_type": "code",
      "source": [
        "trac_gen2 = fmrp_episodes_stream(si_mrp); trac_gen2"
      ],
      "metadata": {
        "colab": {
          "base_uri": "https://localhost:8080/"
        },
        "id": "W5h3X7wcjV--",
        "outputId": "e8bd218a-18be-419b-824c-968245a7e41b"
      },
      "execution_count": 33,
      "outputs": [
        {
          "output_type": "execute_result",
          "data": {
            "text/plain": [
              "<generator object MarkovRewardProcess.reward_traces at 0x7faf46c59f50>"
            ]
          },
          "metadata": {},
          "execution_count": 33
        }
      ]
    },
    {
      "cell_type": "code",
      "source": [
        "list(it.islice(trac_gen2, 2))"
      ],
      "metadata": {
        "colab": {
          "base_uri": "https://localhost:8080/"
        },
        "id": "_eHpOvWDjV7j",
        "outputId": "568ce3c8-0388-4f02-f1c6-182d379e9a28"
      },
      "execution_count": 34,
      "outputs": [
        {
          "output_type": "execute_result",
          "data": {
            "text/plain": [
              "[<generator object MarkovRewardProcess.simulate_reward at 0x7faf46c59d50>,\n",
              " <generator object MarkovRewardProcess.simulate_reward at 0x7faf46c59450>]"
            ]
          },
          "metadata": {},
          "execution_count": 34
        }
      ]
    },
    {
      "cell_type": "code",
      "source": [
        "# \n",
        "# ---study fmrp_episodes_stream()"
      ],
      "metadata": {
        "id": "LxckAFmBjVpB"
      },
      "execution_count": 35,
      "outputs": []
    },
    {
      "cell_type": "code",
      "source": [
        "initial_vf_dict: Mapping[NonTerminal[InventoryState], float] = \\\n",
        "    {s: 0. for s in si_mrp.non_terminal_states}\n",
        "initial_vf_dict"
      ],
      "metadata": {
        "colab": {
          "base_uri": "https://localhost:8080/"
        },
        "id": "MiQpKc3ed5vE",
        "outputId": "07f9c417-785f-4596-e4ab-070a658cd874"
      },
      "execution_count": 36,
      "outputs": [
        {
          "output_type": "execute_result",
          "data": {
            "text/plain": [
              "{NonTerminal(state=InventoryState(on_hand=0, on_order=0)): 0.0,\n",
              " NonTerminal(state=InventoryState(on_hand=0, on_order=1)): 0.0,\n",
              " NonTerminal(state=InventoryState(on_hand=0, on_order=2)): 0.0,\n",
              " NonTerminal(state=InventoryState(on_hand=1, on_order=0)): 0.0,\n",
              " NonTerminal(state=InventoryState(on_hand=1, on_order=1)): 0.0,\n",
              " NonTerminal(state=InventoryState(on_hand=2, on_order=0)): 0.0}"
            ]
          },
          "metadata": {},
          "execution_count": 36
        }
      ]
    },
    {
      "cell_type": "code",
      "source": [
        "traces: Iterable[Iterable[TransitionStep[S]]] = fmrp_episodes_stream(si_mrp)"
      ],
      "metadata": {
        "id": "0TZ603RvFmoM"
      },
      "execution_count": 37,
      "outputs": []
    },
    {
      "cell_type": "code",
      "source": [
        "n_traces = 2\n",
        "n_atoms = 4\n",
        "some_traces = [list(it.islice(trace, n_atoms)) for trace in it.islice(traces, n_traces)]; some_traces"
      ],
      "metadata": {
        "colab": {
          "base_uri": "https://localhost:8080/"
        },
        "id": "yauk2S_sFmlW",
        "outputId": "86fda569-080f-423a-d36e-71b703847547"
      },
      "execution_count": 38,
      "outputs": [
        {
          "output_type": "execute_result",
          "data": {
            "text/plain": [
              "[[TransitionStep(state=NonTerminal(state=InventoryState(on_hand=1, on_order=1)), next_state=NonTerminal(state=InventoryState(on_hand=1, on_order=0)), reward=-1.0),\n",
              "  TransitionStep(state=NonTerminal(state=InventoryState(on_hand=1, on_order=0)), next_state=NonTerminal(state=InventoryState(on_hand=0, on_order=1)), reward=-4.678794411714423),\n",
              "  TransitionStep(state=NonTerminal(state=InventoryState(on_hand=0, on_order=1)), next_state=NonTerminal(state=InventoryState(on_hand=0, on_order=1)), reward=-3.6787944117144233),\n",
              "  TransitionStep(state=NonTerminal(state=InventoryState(on_hand=0, on_order=1)), next_state=NonTerminal(state=InventoryState(on_hand=1, on_order=1)), reward=-0.0)],\n",
              " [TransitionStep(state=NonTerminal(state=InventoryState(on_hand=1, on_order=0)), next_state=NonTerminal(state=InventoryState(on_hand=1, on_order=1)), reward=-1.0),\n",
              "  TransitionStep(state=NonTerminal(state=InventoryState(on_hand=1, on_order=1)), next_state=NonTerminal(state=InventoryState(on_hand=2, on_order=0)), reward=-1.0),\n",
              "  TransitionStep(state=NonTerminal(state=InventoryState(on_hand=2, on_order=0)), next_state=NonTerminal(state=InventoryState(on_hand=1, on_order=0)), reward=-2.0),\n",
              "  TransitionStep(state=NonTerminal(state=InventoryState(on_hand=1, on_order=0)), next_state=NonTerminal(state=InventoryState(on_hand=0, on_order=1)), reward=-4.678794411714423)]]"
            ]
          },
          "metadata": {},
          "execution_count": 38
        }
      ]
    },
    {
      "cell_type": "code",
      "source": [
        "# \n",
        "# +++study unit_experiences_from_episodes()"
      ],
      "metadata": {
        "id": "eWwuf1awem_h"
      },
      "execution_count": null,
      "outputs": []
    },
    {
      "cell_type": "code",
      "source": [
        "transition_experiences = list(unit_experiences_from_episodes(episodes=some_traces, episode_length=4))\n",
        "transition_experiences"
      ],
      "metadata": {
        "colab": {
          "base_uri": "https://localhost:8080/"
        },
        "id": "umEOaYm6r7Vo",
        "outputId": "9f7bb404-a4b8-4ada-f470-396441b735e8"
      },
      "execution_count": 39,
      "outputs": [
        {
          "output_type": "execute_result",
          "data": {
            "text/plain": [
              "[TransitionStep(state=NonTerminal(state=InventoryState(on_hand=1, on_order=1)), next_state=NonTerminal(state=InventoryState(on_hand=1, on_order=0)), reward=-1.0),\n",
              " TransitionStep(state=NonTerminal(state=InventoryState(on_hand=1, on_order=0)), next_state=NonTerminal(state=InventoryState(on_hand=0, on_order=1)), reward=-4.678794411714423),\n",
              " TransitionStep(state=NonTerminal(state=InventoryState(on_hand=0, on_order=1)), next_state=NonTerminal(state=InventoryState(on_hand=0, on_order=1)), reward=-3.6787944117144233),\n",
              " TransitionStep(state=NonTerminal(state=InventoryState(on_hand=0, on_order=1)), next_state=NonTerminal(state=InventoryState(on_hand=1, on_order=1)), reward=-0.0),\n",
              " TransitionStep(state=NonTerminal(state=InventoryState(on_hand=1, on_order=0)), next_state=NonTerminal(state=InventoryState(on_hand=1, on_order=1)), reward=-1.0),\n",
              " TransitionStep(state=NonTerminal(state=InventoryState(on_hand=1, on_order=1)), next_state=NonTerminal(state=InventoryState(on_hand=2, on_order=0)), reward=-1.0),\n",
              " TransitionStep(state=NonTerminal(state=InventoryState(on_hand=2, on_order=0)), next_state=NonTerminal(state=InventoryState(on_hand=1, on_order=0)), reward=-2.0),\n",
              " TransitionStep(state=NonTerminal(state=InventoryState(on_hand=1, on_order=0)), next_state=NonTerminal(state=InventoryState(on_hand=0, on_order=1)), reward=-4.678794411714423)]"
            ]
          },
          "metadata": {},
          "execution_count": 39
        }
      ]
    },
    {
      "cell_type": "code",
      "source": [
        "# \n",
        "# ---study unit_experiences_from_episodes()"
      ],
      "metadata": {
        "id": "W8bsPR6zevc7"
      },
      "execution_count": 41,
      "outputs": []
    },
    {
      "cell_type": "markdown",
      "source": [
        "### 3.4 Accumulate the updates"
      ],
      "metadata": {
        "id": "g7sIp56d7G8X"
      }
    },
    {
      "cell_type": "markdown",
      "source": [
        "The updates are accumulated over all the input transitions making use of the `update` methods of `FunctionApprox` class. The update of the `ValueFunctionApprox` is done after each transition experience. The `iterate.accumulate` function is used which is a wrapper around the `itertools.accumulate` function. The function governing the accumulation is the `step` function inside the `td_prediction` function."
      ],
      "metadata": {
        "id": "JkX4JV6812yE"
      }
    },
    {
      "cell_type": "markdown",
      "source": [
        "Let us investigate how the `accumulate()` function in the `itertools` module works."
      ],
      "metadata": {
        "id": "aTaTOwHzKQwm"
      }
    },
    {
      "cell_type": "code",
      "source": [
        "# hide\n",
        "# +++study td_prediction() <td>"
      ],
      "metadata": {
        "id": "kiExE_yb5i0w"
      },
      "execution_count": 42,
      "outputs": []
    },
    {
      "cell_type": "code",
      "source": [
        "# \n",
        "# +++.+++study accumulate() <itertools>"
      ],
      "metadata": {
        "id": "O3X8Hq1QxG2L"
      },
      "execution_count": 43,
      "outputs": []
    },
    {
      "cell_type": "markdown",
      "source": [
        "Multiply"
      ],
      "metadata": {
        "id": "g2g0IGa5zNQV"
      }
    },
    {
      "cell_type": "code",
      "source": [
        "my_lst = [1, 2, 3, 4, 5]"
      ],
      "metadata": {
        "id": "3mltn9coyDKd"
      },
      "execution_count": 44,
      "outputs": []
    },
    {
      "cell_type": "code",
      "source": [
        "import operator\n",
        "result = it.accumulate(my_lst, operator.mul); result"
      ],
      "metadata": {
        "colab": {
          "base_uri": "https://localhost:8080/"
        },
        "id": "U2GQnB3GyDHu",
        "outputId": "8f4f2dc9-c218-45c3-ef24-9104c267ca1c"
      },
      "execution_count": 45,
      "outputs": [
        {
          "output_type": "execute_result",
          "data": {
            "text/plain": [
              "<itertools.accumulate at 0x7faf461a8460>"
            ]
          },
          "metadata": {},
          "execution_count": 45
        }
      ]
    },
    {
      "cell_type": "code",
      "source": [
        "list(result)"
      ],
      "metadata": {
        "colab": {
          "base_uri": "https://localhost:8080/"
        },
        "id": "JyqOxHYEyDEH",
        "outputId": "47f7e824-ba19-437d-a748-d53b5e5ca9f0"
      },
      "execution_count": 46,
      "outputs": [
        {
          "output_type": "execute_result",
          "data": {
            "text/plain": [
              "[1, 2, 6, 24, 120]"
            ]
          },
          "metadata": {},
          "execution_count": 46
        }
      ]
    },
    {
      "cell_type": "markdown",
      "source": [
        "Max"
      ],
      "metadata": {
        "id": "7dZNjDc8zQx9"
      }
    },
    {
      "cell_type": "code",
      "source": [
        "my_lst = [5, 3, 6, 2, 1, 9, 1]"
      ],
      "metadata": {
        "id": "r8zqmcSkxqOc"
      },
      "execution_count": 47,
      "outputs": []
    },
    {
      "cell_type": "code",
      "source": [
        "result = it.accumulate(my_lst, max); result"
      ],
      "metadata": {
        "colab": {
          "base_uri": "https://localhost:8080/"
        },
        "id": "FKICJEuNxqJR",
        "outputId": "1f996039-a26c-4d95-dd54-b65eaa1e51cf"
      },
      "execution_count": 48,
      "outputs": [
        {
          "output_type": "execute_result",
          "data": {
            "text/plain": [
              "<itertools.accumulate at 0x7faf4619a640>"
            ]
          },
          "metadata": {},
          "execution_count": 48
        }
      ]
    },
    {
      "cell_type": "code",
      "source": [
        "list(result)"
      ],
      "metadata": {
        "colab": {
          "base_uri": "https://localhost:8080/"
        },
        "id": "8dk_IttYxqCd",
        "outputId": "e7e6b18b-8761-4366-fe92-422336d62eb8"
      },
      "execution_count": 49,
      "outputs": [
        {
          "output_type": "execute_result",
          "data": {
            "text/plain": [
              "[5, 5, 6, 6, 6, 9, 9]"
            ]
          },
          "metadata": {},
          "execution_count": 49
        }
      ]
    },
    {
      "cell_type": "code",
      "source": [
        "# \n",
        "# ---.---study accumulate() <itertools>"
      ],
      "metadata": {
        "id": "grAYcsVqxdWp"
      },
      "execution_count": 50,
      "outputs": []
    },
    {
      "cell_type": "code",
      "source": [
        "# hide\n",
        "# ---study td_prediction() <td>"
      ],
      "metadata": {
        "id": "CU2kxL8V68Jo"
      },
      "execution_count": 51,
      "outputs": []
    },
    {
      "cell_type": "code",
      "source": [
        "# hide\n",
        "# +++study td_finite_learning_rate_correctness()"
      ],
      "metadata": {
        "id": "MnkDTYcg7acr"
      },
      "execution_count": 52,
      "outputs": []
    },
    {
      "cell_type": "code",
      "source": [
        "# hide\n",
        "# %%time\n",
        "# td_episode_length: int = 100\n",
        "# initial_learning_rate: float = 0.03\n",
        "# half_life: float = 1000.0\n",
        "# exponent: float = 0.5\n",
        "# lambda_param = 0.3\n",
        "\n",
        "# td_finite_learning_rate_correctness(\n",
        "#     fmrp=si_mrp,\n",
        "#     gamma=gamma,\n",
        "#     episode_length=td_episode_length,\n",
        "#     num_episodes=num_episodes,\n",
        "#     initial_learning_rate=initial_learning_rate,\n",
        "#     half_life=half_life,\n",
        "#     exponent=exponent,\n",
        "#     initial_vf_dict=initial_vf_dict\n",
        "# )"
      ],
      "metadata": {
        "id": "Nxo4PamOSip4"
      },
      "execution_count": 53,
      "outputs": []
    },
    {
      "cell_type": "code",
      "source": [
        "# hide\n",
        "# ---study td_finite_learning_rate_correctness()"
      ],
      "metadata": {
        "id": "KxxKmZ-ZFMT3"
      },
      "execution_count": 54,
      "outputs": []
    },
    {
      "cell_type": "code",
      "source": [
        "# hide\n",
        "# +++study td_lambda_finite_learning_rate_correctness()"
      ],
      "metadata": {
        "id": "CuLF1t_v5QYi"
      },
      "execution_count": 55,
      "outputs": []
    },
    {
      "cell_type": "code",
      "source": [
        "# hide\n",
        "# %%time\n",
        "# td_lambda_finite_learning_rate_correctness(\n",
        "#     fmrp=si_mrp,\n",
        "#     gamma=gamma,\n",
        "#     lambd=lambda_param,\n",
        "#     episode_length=td_episode_length,\n",
        "#     num_episodes=num_episodes,\n",
        "#     initial_learning_rate=initial_learning_rate,\n",
        "#     half_life=half_life,\n",
        "#     exponent=exponent,\n",
        "#     initial_vf_dict=initial_vf_dict\n",
        "# )"
      ],
      "metadata": {
        "id": "0l-wPc0f5QT-"
      },
      "execution_count": 56,
      "outputs": []
    },
    {
      "cell_type": "code",
      "source": [
        "# ---study td_lambda_finite_learning_rate_correctness()"
      ],
      "metadata": {
        "id": "m9c16fuN5QLO"
      },
      "execution_count": 57,
      "outputs": []
    },
    {
      "cell_type": "markdown",
      "source": [
        "### 3.5 Visualize"
      ],
      "metadata": {
        "id": "M5Ez2KsaDhMa"
      }
    },
    {
      "cell_type": "markdown",
      "source": [
        "Let us now focus on the essential part of this project. We create an instance of the MRP."
      ],
      "metadata": {
        "id": "_p4setOtMMWy"
      }
    },
    {
      "cell_type": "code",
      "source": [
        "item_capacity: int = 2\n",
        "item_poisson_lambda: float = 1.0\n",
        "item_holding_cost: float = 1.0\n",
        "item_stockout_cost: float = 10.0\n",
        "item_gamma: float = 0.9"
      ],
      "metadata": {
        "id": "HOnutKGVKB7c"
      },
      "execution_count": 58,
      "outputs": []
    },
    {
      "cell_type": "code",
      "source": [
        "si_mrp: SimpleInventoryMRPFinite = SimpleInventoryMRPFinite(\n",
        "    capacity=item_capacity,\n",
        "    poisson_lambda=item_poisson_lambda,\n",
        "    holding_cost=item_holding_cost,\n",
        "    stockout_cost=item_stockout_cost\n",
        ")"
      ],
      "metadata": {
        "id": "Yc9XHlOzM8j2"
      },
      "execution_count": 59,
      "outputs": []
    },
    {
      "cell_type": "markdown",
      "source": [
        " This is the exact value function:"
      ],
      "metadata": {
        "id": "8elRBxDaOKCM"
      }
    },
    {
      "cell_type": "code",
      "source": [
        "si_mrp.display_value_function(gamma=item_gamma)"
      ],
      "metadata": {
        "colab": {
          "base_uri": "https://localhost:8080/"
        },
        "id": "ARMJ1vIQNBRd",
        "outputId": "3efa0f44-9a2f-43c0-91ad-69e606665856"
      },
      "execution_count": 60,
      "outputs": [
        {
          "output_type": "stream",
          "name": "stdout",
          "text": [
            "{NonTerminal(state=InventoryState(on_hand=0, on_order=0)): -35.511,\n",
            " NonTerminal(state=InventoryState(on_hand=0, on_order=2)): -28.345,\n",
            " NonTerminal(state=InventoryState(on_hand=0, on_order=1)): -27.932,\n",
            " NonTerminal(state=InventoryState(on_hand=1, on_order=0)): -28.932,\n",
            " NonTerminal(state=InventoryState(on_hand=1, on_order=1)): -29.345,\n",
            " NonTerminal(state=InventoryState(on_hand=2, on_order=0)): -30.345}\n"
          ]
        }
      ]
    },
    {
      "cell_type": "markdown",
      "source": [
        "Now we perform a Temporal-Difference Prediction. First, we generate a stream of transition experiences:"
      ],
      "metadata": {
        "id": "ioOPnsb9OaCc"
      }
    },
    {
      "cell_type": "code",
      "source": [
        "episode_length: int = 100\n",
        "initial_learning_rate: float = 0.03\n",
        "half_life: float = 1000.0\n",
        "exponent: float = 0.5\n",
        "gamma: float = 0.9"
      ],
      "metadata": {
        "id": "QhLV8QppC1KY"
      },
      "execution_count": 61,
      "outputs": []
    },
    {
      "cell_type": "code",
      "source": [
        "episodes: Iterable[Iterable[TransitionStep[S]]] = \\\n",
        "  fmrp_episodes_stream(si_mrp)\n",
        "traces"
      ],
      "metadata": {
        "colab": {
          "base_uri": "https://localhost:8080/"
        },
        "id": "giUU8WmQOj6l",
        "outputId": "868769ee-0eaf-477e-dbf7-4d20763fa454"
      },
      "execution_count": 62,
      "outputs": [
        {
          "output_type": "execute_result",
          "data": {
            "text/plain": [
              "<generator object MarkovRewardProcess.reward_traces at 0x7faf46cd6250>"
            ]
          },
          "metadata": {},
          "execution_count": 62
        }
      ]
    },
    {
      "cell_type": "code",
      "source": [
        "transitions: Iterable[TransitionStep[S]] = \\\n",
        "  unit_experiences_from_episodes(episodes, episode_length)\n",
        "transitions"
      ],
      "metadata": {
        "colab": {
          "base_uri": "https://localhost:8080/"
        },
        "id": "GGCUgMZKCmc5",
        "outputId": "b8f58321-13cd-4aa8-90b4-c3382f169323"
      },
      "execution_count": 63,
      "outputs": [
        {
          "output_type": "execute_result",
          "data": {
            "text/plain": [
              "<itertools.chain at 0x7faf462029d0>"
            ]
          },
          "metadata": {},
          "execution_count": 63
        }
      ]
    },
    {
      "cell_type": "code",
      "source": [
        "def learning_rate_schedule(\n",
        "    initial_learning_rate: float, \n",
        "    half_life: float, \n",
        "    exponent: float\n",
        ") -> Callable[[int], float]:\n",
        "    def lr_func(n: int) -> float:\n",
        "        return initial_learning_rate*(1 + (n - 1)/half_life)**-exponent\n",
        "    return lr_func"
      ],
      "metadata": {
        "id": "2B_mD9prD5yr"
      },
      "execution_count": 64,
      "outputs": []
    },
    {
      "cell_type": "code",
      "source": [
        "learning_rate_func: Callable[[int], float] = learning_rate_schedule(\n",
        "    initial_learning_rate=initial_learning_rate,\n",
        "    half_life=half_life,\n",
        "    exponent=exponent\n",
        ")"
      ],
      "metadata": {
        "id": "Cb614RuVDNRf"
      },
      "execution_count": 65,
      "outputs": []
    },
    {
      "cell_type": "markdown",
      "source": [
        "Here are the value function approximations:"
      ],
      "metadata": {
        "id": "XlwWGy6RQyYh"
      }
    },
    {
      "cell_type": "code",
      "source": [
        "vfas: Iterator[ValueFunctionApprox[InventoryState]] = \\\n",
        "  td_prediction(\n",
        "      transitions=transitions,\n",
        "      # approx_0=Tabular(values_map=initial_vf_dict),\n",
        "      approx_0=Tabular(count_to_weight_func=learning_rate_func),\n",
        "      γ=item_gamma,\n",
        "      # episode_length_tolerance=1e-6\n",
        "  )\n",
        "vfas"
      ],
      "metadata": {
        "colab": {
          "base_uri": "https://localhost:8080/"
        },
        "id": "hbCfLwClOj21",
        "outputId": "dcafcf02-d771-46db-a07d-7049e4949c8a"
      },
      "execution_count": 66,
      "outputs": [
        {
          "output_type": "execute_result",
          "data": {
            "text/plain": [
              "<itertools.accumulate at 0x7faf46212230>"
            ]
          },
          "metadata": {},
          "execution_count": 66
        }
      ]
    },
    {
      "cell_type": "code",
      "source": [
        "# n_episodes = 60_000\n",
        "n_episodes = 10_000"
      ],
      "metadata": {
        "id": "VxVem27EOjxk"
      },
      "execution_count": 67,
      "outputs": []
    },
    {
      "cell_type": "code",
      "source": [
        "%%time\n",
        "import itertools as it\n",
        "vfa_lst = [vfa for vfa in it.islice(vfas, episode_length*n_episodes)]"
      ],
      "metadata": {
        "colab": {
          "base_uri": "https://localhost:8080/"
        },
        "id": "yx_xrU5Wyyc2",
        "outputId": "4fa08b88-d548-4fa8-a8a0-5d232d8b149e"
      },
      "execution_count": 68,
      "outputs": [
        {
          "output_type": "stream",
          "name": "stdout",
          "text": [
            "CPU times: user 1min 3s, sys: 2.05 s, total: 1min 5s\n",
            "Wall time: 1min 7s\n"
          ]
        }
      ]
    },
    {
      "cell_type": "code",
      "source": [
        "%%time\n",
        "last_func: ValueFunctionApprox[InventoryState] = iterate.last(vfa_lst)"
      ],
      "metadata": {
        "colab": {
          "base_uri": "https://localhost:8080/"
        },
        "id": "dyzrNj6EShIk",
        "outputId": "c2fe158e-978c-4897-a46b-e2a4fd397b47"
      },
      "execution_count": 69,
      "outputs": [
        {
          "output_type": "stream",
          "name": "stdout",
          "text": [
            "CPU times: user 31.1 ms, sys: 997 µs, total: 32.1 ms\n",
            "Wall time: 32 ms\n"
          ]
        }
      ]
    },
    {
      "cell_type": "code",
      "source": [
        "last_func"
      ],
      "metadata": {
        "colab": {
          "base_uri": "https://localhost:8080/"
        },
        "id": "cLOgGvkbVFWw",
        "outputId": "458650cd-945a-49ef-bd1d-7a59f259a613"
      },
      "execution_count": 70,
      "outputs": [
        {
          "output_type": "execute_result",
          "data": {
            "text/plain": [
              "Tabular(values_map={NonTerminal(state=InventoryState(on_hand=0, on_order=1)): -27.972185110983187, NonTerminal(state=InventoryState(on_hand=1, on_order=1)): -29.3505025445315, NonTerminal(state=InventoryState(on_hand=0, on_order=0)): -35.53250116986358, NonTerminal(state=InventoryState(on_hand=0, on_order=2)): -28.399420194203877, NonTerminal(state=InventoryState(on_hand=2, on_order=0)): -30.495176822532102, NonTerminal(state=InventoryState(on_hand=1, on_order=0)): -28.930150363990364}, counts_map={NonTerminal(state=InventoryState(on_hand=0, on_order=1)): 276663, NonTerminal(state=InventoryState(on_hand=1, on_order=1)): 162022, NonTerminal(state=InventoryState(on_hand=0, on_order=0)): 117273, NonTerminal(state=InventoryState(on_hand=0, on_order=2)): 117683, NonTerminal(state=InventoryState(on_hand=2, on_order=0)): 163210, NonTerminal(state=InventoryState(on_hand=1, on_order=0)): 163148}, count_to_weight_func=<function learning_rate_schedule.<locals>.lr_func at 0x7faf46204830>)"
            ]
          },
          "metadata": {},
          "execution_count": 70
        }
      ]
    },
    {
      "cell_type": "markdown",
      "source": [
        "After Temporal-Difference:"
      ],
      "metadata": {
        "id": "nOMQpX4lqAJB"
      }
    },
    {
      "cell_type": "code",
      "source": [
        "pprint(\n",
        "    {\n",
        "      s: round(last_func.evaluate([s])[0], 3)\n",
        "      for s in si_mrp.non_terminal_states\n",
        "    }\n",
        ")"
      ],
      "metadata": {
        "colab": {
          "base_uri": "https://localhost:8080/"
        },
        "id": "sXs0v9mfooMT",
        "outputId": "b62ee14e-c199-442c-8fee-5a2b7c1b0dd1"
      },
      "execution_count": 71,
      "outputs": [
        {
          "output_type": "stream",
          "name": "stdout",
          "text": [
            "{NonTerminal(state=InventoryState(on_hand=0, on_order=0)): -35.533,\n",
            " NonTerminal(state=InventoryState(on_hand=0, on_order=2)): -28.399,\n",
            " NonTerminal(state=InventoryState(on_hand=0, on_order=1)): -27.972,\n",
            " NonTerminal(state=InventoryState(on_hand=1, on_order=0)): -28.93,\n",
            " NonTerminal(state=InventoryState(on_hand=1, on_order=1)): -29.351,\n",
            " NonTerminal(state=InventoryState(on_hand=2, on_order=0)): -30.495}\n"
          ]
        }
      ]
    },
    {
      "cell_type": "markdown",
      "source": [
        "Exact Value Function:"
      ],
      "metadata": {
        "id": "zaCUma4xqDmi"
      }
    },
    {
      "cell_type": "code",
      "source": [
        "si_mrp.display_value_function(gamma=item_gamma)"
      ],
      "metadata": {
        "colab": {
          "base_uri": "https://localhost:8080/"
        },
        "id": "kQIbOa0rooJL",
        "outputId": "c67beb31-920a-48d8-dbd2-c4b819fe4ffe"
      },
      "execution_count": 72,
      "outputs": [
        {
          "output_type": "stream",
          "name": "stdout",
          "text": [
            "{NonTerminal(state=InventoryState(on_hand=0, on_order=0)): -35.511,\n",
            " NonTerminal(state=InventoryState(on_hand=0, on_order=2)): -28.345,\n",
            " NonTerminal(state=InventoryState(on_hand=0, on_order=1)): -27.932,\n",
            " NonTerminal(state=InventoryState(on_hand=1, on_order=0)): -28.932,\n",
            " NonTerminal(state=InventoryState(on_hand=1, on_order=1)): -29.345,\n",
            " NonTerminal(state=InventoryState(on_hand=2, on_order=0)): -30.345}\n"
          ]
        }
      ]
    },
    {
      "cell_type": "markdown",
      "source": [
        "The comparison shows that, with 10,000 episodes, the Tabular Temporal-Difference Prediction comes quite close to the real values."
      ],
      "metadata": {
        "id": "ZKqv1peGxWdk"
      }
    },
    {
      "cell_type": "markdown",
      "source": [
        "Let us visualize the convergence of the State Value Function for each of the states:"
      ],
      "metadata": {
        "id": "smHS_jAcx-ll"
      }
    },
    {
      "cell_type": "code",
      "source": [
        "# hide\n",
        "# %%time\n",
        "# vfa_lst = [vfa for vfa in it.islice(vfas, n_traces)]"
      ],
      "metadata": {
        "id": "6_TTN8EFaSIM"
      },
      "execution_count": 73,
      "outputs": []
    },
    {
      "cell_type": "code",
      "source": [
        "vfa_lst[10]"
      ],
      "metadata": {
        "colab": {
          "base_uri": "https://localhost:8080/"
        },
        "id": "4YsKia-YJHdi",
        "outputId": "72730ad0-e65f-45b0-afb2-13400f45e586"
      },
      "execution_count": 74,
      "outputs": [
        {
          "output_type": "execute_result",
          "data": {
            "text/plain": [
              "Tabular(values_map={NonTerminal(state=InventoryState(on_hand=0, on_order=1)): 0.0, NonTerminal(state=InventoryState(on_hand=1, on_order=1)): -0.06109149705429809, NonTerminal(state=InventoryState(on_hand=0, on_order=0)): -0.590854609034142, NonTerminal(state=InventoryState(on_hand=0, on_order=2)): 0.0, NonTerminal(state=InventoryState(on_hand=2, on_order=0)): -0.21529245146013765, NonTerminal(state=InventoryState(on_hand=1, on_order=0)): -0.14036383235143268}, counts_map={NonTerminal(state=InventoryState(on_hand=0, on_order=1)): 1, NonTerminal(state=InventoryState(on_hand=1, on_order=1)): 1, NonTerminal(state=InventoryState(on_hand=0, on_order=0)): 2, NonTerminal(state=InventoryState(on_hand=0, on_order=2)): 2, NonTerminal(state=InventoryState(on_hand=2, on_order=0)): 3, NonTerminal(state=InventoryState(on_hand=1, on_order=0)): 1}, count_to_weight_func=<function learning_rate_schedule.<locals>.lr_func at 0x7faf46204830>)"
            ]
          },
          "metadata": {},
          "execution_count": 74
        }
      ]
    },
    {
      "cell_type": "code",
      "source": [
        "vfa_lst[10].values_map"
      ],
      "metadata": {
        "colab": {
          "base_uri": "https://localhost:8080/"
        },
        "id": "BZGVL3uSY62F",
        "outputId": "f77c39cc-6305-4d03-bf30-a71df5eb243d"
      },
      "execution_count": 75,
      "outputs": [
        {
          "output_type": "execute_result",
          "data": {
            "text/plain": [
              "{NonTerminal(state=InventoryState(on_hand=0, on_order=1)): 0.0,\n",
              " NonTerminal(state=InventoryState(on_hand=1, on_order=1)): -0.06109149705429809,\n",
              " NonTerminal(state=InventoryState(on_hand=0, on_order=0)): -0.590854609034142,\n",
              " NonTerminal(state=InventoryState(on_hand=0, on_order=2)): 0.0,\n",
              " NonTerminal(state=InventoryState(on_hand=2, on_order=0)): -0.21529245146013765,\n",
              " NonTerminal(state=InventoryState(on_hand=1, on_order=0)): -0.14036383235143268}"
            ]
          },
          "metadata": {},
          "execution_count": 75
        }
      ]
    },
    {
      "cell_type": "code",
      "source": [
        "vfa_lst[10].counts_map"
      ],
      "metadata": {
        "colab": {
          "base_uri": "https://localhost:8080/"
        },
        "id": "Y_En8Q2ebt9D",
        "outputId": "82119305-2ee8-4bc7-f224-19c5f8febfd4"
      },
      "execution_count": 76,
      "outputs": [
        {
          "output_type": "execute_result",
          "data": {
            "text/plain": [
              "{NonTerminal(state=InventoryState(on_hand=0, on_order=1)): 1,\n",
              " NonTerminal(state=InventoryState(on_hand=1, on_order=1)): 1,\n",
              " NonTerminal(state=InventoryState(on_hand=0, on_order=0)): 2,\n",
              " NonTerminal(state=InventoryState(on_hand=0, on_order=2)): 2,\n",
              " NonTerminal(state=InventoryState(on_hand=2, on_order=0)): 3,\n",
              " NonTerminal(state=InventoryState(on_hand=1, on_order=0)): 1}"
            ]
          },
          "metadata": {},
          "execution_count": 76
        }
      ]
    },
    {
      "cell_type": "markdown",
      "source": [
        "Let us visualize how the value function for each state converges during the operation of the Temporal-Difference algorithm."
      ],
      "metadata": {
        "id": "jLlDE3Pl4D-X"
      }
    },
    {
      "cell_type": "code",
      "source": [
        "values_dicts = [(vfa.values_map) for vfa in vfa_lst]\n",
        "# values_dicts"
      ],
      "metadata": {
        "id": "xj5nwnzykaF-"
      },
      "execution_count": 77,
      "outputs": []
    },
    {
      "cell_type": "code",
      "source": [
        "# https://stackoverflow.com/questions/5946236/how-to-merge-dicts-collecting-values-from-matching-keys\n",
        "from collections import defaultdict\n",
        "ds = values_dicts\n",
        "merged_dict = defaultdict(list)\n",
        "for d in ds: #input dicts\n",
        "    for key, value in d.items():\n",
        "        merged_dict[key].append(value)\n",
        "# merged_dict"
      ],
      "metadata": {
        "id": "rhH7jSHfkI4a"
      },
      "execution_count": 78,
      "outputs": []
    },
    {
      "cell_type": "code",
      "source": [
        "len(merged_dict)"
      ],
      "metadata": {
        "colab": {
          "base_uri": "https://localhost:8080/"
        },
        "id": "2-u7PCSnkIxz",
        "outputId": "6eb88af5-2196-451b-ef17-0ecea74f4801"
      },
      "execution_count": 79,
      "outputs": [
        {
          "output_type": "execute_result",
          "data": {
            "text/plain": [
              "6"
            ]
          },
          "metadata": {},
          "execution_count": 79
        }
      ]
    },
    {
      "cell_type": "code",
      "source": [
        "import matplotlib.pyplot as plt\n",
        "fig,axs = plt.subplots(figsize=(13,10))\n",
        "axs.set_xlabel('Iterations', fontsize=20)\n",
        "axs.set_title(f'Convergence of value functions during Temporal-Difference', fontsize=24)\n",
        "for it in merged_dict.items():\n",
        "  axs.plot(it[1], label=f'{it[0].state}')\n",
        "axs.legend(fontsize=20);"
      ],
      "metadata": {
        "colab": {
          "base_uri": "https://localhost:8080/",
          "height": 639
        },
        "id": "vc8g4rEpkIuN",
        "outputId": "6d64d98e-2f2d-42b0-d31f-eaf2801f3c94"
      },
      "execution_count": 80,
      "outputs": [
        {
          "output_type": "display_data",
          "data": {
            "text/plain": [
              "<Figure size 936x720 with 1 Axes>"
            ],
            "image/png": "[encoded data removed]"
          },
          "metadata": {
            "needs_background": "light"
          }
        }
      ]
    },
    {
      "cell_type": "markdown",
      "source": [
        "Next we visualize the number of visits for each state during the operation of the Monte-Carlo algorithm."
      ],
      "metadata": {
        "id": "TzkDGJaA3lZu"
      }
    },
    {
      "cell_type": "code",
      "source": [
        "counts_dicts = [(vfa.counts_map) for vfa in vfa_lst]\n",
        "# counts_dicts"
      ],
      "metadata": {
        "id": "KWA1WqtF3CAd"
      },
      "execution_count": 81,
      "outputs": []
    },
    {
      "cell_type": "code",
      "source": [
        "# https://stackoverflow.com/questions/5946236/how-to-merge-dicts-collecting-values-from-matching-keys\n",
        "from collections import defaultdict\n",
        "ds = counts_dicts\n",
        "merged_dict = defaultdict(list)\n",
        "for d in ds: #input dicts\n",
        "    for key, value in d.items():\n",
        "        merged_dict[key].append(value)\n",
        "# merged_dict"
      ],
      "metadata": {
        "id": "iZU7-dj13CAe"
      },
      "execution_count": 82,
      "outputs": []
    },
    {
      "cell_type": "code",
      "source": [
        "len(merged_dict)"
      ],
      "metadata": {
        "colab": {
          "base_uri": "https://localhost:8080/"
        },
        "outputId": "973dd220-aadc-473a-ff13-bc36ee636888",
        "id": "lA4Q-nC73CAe"
      },
      "execution_count": 83,
      "outputs": [
        {
          "output_type": "execute_result",
          "data": {
            "text/plain": [
              "6"
            ]
          },
          "metadata": {},
          "execution_count": 83
        }
      ]
    },
    {
      "cell_type": "code",
      "source": [
        "import matplotlib.pyplot as plt\n",
        "fig,axs = plt.subplots(figsize=(13,10))\n",
        "axs.set_xlabel('Iterations', fontsize=20)\n",
        "axs.set_title(f'Visits to each state during Temporal-Difference', fontsize=24)\n",
        "for it in merged_dict.items():\n",
        "  axs.plot(it[1], label=f'{it[0].state}')\n",
        "axs.legend(fontsize=20);"
      ],
      "metadata": {
        "colab": {
          "base_uri": "https://localhost:8080/",
          "height": 733
        },
        "outputId": "39ef41d8-d9d2-42c4-9c19-79f308f6ebc2",
        "id": "iD6B-8wO3CAe"
      },
      "execution_count": 84,
      "outputs": [
        {
          "output_type": "stream",
          "name": "stderr",
          "text": [
            "/usr/local/lib/python3.7/dist-packages/IPython/core/events.py:88: UserWarning: Creating legend with loc=\"best\" can be slow with large amounts of data.\n",
            "  func(*args, **kwargs)\n",
            "/usr/local/lib/python3.7/dist-packages/IPython/core/pylabtools.py:128: UserWarning: Creating legend with loc=\"best\" can be slow with large amounts of data.\n",
            "  fig.canvas.print_figure(bytes_io, **kw)\n"
          ]
        },
        {
          "output_type": "display_data",
          "data": {
            "text/plain": [
              "<Figure size 936x720 with 1 Axes>"
            ],
            "image/png": "[encoded data removed]"
          },
          "metadata": {
            "needs_background": "light"
          }
        }
      ]
    },
    {
      "cell_type": "code",
      "source": [],
      "metadata": {
        "id": "969fn5YkcUD9"
      },
      "execution_count": null,
      "outputs": []
    },
    {
      "cell_type": "code",
      "source": [
        "# hide\n",
        "# plot_batch: int = 50\n",
        "# plot_start: int = 0\n",
        "# learning_rates: Sequence[Tuple[float, float, float]] = \\\n",
        "#     [(0.01, 100000, 0.5), (0.03, 1000, 0.5)]"
      ],
      "metadata": {
        "id": "YDOPfmqCS7FO"
      },
      "execution_count": null,
      "outputs": []
    },
    {
      "cell_type": "code",
      "source": [
        "# hide\n",
        "# %%time\n",
        "# compare_td_and_mc(\n",
        "#     fmrp=si_mrp,\n",
        "#     gamma=gamma,\n",
        "#     mc_episode_length_tol=mc_episode_length_tol,\n",
        "#     num_episodes=num_episodes,\n",
        "#     learning_rates=learning_rates,\n",
        "#     initial_vf_dict=initial_vf_dict,\n",
        "#     plot_batch=plot_batch,\n",
        "#     plot_start=plot_start\n",
        "# )"
      ],
      "metadata": {
        "id": "svQjlKayS7Cl"
      },
      "execution_count": null,
      "outputs": []
    },
    {
      "cell_type": "code",
      "source": [],
      "metadata": {
        "id": "P20p8-CgS6tO"
      },
      "execution_count": null,
      "outputs": []
    }
  ]
}