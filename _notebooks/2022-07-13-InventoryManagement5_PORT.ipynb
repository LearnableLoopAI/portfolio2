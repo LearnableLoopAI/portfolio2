{
  "nbformat": 4,
  "nbformat_minor": 0,
  "metadata": {
    "colab": {
      "provenance": [],
      "collapsed_sections": []
    },
    "kernelspec": {
      "display_name": "Python 3",
      "language": "python",
      "name": "python3"
    },
    "pycharm": {
      "stem_cell": {
        "cell_type": "raw",
        "metadata": {
          "collapsed": false
        },
        "source": []
      }
    }
  },
  "cells": [
    {
      "cell_type": "markdown",
      "metadata": {
        "id": "klGNgWREsvQv"
      },
      "source": [
        "# \"An RL Approach for Inventory Management (Part 5)\"\n",
        "\n",
        "> Introduction to Function Approximation\n",
        "- toc: true\n",
        "- branch: master\n",
        "- badges: false\n",
        "- comments: true\n",
        "- hide: false\n",
        "- search_exclude: true\n",
        "- metadata_key1: metadata_value1\n",
        "- metadata_key2: metadata_value2\n",
        "- image: images/InventoryManagement5.png\n",
        "- categories: [Inventory_Management,   Function_Approximation,   Python]\n",
        "- show_tags: true"
      ]
    },
    {
      "cell_type": "code",
      "source": [
        "# hide\n",
        "# based on func_approx_simple_examples_ANNO.ipynb"
      ],
      "metadata": {
        "id": "m6pkbZkFuKs1"
      },
      "execution_count": 1,
      "outputs": []
    },
    {
      "cell_type": "markdown",
      "source": [
        "## 1 Introduction to Function Approximation"
      ],
      "metadata": {
        "id": "1FvA1Om_-cQO"
      }
    },
    {
      "cell_type": "markdown",
      "source": [
        "When the state space becomes very large it is not feasible or even possible to make use of a tabular representation for a MDP (Markov Decision Process). Assume we have access to data in the form of a sequence of $n$ $(x, y)$ pairs:\n",
        "\n",
        "$[(x_i,y_i)|1 \\le i \\le n]$\n",
        "\n",
        "We can now attempt to estimate the probability density of $y$ conditional on $x$:\n",
        "\n",
        "$f(y|x;w) = f(x;w)(y)$\n",
        "\n",
        "The model-expected value of $y$ condition on $x$ is\n",
        "$$\n",
        "\\hat y = \\mathbb E_M[y|x] = ∫_{-∞}^{+\\infty}y⋅f(y|x;w)⋅dy\n",
        "$$\n",
        "This is the function approximation's prediction for a given predictor variable $x$.\n",
        "\n",
        "Some terminology:\n",
        "\n",
        "$x \\in \\mathcal X$ is the *predictor* variable\n",
        "\n",
        "$y \\in \\mathbb R$ is the *response* variable\n",
        "\n",
        "$\\hat y \\in \\mathbb R$ is the *prediction* variable\n",
        "\n",
        "We are laying the groundwork for the development of software for *Approximate Dynamic Programming* as well as *Reinforcement Learning*. In this context $\\mathbb E_M[y|x]$ provides an estimate for a:\n",
        "- *value function*\n",
        "  - $x$ represents the *state*\n",
        "  - $y$ represents the *return*\n",
        "- *policy*\n",
        "  - $x$ represents the *state*\n",
        "  - $y$ represents the *action*\n",
        "\n",
        "\n"
      ],
      "metadata": {
        "id": "0AX8dgDo_ZOy"
      }
    },
    {
      "cell_type": "code",
      "metadata": {
        "id": "4E8ujfcND6pJ",
        "colab": {
          "base_uri": "https://localhost:8080/"
        },
        "outputId": "53d6eefb-82a5-4eca-b8d1-e9f0b096fcaa"
      },
      "source": [
        "#hide\n",
        "from google.colab import drive\n",
        "drive.mount('/content/gdrive', force_remount=True)\n",
        "root_dir = \"/content/gdrive/My Drive\"\n",
        "base_dir = root_dir + '/Rao_CME241/RL-book'"
      ],
      "execution_count": 2,
      "outputs": [
        {
          "output_type": "stream",
          "name": "stdout",
          "text": [
            "Mounted at /content/gdrive\n"
          ]
        }
      ]
    },
    {
      "cell_type": "code",
      "source": [
        "!python --version"
      ],
      "metadata": {
        "colab": {
          "base_uri": "https://localhost:8080/"
        },
        "id": "Dfw0MzREJJ94",
        "outputId": "3f1fdc32-8a6e-4b8c-8d99-058bf7b13dd1"
      },
      "execution_count": 3,
      "outputs": [
        {
          "output_type": "stream",
          "name": "stdout",
          "text": [
            "Python 3.7.15\n"
          ]
        }
      ]
    },
    {
      "cell_type": "code",
      "source": [
        "# hide\n",
        "base_dir"
      ],
      "metadata": {
        "colab": {
          "base_uri": "https://localhost:8080/",
          "height": 36
        },
        "id": "mp-RjDSfw8TU",
        "outputId": "f3a2ebd7-0e9f-48bf-f881-f8a3ee87f5c1"
      },
      "execution_count": 4,
      "outputs": [
        {
          "output_type": "execute_result",
          "data": {
            "text/plain": [
              "'/content/gdrive/My Drive/Rao_CME241/RL-book'"
            ],
            "application/vnd.google.colaboratory.intrinsic+json": {
              "type": "string"
            }
          },
          "metadata": {},
          "execution_count": 4
        }
      ]
    },
    {
      "cell_type": "code",
      "source": [
        "# hide\n",
        "import sys\n",
        "sys.path"
      ],
      "metadata": {
        "id": "OYgFYLkywzJR",
        "colab": {
          "base_uri": "https://localhost:8080/"
        },
        "outputId": "bea0bd69-45ab-432f-c802-4ec487562371"
      },
      "execution_count": 5,
      "outputs": [
        {
          "output_type": "execute_result",
          "data": {
            "text/plain": [
              "['/content',\n",
              " '/env/python',\n",
              " '/usr/lib/python37.zip',\n",
              " '/usr/lib/python3.7',\n",
              " '/usr/lib/python3.7/lib-dynload',\n",
              " '',\n",
              " '/usr/local/lib/python3.7/dist-packages',\n",
              " '/usr/lib/python3/dist-packages',\n",
              " '/usr/local/lib/python3.7/dist-packages/IPython/extensions',\n",
              " '/root/.ipython']"
            ]
          },
          "metadata": {},
          "execution_count": 5
        }
      ]
    },
    {
      "cell_type": "code",
      "source": [
        "# hide\n",
        "# sys.path.insert(0, f\"{base_dir}/gen_utils\"); sys.path\n",
        "sys.path.append(f\"{base_dir}\"); sys.path"
      ],
      "metadata": {
        "colab": {
          "base_uri": "https://localhost:8080/"
        },
        "id": "WvyJD3YkYHK9",
        "outputId": "f7ab98da-1e8d-4f1a-815d-fc13eaed1683"
      },
      "execution_count": 6,
      "outputs": [
        {
          "output_type": "execute_result",
          "data": {
            "text/plain": [
              "['/content',\n",
              " '/env/python',\n",
              " '/usr/lib/python37.zip',\n",
              " '/usr/lib/python3.7',\n",
              " '/usr/lib/python3.7/lib-dynload',\n",
              " '',\n",
              " '/usr/local/lib/python3.7/dist-packages',\n",
              " '/usr/lib/python3/dist-packages',\n",
              " '/usr/local/lib/python3.7/dist-packages/IPython/extensions',\n",
              " '/root/.ipython',\n",
              " '/content/gdrive/My Drive/Rao_CME241/RL-book']"
            ]
          },
          "metadata": {},
          "execution_count": 6
        }
      ]
    },
    {
      "cell_type": "markdown",
      "source": [
        "We make use of the approach followed in http://web.stanford.edu/class/cme241/."
      ],
      "metadata": {
        "id": "d2BsxIaNuqB3"
      }
    },
    {
      "cell_type": "code",
      "source": [
        "from __future__ import annotations\n",
        "from typing import (Callable, Dict, Generic, Iterator, Iterable, List,\n",
        "                    Mapping, Optional, Sequence, Tuple, TypeVar, overload)\n",
        "from scipy.stats import norm\n",
        "import numpy as np\n",
        "from abc import ABC, abstractmethod\n",
        "from collections import defaultdict\n",
        "from dataclasses import dataclass, replace, field\n",
        "import itertools"
      ],
      "metadata": {
        "id": "zFY2Ix31JaY-"
      },
      "execution_count": 7,
      "outputs": []
    },
    {
      "cell_type": "code",
      "source": [
        "# hide\n",
        "import rl.iterate_ANNO as iterate\n",
        "from rl.gen_utils.plot_funcs import plot_list_of_curves"
      ],
      "metadata": {
        "id": "M84uM5q_ux4p"
      },
      "execution_count": 8,
      "outputs": []
    },
    {
      "cell_type": "markdown",
      "source": [
        "## 2 Example Model Data Generator"
      ],
      "metadata": {
        "id": "DxvYL1NBSFaS"
      }
    },
    {
      "cell_type": "markdown",
      "source": [
        "Let's setup a Data Model:\n",
        "$$\n",
        "\\begin{aligned}\n",
        "y &= \\alpha + \\beta_1 x_1 + \\beta_2x_2 - \\beta_3x_3 + \\mathcal N(0, 0.3) \\\\\n",
        "  &= 1 + 7x_1 - 2x_2 + 8x_3 + \\mathcal N(0, 0.3)\n",
        "\\end{aligned}\n",
        "$$"
      ],
      "metadata": {
        "id": "naHKKujYKg_Y"
      }
    },
    {
      "cell_type": "code",
      "source": [
        "Triple = Tuple[float, float, float]\n",
        "Aug_Triple = Tuple[float, float, float, float] #. augmented to prepend bias\n",
        "DataSeq = Sequence[Tuple[Triple, float]] #. last float is for y"
      ],
      "metadata": {
        "id": "1aAOKA15Hken"
      },
      "execution_count": 9,
      "outputs": []
    },
    {
      "cell_type": "code",
      "source": [
        "def example_model_data_generator() -> Iterator[Tuple[Triple, float]]:\n",
        "    coeffs: Aug_Triple = (1., 7., -2., 8.)\n",
        "    d = norm(loc=0., scale=0.3) #. normal distribution\n",
        "    while True:\n",
        "        pt: np.ndarray = np.random.randn(3)\n",
        "        x_val: Triple = (pt[0], pt[1], pt[2])\n",
        "        y_val: float = coeffs[0] + np.dot(coeffs[1:], pt) + \\\n",
        "            d.rvs(size=1)[0]\n",
        "        yield (x_val, y_val)"
      ],
      "metadata": {
        "id": "_l48huan33T_"
      },
      "execution_count": 10,
      "outputs": []
    },
    {
      "cell_type": "code",
      "source": [
        "data_gen: Iterator[Tuple[Triple, float]] = example_model_data_generator(); data_gen"
      ],
      "metadata": {
        "colab": {
          "base_uri": "https://localhost:8080/"
        },
        "id": "U6jIb5FiTy4P",
        "outputId": "2d8edcce-c7b8-490c-c34e-93ece7b2caef"
      },
      "execution_count": 11,
      "outputs": [
        {
          "output_type": "execute_result",
          "data": {
            "text/plain": [
              "<generator object example_model_data_generator at 0x7f229409e050>"
            ]
          },
          "metadata": {},
          "execution_count": 11
        }
      ]
    },
    {
      "cell_type": "markdown",
      "source": [
        "Here are two ways to generate a specific number of data points:"
      ],
      "metadata": {
        "id": "fuYiyxV02Gha"
      }
    },
    {
      "cell_type": "code",
      "source": [
        "mydata: DataSeq = [next(data_gen) for i in range(5)]; mydata"
      ],
      "metadata": {
        "colab": {
          "base_uri": "https://localhost:8080/"
        },
        "id": "kgsx5XBVf7gK",
        "outputId": "c5a2046a-b7df-4af8-b91a-e238112ed4e5"
      },
      "execution_count": 12,
      "outputs": [
        {
          "output_type": "execute_result",
          "data": {
            "text/plain": [
              "[((-1.676290585013634, -0.20330675764064765, 1.2409198966103707),\n",
              "  -0.21621778064248845),\n",
              " ((0.8904228844005586, -1.0571951299100364, -1.3494027985154795),\n",
              "  -1.4489959017682092),\n",
              " ((-0.08739558879596565, -0.6113476539743781, -0.7888914401285738),\n",
              "  -4.6533727569600245),\n",
              " ((0.5708696624914378, -0.08369486644635994, -0.4633710969742489),\n",
              "  1.7281828649292816),\n",
              " ((0.35765591694879084, 1.5036560666530643, 1.5036581693073041),\n",
              "  12.660202897065746)]"
            ]
          },
          "metadata": {},
          "execution_count": 12
        }
      ]
    },
    {
      "cell_type": "code",
      "source": [
        "mydata: DataSeq = list(itertools.islice(data_gen, 5)); mydata"
      ],
      "metadata": {
        "colab": {
          "base_uri": "https://localhost:8080/"
        },
        "id": "3XA1IjJrT2wQ",
        "outputId": "0fa1ea82-a7f0-4ab0-cae5-b09f1a4ed8f6"
      },
      "execution_count": 13,
      "outputs": [
        {
          "output_type": "execute_result",
          "data": {
            "text/plain": [
              "[((1.0085819743173652, -1.268842630676064, -1.4728299417090938),\n",
              "  -1.0929519721173804),\n",
              " ((0.15991749003209738, 0.7827078239138043, -0.23670087664912695),\n",
              "  -0.8322309073547126),\n",
              " ((-0.03626491676513139, -0.22962172359834823, -0.16924944879064824),\n",
              "  0.18957400851337064),\n",
              " ((-0.6166727432386784, -0.7364383180552759, -0.3245738309763991),\n",
              "  -3.798426645143519),\n",
              " ((-0.4391577407965104, -0.00453671521783716, 0.5744307739264344),\n",
              "  2.7594997387666362)]"
            ]
          },
          "metadata": {},
          "execution_count": 13
        }
      ]
    },
    {
      "cell_type": "markdown",
      "source": [
        "### 2.1 Wrap in iterator\n",
        "Now we wrap this generator in an iterator that returns a specified number of $(x,y)$ pairs:"
      ],
      "metadata": {
        "id": "1a9AgoU8STrW"
      }
    },
    {
      "cell_type": "code",
      "source": [
        "def data_seq_generator(\n",
        "    data_generator: Iterator[Tuple[Triple, float]],\n",
        "    num_pts: int\n",
        ") -> Iterator[DataSeq]:\n",
        "    while True:\n",
        "        pts: DataSeq = list(itertools.islice(data_generator, num_pts))\n",
        "        yield pts"
      ],
      "metadata": {
        "id": "TyfwYkvpHY8R"
      },
      "execution_count": 14,
      "outputs": []
    },
    {
      "cell_type": "markdown",
      "source": [
        "Configure it to generate train data:"
      ],
      "metadata": {
        "id": "EW330olfVTa6"
      }
    },
    {
      "cell_type": "code",
      "source": [
        "data_gen: Iterator[Tuple[Triple, float]] = example_model_data_generator()"
      ],
      "metadata": {
        "id": "EASyi4T3puJf"
      },
      "execution_count": 15,
      "outputs": []
    },
    {
      "cell_type": "code",
      "source": [
        "trn_num_pts: int = 10_000\n",
        "trn_data_gen: Iterator[DataSeq] = data_seq_generator(\n",
        "    data_generator=data_gen,\n",
        "    num_pts=trn_num_pts\n",
        ")\n",
        "trn_data_gen"
      ],
      "metadata": {
        "colab": {
          "base_uri": "https://localhost:8080/"
        },
        "id": "x3kgknkETQR0",
        "outputId": "2e501011-0b94-4ee3-d68f-de6dcd772176"
      },
      "execution_count": 16,
      "outputs": [
        {
          "output_type": "execute_result",
          "data": {
            "text/plain": [
              "<generator object data_seq_generator at 0x7f2294105550>"
            ]
          },
          "metadata": {},
          "execution_count": 16
        }
      ]
    },
    {
      "cell_type": "code",
      "source": [
        "next(trn_data_gen)[:5]"
      ],
      "metadata": {
        "colab": {
          "base_uri": "https://localhost:8080/"
        },
        "id": "uELi6q_obuXf",
        "outputId": "985ec672-f1cb-45a2-e2c0-76cff3a579db"
      },
      "execution_count": 17,
      "outputs": [
        {
          "output_type": "execute_result",
          "data": {
            "text/plain": [
              "[((1.5141116022641963, 0.26998740175974173, -0.8685503731379335),\n",
              "  4.089701120386119),\n",
              " ((1.0820407355967383, 0.3427549775851617, 1.1078679073305953),\n",
              "  16.953635131550595),\n",
              " ((1.3241105796410801, 0.4075553673033938, -0.3144729996416032),\n",
              "  7.088605383221274),\n",
              " ((-0.1839293455432471, -0.7972913552060831, -0.2851165267014572),\n",
              "  -1.075779837694524),\n",
              " ((-0.675285392797429, -0.2880798686047421, 0.031245908101714626),\n",
              "  -2.553426109315997)]"
            ]
          },
          "metadata": {},
          "execution_count": 17
        }
      ]
    },
    {
      "cell_type": "markdown",
      "source": [
        "Configure it to generate test data:"
      ],
      "metadata": {
        "id": "6bLIZKffPsTF"
      }
    },
    {
      "cell_type": "code",
      "source": [
        "tst_num_pts: int = 1_000\n",
        "tst_data_gen: Iterator[DataSeq] = data_seq_generator(\n",
        "    data_generator=data_gen,\n",
        "    num_pts=tst_num_pts\n",
        ")\n",
        "tst_data_gen"
      ],
      "metadata": {
        "colab": {
          "base_uri": "https://localhost:8080/"
        },
        "id": "t4vYH3pEqEfo",
        "outputId": "53fab939-2ecc-429e-84fd-4e19060facfb"
      },
      "execution_count": 18,
      "outputs": [
        {
          "output_type": "execute_result",
          "data": {
            "text/plain": [
              "<generator object data_seq_generator at 0x7f2293e02050>"
            ]
          },
          "metadata": {},
          "execution_count": 18
        }
      ]
    },
    {
      "cell_type": "code",
      "source": [
        "next(tst_data_gen)[:5]"
      ],
      "metadata": {
        "colab": {
          "base_uri": "https://localhost:8080/"
        },
        "id": "-XF-xyuEqDjF",
        "outputId": "afa372e1-8632-4df5-c530-67c0ec452033"
      },
      "execution_count": 19,
      "outputs": [
        {
          "output_type": "execute_result",
          "data": {
            "text/plain": [
              "[((-0.10523271957547835, -2.170589448784764, 0.3010749843788246),\n",
              "  7.277767867698341),\n",
              " ((-0.9983512260844962, 0.2934685812942415, -0.3282888943142292),\n",
              "  -9.20126365132198),\n",
              " ((0.4995019622616231, -1.0578397350955713, 1.546176654939797),\n",
              "  19.57345833833039),\n",
              " ((-0.10804134248084613, 1.1247507613502794, 0.9118420560826367),\n",
              "  5.368526961464931),\n",
              " ((0.3780358510623769, -1.6538367411196908, -1.2552602675932416),\n",
              "  -3.3073160186043435)]"
            ]
          },
          "metadata": {},
          "execution_count": 19
        }
      ]
    },
    {
      "cell_type": "code",
      "source": [
        "tst_data: DataSeq = list(next(tst_data_gen))\n",
        "len(tst_data)"
      ],
      "metadata": {
        "colab": {
          "base_uri": "https://localhost:8080/"
        },
        "id": "G_v006yvsjGI",
        "outputId": "21867088-c4cf-420f-e006-29478b4b5c2a"
      },
      "execution_count": 20,
      "outputs": [
        {
          "output_type": "execute_result",
          "data": {
            "text/plain": [
              "1000"
            ]
          },
          "metadata": {},
          "execution_count": 20
        }
      ]
    },
    {
      "cell_type": "markdown",
      "source": [
        "## 3. Implement $f(x; w)$"
      ],
      "metadata": {
        "id": "PVMQyQNNSbeU"
      }
    },
    {
      "cell_type": "markdown",
      "source": [
        "We define the next class to implement the function approximation $f(x;w)$. This class is generic in `X` to allow for arbitrary data types $\\mathcal X$. An instance of this class approximates a function $x ↦ \\mathbb R$. It enables:\n",
        "- evaluation of $f(x;w)$ at specific predictor points\n",
        "- updating with additional $(x,\\mathbb R)$ data points"
      ],
      "metadata": {
        "id": "Wakhmogb4aN6"
      }
    },
    {
      "cell_type": "code",
      "source": [
        "X = TypeVar('X') #. for arbitrary data types scriptX\n",
        "F = TypeVar('F', bound='FunctionApprox')\n",
        "SMALL_NUM = 1e-6\n",
        "\n",
        "class FunctionApprox(ABC, Generic[X]):\n",
        "    @abstractmethod\n",
        "    def __add__(self: F, other: F) -> F:\n",
        "        pass\n",
        "\n",
        "    @abstractmethod\n",
        "    def __mul__(self: F, scalar: float) -> F:\n",
        "        pass\n",
        "\n",
        "    @abstractmethod\n",
        "    def objective_gradient(\n",
        "        self: F,\n",
        "        xy_vals_seq: Iterable[Tuple[X, float]],\n",
        "        obj_deriv_out_fun: Callable[[Sequence[X], Sequence[float]], np.ndarray]\n",
        "    ) -> Gradient[F]:\n",
        "        pass\n",
        "\n",
        "    @abstractmethod\n",
        "    def evaluate(self, x_values_seq: Iterable[X]) -> np.ndarray:\n",
        "        pass\n",
        "\n",
        "    def __call__(self, x_value: X) -> float:\n",
        "        return self.evaluate([x_value]).item()\n",
        "\n",
        "    @abstractmethod\n",
        "    def update_with_gradient(\n",
        "        self: F,\n",
        "        gradient: Gradient[F]\n",
        "    ) -> F:\n",
        "        pass\n",
        "\n",
        "    def update(\n",
        "        self: F,\n",
        "        xy_vals_seq: Iterable[Tuple[X, float]]\n",
        "    ) -> F:\n",
        "        def deriv_func(x: Sequence[X], y: Sequence[float]) -> np.ndarray:\n",
        "            return self.evaluate(x) - np.array(y)\n",
        "\n",
        "        return self.update_with_gradient(\n",
        "            self.objective_gradient(xy_vals_seq, deriv_func)\n",
        "        )\n",
        "\n",
        "    @abstractmethod\n",
        "    def solve(\n",
        "        self: F,\n",
        "        xy_vals_seq: Iterable[Tuple[X, float]],\n",
        "        error_tolerance: Optional[float] = None\n",
        "    ) -> F:\n",
        "        pass\n",
        "\n",
        "    @abstractmethod\n",
        "    def within(self: F, other: F, tolerance: float) -> bool:\n",
        "        pass\n",
        "\n",
        "    def iterate_updates(\n",
        "        self: F,\n",
        "        xy_seq_stream: Iterator[Iterable[Tuple[X, float]]]\n",
        "    ) -> Iterator[F]:\n",
        "        return iterate.accumulate(\n",
        "            xy_seq_stream,\n",
        "            lambda fa, xy: fa.update(xy),\n",
        "            initial=self\n",
        "        )\n",
        "\n",
        "    def rmse(\n",
        "        self,\n",
        "        xy_vals_seq: Iterable[Tuple[X, float]]\n",
        "    ) -> float:\n",
        "        x_seq, y_seq = zip(*xy_vals_seq)\n",
        "        errors: np.ndarray = self.evaluate(x_seq) - np.array(y_seq)\n",
        "        return np.sqrt(np.mean(errors * errors))\n",
        "\n",
        "    def argmax(self, xs: Iterable[X]) -> X:\n",
        "        args: Sequence[X] = list(xs)\n",
        "        return args[np.argmax(self.evaluate(args))]"
      ],
      "metadata": {
        "id": "llWXK8D24Syx"
      },
      "execution_count": 21,
      "outputs": []
    },
    {
      "cell_type": "markdown",
      "source": [
        "The most important methods are:\n",
        "\n",
        "- `solve`\n",
        "  - Solve for the optimal internal parameters $w^*$ of the FunctionApprox such that the internal parameters are fitted to xy_vals_seq (assuming the complete data set of (x,y) pairs is available in the form of the given input xy_vals_seq data structure)\n",
        "  - Parameters are fitted to within the input error_tolerance\n",
        "  - Direct solve is also available (error_tolerance=None)\n",
        "  - inputs\n",
        "    - `xy_vals_seq: Iterable[Tuple[X, float]]`\n",
        "    - `error_tolerance: Optional[float]=None`\n",
        "  - output\n",
        "    - `F`\n",
        "      - the `FunctionApprox` $f(x;w^*)$\n",
        "- `update`\n",
        "  - Update the FunctionApprox's internal parameters $w$ defined in $f(x;w)$ based on incremental data supplied as $(x,y)$ pairs in the xy_vals_seq data structure.\n",
        "  - inputs\n",
        "    - `xy_vals_seq: Iterable[Tuple[X, float]]`  \n",
        "      - the $(x,y)$ pairs in the current iteration\n",
        "  - ouputs\n",
        "    - `F`\n",
        "      - the `FunctionApprox` $f(x;w)$ corresponding to the updated parameters\n",
        "- `evaluate`\n",
        "  - Computes the expected value of y for each x in x_values_seq, $\\mathbb E_M[y|x]$\n",
        "  - inputs\n",
        "    - `x_values_seq: Iterable[X]`\n",
        "  - output\n",
        "    - np.ndarray\n",
        "      - $\\hat y = \\mathbb E_M[y|x]$"
      ],
      "metadata": {
        "id": "Ean5kj6j5YAH"
      }
    },
    {
      "cell_type": "markdown",
      "source": [
        "The following two methods provide support to the `update` method:\n",
        "- `objective_gradient`\n",
        "  - Computes the gradient of an objective function of the self FunctionApprox with respect to the parameters in the internal representation of the FunctionApprox\n",
        "  - The gradient is output in the form of a `Gradient[FunctionApprox]` whose internal parameters are equal to the gradient values\n",
        "  - inputs\n",
        "    - `xy_vals_seq: Iterable[Tuple[X, float]]`\n",
        "    - `obj_deriv_out_fun: Callable[[Sequence[X], Sequence[float]], np.ndarray]`\n",
        "        - the derivative of the objective with respect to the output\n",
        "        (evaluate) of the `FunctionApprox`, when evaluated at a Sequence of\n",
        "        x values and a Sequence of y values (to be obtained from `xy_vals_seq`)\n",
        "  - output\n",
        "    - `Gradient[F]`\n",
        "- `update_with_gradient`\n",
        "  - Update the internal parameters of self FunctionApprox\n",
        "  - inputs\n",
        "    - `gradient: Gradient[F]`\n",
        "  - output\n",
        "    - `F`\n"
      ],
      "metadata": {
        "id": "-kW6tU6fM3Jn"
      }
    },
    {
      "cell_type": "markdown",
      "source": [
        "The following methods are useful for derived classes of `FunctionApprox`:\n",
        "\n",
        "- `iterate_updates`\n",
        "  - Given a stream (Iterator) of data sets of (x,y) pairs, perform a series of incremental updates to the internal parameters (using the `update` method), with each internal parameter update done for each data set of (x,y) pairs in the input stream of `xy_seq_stream`\n",
        "  - inputs\n",
        "    - `xy_seq_stream: Iterator[Iterable[Tuple[X, float]]]`\n",
        "  - output\n",
        "    - `Iterator[F]`\n",
        "- `rmse`\n",
        "  - The Root-Mean-Squared-Error between the `FunctionApprox`'s predictions (from `evaluate`) and the associated $y$ values\n",
        "  - inputs\n",
        "    - `xy_vals_seq: Iterable[Tuple[X, float]]`\n",
        "  - output\n",
        "    - `float` which is the RMSE\n",
        "- `argmax`\n",
        "  - Return the input `X` that maximizes the function being approximated.\n",
        "  - inputs\n",
        "    - xs: Iterable[X]\n",
        "      - list of inputs to evaluate and maximize\n",
        "  - output\n",
        "    - `X`\n",
        "      - the X that maximizes the function"
      ],
      "metadata": {
        "id": "H_URUP9qSNAl"
      }
    },
    {
      "cell_type": "markdown",
      "source": [
        "The `Gradient` class holds the `FunctionApprox F`:"
      ],
      "metadata": {
        "id": "xpXjbTa8RH7Z"
      }
    },
    {
      "cell_type": "code",
      "source": [
        "@dataclass(frozen=True)\n",
        "class Gradient(Generic[F]):\n",
        "    function_approx: F\n",
        "\n",
        "    @overload\n",
        "    def __add__(self, x: Gradient[F]) -> Gradient[F]:\n",
        "        ...\n",
        "\n",
        "    @overload\n",
        "    def __add__(self, x: F) -> F:\n",
        "        ...\n",
        "\n",
        "    def __add__(self, x):\n",
        "        if isinstance(x, Gradient):\n",
        "            return Gradient(self.function_approx + x.function_approx)\n",
        "        return self.function_approx + x\n",
        "\n",
        "    def __mul__(self: Gradient[F], x: float) -> Gradient[F]:\n",
        "        return Gradient(self.function_approx*x)\n",
        "\n",
        "    def zero(self) -> Gradient[F]:\n",
        "        return Gradient(self.function_approx*0.0)"
      ],
      "metadata": {
        "id": "brr8LbonUlCL"
      },
      "execution_count": 22,
      "outputs": []
    },
    {
      "cell_type": "markdown",
      "source": [
        "## 3 LinearFunctionApprox"
      ],
      "metadata": {
        "id": "ozrNLRgBg_JD"
      }
    },
    {
      "cell_type": "markdown",
      "source": [
        "We need to transform a measurement of the state into a sequence of features \n",
        "$\\phi_j$. For each $j$ we define a feature function\n",
        "\n",
        "$\\phi_j : \\mathcal X \\to \\mathbb R$ for each $j=1,2,...,m$\n",
        "\n",
        "We also define a sequence of feature functions\n",
        "\n",
        "$\\phi : \\mathcal X \\to \\mathbb R^m$ so that\n",
        "$\\phi(x) = (\\phi_1(x), \\phi_2(x), ..., \\phi_m(x)))$ for all $x \\in \\mathcal X$\n",
        "\n",
        "We will treat $\\phi(x)$ as a column vector. Another column vector is the parameters (weights) $w$ of the linear function approximation\n",
        "\n",
        "$w = (w_1,w_2,...,w_m) \\in \\mathbb R^m$.\n",
        "\n",
        "This leads to\n",
        "\n",
        "$$\n",
        "\\begin{aligned}\n",
        "\\mathbb E_M[y|x] &= \\phi(x)^\\top ⋅ w \\\\\n",
        "&= w^\\top \\cdot \\phi(x) \n",
        "\\end{aligned}\n",
        "$$\n",
        "\n",
        "Given that we have a sequence of data points $[x_i,y_i|1 \\le i \\le n]$, we define the *cross-entropy loss function* as\n",
        "\n",
        "$$\n",
        "\\mathcal L(w) = \\frac{1}{2n}\\cdot \\sum_{i=1}^n[w^⊤⋅\\phi(x_i) - y_i]^2\n",
        "$$\n",
        "\n",
        "Similarly, we define the *regularized cross-entropy loss function* as\n",
        "\n",
        "$$\n",
        "\\mathcal L(w) = \\frac{1}{2n}(\\sum_{i=1}^n[w^⊤⋅\\phi(x_i) - y_i]^2) + \\frac{1}{2} \\cdot \\lambda \\cdot |w|^2\n",
        "$$\n",
        "\n",
        "using $L^2$ regularization.\n",
        "\n",
        "The gradient of $\\mathcal L(w)$ with respect to $w$ is then\n",
        "\n",
        "$$\n",
        "\\nabla_w \\mathcal L(w) = \\frac{1}{n} ⋅ (\\sum_{i=1}^n\\phi(x_i)⋅[w^⊤⋅\\phi(x_i) - y_i]) + \\lambda \\cdot w\n",
        "$$\n",
        "\n",
        "The update to the weights vector will be\n",
        "\n",
        "$$\n",
        "w_{t+1} = w_t - \\alpha \\cdot \\mathcal G_{(x_t,y_t)}(w_t)\n",
        "$$\n",
        "\n",
        "where the gradient estimate $\\mathcal G_{(x_t,y_t)}(w_t)$ at time $t$ is given by\n",
        "\n",
        "$$\n",
        "\\mathcal G_{(x_t,y_t)}(w_t) = \\frac{1}{n} ⋅ (\\sum_{i=1}^{n_t} \\phi(x_{t,i})⋅[w_t^⊤⋅\\phi(x_{t,i}) - y_{t,i}]) + \\lambda \\cdot w_t\n",
        "$$\n",
        "\n",
        "with $\\alpha_t$ the step size (also called learning rate) for the gradient descent at time $t$. To allow for convergence, $\\alpha_t$ needs to be a suitable function of time $t$. The so-called ADAM algorithm will provide this (among others).\n",
        "\n",
        "Next we implement the classes `AdamGradient` and `Weights`.\n",
        "\n"
      ],
      "metadata": {
        "id": "dtTa7-LS3QoM"
      }
    },
    {
      "cell_type": "code",
      "source": [
        "@dataclass(frozen=True)\n",
        "class AdamGradient:\n",
        "    learning_rate: float\n",
        "    decay1: float\n",
        "    decay2: float\n",
        "\n",
        "    @staticmethod\n",
        "    def default_settings() -> AdamGradient:\n",
        "        return AdamGradient(\n",
        "            learning_rate=0.001,\n",
        "            decay1=0.9,\n",
        "            decay2=0.999\n",
        "        )"
      ],
      "metadata": {
        "id": "TlTfCr3RSXTI"
      },
      "execution_count": 23,
      "outputs": []
    },
    {
      "cell_type": "code",
      "source": [
        "@dataclass(frozen=True)\n",
        "class Weights:\n",
        "    adam_gradient: AdamGradient #. ADAM parameters\n",
        "    time: int #. how many times the weights have been updated\n",
        "    weights: np.ndarray #. weight parameters of the function approximation\n",
        "    adam_cache1: np.ndarray\n",
        "    adam_cache2: np.ndarray\n",
        "\n",
        "    @staticmethod\n",
        "    def create(\n",
        "        weights: np.ndarray,\n",
        "        adam_gradient: AdamGradient = AdamGradient.default_settings(),\n",
        "        adam_cache1: Optional[np.ndarray] = None,\n",
        "        adam_cache2: Optional[np.ndarray] = None\n",
        "    ) -> Weights:\n",
        "        return Weights(\n",
        "            adam_gradient=adam_gradient,\n",
        "            time=0,\n",
        "            weights=weights,\n",
        "            adam_cache1=np.zeros_like(\n",
        "                weights\n",
        "            ) if adam_cache1 is None else adam_cache1,\n",
        "            adam_cache2=np.zeros_like(\n",
        "                weights\n",
        "            ) if adam_cache2 is None else adam_cache2\n",
        "        )\n",
        "\n",
        "    def update(self, gradient: np.ndarray) -> Weights:\n",
        "        time: int = self.time + 1\n",
        "        new_adam_cache1: np.ndarray = self.adam_gradient.decay1* \\\n",
        "            self.adam_cache1 + (1 - self.adam_gradient.decay1)* gradient\n",
        "        new_adam_cache2: np.ndarray = self.adam_gradient.decay2* \\\n",
        "            self.adam_cache2 + (1 - self.adam_gradient.decay2)*gradient**2\n",
        "        corrected_m: np.ndarray = new_adam_cache1 / \\\n",
        "            (1 - self.adam_gradient.decay1**time)\n",
        "        corrected_v: np.ndarray = new_adam_cache2 / \\\n",
        "            (1 - self.adam_gradient.decay2**time)\n",
        "        new_weights: np.ndarray = self.weights - \\\n",
        "            self.adam_gradient.learning_rate*corrected_m / \\\n",
        "            (np.sqrt(corrected_v) + SMALL_NUM)\n",
        "        return replace(\n",
        "            self,\n",
        "            time=time,\n",
        "            weights=new_weights,\n",
        "            adam_cache1=new_adam_cache1,\n",
        "            adam_cache2=new_adam_cache2,\n",
        "        )\n",
        "\n",
        "    def within(self, other: Weights, tolerance: float) -> bool:\n",
        "        return np.all(np.abs(self.weights - other.weights) <= tolerance).item()"
      ],
      "metadata": {
        "id": "Eav5HaItSWyk"
      },
      "execution_count": 24,
      "outputs": []
    },
    {
      "cell_type": "markdown",
      "source": [
        "Now we are ready to implement the `LinearFunctionApprox` class:"
      ],
      "metadata": {
        "id": "UrwD7RFJQ0GW"
      }
    },
    {
      "cell_type": "code",
      "source": [
        "@dataclass(frozen=True)\n",
        "class LinearFunctionApprox(FunctionApprox[X]):\n",
        "    feature_functions: Sequence[Callable[[X], float]]\n",
        "    regularization_coeff: float\n",
        "    weights: Weights\n",
        "    direct_solve: bool\n",
        "\n",
        "    @staticmethod\n",
        "    def create( #. factory method\n",
        "        feature_functions: Sequence[Callable[[X], float]],\n",
        "        adam_gradient: AdamGradient = AdamGradient.default_settings(),\n",
        "        regularization_coeff: float = 0.,\n",
        "        weights: Optional[Weights] = None,\n",
        "        direct_solve: bool = True\n",
        "    ) -> LinearFunctionApprox[X]:\n",
        "        return LinearFunctionApprox(\n",
        "            feature_functions=feature_functions,\n",
        "            regularization_coeff=regularization_coeff,\n",
        "            weights=Weights.create(\n",
        "                adam_gradient=adam_gradient,\n",
        "                weights=np.zeros(len(feature_functions))\n",
        "            ) if weights is None else weights,\n",
        "            direct_solve=direct_solve\n",
        "        )\n",
        "\n",
        "    def get_feature_values(self, x_values_seq: Iterable[X]) -> np.ndarray:\n",
        "        return np.array(\n",
        "            [[f(x) for f in self.feature_functions] for x in x_values_seq]\n",
        "        )\n",
        "\n",
        "    def objective_gradient(\n",
        "        self,\n",
        "        xy_vals_seq: Iterable[Tuple[X, float]],\n",
        "        obj_deriv_out_fun: Callable[[Sequence[X], Sequence[float]], float]\n",
        "    ) -> Gradient[LinearFunctionApprox[X]]:\n",
        "        x_vals, y_vals = zip(*xy_vals_seq)\n",
        "        obj_deriv_out: np.ndarray = obj_deriv_out_fun(x_vals, y_vals)\n",
        "        features: np.ndarray = self.get_feature_values(x_vals)\n",
        "        gradient: np.ndarray = \\\n",
        "            features.T.dot(obj_deriv_out) / len(obj_deriv_out) \\\n",
        "            + self.regularization_coeff * self.weights.weights\n",
        "        return Gradient(replace(\n",
        "            self,\n",
        "            weights=replace(\n",
        "                self.weights,\n",
        "                weights=gradient\n",
        "            )\n",
        "        ))\n",
        "\n",
        "    def __add__(self, other: LinearFunctionApprox[X]) -> \\\n",
        "            LinearFunctionApprox[X]:\n",
        "        return replace(\n",
        "            self,\n",
        "            weights=replace(\n",
        "                self.weights,\n",
        "                weights=self.weights.weights + other.weights.weights\n",
        "            )\n",
        "        )\n",
        "\n",
        "    def __mul__(self, scalar: float) -> LinearFunctionApprox[X]:\n",
        "        return replace(\n",
        "            self,\n",
        "            weights=replace(\n",
        "                self.weights,\n",
        "                weights=self.weights.weights * scalar\n",
        "            )\n",
        "        )\n",
        "\n",
        "    def evaluate(self, x_values_seq: Iterable[X]) -> np.ndarray:\n",
        "        return np.dot(\n",
        "            self.get_feature_values(x_values_seq),\n",
        "            self.weights.weights\n",
        "        )\n",
        "\n",
        "    def update_with_gradient(\n",
        "        self,\n",
        "        gradient: Gradient[LinearFunctionApprox[X]]\n",
        "    ) -> LinearFunctionApprox[X]:\n",
        "        return replace(\n",
        "            self,\n",
        "            weights=self.weights.update(\n",
        "                gradient.function_approx.weights.weights\n",
        "            )\n",
        "        )\n",
        "\n",
        "    def solve(\n",
        "        self,\n",
        "        xy_vals_seq: Iterable[Tuple[X, float]],\n",
        "        error_tolerance: Optional[float] = None\n",
        "    ) -> LinearFunctionApprox[X]:\n",
        "        if self.direct_solve:\n",
        "            x_vals, y_vals = zip(*xy_vals_seq)\n",
        "            feature_vals: np.ndarray = self.get_feature_values(x_vals)\n",
        "            feature_vals_T: np.ndarray = feature_vals.T\n",
        "            left: np.ndarray = np.dot(feature_vals_T, feature_vals) \\\n",
        "                + feature_vals.shape[0] * self.regularization_coeff * \\\n",
        "                np.eye(len(self.weights.weights))\n",
        "            right: np.ndarray = np.dot(feature_vals_T, y_vals)\n",
        "            ret = replace(\n",
        "                self,\n",
        "                weights=Weights.create(\n",
        "                    adam_gradient=self.weights.adam_gradient,\n",
        "                    weights=np.linalg.solve(left, right)\n",
        "                )\n",
        "            )\n",
        "        else:\n",
        "            tol: float = 1e-6 if error_tolerance is None else error_tolerance\n",
        "\n",
        "            def done(\n",
        "                a: LinearFunctionApprox[X],\n",
        "                b: LinearFunctionApprox[X],\n",
        "                tol: float = tol\n",
        "            ) -> bool:\n",
        "                return a.within(b, tol)\n",
        "\n",
        "            ret = iterate.converged(\n",
        "                self.iterate_updates(itertools.repeat(list(xy_vals_seq))),\n",
        "                done=done\n",
        "            )\n",
        "\n",
        "        return ret\n",
        "\n",
        "    def within(self, other: FunctionApprox[X], tolerance: float) -> bool:\n",
        "        if isinstance(other, LinearFunctionApprox):\n",
        "            return self.weights.within(other.weights, tolerance)\n",
        "\n",
        "        return False"
      ],
      "metadata": {
        "id": "Hw-S3tVpRbzm"
      },
      "execution_count": 25,
      "outputs": []
    },
    {
      "cell_type": "markdown",
      "source": [
        "Some of the methods are:"
      ],
      "metadata": {
        "id": "8dgoCfVlcFcU"
      }
    },
    {
      "cell_type": "markdown",
      "source": [
        "\n",
        "- `get_feature_values`\n",
        "  - input\n",
        "    - `x_values_seq: Iterable[X]`\n",
        "  - output\n",
        "    - `np.ndarray`\n",
        "      - the corresponding feature vectors $\\phi(x) \\in \\mathbb R^m$\n",
        "- `evaluate`\n",
        "  - calculates $\\mathbb E_M[y|x] = w^\\top \\cdot \\phi(x)$\n",
        "  - inputs\n",
        "    - `x_values_seq: Iterable[X]`\n",
        "  - output\n",
        "    - `np.ndarray`\n",
        "- `objective_gradient`\n",
        "  - calculates\n",
        "$$\n",
        "\\mathcal G_{(x_t,y_t)}(w_t) = \\frac{1}{n} ⋅ (\\sum_{i=1}^{n_t} \\phi(x_{t,i})⋅[w_t^⊤⋅\\phi(x_{t,i}) - y_{t,i}]) + \\lambda \\cdot w_t\n",
        "$$\n",
        "  - inputs\n",
        "    - `xy_vals_seq: Iterable[Tuple[X, float]]`\n",
        "    - `obj_deriv_out_fun: Callable[[Sequence[X], Sequence[float]], float]`\n",
        "  - output\n",
        "    - `Gradient[LinearFunctionApprox[X]]`\n",
        "- `update_with_gradient`\n",
        "  - updates the weights\n",
        "  - returns a new LinearFunctionApprox\n",
        "  - inputs\n",
        "    - `gradient: Gradient[LinearFunctionApprox[X]]`\n",
        "  - output\n",
        "    - `LinearFunctionApprox[X]`\n",
        "- `solve`\n",
        "  - fits a model to the data\n",
        "  - inputs\n",
        "    - `xy_vals_seq: Iterable[Tuple[X, float]]`\n",
        "    - `error_tolerance: Optional[float]=None`\n",
        "  - output\n",
        "    - `LinearFunctionApprox[X]`"
      ],
      "metadata": {
        "id": "zfH6OMm6a9DT"
      }
    },
    {
      "cell_type": "markdown",
      "source": [
        "### 3.1 Function to create a LinearFunctionApprox"
      ],
      "metadata": {
        "id": "VEwQ90DOQ6Tb"
      }
    },
    {
      "cell_type": "markdown",
      "source": [
        "Next we write a function to create a LinearFunctionApprox."
      ],
      "metadata": {
        "id": "HuF0bIyGhH9_"
      }
    },
    {
      "cell_type": "code",
      "source": [
        "def feature_functions():\n",
        "    return [lambda _: 1., lambda x: x[0], lambda x: x[1], lambda x: x[2]]"
      ],
      "metadata": {
        "id": "rfbF8bxJ3tie"
      },
      "execution_count": 26,
      "outputs": []
    },
    {
      "cell_type": "code",
      "source": [
        "feature_functions()"
      ],
      "metadata": {
        "colab": {
          "base_uri": "https://localhost:8080/"
        },
        "id": "JCp4Y60yikaC",
        "outputId": "0019b8da-27a2-4f6d-b9f6-c833f9688de6"
      },
      "execution_count": 27,
      "outputs": [
        {
          "output_type": "execute_result",
          "data": {
            "text/plain": [
              "[<function __main__.feature_functions.<locals>.<lambda>(_)>,\n",
              " <function __main__.feature_functions.<locals>.<lambda>(x)>,\n",
              " <function __main__.feature_functions.<locals>.<lambda>(x)>,\n",
              " <function __main__.feature_functions.<locals>.<lambda>(x)>]"
            ]
          },
          "metadata": {},
          "execution_count": 27
        }
      ]
    },
    {
      "cell_type": "code",
      "source": [
        "def adam_gradient():\n",
        "    return AdamGradient(\n",
        "        learning_rate=0.1,\n",
        "        decay1=0.9,\n",
        "        decay2=0.999\n",
        "    )"
      ],
      "metadata": {
        "id": "qCaZ5q4rH7BC"
      },
      "execution_count": 28,
      "outputs": []
    },
    {
      "cell_type": "code",
      "source": [
        "adam_gradient()"
      ],
      "metadata": {
        "colab": {
          "base_uri": "https://localhost:8080/"
        },
        "id": "bRH8srUAipSd",
        "outputId": "203b249f-cbbf-4c20-d85a-54008a54dbf7"
      },
      "execution_count": 29,
      "outputs": [
        {
          "output_type": "execute_result",
          "data": {
            "text/plain": [
              "AdamGradient(learning_rate=0.1, decay1=0.9, decay2=0.999)"
            ]
          },
          "metadata": {},
          "execution_count": 29
        }
      ]
    },
    {
      "cell_type": "code",
      "source": [
        "def get_linear_model() -> LinearFunctionApprox[Triple]:\n",
        "    ffs = feature_functions()\n",
        "    ag = adam_gradient()\n",
        "    return LinearFunctionApprox.create(\n",
        "         feature_functions=ffs,\n",
        "         adam_gradient=ag,\n",
        "         regularization_coeff=0.,\n",
        "         direct_solve=True\n",
        "    )"
      ],
      "metadata": {
        "id": "3sktirtJ3Yo2"
      },
      "execution_count": 30,
      "outputs": []
    },
    {
      "cell_type": "markdown",
      "source": [
        "## 4 DNNApprox"
      ],
      "metadata": {
        "id": "v_hDu72MqmDQ"
      }
    },
    {
      "cell_type": "markdown",
      "source": [
        "Next, we will generalize the linear function approximation so that we can have non-linear functions. For this we use a simple deep neural network. It will be of the feed-forward, fully-connected type. A neural network consists of $L+1$ layers of neurons. The layers are numbered $l=0,1,2,...,L$ where\n",
        "- $l=0$ is the input layer\n",
        "- $l=1,2,...,L-1$ are the hidden layers\n",
        "- $l=L$ is the output layer\n",
        "\n",
        "Additionally,\n",
        "- vector $i_l$ is the input to layer $l$\n",
        "- vector $o_l$ is the output from layer $l$\n",
        "- vector $x \\in \\mathcal X$ is the predictor variable\n",
        "- vector $\\phi$ is the feature variable\n",
        "- scalar $y \\in \\mathbb R$ is the response variable\n",
        "- scalar $\\hat y$ is the estimated response variable\n",
        "- model $M$ is the neural network\n",
        "- $|o_l| \\times |i_l|$ matrix $w_l$ is the parameters for layer $l$\n",
        "- $|o_l|$ is the number of neurons in layer $l$\n",
        "- $|o_L|=1$ due to our restriction on only scalar values for $y$\n",
        "- $s_l = w_l \\cdot i_l$ is the linear transformation in layer $l$ for all $l=1,2,...,L$\n",
        "- $g_l$ is the activation function for layer $l$\n",
        "\n",
        "Some conventions on linear algebra:\n",
        "- all vectors treated as column vectors\n",
        "- gradient of a vector of dimension $m$ with respect to a vector of dimension $n$ will be a $m \\times n$ Jacobian matrix\n",
        "- $|v|$ is the dimension of vector $v$"
      ],
      "metadata": {
        "id": "UbguZFRtirDV"
      }
    },
    {
      "cell_type": "markdown",
      "source": [
        "### 4.1 Forward Propagation"
      ],
      "metadata": {
        "id": "PuLZBallgmEM"
      }
    },
    {
      "cell_type": "markdown",
      "source": [
        "The calculation provided by a neural network to transform a predictor variable $x$ into an estimate $\\hat y$ of the response variable $y$, is known as *forward propagation*. This calculation is captured by the following three equations which establish relationsips among the above variables:\n",
        "\n",
        "$$\n",
        "i_0 = \\phi(x) \\in \\mathbb R^m, \\quad i_{l+1} = o_l, \\quad o_L = \\mathbb E_M[y|x] \\quad \\text{for all} \\quad l = 0,1,...,L-1 \\qquad (4.1)\n",
        "$$\n",
        "\n",
        "$$\n",
        "s_l = w_l \\cdot i_l \\text{   for all   }l=0,1,...,L \\qquad (4.2)\n",
        "$$\n",
        "\n",
        "$$\n",
        "o_l = g_l(s_l) \\text{   for all   }l=0,1,...,L \\qquad (4.2)\n",
        "$$\n",
        "\n",
        "This calculation will be implemented by means of the `evaluate` method below."
      ],
      "metadata": {
        "id": "llTC-ZN9gsQO"
      }
    },
    {
      "cell_type": "markdown",
      "source": [
        "### 4.2 Loss Gradient"
      ],
      "metadata": {
        "id": "Y4Ab4p9ag2Yp"
      }
    },
    {
      "cell_type": "markdown",
      "source": [
        "Next we want an expression for the cross-entropy loss gradient with respect to the parameters for each of the layers, i.e. $∇_{w_l} \\mathcal L$. The chain rule leads to the expression\n",
        "\n",
        "$$\n",
        "\\begin{aligned}\n",
        "∇_{w_l} \\mathcal L &= (\\nabla_{s_l}\\mathcal L)^\\top \\cdot \\nabla_{w_l}s_l \\\\\n",
        "&= P_l^\\top \\cdot \\nabla_{w_l}s_l \\\\\n",
        "&= P_l \\cdot i_l^\\top \n",
        "\\end{aligned}\n",
        "$$\n",
        "for all $l=0,1,...,L$ where we define $P_l = \\nabla_{s_l} \\mathcal L$, and\n",
        "\n",
        "$P_l = (w_{l+1}^\\top \\cdot P_{l+1}) \\circ g_l'(s_l)$\n",
        "\n",
        "where the symbol $\\circ$ represents the point-wise product of two vectors, also known as the *Hadamard Product*. We will not prove the previous theorem. \n",
        "\n",
        "Adding $L^2$ regularization gives:\n",
        "\n",
        "$\\nabla_{w_l} \\mathcal L = P_l \\cdot i_l^\\top + \\lambda_l \\cdot w_l$ for all $l=0,1,...,L$"
      ],
      "metadata": {
        "id": "9LhXuPrOhAGN"
      }
    },
    {
      "cell_type": "markdown",
      "source": [
        "### 4.3 Architecture of the Neural Network"
      ],
      "metadata": {
        "id": "sG3dNJdNv9pz"
      }
    },
    {
      "cell_type": "markdown",
      "source": [
        "The following class captures the architecture of an implemented neural network."
      ],
      "metadata": {
        "id": "rrfGLCUCwFeM"
      }
    },
    {
      "cell_type": "code",
      "source": [
        "@dataclass(frozen=True)\n",
        "class DNNSpec:\n",
        "    neurons: Sequence[int]\n",
        "    bias: bool\n",
        "    hidden_activation: Callable[[np.ndarray], np.ndarray]\n",
        "    hidden_activation_deriv: Callable[[np.ndarray], np.ndarray]\n",
        "    output_activation: Callable[[np.ndarray], np.ndarray]\n",
        "    output_activation_deriv: Callable[[np.ndarray], np.ndarray]"
      ],
      "metadata": {
        "id": "WKIiivF1V-Sp"
      },
      "execution_count": 31,
      "outputs": []
    },
    {
      "cell_type": "markdown",
      "source": [
        "- `neurons`\n",
        "  - a sequence of length $L$\n",
        "  - the elements of the sequence are $|o_0|, |o_1|, ..., |o_{L-1}|$\n",
        "  - $|o_L|$ is not captured as we know it will always have a single neuron\n",
        "- `bias`\n",
        "  - a boolean\n",
        "  - if `bias` is `True`:\n",
        "    - $|i_l| = |o_{l-1}| + 1$ for all $l=1,2,...,L$\n",
        "    - we have to prepend matrix $w_l$ with a vector of all 1's\n",
        "- `hidden_activation` $g_l(s_l)$\n",
        "  - a function from `np.array` to `np.array`\n",
        "    - $s_l$ is the input\n",
        "    - $g_l(s_l)$ is the output \n",
        "  - $g_l(s_l) \\text{   for all   }l=0,1,...,L-1$\n",
        "- `hidden_activation_deriv` $h_l(o_l)$\n",
        "  - a function from `np.array` to `np.array`\n",
        "    - $o_l$ is the input\n",
        "    - $h_l(o_l)$ is the output \n",
        "  - $h_l(o_l) = h_l(g(s_l)) = g_l'(s_l) \\text{   for all   }l=0,1,...,L-1$\n",
        "\n",
        "- `output_activation` $g_L(s_L)$\n",
        "  - a function from `np.array` to `np.array`\n",
        "    - $s_L$ is the input\n",
        "    - $g_L(s_L)$ is the output \n",
        "  - $g_L(s_L)$\n",
        "- `output_activation_deriv` $h_L(o_L)$\n",
        "  - a function from `np.array` to `np.array`\n",
        "    - $o_L$ is the input\n",
        "    - $h_L(o_L)$ is the output \n",
        "  - $h_L(o_L) = h_L(g(s_L)) = g_L'(s_L)$  "
      ],
      "metadata": {
        "id": "teW6QtTnwNUS"
      }
    },
    {
      "cell_type": "markdown",
      "source": [
        "### 4.4 Deep Neural Network Approximation"
      ],
      "metadata": {
        "id": "-itw8Ed37Wcw"
      }
    },
    {
      "cell_type": "markdown",
      "source": [
        "The next class implements the Deep Neural Network Approximation:"
      ],
      "metadata": {
        "id": "0-Hyq7kZ7hhy"
      }
    },
    {
      "cell_type": "code",
      "source": [
        "@dataclass(frozen=True)\n",
        "class DNNApprox(FunctionApprox[X]):\n",
        "    feature_functions: Sequence[Callable[[X], float]]\n",
        "    dnn_spec: DNNSpec\n",
        "    regularization_coeff: float\n",
        "    weights: Sequence[Weights]\n",
        "\n",
        "    @staticmethod\n",
        "    def create( #. factory method\n",
        "        feature_functions: Sequence[Callable[[X], float]],\n",
        "        dnn_spec: DNNSpec,\n",
        "        adam_gradient: AdamGradient = AdamGradient.default_settings(),\n",
        "        regularization_coeff: float = 0.,\n",
        "        weights: Optional[Sequence[Weights]] = None\n",
        "    ) -> DNNApprox[X]:\n",
        "        if weights is None:\n",
        "            inputs: Sequence[int] = [len(feature_functions)] + \\\n",
        "                [n + (1 if dnn_spec.bias else 0)\n",
        "                 for i, n in enumerate(dnn_spec.neurons)]\n",
        "            outputs: Sequence[int] = list(dnn_spec.neurons) + [1]\n",
        "            wts = [Weights.create(\n",
        "                weights=np.random.randn(output, inp)/np.sqrt(inp),\n",
        "                adam_gradient=adam_gradient\n",
        "            ) for inp, output in zip(inputs, outputs)]\n",
        "        else:\n",
        "            wts = weights\n",
        "\n",
        "        return DNNApprox(\n",
        "            feature_functions=feature_functions,\n",
        "            dnn_spec=dnn_spec,\n",
        "            regularization_coeff=regularization_coeff,\n",
        "            weights=wts\n",
        "        )\n",
        "\n",
        "    def get_feature_values(self, x_values_seq: Iterable[X]) -> np.ndarray:\n",
        "        return np.array(\n",
        "            [[f(x) for f in self.feature_functions] for x in x_values_seq]\n",
        "        )\n",
        "\n",
        "    def forward_propagation(\n",
        "        self,\n",
        "        x_values_seq: Iterable[X]\n",
        "    ) -> Sequence[np.ndarray]:\n",
        "        inp: np.ndarray = self.get_feature_values(x_values_seq)\n",
        "        ret: List[np.ndarray] = [inp]\n",
        "        for w in self.weights[:-1]:\n",
        "            out: np.ndarray = self.dnn_spec.hidden_activation(\n",
        "                np.dot(inp, w.weights.T)\n",
        "            )\n",
        "            if self.dnn_spec.bias:\n",
        "                inp = np.insert(out, 0, 1., axis=1)\n",
        "            else:\n",
        "                inp = out\n",
        "            ret.append(inp)\n",
        "        ret.append(\n",
        "            self.dnn_spec.output_activation(\n",
        "                np.dot(inp, self.weights[-1].weights.T)\n",
        "            )[:, 0]\n",
        "        )\n",
        "        return ret\n",
        "\n",
        "    def evaluate(self, x_values_seq: Iterable[X]) -> np.ndarray:\n",
        "        return self.forward_propagation(x_values_seq)[-1]\n",
        "\n",
        "    def backward_propagation(\n",
        "        self,\n",
        "        fwd_prop: Sequence[np.ndarray],\n",
        "        obj_deriv_out: np.ndarray\n",
        "    ) -> Sequence[np.ndarray]:\n",
        "        deriv: np.ndarray = obj_deriv_out.reshape(1, -1)\n",
        "        back_prop: List[np.ndarray] = [np.dot(deriv, fwd_prop[-1]) /\n",
        "                                       deriv.shape[1]]\n",
        "        for i in reversed(range(len(self.weights) - 1)):\n",
        "            deriv = np.dot(self.weights[i + 1].weights.T, deriv) * \\\n",
        "                self.dnn_spec.hidden_activation_deriv(fwd_prop[i + 1].T)\n",
        "            if self.dnn_spec.bias:\n",
        "                deriv = deriv[1:]\n",
        "            back_prop.append(np.dot(deriv, fwd_prop[i]) / deriv.shape[1])\n",
        "        return back_prop[::-1]\n",
        "\n",
        "    def objective_gradient(\n",
        "        self,\n",
        "        xy_vals_seq: Iterable[Tuple[X, float]],\n",
        "        obj_deriv_out_fun: Callable[[Sequence[X], Sequence[float]], float]\n",
        "    ) -> Gradient[DNNApprox[X]]:\n",
        "        x_vals, y_vals = zip(*xy_vals_seq)\n",
        "        obj_deriv_out: np.ndarray = obj_deriv_out_fun(x_vals, y_vals)\n",
        "        fwd_prop: Sequence[np.ndarray] = self.forward_propagation(x_vals)[:-1]\n",
        "        gradient: Sequence[np.ndarray] = \\\n",
        "            [x + self.regularization_coeff * self.weights[i].weights\n",
        "             for i, x in enumerate(self.backward_propagation(\n",
        "                 fwd_prop=fwd_prop,\n",
        "                 obj_deriv_out=obj_deriv_out\n",
        "             ))]\n",
        "        return Gradient(replace(\n",
        "            self,\n",
        "            weights=[replace(w, weights=g) for\n",
        "                     w, g in zip(self.weights, gradient)]\n",
        "        ))\n",
        "\n",
        "    def __add__(self, other: DNNApprox[X]) -> DNNApprox[X]:\n",
        "        return replace(\n",
        "            self,\n",
        "            weights=[replace(w, weights=w.weights + o.weights) for\n",
        "                     w, o in zip(self.weights, other.weights)]\n",
        "        )\n",
        "\n",
        "    def __mul__(self, scalar: float) -> DNNApprox[X]:\n",
        "        return replace(\n",
        "            self,\n",
        "            weights=[replace(w, weights=w.weights * scalar)\n",
        "                     for w in self.weights]\n",
        "        )\n",
        "\n",
        "    def update_with_gradient(\n",
        "        self,\n",
        "        gradient: Gradient[DNNApprox[X]]\n",
        "    ) -> DNNApprox[X]:\n",
        "        return replace(\n",
        "            self,\n",
        "            weights=[w.update(g.weights) for w, g in\n",
        "                     zip(self.weights, gradient.function_approx.weights)]\n",
        "        )\n",
        "\n",
        "    def solve(\n",
        "        self,\n",
        "        xy_vals_seq: Iterable[Tuple[X, float]],\n",
        "        error_tolerance: Optional[float] = None\n",
        "    ) -> DNNApprox[X]:\n",
        "        tol: float = 1e-6 if error_tolerance is None else error_tolerance\n",
        "\n",
        "        def done(\n",
        "            a: DNNApprox[X],\n",
        "            b: DNNApprox[X],\n",
        "            tol: float = tol\n",
        "        ) -> bool:\n",
        "            return a.within(b, tol)\n",
        "\n",
        "        return iterate.converged(\n",
        "            self.iterate_updates(itertools.repeat(list(xy_vals_seq))),\n",
        "            done=done\n",
        "        )\n",
        "\n",
        "    def within(self, other: FunctionApprox[X], tolerance: float) -> bool:\n",
        "        if isinstance(other, DNNApprox):\n",
        "            return all(w1.within(w2, tolerance)\n",
        "                       for w1, w2 in zip(self.weights, other.weights))\n",
        "        else:\n",
        "            return False"
      ],
      "metadata": {
        "id": "3AZo8G6yV-O6"
      },
      "execution_count": 32,
      "outputs": []
    },
    {
      "cell_type": "markdown",
      "source": [
        "- attributes\n",
        "  - `feature_functions: Sequence[Callable[[X], float]]`\n",
        "     - implements $\\phi_j : \\mathcal X \\to \\mathbb R$ for all $j=1,2,...,m$\n",
        "  - `dnn_spec: DNNSpec`\n",
        "  - `regularization_coeff: float`\n",
        "    - $\\lambda$ for the weights across all the layers\n",
        "  - `weights: Sequence[Weights]`\n",
        "    - implements the weights of all the layers\n",
        "- methods\n",
        "  - `get_feature_values`\n",
        "    - inputs\n",
        "      - `x_values_seq: Iterable[X]`\n",
        "    - output\n",
        "      - `np.ndarray`\n",
        "        - $n \\times m$ matrix where $n$ is the number of $x$'s in the mini-batch and $m$ is $|\\phi(x)|$\n",
        "  - `forward_propagation`\n",
        "    - implements (4.1), (4.2), and (4.3)\n",
        "    - input\n",
        "      - `x_values_seq: Iterable[X]`\n",
        "        - the predictor points\n",
        "        - $n$ $i_0$-vectors ($n \\times |i_0|$)\n",
        "    - output \n",
        "      - `Sequence[np.ndarray]`\n",
        "      - the activations\n",
        "      - list of length $L+2$\n",
        "        - first $L+2$ elements are 2-D arrays where each 2D-array consists of\n",
        "          - $n$ $i_l$-vectors ($n \\times |i_l|$)\n",
        "        - last element is the output of the DNN ($n \\times |i_L|$)\n",
        "  - `evaluate`\n",
        "    - input\n",
        "      - `x_values_seq: Iterable[X]`\n",
        "        - the predictor points\n",
        "        - $n$ $i_0$-vectors ($n \\times |i_0|$)\n",
        "    - output\n",
        "      - `np.ndarray`\n",
        "      - last element of the list returned by `forward_propagation` ($o_L=\\mathbb E_M[y|x]$)\n",
        "  - `backward_propagation`\n",
        "    - inputs\n",
        "      - `fwd_prop: Sequence[np.ndarray]`\n",
        "        - result of forward propagation (without\n",
        "        the final output), a sequence of L 2-D np.ndarrays of the DNN\n",
        "      - `obj_deriv_out: np.ndarray`\n",
        "        - derivative of the objective\n",
        "        function with respect to the linear predictor of the final layer\n",
        "    - output\n",
        "      - `Sequence[np.ndarray]`\n",
        "        - list (of length L+1) of |o_l| x |i_l| 2-D arrays, i.e., same as the type of self.weights.weights\n",
        "        - computes the gradient (with respect to weights) of the objective where the output layer activation function is the canonical link function of the conditional distribution of y|x\n",
        "  - `objective_gradient`\n",
        "    - inputs\n",
        "      - `xy_vals_seq: Iterable[Tuple[X, float]]`\n",
        "      - `obj_deriv_out_fun: Callable[[Sequence[X], Sequence[float]], float]`\n",
        "    - output\n",
        "      - $\\nabla_{w_l}Obj$ for all $l=0,1,...,L$\n",
        "  - `update_with_gradient`\n",
        "    - input:\n",
        "      - `gradient: Gradient[DNNApprox[X]]`\n",
        "    - output:\n",
        "      - `DNNApprox[X]`\n",
        "  - `solve`\n",
        "    - inputs\n",
        "      - `xy_vals_seq: Iterable[Tuple[X, float]]`\n",
        "      - `error_tolerance: Optional[float]=None`\n",
        "    - output\n",
        "      - `DNNApprox[X]`\n",
        "    - uses `iterate_updates` and `within` to perform a best-fit of the weights\n",
        "$$\n",
        "$$"
      ],
      "metadata": {
        "id": "RZsINEVX8LMZ"
      }
    },
    {
      "cell_type": "markdown",
      "source": [
        "### 4.5 Function to create a DNNApprox"
      ],
      "metadata": {
        "id": "Q6xhukJIRJzc"
      }
    },
    {
      "cell_type": "markdown",
      "source": [
        "Next we write a function to create a DNNApprox with 1 hidden layer having 2 neurons. We also add some regularization."
      ],
      "metadata": {
        "id": "Aw5-ezCArTTE"
      }
    },
    {
      "cell_type": "code",
      "source": [
        "def get_dnn_model() -> DNNApprox[Triple]:\n",
        "    ffs = feature_functions()\n",
        "    ag = adam_gradient()\n",
        "\n",
        "    def relu(arg: np.ndarray) -> np.ndarray:\n",
        "        return np.vectorize(lambda x: x if x > 0. else 0.)(arg)\n",
        "\n",
        "    def relu_deriv(res: np.ndarray) -> np.ndarray:\n",
        "        return np.vectorize(lambda x: 1. if x > 0. else 0.)(res)\n",
        "\n",
        "    def identity(arg: np.ndarray) -> np.ndarray:\n",
        "        return arg\n",
        "\n",
        "    def identity_deriv(res: np.ndarray) -> np.ndarray:\n",
        "        return np.ones_like(res)\n",
        "\n",
        "    ds = DNNSpec(\n",
        "        neurons=[2],\n",
        "        bias=True,\n",
        "        hidden_activation=relu,\n",
        "        hidden_activation_deriv=relu_deriv,\n",
        "        output_activation=identity,\n",
        "        output_activation_deriv=identity_deriv\n",
        "    )\n",
        "\n",
        "    return DNNApprox.create(\n",
        "        feature_functions=ffs,\n",
        "        dnn_spec=ds,\n",
        "        adam_gradient=ag,\n",
        "        regularization_coeff=0.05\n",
        "    )"
      ],
      "metadata": {
        "id": "jgG2snHjIjnY"
      },
      "execution_count": 33,
      "outputs": []
    },
    {
      "cell_type": "code",
      "source": [
        "get_dnn_model()"
      ],
      "metadata": {
        "colab": {
          "base_uri": "https://localhost:8080/"
        },
        "id": "pj8g43MErnBm",
        "outputId": "905d22aa-fde8-4a58-82f7-c941a35dd41a"
      },
      "execution_count": 34,
      "outputs": [
        {
          "output_type": "execute_result",
          "data": {
            "text/plain": [
              "DNNApprox(feature_functions=[<function feature_functions.<locals>.<lambda> at 0x7f22a03227a0>, <function feature_functions.<locals>.<lambda> at 0x7f22a0322e60>, <function feature_functions.<locals>.<lambda> at 0x7f22a0322560>, <function feature_functions.<locals>.<lambda> at 0x7f22a0322440>], dnn_spec=DNNSpec(neurons=[2], bias=True, hidden_activation=<function get_dnn_model.<locals>.relu at 0x7f22a0322050>, hidden_activation_deriv=<function get_dnn_model.<locals>.relu_deriv at 0x7f22a0322c20>, output_activation=<function get_dnn_model.<locals>.identity at 0x7f22a0322dd0>, output_activation_deriv=<function get_dnn_model.<locals>.identity_deriv at 0x7f22a0322d40>), regularization_coeff=0.05, weights=[Weights(adam_gradient=AdamGradient(learning_rate=0.1, decay1=0.9, decay2=0.999), time=0, weights=array([[ 0.1933681 ,  0.38027881, -0.00492979, -0.76650108],\n",
              "       [-0.10652202, -0.0332175 , -0.17239005,  0.89441099]]), adam_cache1=array([[0., 0., 0., 0.],\n",
              "       [0., 0., 0., 0.]]), adam_cache2=array([[0., 0., 0., 0.],\n",
              "       [0., 0., 0., 0.]])), Weights(adam_gradient=AdamGradient(learning_rate=0.1, decay1=0.9, decay2=0.999), time=0, weights=array([[-0.69480787, -0.92598947,  0.12214709]]), adam_cache1=array([[0., 0., 0.]]), adam_cache2=array([[0., 0., 0.]]))])"
            ]
          },
          "metadata": {},
          "execution_count": 34
        }
      ]
    },
    {
      "cell_type": "markdown",
      "source": [
        "## 5 Direct Solve for LinearFunctionApprox"
      ],
      "metadata": {
        "id": "_-mRcg6cyhJ9"
      }
    },
    {
      "cell_type": "markdown",
      "source": [
        "Next, we do a direct solve on a LinearFunctionApprox instance."
      ],
      "metadata": {
        "id": "sQjRjG7uQ1w-"
      }
    },
    {
      "cell_type": "code",
      "source": [
        "direct_solve_lfap: LinearFunctionApprox[Triple] = \\\n",
        "    get_linear_model().solve(next(trn_data_gen))\n",
        "direct_solve_rmse: float = direct_solve_lfap.rmse(tst_data)\n",
        "print(f\"Linear Model Direct Solve RMSE = {direct_solve_rmse:.3f}\")\n",
        "print(\"-----------------------------\")"
      ],
      "metadata": {
        "colab": {
          "base_uri": "https://localhost:8080/"
        },
        "id": "6LlXj-ZGyghb",
        "outputId": "4e79e035-b763-46fd-952a-8f24bcb80027"
      },
      "execution_count": 35,
      "outputs": [
        {
          "output_type": "stream",
          "name": "stdout",
          "text": [
            "Linear Model Direct Solve RMSE = 0.302\n",
            "-----------------------------\n"
          ]
        }
      ]
    },
    {
      "cell_type": "markdown",
      "source": [
        "## 6 Stochastic Gradient Descent"
      ],
      "metadata": {
        "id": "2orrQk3oyrNd"
      }
    },
    {
      "cell_type": "markdown",
      "source": [
        "Next we want to do SGD (Stochastic Gradient Descent) with each of the two function approximations so that we can compare how their RMSE (Root-Mean-Square-Errors) decline with the number of iterations."
      ],
      "metadata": {
        "id": "gz4NV-XWNbot"
      }
    },
    {
      "cell_type": "code",
      "source": [
        "trn_iterations: int = 200"
      ],
      "metadata": {
        "id": "VUeLwxfr8sP_"
      },
      "execution_count": 36,
      "outputs": []
    },
    {
      "cell_type": "code",
      "source": [
        "print(\"Linear Model SGD\")\n",
        "print(\"----------------\")\n",
        "lfap_rmse_seq: List[float] = []\n",
        "lfap_weights_seq: List[Weights] = [] #.\n",
        "for lfap in itertools.islice(\n",
        "    get_linear_model().iterate_updates(trn_data_gen),\n",
        "    trn_iterations\n",
        "):\n",
        "    this_rmse: float = lfap.rmse(tst_data)\n",
        "    lfap_rmse_seq.append(this_rmse)\n",
        "    lfap_weights_seq.append(lfap.weights) #.\n",
        "    iter: int = len(lfap_rmse_seq)\n",
        "    print(f\"Iteration {iter:d}: RMSE = {this_rmse:.3f}\")"
      ],
      "metadata": {
        "colab": {
          "base_uri": "https://localhost:8080/"
        },
        "id": "w10qTx14ygd-",
        "outputId": "ac66fecb-2bde-4916-accb-24a8626aa595"
      },
      "execution_count": 37,
      "outputs": [
        {
          "output_type": "stream",
          "name": "stdout",
          "text": [
            "Linear Model SGD\n",
            "----------------\n",
            "Iteration 1: RMSE = 10.803\n",
            "Iteration 2: RMSE = 10.641\n",
            "Iteration 3: RMSE = 10.481\n",
            "Iteration 4: RMSE = 10.322\n",
            "Iteration 5: RMSE = 10.164\n",
            "Iteration 6: RMSE = 10.008\n",
            "Iteration 7: RMSE = 9.854\n",
            "Iteration 8: RMSE = 9.702\n",
            "Iteration 9: RMSE = 9.552\n",
            "Iteration 10: RMSE = 9.403\n",
            "Iteration 11: RMSE = 9.256\n",
            "Iteration 12: RMSE = 9.110\n",
            "Iteration 13: RMSE = 8.966\n",
            "Iteration 14: RMSE = 8.824\n",
            "Iteration 15: RMSE = 8.682\n",
            "Iteration 16: RMSE = 8.542\n",
            "Iteration 17: RMSE = 8.403\n",
            "Iteration 18: RMSE = 8.264\n",
            "Iteration 19: RMSE = 8.127\n",
            "Iteration 20: RMSE = 7.990\n",
            "Iteration 21: RMSE = 7.854\n",
            "Iteration 22: RMSE = 7.719\n",
            "Iteration 23: RMSE = 7.586\n",
            "Iteration 24: RMSE = 7.452\n",
            "Iteration 25: RMSE = 7.320\n",
            "Iteration 26: RMSE = 7.190\n",
            "Iteration 27: RMSE = 7.060\n",
            "Iteration 28: RMSE = 6.931\n",
            "Iteration 29: RMSE = 6.804\n",
            "Iteration 30: RMSE = 6.677\n",
            "Iteration 31: RMSE = 6.552\n",
            "Iteration 32: RMSE = 6.428\n",
            "Iteration 33: RMSE = 6.306\n",
            "Iteration 34: RMSE = 6.184\n",
            "Iteration 35: RMSE = 6.064\n",
            "Iteration 36: RMSE = 5.945\n",
            "Iteration 37: RMSE = 5.827\n",
            "Iteration 38: RMSE = 5.711\n",
            "Iteration 39: RMSE = 5.596\n",
            "Iteration 40: RMSE = 5.482\n",
            "Iteration 41: RMSE = 5.370\n",
            "Iteration 42: RMSE = 5.260\n",
            "Iteration 43: RMSE = 5.150\n",
            "Iteration 44: RMSE = 5.042\n",
            "Iteration 45: RMSE = 4.935\n",
            "Iteration 46: RMSE = 4.829\n",
            "Iteration 47: RMSE = 4.725\n",
            "Iteration 48: RMSE = 4.622\n",
            "Iteration 49: RMSE = 4.520\n",
            "Iteration 50: RMSE = 4.420\n",
            "Iteration 51: RMSE = 4.321\n",
            "Iteration 52: RMSE = 4.223\n",
            "Iteration 53: RMSE = 4.127\n",
            "Iteration 54: RMSE = 4.032\n",
            "Iteration 55: RMSE = 3.939\n",
            "Iteration 56: RMSE = 3.847\n",
            "Iteration 57: RMSE = 3.757\n",
            "Iteration 58: RMSE = 3.668\n",
            "Iteration 59: RMSE = 3.581\n",
            "Iteration 60: RMSE = 3.495\n",
            "Iteration 61: RMSE = 3.410\n",
            "Iteration 62: RMSE = 3.327\n",
            "Iteration 63: RMSE = 3.245\n",
            "Iteration 64: RMSE = 3.164\n",
            "Iteration 65: RMSE = 3.085\n",
            "Iteration 66: RMSE = 3.007\n",
            "Iteration 67: RMSE = 2.930\n",
            "Iteration 68: RMSE = 2.855\n",
            "Iteration 69: RMSE = 2.781\n",
            "Iteration 70: RMSE = 2.708\n",
            "Iteration 71: RMSE = 2.636\n",
            "Iteration 72: RMSE = 2.566\n",
            "Iteration 73: RMSE = 2.498\n",
            "Iteration 74: RMSE = 2.430\n",
            "Iteration 75: RMSE = 2.364\n",
            "Iteration 76: RMSE = 2.300\n",
            "Iteration 77: RMSE = 2.236\n",
            "Iteration 78: RMSE = 2.174\n",
            "Iteration 79: RMSE = 2.114\n",
            "Iteration 80: RMSE = 2.055\n",
            "Iteration 81: RMSE = 1.997\n",
            "Iteration 82: RMSE = 1.940\n",
            "Iteration 83: RMSE = 1.885\n",
            "Iteration 84: RMSE = 1.831\n",
            "Iteration 85: RMSE = 1.778\n",
            "Iteration 86: RMSE = 1.726\n",
            "Iteration 87: RMSE = 1.676\n",
            "Iteration 88: RMSE = 1.627\n",
            "Iteration 89: RMSE = 1.579\n",
            "Iteration 90: RMSE = 1.532\n",
            "Iteration 91: RMSE = 1.487\n",
            "Iteration 92: RMSE = 1.443\n",
            "Iteration 93: RMSE = 1.399\n",
            "Iteration 94: RMSE = 1.357\n",
            "Iteration 95: RMSE = 1.316\n",
            "Iteration 96: RMSE = 1.276\n",
            "Iteration 97: RMSE = 1.237\n",
            "Iteration 98: RMSE = 1.199\n",
            "Iteration 99: RMSE = 1.162\n",
            "Iteration 100: RMSE = 1.126\n",
            "Iteration 101: RMSE = 1.091\n",
            "Iteration 102: RMSE = 1.058\n",
            "Iteration 103: RMSE = 1.025\n",
            "Iteration 104: RMSE = 0.993\n",
            "Iteration 105: RMSE = 0.963\n",
            "Iteration 106: RMSE = 0.933\n",
            "Iteration 107: RMSE = 0.904\n",
            "Iteration 108: RMSE = 0.877\n",
            "Iteration 109: RMSE = 0.850\n",
            "Iteration 110: RMSE = 0.824\n",
            "Iteration 111: RMSE = 0.799\n",
            "Iteration 112: RMSE = 0.774\n",
            "Iteration 113: RMSE = 0.751\n",
            "Iteration 114: RMSE = 0.729\n",
            "Iteration 115: RMSE = 0.707\n",
            "Iteration 116: RMSE = 0.686\n",
            "Iteration 117: RMSE = 0.666\n",
            "Iteration 118: RMSE = 0.646\n",
            "Iteration 119: RMSE = 0.628\n",
            "Iteration 120: RMSE = 0.609\n",
            "Iteration 121: RMSE = 0.592\n",
            "Iteration 122: RMSE = 0.575\n",
            "Iteration 123: RMSE = 0.559\n",
            "Iteration 124: RMSE = 0.544\n",
            "Iteration 125: RMSE = 0.530\n",
            "Iteration 126: RMSE = 0.516\n",
            "Iteration 127: RMSE = 0.503\n",
            "Iteration 128: RMSE = 0.490\n",
            "Iteration 129: RMSE = 0.478\n",
            "Iteration 130: RMSE = 0.467\n",
            "Iteration 131: RMSE = 0.456\n",
            "Iteration 132: RMSE = 0.446\n",
            "Iteration 133: RMSE = 0.436\n",
            "Iteration 134: RMSE = 0.427\n",
            "Iteration 135: RMSE = 0.419\n",
            "Iteration 136: RMSE = 0.411\n",
            "Iteration 137: RMSE = 0.403\n",
            "Iteration 138: RMSE = 0.396\n",
            "Iteration 139: RMSE = 0.389\n",
            "Iteration 140: RMSE = 0.383\n",
            "Iteration 141: RMSE = 0.377\n",
            "Iteration 142: RMSE = 0.372\n",
            "Iteration 143: RMSE = 0.366\n",
            "Iteration 144: RMSE = 0.361\n",
            "Iteration 145: RMSE = 0.357\n",
            "Iteration 146: RMSE = 0.353\n",
            "Iteration 147: RMSE = 0.349\n",
            "Iteration 148: RMSE = 0.345\n",
            "Iteration 149: RMSE = 0.341\n",
            "Iteration 150: RMSE = 0.338\n",
            "Iteration 151: RMSE = 0.335\n",
            "Iteration 152: RMSE = 0.332\n",
            "Iteration 153: RMSE = 0.330\n",
            "Iteration 154: RMSE = 0.328\n",
            "Iteration 155: RMSE = 0.326\n",
            "Iteration 156: RMSE = 0.324\n",
            "Iteration 157: RMSE = 0.322\n",
            "Iteration 158: RMSE = 0.320\n",
            "Iteration 159: RMSE = 0.319\n",
            "Iteration 160: RMSE = 0.317\n",
            "Iteration 161: RMSE = 0.316\n",
            "Iteration 162: RMSE = 0.315\n",
            "Iteration 163: RMSE = 0.314\n",
            "Iteration 164: RMSE = 0.313\n",
            "Iteration 165: RMSE = 0.312\n",
            "Iteration 166: RMSE = 0.311\n",
            "Iteration 167: RMSE = 0.310\n",
            "Iteration 168: RMSE = 0.309\n",
            "Iteration 169: RMSE = 0.309\n",
            "Iteration 170: RMSE = 0.308\n",
            "Iteration 171: RMSE = 0.308\n",
            "Iteration 172: RMSE = 0.307\n",
            "Iteration 173: RMSE = 0.307\n",
            "Iteration 174: RMSE = 0.306\n",
            "Iteration 175: RMSE = 0.306\n",
            "Iteration 176: RMSE = 0.305\n",
            "Iteration 177: RMSE = 0.305\n",
            "Iteration 178: RMSE = 0.305\n",
            "Iteration 179: RMSE = 0.305\n",
            "Iteration 180: RMSE = 0.304\n",
            "Iteration 181: RMSE = 0.304\n",
            "Iteration 182: RMSE = 0.304\n",
            "Iteration 183: RMSE = 0.304\n",
            "Iteration 184: RMSE = 0.304\n",
            "Iteration 185: RMSE = 0.304\n",
            "Iteration 186: RMSE = 0.304\n",
            "Iteration 187: RMSE = 0.304\n",
            "Iteration 188: RMSE = 0.304\n",
            "Iteration 189: RMSE = 0.304\n",
            "Iteration 190: RMSE = 0.303\n",
            "Iteration 191: RMSE = 0.303\n",
            "Iteration 192: RMSE = 0.303\n",
            "Iteration 193: RMSE = 0.303\n",
            "Iteration 194: RMSE = 0.303\n",
            "Iteration 195: RMSE = 0.303\n",
            "Iteration 196: RMSE = 0.303\n",
            "Iteration 197: RMSE = 0.303\n",
            "Iteration 198: RMSE = 0.303\n",
            "Iteration 199: RMSE = 0.303\n",
            "Iteration 200: RMSE = 0.303\n"
          ]
        }
      ]
    },
    {
      "cell_type": "code",
      "source": [
        "print(\"DNN Model SGD\")\n",
        "print(\"-------------\")\n",
        "dfap_rmse_seq: List[float] = []\n",
        "dfap_weights_seq: List[Weights] = [] #.\n",
        "for dfap in itertools.islice(\n",
        "    get_dnn_model().iterate_updates(trn_data_gen),\n",
        "    trn_iterations\n",
        "):\n",
        "    this_rmse: float = dfap.rmse(tst_data)\n",
        "    dfap_rmse_seq.append(this_rmse)\n",
        "    dfap_weights_seq.append(dfap.weights) #.\n",
        "    iter: int = len(dfap_rmse_seq)\n",
        "    print(f\"Iteration {iter:d}: RMSE = {this_rmse:.3f}\")"
      ],
      "metadata": {
        "colab": {
          "base_uri": "https://localhost:8080/"
        },
        "id": "zjey5xebrmZX",
        "outputId": "f893046a-2a99-49ac-f174-25c440718be7"
      },
      "execution_count": 38,
      "outputs": [
        {
          "output_type": "stream",
          "name": "stdout",
          "text": [
            "DNN Model SGD\n",
            "-------------\n",
            "Iteration 1: RMSE = 9.987\n",
            "Iteration 2: RMSE = 9.761\n",
            "Iteration 3: RMSE = 9.501\n",
            "Iteration 4: RMSE = 9.208\n",
            "Iteration 5: RMSE = 8.881\n",
            "Iteration 6: RMSE = 8.522\n",
            "Iteration 7: RMSE = 8.133\n",
            "Iteration 8: RMSE = 7.718\n",
            "Iteration 9: RMSE = 7.279\n",
            "Iteration 10: RMSE = 6.820\n",
            "Iteration 11: RMSE = 6.343\n",
            "Iteration 12: RMSE = 5.853\n",
            "Iteration 13: RMSE = 5.353\n",
            "Iteration 14: RMSE = 4.855\n",
            "Iteration 15: RMSE = 4.367\n",
            "Iteration 16: RMSE = 3.900\n",
            "Iteration 17: RMSE = 3.467\n",
            "Iteration 18: RMSE = 3.085\n",
            "Iteration 19: RMSE = 2.773\n",
            "Iteration 20: RMSE = 2.563\n",
            "Iteration 21: RMSE = 2.479\n",
            "Iteration 22: RMSE = 2.518\n",
            "Iteration 23: RMSE = 2.641\n",
            "Iteration 24: RMSE = 2.785\n",
            "Iteration 25: RMSE = 2.895\n",
            "Iteration 26: RMSE = 2.939\n",
            "Iteration 27: RMSE = 2.909\n",
            "Iteration 28: RMSE = 2.807\n",
            "Iteration 29: RMSE = 2.652\n",
            "Iteration 30: RMSE = 2.462\n",
            "Iteration 31: RMSE = 2.259\n",
            "Iteration 32: RMSE = 2.070\n",
            "Iteration 33: RMSE = 1.918\n",
            "Iteration 34: RMSE = 1.820\n",
            "Iteration 35: RMSE = 1.781\n",
            "Iteration 36: RMSE = 1.795\n",
            "Iteration 37: RMSE = 1.843\n",
            "Iteration 38: RMSE = 1.906\n",
            "Iteration 39: RMSE = 1.968\n",
            "Iteration 40: RMSE = 2.015\n",
            "Iteration 41: RMSE = 2.042\n",
            "Iteration 42: RMSE = 2.044\n",
            "Iteration 43: RMSE = 2.018\n",
            "Iteration 44: RMSE = 1.971\n",
            "Iteration 45: RMSE = 1.902\n",
            "Iteration 46: RMSE = 1.820\n",
            "Iteration 47: RMSE = 1.732\n",
            "Iteration 48: RMSE = 1.647\n",
            "Iteration 49: RMSE = 1.576\n",
            "Iteration 50: RMSE = 1.527\n",
            "Iteration 51: RMSE = 1.501\n",
            "Iteration 52: RMSE = 1.496\n",
            "Iteration 53: RMSE = 1.507\n",
            "Iteration 54: RMSE = 1.524\n",
            "Iteration 55: RMSE = 1.539\n",
            "Iteration 56: RMSE = 1.548\n",
            "Iteration 57: RMSE = 1.548\n",
            "Iteration 58: RMSE = 1.539\n",
            "Iteration 59: RMSE = 1.523\n",
            "Iteration 60: RMSE = 1.503\n",
            "Iteration 61: RMSE = 1.483\n",
            "Iteration 62: RMSE = 1.467\n",
            "Iteration 63: RMSE = 1.454\n",
            "Iteration 64: RMSE = 1.447\n",
            "Iteration 65: RMSE = 1.444\n",
            "Iteration 66: RMSE = 1.444\n",
            "Iteration 67: RMSE = 1.443\n",
            "Iteration 68: RMSE = 1.442\n",
            "Iteration 69: RMSE = 1.439\n",
            "Iteration 70: RMSE = 1.432\n",
            "Iteration 71: RMSE = 1.423\n",
            "Iteration 72: RMSE = 1.410\n",
            "Iteration 73: RMSE = 1.394\n",
            "Iteration 74: RMSE = 1.377\n",
            "Iteration 75: RMSE = 1.359\n",
            "Iteration 76: RMSE = 1.342\n",
            "Iteration 77: RMSE = 1.324\n",
            "Iteration 78: RMSE = 1.309\n",
            "Iteration 79: RMSE = 1.294\n",
            "Iteration 80: RMSE = 1.281\n",
            "Iteration 81: RMSE = 1.268\n",
            "Iteration 82: RMSE = 1.256\n",
            "Iteration 83: RMSE = 1.243\n",
            "Iteration 84: RMSE = 1.229\n",
            "Iteration 85: RMSE = 1.214\n",
            "Iteration 86: RMSE = 1.198\n",
            "Iteration 87: RMSE = 1.182\n",
            "Iteration 88: RMSE = 1.165\n",
            "Iteration 89: RMSE = 1.147\n",
            "Iteration 90: RMSE = 1.130\n",
            "Iteration 91: RMSE = 1.114\n",
            "Iteration 92: RMSE = 1.097\n",
            "Iteration 93: RMSE = 1.080\n",
            "Iteration 94: RMSE = 1.063\n",
            "Iteration 95: RMSE = 1.045\n",
            "Iteration 96: RMSE = 1.026\n",
            "Iteration 97: RMSE = 1.008\n",
            "Iteration 98: RMSE = 0.988\n",
            "Iteration 99: RMSE = 0.967\n",
            "Iteration 100: RMSE = 0.946\n",
            "Iteration 101: RMSE = 0.923\n",
            "Iteration 102: RMSE = 0.900\n",
            "Iteration 103: RMSE = 0.877\n",
            "Iteration 104: RMSE = 0.853\n",
            "Iteration 105: RMSE = 0.829\n",
            "Iteration 106: RMSE = 0.804\n",
            "Iteration 107: RMSE = 0.780\n",
            "Iteration 108: RMSE = 0.755\n",
            "Iteration 109: RMSE = 0.731\n",
            "Iteration 110: RMSE = 0.707\n",
            "Iteration 111: RMSE = 0.684\n",
            "Iteration 112: RMSE = 0.661\n",
            "Iteration 113: RMSE = 0.639\n",
            "Iteration 114: RMSE = 0.618\n",
            "Iteration 115: RMSE = 0.598\n",
            "Iteration 116: RMSE = 0.579\n",
            "Iteration 117: RMSE = 0.560\n",
            "Iteration 118: RMSE = 0.542\n",
            "Iteration 119: RMSE = 0.525\n",
            "Iteration 120: RMSE = 0.508\n",
            "Iteration 121: RMSE = 0.492\n",
            "Iteration 122: RMSE = 0.477\n",
            "Iteration 123: RMSE = 0.462\n",
            "Iteration 124: RMSE = 0.447\n",
            "Iteration 125: RMSE = 0.432\n",
            "Iteration 126: RMSE = 0.419\n",
            "Iteration 127: RMSE = 0.407\n",
            "Iteration 128: RMSE = 0.395\n",
            "Iteration 129: RMSE = 0.385\n",
            "Iteration 130: RMSE = 0.376\n",
            "Iteration 131: RMSE = 0.368\n",
            "Iteration 132: RMSE = 0.361\n",
            "Iteration 133: RMSE = 0.355\n",
            "Iteration 134: RMSE = 0.350\n",
            "Iteration 135: RMSE = 0.346\n",
            "Iteration 136: RMSE = 0.342\n",
            "Iteration 137: RMSE = 0.340\n",
            "Iteration 138: RMSE = 0.338\n",
            "Iteration 139: RMSE = 0.336\n",
            "Iteration 140: RMSE = 0.335\n",
            "Iteration 141: RMSE = 0.334\n",
            "Iteration 142: RMSE = 0.333\n",
            "Iteration 143: RMSE = 0.333\n",
            "Iteration 144: RMSE = 0.332\n",
            "Iteration 145: RMSE = 0.332\n",
            "Iteration 146: RMSE = 0.332\n",
            "Iteration 147: RMSE = 0.332\n",
            "Iteration 148: RMSE = 0.331\n",
            "Iteration 149: RMSE = 0.331\n",
            "Iteration 150: RMSE = 0.331\n",
            "Iteration 151: RMSE = 0.331\n",
            "Iteration 152: RMSE = 0.332\n",
            "Iteration 153: RMSE = 0.332\n",
            "Iteration 154: RMSE = 0.333\n",
            "Iteration 155: RMSE = 0.334\n",
            "Iteration 156: RMSE = 0.335\n",
            "Iteration 157: RMSE = 0.336\n",
            "Iteration 158: RMSE = 0.337\n",
            "Iteration 159: RMSE = 0.338\n",
            "Iteration 160: RMSE = 0.340\n",
            "Iteration 161: RMSE = 0.341\n",
            "Iteration 162: RMSE = 0.343\n",
            "Iteration 163: RMSE = 0.344\n",
            "Iteration 164: RMSE = 0.345\n",
            "Iteration 165: RMSE = 0.346\n",
            "Iteration 166: RMSE = 0.348\n",
            "Iteration 167: RMSE = 0.349\n",
            "Iteration 168: RMSE = 0.350\n",
            "Iteration 169: RMSE = 0.351\n",
            "Iteration 170: RMSE = 0.351\n",
            "Iteration 171: RMSE = 0.352\n",
            "Iteration 172: RMSE = 0.352\n",
            "Iteration 173: RMSE = 0.353\n",
            "Iteration 174: RMSE = 0.353\n",
            "Iteration 175: RMSE = 0.354\n",
            "Iteration 176: RMSE = 0.355\n",
            "Iteration 177: RMSE = 0.355\n",
            "Iteration 178: RMSE = 0.355\n",
            "Iteration 179: RMSE = 0.355\n",
            "Iteration 180: RMSE = 0.355\n",
            "Iteration 181: RMSE = 0.355\n",
            "Iteration 182: RMSE = 0.356\n",
            "Iteration 183: RMSE = 0.356\n",
            "Iteration 184: RMSE = 0.356\n",
            "Iteration 185: RMSE = 0.356\n",
            "Iteration 186: RMSE = 0.356\n",
            "Iteration 187: RMSE = 0.357\n",
            "Iteration 188: RMSE = 0.357\n",
            "Iteration 189: RMSE = 0.357\n",
            "Iteration 190: RMSE = 0.357\n",
            "Iteration 191: RMSE = 0.357\n",
            "Iteration 192: RMSE = 0.357\n",
            "Iteration 193: RMSE = 0.356\n",
            "Iteration 194: RMSE = 0.356\n",
            "Iteration 195: RMSE = 0.355\n",
            "Iteration 196: RMSE = 0.354\n",
            "Iteration 197: RMSE = 0.354\n",
            "Iteration 198: RMSE = 0.354\n",
            "Iteration 199: RMSE = 0.353\n",
            "Iteration 200: RMSE = 0.353\n"
          ]
        }
      ]
    },
    {
      "cell_type": "markdown",
      "source": [
        "### 6.1 RMSE comparison"
      ],
      "metadata": {
        "id": "C3TdLeYnhitD"
      }
    },
    {
      "cell_type": "code",
      "source": [
        "x_vals = range(trn_iterations)\n",
        "plot_list_of_curves(\n",
        "    list_of_x_vals=[x_vals, x_vals],\n",
        "    list_of_y_vals=[lfap_rmse_seq, dfap_rmse_seq],\n",
        "    list_of_colors=[\"g-\", \"b--\"],\n",
        "    list_of_curve_labels=[\"Linear Model\", \"Deep Neural Network Model\"],\n",
        "    x_label=\"Iterations\",\n",
        "    y_label=\"Root Mean Square Error\",\n",
        "    title=\"Gradient Descent RMSE\"\n",
        ")"
      ],
      "metadata": {
        "colab": {
          "base_uri": "https://localhost:8080/",
          "height": 531
        },
        "id": "xH5ujMCRDG5A",
        "outputId": "c5d6a402-3e79-4300-d03c-06ceff8ca97e"
      },
      "execution_count": 39,
      "outputs": [
        {
          "output_type": "display_data",
          "data": {
            "text/plain": [
              "<Figure size 864x576 with 1 Axes>"
            ],
            "image/png": "[encoded data removed]"
          },
          "metadata": {
            "needs_background": "light"
          }
        }
      ]
    },
    {
      "cell_type": "markdown",
      "source": [
        "### 6.2 Weights convergence"
      ],
      "metadata": {
        "id": "Otojaql9hoVW"
      }
    },
    {
      "cell_type": "markdown",
      "source": [
        "It will also be interesting to see how the weights converge during training."
      ],
      "metadata": {
        "id": "DKROiLWzRjHN"
      }
    },
    {
      "cell_type": "code",
      "source": [
        "lfap_arrays = [ws.weights for ws in lfap_weights_seq]\n",
        "dfap_arrays_0 = [ws[0].weights[0] for ws in dfap_weights_seq]\n",
        "dfap_arrays_1 = [ws[0].weights[1] for ws in dfap_weights_seq]"
      ],
      "metadata": {
        "id": "YXyXSOLdj2tt"
      },
      "execution_count": 40,
      "outputs": []
    },
    {
      "cell_type": "code",
      "source": [
        "lfap_weights_lst = [list(arr) for arr in zip(*lfap_arrays)]\n",
        "dfap_weights_lst_0 = [list(arr) for arr in zip(*dfap_arrays_0)]\n",
        "dfap_weights_lst_1 = [list(arr) for arr in zip(*dfap_arrays_1)]"
      ],
      "metadata": {
        "id": "XZLGqpHAh8mI"
      },
      "execution_count": 41,
      "outputs": []
    },
    {
      "cell_type": "code",
      "source": [
        "weight_names = ['alpha', 'beta_1', 'beta_2', 'beta_3']"
      ],
      "metadata": {
        "id": "5Q2Wl_-Bh8mI"
      },
      "execution_count": 42,
      "outputs": []
    },
    {
      "cell_type": "code",
      "source": [
        "import matplotlib.pyplot as plt\n",
        "fig,axs = plt.subplots(figsize=(13,10))\n",
        "axs.set_xlabel('Iterations', fontsize=20)\n",
        "axs.set_title(f'LinearFunctionApprox: Convergence of weight values', fontsize=24)\n",
        "for i in range(len(lfap_weights_lst)):\n",
        "  axs.plot(lfap_weights_lst[i], label=f'$\\{weight_names[i]}$', linewidth=3.0)\n",
        "axs.legend(fontsize=20);"
      ],
      "metadata": {
        "colab": {
          "base_uri": "https://localhost:8080/",
          "height": 639
        },
        "outputId": "69229d57-cc35-476c-dfaf-03cee997b2c8",
        "id": "DTCOgNiih8mI"
      },
      "execution_count": 43,
      "outputs": [
        {
          "output_type": "display_data",
          "data": {
            "text/plain": [
              "<Figure size 936x720 with 1 Axes>"
            ],
            "image/png": "[encoded data removed]"
          },
          "metadata": {
            "needs_background": "light"
          }
        }
      ]
    },
    {
      "cell_type": "code",
      "source": [
        "import matplotlib.pyplot as plt\n",
        "fig,axs = plt.subplots(figsize=(13,10))\n",
        "axs.set_xlabel('Iterations', fontsize=20)\n",
        "axs.set_title(f'DNNApprox: Convergence of neuron 0 weight values', fontsize=24)\n",
        "for i in range(len(dfap_weights_lst_0)):\n",
        "  axs.plot(dfap_weights_lst_0[i], label=f'$\\{weight_names[i]}$', linewidth=3.0)\n",
        "axs.legend(fontsize=20);"
      ],
      "metadata": {
        "colab": {
          "base_uri": "https://localhost:8080/",
          "height": 639
        },
        "outputId": "b760e57b-6575-43ec-dd08-4d9275aaa2e9",
        "id": "0azKVmNyh8mI"
      },
      "execution_count": 44,
      "outputs": [
        {
          "output_type": "display_data",
          "data": {
            "text/plain": [
              "<Figure size 936x720 with 1 Axes>"
            ],
            "image/png": "[encoded data removed]"
          },
          "metadata": {
            "needs_background": "light"
          }
        }
      ]
    },
    {
      "cell_type": "code",
      "source": [
        "import matplotlib.pyplot as plt\n",
        "fig,axs = plt.subplots(figsize=(13,10))\n",
        "axs.set_xlabel('Iterations', fontsize=20)\n",
        "axs.set_title(f'DNNApprox: Convergence of neuron 1 weight values', fontsize=24)\n",
        "for i in range(len(dfap_weights_lst_1)):\n",
        "  axs.plot(dfap_weights_lst_1[i], label=f'$\\{weight_names[i]}$', linewidth=3.0)\n",
        "axs.legend(fontsize=20);"
      ],
      "metadata": {
        "colab": {
          "base_uri": "https://localhost:8080/",
          "height": 639
        },
        "outputId": "1191a82a-af2d-4985-9a3b-493ef2343591",
        "id": "po__nxtjh8mI"
      },
      "execution_count": 45,
      "outputs": [
        {
          "output_type": "display_data",
          "data": {
            "text/plain": [
              "<Figure size 936x720 with 1 Axes>"
            ],
            "image/png": "[encoded data removed]"
          },
          "metadata": {
            "needs_background": "light"
          }
        }
      ]
    },
    {
      "cell_type": "code",
      "source": [],
      "metadata": {
        "id": "hHFbYAL1q3Pt"
      },
      "execution_count": null,
      "outputs": []
    }
  ]
}