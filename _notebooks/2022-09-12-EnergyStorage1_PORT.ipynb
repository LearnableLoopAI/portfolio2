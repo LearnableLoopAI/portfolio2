{
  "cells": [
    {
      "cell_type": "markdown",
      "metadata": {
        "id": "YVYDUD9ubPEp"
      },
      "source": [
        "# \"Energy Storage using the Powell Unified Framework (Part 1)\"\n",
        "\n",
        "> Using Sequential Decision Analytics to find ongoing optimal decisions\n",
        "- toc: true\n",
        "- branch: master\n",
        "- badges: false\n",
        "- comments: true\n",
        "- hide: false\n",
        "- search_exclude: true\n",
        "- metadata_key1: metadata_value1\n",
        "- metadata_key2: metadata_value2\n",
        "- image: images/EnergyStorage1.png\n",
        "- categories: [Energy_Storage,   Powell_Unified_Framework,   RL]\n",
        "- show_tags: true"
      ]
    },
    {
      "cell_type": "code",
      "source": [
        "# hide\n",
        "# based on EnergyStorage_I_ANNO-2.ipynb\n",
        "\n",
        "#use 1-hot for the PFA policy"
      ],
      "metadata": {
        "id": "Meo2j8Kjw-Wl"
      },
      "execution_count": 121,
      "outputs": []
    },
    {
      "cell_type": "markdown",
      "source": [
        "## 0 STRUCTURE & FRAMEWORK\n",
        "\n",
        "The overall *structure* of this project and report follows the traditional CRISP-DM format. However, instead of the CRISP-DM'S \"4 Modeling\" section, we inserted the \"6 step modeling process\" of Dr. Warren in section 4 of this document.\n",
        "\n",
        "The example explored (but also modified) in this report comes from [Dr. Warren Powell](https://castlelab.princeton.edu/people/) (formerly at Princeton). It was chosen as a template to create a POC for a client. It was important to understand this example thoroughly before embarking on creating the POC. Dr Powell's unified framework shows great promise for unifying the formalisms of at least a dozen different fields. Using his framework enables easier access to thinking patterns in these other fields that might be beneficial and informative to the sequential decision problem at hand. Traditionally, this kind of problem would be approached from the *reinforcement learning* perspective. However, using Dr. Powell's wider and more comprehensive perspective almost certainly provides additional value.\n",
        "\n",
        "Here is information on Dr. Powell's perspective on [Sequential Decision Analytics](https://castlelab.princeton.edu/sda).\n",
        "\n",
        "The original code for this example can be found [here](https://github.com/wbpowell328/stochastic-optimization/tree/master/EnergyStorage_I).\n",
        "\n",
        "In order to make a strong mapping between the code in this notebook and the mathematics in the unified framework, many variable names in the original code have been adapted. Here is a summary of the mapping between the mathematics and the variable names in the code:\n",
        "\n",
        "- Superscripts\n",
        "  - variable names have a *double* underscore to indicate a superscript\n",
        "  - $X^{\\pi}$: has code `X__pi`, is read *X pi*\n",
        "- Subscripts\n",
        "  - variable names have a *single* underscore to indicate a subscript\n",
        "  - $S_t$: has code `S_t`, is read 'S at t'\n",
        "  - $M^{Spend}_t$ has code `M__Spend_t` which is read: \"MSpend at t\"\n",
        "- Arguments\n",
        "  - collection variable names may have argument information added\n",
        "  - $X^{\\pi}(S_t)$: has code `X__piIS_tI`, is read 'X pi in S at t'\n",
        "  - the surrounding `I`'s are used to imitate the parentheses around the argument\n",
        "- Next time/iteration\n",
        "  - variable names that indicate one step in the future are quite common\n",
        "  - $R_{t+1}$: has code `R_tt1`, is read 'R at t+1'\n",
        "  - $R^{n+1}$: has code `R__nt1`, is read 'R at n+1'\n",
        "- Rewards\n",
        "  - State-independent terminal reward and cumulative reward\n",
        "    - $F$: has code `F` for terminal reward\n",
        "    - $\\sum_{n}F$: has code `cumF` for cumulative reward\n",
        "  - State-dependent terminal reward and cumulative reward\n",
        "    - $C$: has code `C` for terminal reward\n",
        "    - $\\sum_{t}C$: has code `cumC` for cumulative reward\n",
        "- Vectors where components use different names\n",
        "  - $S_t(R_t, p_t)$: has code `S_t.R_t` and `S_t.p_t`, is read 'S at t in R at t, and, S at t in p at t'\n",
        "  - the code implementation is by means of a named tuple\n",
        "    - `self.State = namedtuple('State', SNames)` for the 'class' of the vector\n",
        "    - `self.S_t` for the 'instance' of the vector\n",
        "- Vectors where components reuse names\n",
        "  - $x_t(x_{t,GB}, x_{t,BL})$: has code `x_t.x_t_GB` and `x_t.x_t_BL`, is read 'x at t in x at t for GB, and, x at t in x at t for BL'\n",
        "  - the code implementation is by means of a named tuple\n",
        "    - `self.Decision = namedtuple('Decision', xNames)` for the 'class' of the vector\n",
        "    - `self.x_t` for the 'instance' of the vector\n",
        "- Use of mixed-case variable names\n",
        "  - to reduce confusion, sometimes the use of *mixed-case* variable names are preferred (even though it is not a best practice in the Python community), reserving the use of underscores and double underscores for math-related variables"
      ],
      "metadata": {
        "id": "_gUJvjDWD6ch"
      }
    },
    {
      "cell_type": "markdown",
      "source": [
        "## 1 BUSINESS UNDERSTANDING\n",
        "\n",
        "The following business description comes from the free book by Dr. Powell, [Sequential Decision Analytics and Modeling](https://castlelab.princeton.edu/wp-content/uploads/2022/11/Powell-SDAM-Nov242022_final_w_frontcover.pdf):\n",
        "\n",
        "New Jersey is looking to develop 3,500 megawatts (MW) of offshore\n",
        "wind generating\n",
        "power. A challenge is that wind (and especially offshore wind) can be highly variable,\n",
        "due in part to the property that wind power (over intermediate ranges) increases with the\n",
        "cube of wind speed. This variability is depicted in figure 9.1, developed from a study of\n",
        "offshore\n",
        "wind.\n",
        "Energy from wind power has become popular in regions where wind is high, such as\n",
        "the midwestern United States, coastal regions off of Europe, the northeast of Brazil, and\n",
        "northern regions of China (to name just a few). Sometimes communities (and companies)\n",
        "have invested in renewables (wind or solar) to help reduce their carbon footprint and\n",
        "minimize their dependence on the grid.\n",
        "It is quite rare, however, that these projects allow a community to eliminate the grid from\n",
        "their portfolio. Common practice is to let the renewable source (wind or solar) sell directly\n",
        "to the grid, while a company may purchase from the grid. This can be useful as a hedge\n",
        "since the company will make a lot of money during price spikes (prices may jump from\n",
        "\\$20 per megawatt-hour (MWh) to \\$300 per MWh or more) that offsets the cost of purchasing\n",
        "power during those periods.\n",
        "\n",
        "A challenge with renewables is handling the variability. While one solution is to simply\n",
        "pump any energy from a renewable source into the grid and use the tremendous power of\n",
        "the grid to handle this variability, there has been considerable interest in using storage (in\n",
        "particular, battery storage) to smooth out the peaks and valleys. In addition to handling the variability in the renewable source, there has also been interest in using batteries to take\n",
        "advantage of price spikes, buying power when it is cheap (prices can even go negative) and\n",
        "selling it back when they are high. Exploiting the variability in power prices on the grid is\n",
        "known as battery arbitrage.\n",
        "\n",
        "This problem will provide insights into\n",
        "virtually any inventory/storage problem, including\n",
        "- Holding cash in mutual funds A\n",
        "bank has to determine how much of its investment\n",
        "capital to hold in cash to meet requests for redemptions, versus investing the money\n",
        "in loans, stocks and bonds.\n",
        "- Retailers (including both online as well as bricksandmortar\n",
        "stores) have to manage\n",
        "inventories of the hundreds of thousands of products.\n",
        "- Auto dealers have to decide how many cars to hold to meet customer demand.\n",
        "- Consulting firms have to decide how many employees to keep on staff to meet the\n",
        "variable demand of different consulting projects.\n",
        "\n",
        "Energy storage is a particularly rich form of inventory problem."
      ],
      "metadata": {
        "id": "42fg7rNGyu2m"
      }
    },
    {
      "cell_type": "markdown",
      "source": [
        "## 2 DATA UNDERSTANDING\n",
        "\n",
        "Next, we will start to look at the data that is provided for this problem."
      ],
      "metadata": {
        "id": "r-HrABIBy4rN"
      }
    },
    {
      "cell_type": "code",
      "source": [
        "#hide\n",
        "from google.colab import drive\n",
        "drive.mount('/content/gdrive', force_remount=True)\n",
        "root_dir = \"/content/gdrive/My Drive\"\n",
        "base_dir = root_dir + '/Powell/EnergyStorage_I'"
      ],
      "metadata": {
        "colab": {
          "base_uri": "https://localhost:8080/"
        },
        "id": "bGJaJsXuI9cE",
        "outputId": "84f47410-f513-4de9-87aa-f91493949e17"
      },
      "execution_count": 122,
      "outputs": [
        {
          "output_type": "stream",
          "name": "stdout",
          "text": [
            "Mounted at /content/gdrive\n"
          ]
        }
      ]
    },
    {
      "cell_type": "code",
      "source": [
        "# import pdb\n",
        "from collections import namedtuple, defaultdict\n",
        "import numpy as np\n",
        "import pandas as pd\n",
        "import matplotlib.pyplot as plt\n",
        "from copy import copy\n",
        "import time\n",
        "from scipy.ndimage.interpolation import shift\n",
        "import pickle\n",
        "from bisect import bisect\n",
        "import math\n",
        "from pprint import pprint\n",
        "import matplotlib as mpl\n",
        "pd.options.display.float_format = '{:,.4f}'.format\n",
        "pd.set_option('display.max_columns', None)\n",
        "pd.set_option('display.max_rows', None)\n",
        "pd.set_option('display.max_colwidth', None)\n",
        "! python --version\n",
        "# 3.8.10; found it changed on 3/10/23"
      ],
      "metadata": {
        "id": "LtFLhQtAMARj",
        "colab": {
          "base_uri": "https://localhost:8080/"
        },
        "outputId": "18988dd0-1950-42b7-f0e4-9d79c279cfe4"
      },
      "execution_count": 123,
      "outputs": [
        {
          "output_type": "stream",
          "name": "stdout",
          "text": [
            "Python 3.9.16\n"
          ]
        },
        {
          "output_type": "stream",
          "name": "stderr",
          "text": [
            "<ipython-input-123-5dee06fc793d>:8: DeprecationWarning: Please use `shift` from the `scipy.ndimage` namespace, the `scipy.ndimage.interpolation` namespace is deprecated.\n",
            "  from scipy.ndimage.interpolation import shift\n"
          ]
        }
      ]
    },
    {
      "cell_type": "code",
      "source": [
        "def process_raw_price_data(file, params):\n",
        "    DISC_TYPE = \"FROM_CUM\"\n",
        "    #DISC_TYPE = \"OTHER\"\n",
        "\n",
        "    print(\"Processing raw price data. Constructing price change list and cdf using {}\".format(DISC_TYPE))\n",
        "    tS = time.time()\n",
        "\n",
        "    # load energy price data from the Excel spreadsheet\n",
        "    raw_data = pd.read_excel(file, sheet_name=\"Raw Data\")\n",
        "\n",
        "    # look at data spanning a week\n",
        "    data_selection = raw_data.iloc[0:params['T'], 0:5]\n",
        "\n",
        "    # rename columns to remove spaces (otherwise we can't access them)\n",
        "    cols = data_selection.columns\n",
        "    cols = cols.map(lambda x: x.replace(' ', '_') if isinstance(x, str) else x)\n",
        "    data_selection.columns = cols\n",
        "\n",
        "    # sort prices in ascending order\n",
        "    sort_by_price = data_selection.sort_values('PJM_RT_LMP')\n",
        "    #print(sort_by_price.head())\n",
        "\n",
        "    hist_price = np.array(data_selection['PJM_RT_LMP'].tolist())\n",
        "    #print(hist_price[0])\n",
        "\n",
        "    max_price = pd.DataFrame.max(sort_by_price['PJM_RT_LMP'])\n",
        "    min_price = pd.DataFrame.min(sort_by_price['PJM_RT_LMP'])\n",
        "    print(\"Min price {:.2f} and Max price {:.2f}\".format(min_price,max_price))\n",
        "    \n",
        "    # sort prices in ascending order\n",
        "    sort_by_price = data_selection.sort_values('PJM_RT_LMP')\n",
        "\n",
        "    # calculate change in price and sort values of change in price in ascending order\n",
        "    data_selection['Price_Shift'] = data_selection.PJM_RT_LMP.shift(1)\n",
        "    data_selection['Price_Change'] = data_selection['PJM_RT_LMP'] - data_selection['Price_Shift']\n",
        "    sort_price_change = data_selection.sort_values('Price_Change')\n",
        "    \n",
        "    # discretize change in price and obtain f(p) for each price change\n",
        "    max_price_change = pd.DataFrame.max(sort_price_change['Price_Change'])\n",
        "    min_price_change = pd.DataFrame.min(sort_price_change['Price_Change'])\n",
        "    print(\"Min price change {:.2f} and Max price change {:.2f}\".format(min_price_change,max_price_change))\n",
        "    \n",
        "    # there are 191 values for price change\n",
        "    price_changes_sorted = sort_price_change['Price_Change'].tolist()\n",
        "    # remove the last NaN value\n",
        "    price_changes_sorted.pop()\n",
        "\n",
        "    if DISC_TYPE == \"FROM_CUM\":\n",
        "    # discretize price change  by interpolating from cumulative distribution\n",
        "        xp = price_changes_sorted\n",
        "        fp = np.arange(len(price_changes_sorted) - 1) / (len(price_changes_sorted) - 1)\n",
        "        cum_fn = np.append(fp, 1)\n",
        "\n",
        "        # obtain 30 discrete prices\n",
        "        discrete_price_change_cdf = np.linspace(0, 1, params['nPriceChangeInc'])\n",
        "        discrete_price_change_list = []\n",
        "        for i in discrete_price_change_cdf:\n",
        "            interpolated_point = np.interp(i, cum_fn, xp)\n",
        "            discrete_price_change_list.append(interpolated_point)\n",
        "    else:\n",
        "        price_change_range = max_price_change - min_price_change\n",
        "        price_change_increment = price_change_range / params['nPriceChangeInc']\n",
        "        discrete_price_change = np.arange(min_price_change, max_price_change, price_change_increment)\n",
        "        discrete_price_change_list = list(np.append(discrete_price_change, max_price_change))\n",
        "\n",
        "        f_p = np.arange(len(price_changes_sorted) - 1) / (len(price_changes_sorted) - 1)\n",
        "        cum_fn = np.append(f_p, 1)\n",
        "        discrete_price_change_cdf = []\n",
        "        for c in discrete_price_change_list:\n",
        "            interpolated_point = np.interp(c, price_changes_sorted, cum_fn)\n",
        "            discrete_price_change_cdf.append(interpolated_point)\n",
        "\n",
        "    price_changes_sorted = np.array(price_changes_sorted)\n",
        "    discrete_price_change_list = np.array(discrete_price_change_list)\n",
        "    discrete_price_change_cdf = np.array(discrete_price_change_cdf)\n",
        "    discrete_price_change_pdf = discrete_price_change_cdf - shift(discrete_price_change_cdf,1,cval=0)\n",
        "\n",
        "    mean_price_change = np.dot(discrete_price_change_list,discrete_price_change_pdf)\n",
        "\n",
        "    #print(\"discrete_price_change_list \", discrete_price_change_list)\n",
        "    #print(\"discrete_price_change_cdf\", discrete_price_change_cdf)\n",
        "    #print(\"discrete_price_change_pdf\", discrete_price_change_pdf)\n",
        "\n",
        "    print(\"Finishing processing raw price data in {:.2f} secs. Expected price change is {:.2f}. Hist_price len is {}\".format(time.time()-tS,mean_price_change,len(hist_price)))\n",
        "    #input(\"enter any key to continue...\") \n",
        "\n",
        "    exog_params = {\n",
        "        \"hist_price\": hist_price,\n",
        "        \"price_changes_sorted\": price_changes_sorted,\n",
        "        \"discrete_price_change_list\": discrete_price_change_list,\n",
        "        \"discrete_price_change_cdf\": discrete_price_change_cdf}\n",
        "    return exog_params"
      ],
      "metadata": {
        "id": "n3Lt3inddI8L"
      },
      "execution_count": 124,
      "outputs": []
    },
    {
      "cell_type": "code",
      "source": [
        "seed = 189654913\n",
        "file = 'Parameters.xlsx'"
      ],
      "metadata": {
        "id": "PoLM9FGrdI4d"
      },
      "execution_count": 125,
      "outputs": []
    },
    {
      "cell_type": "code",
      "source": [
        "# NOTE:\n",
        "# R__max: unit is MWh which is an energy unit\n",
        "# R_0:    unit is MWh which is an energy unit\n",
        "parDf = pd.read_excel(f'{base_dir}/{file}', sheet_name='ParamsModel', index_col=0); print(f'{parDf}')\n",
        "# parDict = parDf.set_index('Index').T.to_dict('list')#.\n",
        "parDict = parDf.T.to_dict('list') #.\n",
        "params = {key:v for key, value in parDict.items() for v in value}\n",
        "params['seed'] = seed\n",
        "params['T'] = min(params['T'], 192); print(f'{params=}')"
      ],
      "metadata": {
        "colab": {
          "base_uri": "https://localhost:8080/"
        },
        "id": "S0JFf_1mdIjJ",
        "outputId": "a35486b1-42cf-4876-a661-ea1b67601145"
      },
      "execution_count": 126,
      "outputs": [
        {
          "output_type": "stream",
          "name": "stdout",
          "text": [
            "                    0\n",
            "Index                \n",
            "Algorithm  BackwardDP\n",
            "T                 195\n",
            "eta            0.9000\n",
            "R__max              1\n",
            "R_0                 1\n",
            "params={'Algorithm': 'BackwardDP', 'T': 192, 'eta': 0.9, 'R__max': 1, 'R_0': 1, 'seed': 189654913}\n"
          ]
        }
      ]
    },
    {
      "cell_type": "code",
      "source": [
        "parDf = pd.read_excel(f'{base_dir}/{file}', sheet_name='GridSearch', index_col=0); print(parDf)\n",
        "# parDict = parDf.set_index('Index').T.to_dict('list')#.\n",
        "parDict = parDf.T.to_dict('list')\n",
        "paramsPolicy = {key:v for key, value in parDict.items() for v in value}; print(f'{paramsPolicy=}')\n",
        "params.update(paramsPolicy); pprint(f'{params=}')"
      ],
      "metadata": {
        "colab": {
          "base_uri": "https://localhost:8080/"
        },
        "id": "pgHsP-rSdIfD",
        "outputId": "9600d49a-c110-4108-fcd0-7887c3e34a89"
      },
      "execution_count": 127,
      "outputs": [
        {
          "output_type": "stream",
          "name": "stdout",
          "text": [
            "                  0\n",
            "Index              \n",
            "theta_sell_min   10\n",
            "theta_sell_max  100\n",
            "theta_buy_min    10\n",
            "theta_buy_max   100\n",
            "theta_inc         1\n",
            "paramsPolicy={'theta_sell_min': 10, 'theta_sell_max': 100, 'theta_buy_min': 10, 'theta_buy_max': 100, 'theta_inc': 1}\n",
            "(\"params={'Algorithm': 'BackwardDP', 'T': 192, 'eta': 0.9, 'R__max': 1, 'R_0': \"\n",
            " \"1, 'seed': 189654913, 'theta_sell_min': 10, 'theta_sell_max': 100, \"\n",
            " \"'theta_buy_min': 10, 'theta_buy_max': 100, 'theta_inc': 1}\")\n"
          ]
        }
      ]
    },
    {
      "cell_type": "code",
      "source": [
        "parDf = pd.read_excel(f'{base_dir}/{file}', sheet_name='BackwardDP', index_col=0); print(parDf)\n",
        "# parDict = parDf.set_index('Index').T.to_dict('list')#.\n",
        "parDict = parDf.T.to_dict('list')\n",
        "paramsPolicy = {key:v for key, value in parDict.items() for v in value}; print(f'{paramsPolicy=}')\n",
        "params.update(paramsPolicy); pprint(f'{params=}')"
      ],
      "metadata": {
        "colab": {
          "base_uri": "https://localhost:8080/"
        },
        "id": "yG4nEEZidIZZ",
        "outputId": "521c501c-7a26-4bc9-c234-7b2040caf4f7"
      },
      "execution_count": 128,
      "outputs": [
        {
          "output_type": "stream",
          "name": "stdout",
          "text": [
            "                      0\n",
            "Index                  \n",
            "nPriceChangeInc      50\n",
            "priceDiscSet     1, 0.5\n",
            "run3D             False\n",
            "paramsPolicy={'nPriceChangeInc': 50, 'priceDiscSet': '1, 0.5', 'run3D': False}\n",
            "(\"params={'Algorithm': 'BackwardDP', 'T': 192, 'eta': 0.9, 'R__max': 1, 'R_0': \"\n",
            " \"1, 'seed': 189654913, 'theta_sell_min': 10, 'theta_sell_max': 100, \"\n",
            " \"'theta_buy_min': 10, 'theta_buy_max': 100, 'theta_inc': 1, \"\n",
            " \"'nPriceChangeInc': 50, 'priceDiscSet': '1, 0.5', 'run3D': False}\")\n"
          ]
        }
      ]
    },
    {
      "cell_type": "code",
      "source": [
        "if isinstance(params['priceDiscSet'], str):\n",
        "    price_disc_list = params['priceDiscSet'].split(\",\")\n",
        "    price_disc_list = [float(e) for e in price_disc_list]\n",
        "else:\n",
        "    price_disc_list = [float(params['priceDiscSet'])] \n",
        "params['price_disc_list'] = price_disc_list; print(f'{price_disc_list=}')"
      ],
      "metadata": {
        "colab": {
          "base_uri": "https://localhost:8080/"
        },
        "id": "IJ2teeWZdX56",
        "outputId": "5dce1585-6d34-4f4b-d5f4-3f461a315a35"
      },
      "execution_count": 129,
      "outputs": [
        {
          "output_type": "stream",
          "name": "stdout",
          "text": [
            "price_disc_list=[1.0, 0.5]\n"
          ]
        }
      ]
    },
    {
      "cell_type": "code",
      "source": [
        "pprint(f\"{params=}\")\n",
        "#input(\"enter any key to continue...\")"
      ],
      "metadata": {
        "colab": {
          "base_uri": "https://localhost:8080/"
        },
        "id": "4wIx6dpYdX2i",
        "outputId": "6a7e4425-4dd5-415f-bb5a-959099a86b22"
      },
      "execution_count": 130,
      "outputs": [
        {
          "output_type": "stream",
          "name": "stdout",
          "text": [
            "(\"params={'Algorithm': 'BackwardDP', 'T': 192, 'eta': 0.9, 'R__max': 1, 'R_0': \"\n",
            " \"1, 'seed': 189654913, 'theta_sell_min': 10, 'theta_sell_max': 100, \"\n",
            " \"'theta_buy_min': 10, 'theta_buy_max': 100, 'theta_inc': 1, \"\n",
            " \"'nPriceChangeInc': 50, 'priceDiscSet': '1, 0.5', 'run3D': False, \"\n",
            " \"'price_disc_list': [1.0, 0.5]}\")\n"
          ]
        }
      ]
    },
    {
      "cell_type": "code",
      "source": [
        "#exog_params is a dictionary with  three lists: \n",
        "#   hist_price, price_changes_list, discrete_price_change_cdf\n",
        "# exog_params = process_raw_price_data(f'{base_dir}/{file}', params)\n",
        "exogParams = process_raw_price_data(f'{base_dir}/{file}', params) #.\n",
        "# print(f\"{exogParams['hist_price']=}\")\n",
        "# print(f\"{exogParams['price_changes_sorted']=}\")\n",
        "# print(f\"{exogParams['discrete_price_change_list']=}\")\n",
        "# print(f\"{exogParams['discrete_price_change_cdf']=}\")"
      ],
      "metadata": {
        "colab": {
          "base_uri": "https://localhost:8080/"
        },
        "id": "QF7LKtG3dXzU",
        "outputId": "02491920-b9aa-46df-e27a-3a4ebdbe08c8"
      },
      "execution_count": 131,
      "outputs": [
        {
          "output_type": "stream",
          "name": "stdout",
          "text": [
            "Processing raw price data. Constructing price change list and cdf using FROM_CUM\n",
            "Min price 0.00 and Max price 107.34\n",
            "Min price change -54.40 and Max price change 65.81\n",
            "Finishing processing raw price data in 1.85 secs. Expected price change is 1.28. Hist_price len is 192\n"
          ]
        }
      ]
    },
    {
      "cell_type": "code",
      "source": [
        "print(\"Ingesting raw price data for understanding.\")\n",
        "# load energy price data from the Excel spreadsheet\n",
        "raw_data = pd.read_excel(f'{base_dir}/{file}', sheet_name=\"Raw Data\")\n",
        "\n",
        "# look at data spanning a week\n",
        "df_raw = raw_data.iloc[0:params['T'], 0:5]\n",
        "\n",
        "# rename columns to remove spaces (otherwise we can't access them)\n",
        "cols = df_raw.columns\n",
        "cols = cols.map(lambda x: x.replace(' ', '_') if isinstance(x, str) else x)\n",
        "df_raw.columns = cols\n",
        "df_raw.head()"
      ],
      "metadata": {
        "colab": {
          "base_uri": "https://localhost:8080/",
          "height": 223
        },
        "id": "rqwCvt6rg8cY",
        "outputId": "b00635d1-3c23-4b44-88d8-2bfde61063f8"
      },
      "execution_count": 132,
      "outputs": [
        {
          "output_type": "stream",
          "name": "stdout",
          "text": [
            "Ingesting raw price data for understanding.\n"
          ]
        },
        {
          "output_type": "execute_result",
          "data": {
            "text/plain": [
              "    Time                 Day   Hour  PJM_DA_LMP  PJM_RT_LMP\n",
              "0 1.0000 2005-01-01 00:00:00 1.0000     25.7200     18.9100\n",
              "1 2.0000 2005-01-01 01:00:00 2.0000     23.0800     14.2700\n",
              "2 3.0000 2005-01-01 02:00:00 3.0000     21.0000      9.6700\n",
              "3 4.0000 2005-01-01 03:00:00 4.0000     20.0000     17.6800\n",
              "4 5.0000 2005-01-01 04:00:00 5.0000     20.0400     11.8800"
            ],
            "text/html": [
              "\n",
              "  <div id=\"df-9f2d6282-f63b-4388-bb31-79a4e1714653\">\n",
              "    <div class=\"colab-df-container\">\n",
              "      <div>\n",
              "<style scoped>\n",
              "    .dataframe tbody tr th:only-of-type {\n",
              "        vertical-align: middle;\n",
              "    }\n",
              "\n",
              "    .dataframe tbody tr th {\n",
              "        vertical-align: top;\n",
              "    }\n",
              "\n",
              "    .dataframe thead th {\n",
              "        text-align: right;\n",
              "    }\n",
              "</style>\n",
              "<table border=\"1\" class=\"dataframe\">\n",
              "  <thead>\n",
              "    <tr style=\"text-align: right;\">\n",
              "      <th></th>\n",
              "      <th>Time</th>\n",
              "      <th>Day</th>\n",
              "      <th>Hour</th>\n",
              "      <th>PJM_DA_LMP</th>\n",
              "      <th>PJM_RT_LMP</th>\n",
              "    </tr>\n",
              "  </thead>\n",
              "  <tbody>\n",
              "    <tr>\n",
              "      <th>0</th>\n",
              "      <td>1.0000</td>\n",
              "      <td>2005-01-01 00:00:00</td>\n",
              "      <td>1.0000</td>\n",
              "      <td>25.7200</td>\n",
              "      <td>18.9100</td>\n",
              "    </tr>\n",
              "    <tr>\n",
              "      <th>1</th>\n",
              "      <td>2.0000</td>\n",
              "      <td>2005-01-01 01:00:00</td>\n",
              "      <td>2.0000</td>\n",
              "      <td>23.0800</td>\n",
              "      <td>14.2700</td>\n",
              "    </tr>\n",
              "    <tr>\n",
              "      <th>2</th>\n",
              "      <td>3.0000</td>\n",
              "      <td>2005-01-01 02:00:00</td>\n",
              "      <td>3.0000</td>\n",
              "      <td>21.0000</td>\n",
              "      <td>9.6700</td>\n",
              "    </tr>\n",
              "    <tr>\n",
              "      <th>3</th>\n",
              "      <td>4.0000</td>\n",
              "      <td>2005-01-01 03:00:00</td>\n",
              "      <td>4.0000</td>\n",
              "      <td>20.0000</td>\n",
              "      <td>17.6800</td>\n",
              "    </tr>\n",
              "    <tr>\n",
              "      <th>4</th>\n",
              "      <td>5.0000</td>\n",
              "      <td>2005-01-01 04:00:00</td>\n",
              "      <td>5.0000</td>\n",
              "      <td>20.0400</td>\n",
              "      <td>11.8800</td>\n",
              "    </tr>\n",
              "  </tbody>\n",
              "</table>\n",
              "</div>\n",
              "      <button class=\"colab-df-convert\" onclick=\"convertToInteractive('df-9f2d6282-f63b-4388-bb31-79a4e1714653')\"\n",
              "              title=\"Convert this dataframe to an interactive table.\"\n",
              "              style=\"display:none;\">\n",
              "        \n",
              "  <svg xmlns=\"http://www.w3.org/2000/svg\" height=\"24px\"viewBox=\"0 0 24 24\"\n",
              "       width=\"24px\">\n",
              "    <path d=\"M0 0h24v24H0V0z\" fill=\"none\"/>\n",
              "    <path d=\"M18.56 5.44l.94 2.06.94-2.06 2.06-.94-2.06-.94-.94-2.06-.94 2.06-2.06.94zm-11 1L8.5 8.5l.94-2.06 2.06-.94-2.06-.94L8.5 2.5l-.94 2.06-2.06.94zm10 10l.94 2.06.94-2.06 2.06-.94-2.06-.94-.94-2.06-.94 2.06-2.06.94z\"/><path d=\"M17.41 7.96l-1.37-1.37c-.4-.4-.92-.59-1.43-.59-.52 0-1.04.2-1.43.59L10.3 9.45l-7.72 7.72c-.78.78-.78 2.05 0 2.83L4 21.41c.39.39.9.59 1.41.59.51 0 1.02-.2 1.41-.59l7.78-7.78 2.81-2.81c.8-.78.8-2.07 0-2.86zM5.41 20L4 18.59l7.72-7.72 1.47 1.35L5.41 20z\"/>\n",
              "  </svg>\n",
              "      </button>\n",
              "      \n",
              "  <style>\n",
              "    .colab-df-container {\n",
              "      display:flex;\n",
              "      flex-wrap:wrap;\n",
              "      gap: 12px;\n",
              "    }\n",
              "\n",
              "    .colab-df-convert {\n",
              "      background-color: #E8F0FE;\n",
              "      border: none;\n",
              "      border-radius: 50%;\n",
              "      cursor: pointer;\n",
              "      display: none;\n",
              "      fill: #1967D2;\n",
              "      height: 32px;\n",
              "      padding: 0 0 0 0;\n",
              "      width: 32px;\n",
              "    }\n",
              "\n",
              "    .colab-df-convert:hover {\n",
              "      background-color: #E2EBFA;\n",
              "      box-shadow: 0px 1px 2px rgba(60, 64, 67, 0.3), 0px 1px 3px 1px rgba(60, 64, 67, 0.15);\n",
              "      fill: #174EA6;\n",
              "    }\n",
              "\n",
              "    [theme=dark] .colab-df-convert {\n",
              "      background-color: #3B4455;\n",
              "      fill: #D2E3FC;\n",
              "    }\n",
              "\n",
              "    [theme=dark] .colab-df-convert:hover {\n",
              "      background-color: #434B5C;\n",
              "      box-shadow: 0px 1px 3px 1px rgba(0, 0, 0, 0.15);\n",
              "      filter: drop-shadow(0px 1px 2px rgba(0, 0, 0, 0.3));\n",
              "      fill: #FFFFFF;\n",
              "    }\n",
              "  </style>\n",
              "\n",
              "      <script>\n",
              "        const buttonEl =\n",
              "          document.querySelector('#df-9f2d6282-f63b-4388-bb31-79a4e1714653 button.colab-df-convert');\n",
              "        buttonEl.style.display =\n",
              "          google.colab.kernel.accessAllowed ? 'block' : 'none';\n",
              "\n",
              "        async function convertToInteractive(key) {\n",
              "          const element = document.querySelector('#df-9f2d6282-f63b-4388-bb31-79a4e1714653');\n",
              "          const dataTable =\n",
              "            await google.colab.kernel.invokeFunction('convertToInteractive',\n",
              "                                                     [key], {});\n",
              "          if (!dataTable) return;\n",
              "\n",
              "          const docLinkHtml = 'Like what you see? Visit the ' +\n",
              "            '<a target=\"_blank\" href=https://colab.research.google.com/notebooks/data_table.ipynb>data table notebook</a>'\n",
              "            + ' to learn more about interactive tables.';\n",
              "          element.innerHTML = '';\n",
              "          dataTable['output_type'] = 'display_data';\n",
              "          await google.colab.output.renderOutput(dataTable, element);\n",
              "          const docLink = document.createElement('div');\n",
              "          docLink.innerHTML = docLinkHtml;\n",
              "          element.appendChild(docLink);\n",
              "        }\n",
              "      </script>\n",
              "    </div>\n",
              "  </div>\n",
              "  "
            ]
          },
          "metadata": {},
          "execution_count": 132
        }
      ]
    },
    {
      "cell_type": "code",
      "source": [
        "from certifi.core import where\n",
        "def plot_data(df):\n",
        "  n_charts = 2\n",
        "  ylabelsize = 16\n",
        "  fig, axs = plt.subplots(n_charts, sharex=True)\n",
        "  fig.set_figwidth(10); fig.set_figheight(7)\n",
        "  fig.suptitle('PRICE OF ELECTRICITY [$/MWh]', fontsize=20)\n",
        "  i = 0\n",
        "  axs[i].set_ylim(auto=True); axs[i].spines['top'].set_visible(False); axs[i].spines['right'].set_visible(True); axs[i].spines['bottom'].set_visible(True)\n",
        "  axs[i].plot(df['PJM_DA_LMP'], 'r')\n",
        "  axs[i].set_ylabel('$\\mathrm{PJM\\ DA\\ LMP}$', rotation=0, ha='right', va='center', fontweight='bold', size=ylabelsize);\n",
        "  i = 1\n",
        "  axs[i].set_ylim(auto=True); axs[i].spines['top'].set_visible(False); axs[i].spines['right'].set_visible(True); axs[i].spines['bottom'].set_visible(True)\n",
        "  axs[i].plot(df['PJM_RT_LMP'], 'g')\n",
        "  axs[i].set_ylabel('$\\mathrm{PJM\\ RT\\ LMP}$', rotation=0, ha='right', va='center', fontweight='bold', size=ylabelsize);\n",
        "  axs[i].set_xlabel('$t\\ \\mathrm{[hours]}$', rotation=0, ha='right', va='center', fontweight='bold', size=ylabelsize);\n",
        "plot_data(df_raw)  "
      ],
      "metadata": {
        "colab": {
          "base_uri": "https://localhost:8080/",
          "height": 686
        },
        "id": "FADnKGiVdu9x",
        "outputId": "0fba5d93-6e18-4780-f201-aef76088904a"
      },
      "execution_count": 133,
      "outputs": [
        {
          "output_type": "display_data",
          "data": {
            "text/plain": [
              "<Figure size 1000x700 with 2 Axes>"
            ],
            "image/png": "[encoded data removed]"
          },
          "metadata": {}
        }
      ]
    },
    {
      "cell_type": "markdown",
      "source": [
        "## 3 DATA PREPARATION\n",
        "\n",
        "The most important aspect of data preparation will be to create an empirical distribution rather than to try and fit the data to a parametric distribution. This involves the computation of a cumulative distribution from the data. We first sort the prices from smallest to largest. Let this ordered sequence be represented by $\\tilde{p}_t$ where $\\tilde{p}_{t-1} \\le \\tilde{p}_t$. Also, let $T$ be the number of time periods. The percentage of time periods with a price less than $\\tilde{p}_t$ is then $t/T$. The empirical cumulative distribution is given by\n",
        "$$\n",
        "F_P(\\tilde{p}_t) = \\frac{t}{T}\n",
        "$$\n"
      ],
      "metadata": {
        "id": "RkvQ6n1my80e"
      }
    },
    {
      "cell_type": "code",
      "source": [
        "# hide\n",
        "df_hist_price = pd.DataFrame({'hist_price': exogParams['hist_price']});\n",
        "print(df_hist_price.shape)\n",
        "# print(df_hist_price)\n",
        "# df_hist_price.plot('hist_price');\n",
        "# df_hist_price.plot();"
      ],
      "metadata": {
        "id": "qaGl9PHbAQ2V",
        "colab": {
          "base_uri": "https://localhost:8080/"
        },
        "outputId": "d8c26cff-e2b7-43e0-a8b5-742636221a33"
      },
      "execution_count": 134,
      "outputs": [
        {
          "output_type": "stream",
          "name": "stdout",
          "text": [
            "(192, 1)\n"
          ]
        }
      ]
    },
    {
      "cell_type": "code",
      "source": [
        "df_price_changes_sorted = pd.DataFrame({'price_changes_sorted': exogParams['price_changes_sorted']});\n",
        "print(df_price_changes_sorted.shape)\n",
        "# print(df_price_changes_sorted)\n",
        "df_price_changes_sorted.plot(figsize=(10,5));"
      ],
      "metadata": {
        "id": "whDmkbXZdm2h",
        "colab": {
          "base_uri": "https://localhost:8080/",
          "height": 462
        },
        "outputId": "a6883077-0df6-4b55-fa0c-d42b78aaaf78"
      },
      "execution_count": 135,
      "outputs": [
        {
          "output_type": "stream",
          "name": "stdout",
          "text": [
            "(191, 1)\n"
          ]
        },
        {
          "output_type": "display_data",
          "data": {
            "text/plain": [
              "<Figure size 1000x500 with 1 Axes>"
            ],
            "image/png": "[encoded data removed]"
          },
          "metadata": {}
        }
      ]
    },
    {
      "cell_type": "code",
      "source": [
        "df_discrete_price_change_list = pd.DataFrame(\n",
        "    {'discrete_price_change_list': exogParams['discrete_price_change_list']})\n",
        "print(df_discrete_price_change_list.shape)\n",
        "# print(df_discrete_price_change_list)\n",
        "df_discrete_price_change_list.plot(figsize=(10,5));"
      ],
      "metadata": {
        "id": "ptLyGdczdmws",
        "colab": {
          "base_uri": "https://localhost:8080/",
          "height": 462
        },
        "outputId": "76b5c064-dca0-49bb-a4db-33b39b158572"
      },
      "execution_count": 136,
      "outputs": [
        {
          "output_type": "stream",
          "name": "stdout",
          "text": [
            "(50, 1)\n"
          ]
        },
        {
          "output_type": "display_data",
          "data": {
            "text/plain": [
              "<Figure size 1000x500 with 1 Axes>"
            ],
            "image/png": "[encoded data removed]"
          },
          "metadata": {}
        }
      ]
    },
    {
      "cell_type": "code",
      "source": [
        "df_discrete_price_change_cdf = pd.DataFrame(\n",
        "    {'discrete_price_change_cdf': exogParams['discrete_price_change_cdf']})\n",
        "print(df_discrete_price_change_cdf.shape)\n",
        "# print(df_discrete_price_change_cdf)\n",
        "df_discrete_price_change_cdf.plot(figsize=(10,5));"
      ],
      "metadata": {
        "id": "82qSDkt-dXt1",
        "colab": {
          "base_uri": "https://localhost:8080/",
          "height": 462
        },
        "outputId": "2a48590f-6ac5-49d8-df9e-b9e3d1f47222"
      },
      "execution_count": 137,
      "outputs": [
        {
          "output_type": "stream",
          "name": "stdout",
          "text": [
            "(50, 1)\n"
          ]
        },
        {
          "output_type": "display_data",
          "data": {
            "text/plain": [
              "<Figure size 1000x500 with 1 Axes>"
            ],
            "image/png": "[encoded data removed]"
          },
          "metadata": {}
        }
      ]
    },
    {
      "cell_type": "markdown",
      "source": [
        "## 4 MODELING"
      ],
      "metadata": {
        "id": "-Z3sGG4yyux7"
      }
    },
    {
      "cell_type": "markdown",
      "source": [
        "### 4.1 Narrative"
      ],
      "metadata": {
        "id": "WwQ25pjWC0Y7"
      }
    },
    {
      "cell_type": "markdown",
      "source": [
        "There has been an interest making use of batteries to exploit electricity price spikes. Power is bought when the price is low and power is sold when the price is high. This is known as *battery arbitrage*.\n",
        "\n",
        "This project hightlights some interesting aspects of this kind of problem. Among these are:\n",
        "\n",
        "- Electricity prices on the grid can be very volatile (varies between about \\$20/MWh to about \\$1,000/MWh or even \\$10,000/MWh for brief periods)\n",
        "- Prices change every 5 minutes\n",
        "- We assume that we can observe the price and then decide if we want to buy or sell\n",
        "- We can only buy or sell for an entire 5-minute interval at a maximum rate of 0.01 MW\n",
        "- Wind energy can be forecasted but not very well. Rolling forecasts can be used.\n",
        "- Energy demand is variable but quite predictable. It depends on:\n",
        "  - temperature (primarily)\n",
        "  - humidity (less)\n",
        "- Energy may be bought from or sold to the grid at current grid prices.\n",
        "- There is a 5% to 10% loss when converting power from AC (grid) to DC (to store in battery).\n",
        "\n"
      ],
      "metadata": {
        "id": "GGnYO_bFyf7y"
      }
    },
    {
      "cell_type": "markdown",
      "source": [
        "### 4.2 Core Elements\n",
        "This section attempts to answer three important questions:\n",
        "- What metrics are we going to track?\n",
        "- What decisions do we intend to make?\n",
        "- What are the sources of uncertainty?\n",
        "\n",
        "For this problem, the only metric we are interested in is the amount of profit we make after each decision window. A single type of decision needs to be made at the start of each window - how much energy to buy or sell. The only source of uncertainty is the price of energy.\n"
      ],
      "metadata": {
        "id": "SibntzRdsDGq"
      }
    },
    {
      "cell_type": "markdown",
      "source": [
        "### 4.3 Mathematical Model | SUM Design"
      ],
      "metadata": {
        "id": "hCLpaG7WC_ZW"
      }
    },
    {
      "cell_type": "markdown",
      "source": [
        "A Python class is used to implement the model for the SUM (System Under Management):\n",
        "\n",
        "```\n",
        "class EnergyStorageModel():\n",
        "        def __init__(\n",
        "        self, SVarNames, xVarNames, S_0, params, exogParams, possibleDecisions,\n",
        "        W_fn=None, S__M_fn=None, C_fn=None):\n",
        "        ...\n",
        "        ...\n",
        "```"
      ],
      "metadata": {
        "id": "zVGnWr46Ehwe"
      }
    },
    {
      "cell_type": "markdown",
      "source": [
        "#### 4.3.1 State variables"
      ],
      "metadata": {
        "id": "oNuN57TWsw6w"
      }
    },
    {
      "cell_type": "markdown",
      "source": [
        "The *state variables* represent *what we need to know*.\n",
        "\n",
        "- $R_t$\n",
        "  - amount of energy stored in the battery at time $t$\n",
        "  - measured in kWh or MWh\n",
        "- $p_t$\n",
        "  - price of energy on the grid\n",
        "\n",
        "The state is:\n",
        "\n",
        "$S_t = (R_t,p_t)$\n",
        "\n",
        "The state variables are represented by the following variables in the `EnergyStorageModel` class:\n",
        "\n",
        "```\n",
        "        self.SVarNames = SVarNames\n",
        "        self.State = namedtuple('State', SVarNames) # 'class'\n",
        "        self.S_t = self.build_state(self.S_0) # 'instance'\n",
        "```\n",
        "where\n",
        "```\n",
        "SVarNames = ['R_t', 'p_t']\n",
        "```"
      ],
      "metadata": {
        "id": "8rl-ri-4tcbS"
      }
    },
    {
      "cell_type": "markdown",
      "source": [
        "#### 4.3.2 Decision variables"
      ],
      "metadata": {
        "id": "VwbW1BD0s53i"
      }
    },
    {
      "cell_type": "markdown",
      "source": [
        "The *decision variables* represent *what we control*.\n",
        "\n",
        "- $x_t$\n",
        "  - amount of energy bought from ($x_t>0$) or sold to ($x_t<0$) the grid\n",
        "- Losses\n",
        "  - When energy is transferred to or from the battery a loss is incurred\n",
        "  - Assume the loss into the battery is the same as the loss out of the battery\n",
        "  - $\\eta$ is the fraction of the energy retained\n",
        "  - $1 - \\eta$ is the loss\n",
        "- Constraints\n",
        "  - buy from grid $(x_t>0)$:\n",
        "    - $x_t \\le \\frac{1}{\\eta}(R^{max} - R_t)$\n",
        "  - sell to grid $(x_t<0)$:\n",
        "    - $-x_t \\le R_t$, which comes to\n",
        "    - $x_t \\ge -R_t$\n",
        "- Decisions are made with a policy (TBD below):\n",
        "  - $X^{\\pi}(S_t)$\n",
        "\n",
        "The decision variables are represented by the following variables in the `EnergyStorageModel` class:\n",
        "```\n",
        "self.Decision = namedtuple('Decision', xVarNames) # 'class'\n",
        "```\n",
        "where\n",
        "```\n",
        "xVarNames = ['x_t_buy', 'x_t_hold', 'x_t_sell']\n",
        "```\n",
        "**NOTE: We use a 1-hot representation of the decision variable. For this reason, some of our method names will have a suffix '_1hot' to point this out. In followup notebooks we will move away from the 1-hot representation.**"
      ],
      "metadata": {
        "id": "KbBU0JXa-3jd"
      }
    },
    {
      "cell_type": "markdown",
      "source": [
        "#### 4.3.3 Exogenous information variables\n"
      ],
      "metadata": {
        "id": "rw7gDN1es5yF"
      }
    },
    {
      "cell_type": "markdown",
      "source": [
        "The *exogenous information variables* represent *what we did not know (when we made a decision)*. These are the variables that we cannot control directly. The information in these variables become available *after* we make the decision $x_t$.\n",
        "\n",
        "When we assume that the price in each time period is revealed, without any model to predict the price based on past prices, we have:\n",
        "\n",
        "$$\n",
        "W_{t+1} = p_{t+1}\n",
        "$$\n",
        "\n",
        "Alternatively, when we assume that we observe the change in price $\\hat{p}=p_t-p_{t-1}$, we have:\n",
        "\n",
        "$$\n",
        "W_{t+1} = \\hat{p}_{t+1}\n",
        "$$\n",
        "\n",
        "The exogenous information have been preprocessed and is captured in:\n",
        "\n",
        "- `exogParams['hist_price']`\n",
        "- `exogParams['price_changes_sorted']`\n",
        "- `exogParams['discrete_price_change_list']`\n",
        "- `exogParams['discrete_price_change_cdf']`\n",
        "\n",
        "The latest exogenous information can be accesses by calling the following method from `class EnergyStorageModel()`:\n",
        "\n",
        "```\n",
        "def W_fn(self, t):\n",
        "  W_tt1 = self.exogParams['hist_price'][t]\n",
        "  return W_tt1\n",
        "```"
      ],
      "metadata": {
        "id": "BzGxWTQzDBU8"
      }
    },
    {
      "cell_type": "markdown",
      "source": [
        "#### 4.3.4 Transition function"
      ],
      "metadata": {
        "id": "qtX_whk-s5rD"
      }
    },
    {
      "cell_type": "markdown",
      "source": [
        "The *transition function* describe how the state variables evolve over time. Because we currently have two state variables in the state, $S_t=(R_t,p_t)$, we have the equations:\n",
        "\n",
        "$$\n",
        "\\begin{aligned}\n",
        "R_{t+1} &= R_t + \\eta x_t \\\\\n",
        "p_{t+1} &= p_t + \\hat{p}_{t+1} \n",
        "\\end{aligned}\n",
        "$$\n",
        "\n",
        "Collectively, they represent the general transition function:\n",
        "\n",
        "$$\n",
        "S_{t+1} = S^M(S_t,X^{\\pi}(S_t))\n",
        "$$\n",
        "\n",
        "The transition function is implemented by the following method in `class EnergyStorageModel()`:\n",
        "\n",
        "```\n",
        "def S__M_fn_1hot(self, t, x_t): #.\n",
        "    p_tt1 = self.W_fn(t)\n",
        "    R_tt1 = self.S_t.R_t + (self.initArgs['eta']*x_t.x_t_buy) - x_t.x_t_sell\n",
        "    if len(self.SVarNames) == 2:\n",
        "        S_tt1 = self.build_state({'R_t': R_tt1, 'p_t': p_tt1})\n",
        "    elif len(self.SVarNames) == 3:\n",
        "        S_tt1 = self.build_state({'R_t': R_tt1, 'p_t': p_tt1, 'p_t_1': self.S_t.p_t})\n",
        "    return S_tt1\n",
        "```"
      ],
      "metadata": {
        "id": "ZH-C0dbEDJee"
      }
    },
    {
      "cell_type": "markdown",
      "source": [
        "#### 4.3.5 Objective function"
      ],
      "metadata": {
        "id": "Rnq5fa_ns5fV"
      }
    },
    {
      "cell_type": "markdown",
      "source": [
        "The *objective function* captures the performance metrics of the solution to the problem. It is given by:\n",
        "\n",
        "$$\n",
        "\\max_{\\pi} \\mathbb{E} \\sum_{t=0}^T C(S_t,x_t)\n",
        "$$\n",
        "\n",
        "where\n",
        "$$\n",
        "C(S_t,x_t) = -p_tx_t\n",
        "$$\n",
        "\n",
        "The contribution (reward) function is implemented by the following method in class EnergyStorageModel():\n",
        "\n",
        "```\n",
        "def C_fn_1hot(self, x_t):\n",
        "    C_t = self.S_t.p_t*( self.initArgs['eta']*x_t.x_t_sell - x_t.x_t_buy )#. C(S_t, x_t, W_t+1)\n",
        "    return C_t\n",
        "```"
      ],
      "metadata": {
        "id": "WyQNktyCDXBr"
      }
    },
    {
      "cell_type": "markdown",
      "source": [
        "#### 4.3.6 Implementation of SUM Model\n",
        "\n",
        "Here is the complete implementation of the `EnergyStorageModel` class:"
      ],
      "metadata": {
        "id": "i1RdpXhn-t5U"
      }
    },
    {
      "cell_type": "code",
      "source": [
        "class EnergyStorageModel():\n",
        "    def __init__(\n",
        "        self, SVarNames, xVarNames, S_0, params, exogParams, possibleDecisions,\n",
        "        W_fn=None, S__M_fn=None, C_fn=None):\n",
        "        self.initArgs = params\n",
        "        self.prng = np.random.RandomState(params['seed'])\n",
        "        self.exogParams = exogParams\n",
        "        self.S_0 = S_0\n",
        "        self.SVarNames = SVarNames\n",
        "        self.xVarNames = xVarNames\n",
        "        self.possibleDecisions = possibleDecisions\n",
        "        self.State = namedtuple('State', SVarNames) # 'class'\n",
        "        self.S_t = self.build_state(self.S_0) # 'instance'\n",
        "        self.Decision = namedtuple('Decision', xVarNames) # 'class'\n",
        "        self.cumC = 0.0 #. cumulative reward; use F or cumF for final (i.e. no cumulative) reward\n",
        "        # self.states = [self.S_t] # keep a list of states visited\n",
        "\n",
        "    def reset(self):\n",
        "        self.cumC = 0.0\n",
        "        self.S_t = self.build_state(self.S_0)\n",
        "        # self.states = [self.S_t]\n",
        "\n",
        "    def build_state(self, info):\n",
        "        return self.State(*[info[sn] for sn in self.SVarNames])\n",
        "\n",
        "    def build_decision_1hot(self, x_t_info, R_t):\n",
        "        x_t_info_constrained = {'buy': 0, 'hold': 0, 'sell': 0} #.\n",
        "        #amount of power that can be bought/sold is limited by constraints\n",
        "        for xn in self.xVarNames:\n",
        "            if xn == 'x_t_buy' and x_t_info[xn] > 0:\n",
        "                x_t_info_constrained[xn] = (self.initArgs['R__max'] - R_t)/self.initArgs['eta']\n",
        "            elif xn == 'x_t_sell' and x_t_info[xn] > R_t:\n",
        "                x_t_info_constrained[xn] = R_t\n",
        "            else: # 'x_t_hold'\n",
        "                x_t_info_constrained[xn] = x_t_info[xn]\n",
        "        return self.Decision(*[x_t_info_constrained[xn] for xn in self.xVarNames])\n",
        "\n",
        "    def W_fn(self, t):\n",
        "        W_tt1 = self.exogParams['hist_price'][t]\n",
        "        return W_tt1\n",
        "\n",
        "    def S__M_fn_1hot(self, t, x_t):\n",
        "        p_tt1 = self.W_fn(t)\n",
        "        R_tt1 = self.S_t.R_t + (self.initArgs['eta']*x_t.x_t_buy) - x_t.x_t_sell\n",
        "        if len(self.SVarNames) == 2:\n",
        "            S_tt1 = self.build_state({'R_t': R_tt1, 'p_t': p_tt1})\n",
        "        elif len(self.SVarNames) == 3:\n",
        "            S_tt1 = self.build_state({'R_t': R_tt1, 'p_t': p_tt1, 'p_t_1': self.S_t.p_t})\n",
        "        return S_tt1\n",
        "\n",
        "    def C_fn_1hot(self, x_t):\n",
        "        C_t = self.S_t.p_t*( self.initArgs['eta']*x_t.x_t_sell - x_t.x_t_buy )# C(S_t, x_t, W_t+1)\n",
        "        return C_t\n",
        "\n",
        "    def step_1hot(self, t, x_t):\n",
        "        self.cumC += self.C_fn_1hot(x_t)\n",
        "        self.S_t = self.S__M_fn_1hot(t, x_t)\n",
        "        return (self.S_t, self.cumC, x_t) #. for plotting"
      ],
      "metadata": {
        "id": "Wk5naQar6t0m"
      },
      "execution_count": 138,
      "outputs": []
    },
    {
      "cell_type": "markdown",
      "source": [
        "### 4.4 Uncertainty Model\n",
        "\n",
        "As mentioned above in section 3, we make use of an empirical distribution rather than to try and fit the data to a parametric distribution. This involves the computation of a cumulative distribution from the data. We first sort the prices from smallest to largest. Let this ordered sequence be represented by $\\tilde{p}_t$ where $\\tilde{p}_{t-1} \\le \\tilde{p}_t$. Also, let $T$ be the number of time periods. The percentage of time periods with a price less than $\\tilde{p}_t$ is then $t/T$. The empirical cumulative distribution is given by\n",
        "$$\n",
        "F_P(\\tilde{p}_t) = \\frac{t}{T}\n",
        "$$"
      ],
      "metadata": {
        "id": "it1VtgVQPssJ"
      }
    },
    {
      "cell_type": "markdown",
      "source": [
        "### 4.5 Policy Design\n",
        "There are two main meta-classes of policy design. Each of these has two subclasses:\n",
        "- Policy Search\n",
        "  - Policy Function Approximations (PFAs)\n",
        "  - Cost Function Approximations (CFAs)\n",
        "- Lookahead\n",
        "  - Value Function Approximations (VFAs)\n",
        "  - Direct Lookaheads (DLAs)\n",
        "\n",
        "In this project we will use the approach:\n",
        "- A simple buy low, sell high parameterized policy (from the PFA class)\n",
        "\n",
        "The buy low, sell high policy is implemented by the following method in class EnergyStoragePolicy():\n",
        "\n",
        "```\n",
        "def X__BuyLowSellHigh_1hot(self, t, S_t, theta): #. SDAM-9.4.1\n",
        "    #. (SDAM-eq9.11): X^lohi(S_t|theta)\n",
        "    theta__buy = theta[0] #. theta__buy\n",
        "    theta__sell = theta[1] #. theta__sell\n",
        "    if S_t.p_t <= theta__buy: #. -1(BUY) if p_t <= theta__buy\n",
        "        x_t_info = self.model.possibleDecisions[0] #. BUY\n",
        "    elif S_t.p_t >= theta__sell: #. +1(SELL) if p_t >= theta__sell\n",
        "        x_t_info = self.model.possibleDecisions[1] #. SELL\n",
        "    else: #. 0(HOLD) if theta__buy < p_t < theta__sell\n",
        "        x_t_info = self.model.possibleDecisions[2] #. HOLD\n",
        "    return x_t_info\n",
        "```"
      ],
      "metadata": {
        "id": "NL3DjamdYYss"
      }
    },
    {
      "cell_type": "markdown",
      "source": [
        "#### 4.5.1 Implementation of Policy Design\n",
        "\n",
        "The `EnergyStoragePolicy()` class implements the policy design."
      ],
      "metadata": {
        "id": "ARYO_gl6NNJC"
      }
    },
    {
      "cell_type": "code",
      "source": [
        "import random\n",
        "class EnergyStoragePolicy():\n",
        "    def __init__(self, model, piNames):\n",
        "        self.model = model\n",
        "        self.piNames = piNames\n",
        "        self.Policy = namedtuple('Policy', piNames)\n",
        "\n",
        "    def X__BuyLowSellHigh_1hot(self, t, S_t, theta): #. SDAM-9.4.1\n",
        "        #. (SDAM-eq9.11): X^lohi(S_t|theta)\n",
        "        theta__buy = theta[0] #. theta__buy\n",
        "        theta__sell = theta[1] #. theta__sell\n",
        "        if S_t.p_t <= theta__buy: #. -1(BUY) if p_t <= theta__buy\n",
        "            x_t_info = self.model.possibleDecisions[0] #. BUY\n",
        "        elif S_t.p_t >= theta__sell: #. +1(SELL) if p_t >= theta__sell\n",
        "            x_t_info = self.model.possibleDecisions[1] #. SELL\n",
        "        else: #. 0(HOLD) if theta__buy < p_t < theta__sell\n",
        "            x_t_info = self.model.possibleDecisions[2] #. HOLD\n",
        "        return x_t_info\n",
        "\n",
        "    def run_policy_1hot(self, piInfo, piName, params):\n",
        "        model_copy = copy(self.model)\n",
        "        T = params['T']\n",
        "        # nTrades = {'buy': 0, 'sell': 0, 'hold': 0}\n",
        "        # nTrades = {'x_t_buy': 0, 'x_t_sell': 0, 'x_t_hold': 0}\n",
        "        buyList = []\n",
        "        sellList = []\n",
        "        for t in range(T):\n",
        "            x_t_info = getattr(self, piName)(t, model_copy.S_t, piInfo)\n",
        "            if t == model_copy.initArgs['T'] - 1: #Last time period - sell\n",
        "                x_t_info = {'x_t_buy': 0, 'x_t_hold': 0, 'x_t_sell': 1}   \n",
        "            x_t = model_copy.build_decision_1hot(x_t_info, model_copy.S_t.R_t)#.\n",
        "\n",
        "            # nTrades['x_t_buy'] += x_t.x_t_buy; #print(f'### {x_t.buy=}')\n",
        "            # nTrades['x_t_sell'] += x_t.x_t_sell; #print(f'### {x_t.sell=}')\n",
        "            # nTrades['x_t_hold'] += model_copy.S_t.R_t\n",
        "            if x_t.x_t_buy > 0:\n",
        "                buyList.append((t, model_copy.S_t.R_t, model_copy.S_t.p_t, x_t.x_t_buy, params['R__max']))\n",
        "            elif x_t.x_t_sell > 0:\n",
        "                sellList.append((t, model_copy.S_t.R_t, model_copy.S_t.p_t, x_t.x_t_sell, params['R__max']))\n",
        "            _, _, _ = model_copy.step_1hot(t, x_t) # step the model forward\n",
        "        cumC = model_copy.cumC\n",
        "        \n",
        "        # print(f\"Energy traded - Buy: {nTrades['x_t_buy']:.2f} - Hold: {nTrades['x_t_hold']:.2f} - Sell: {nTrades['x_t_sell']:.2f}\")\n",
        "        # print(\"Buy times and prices \")\n",
        "        # for i in range(len(buyList)):\n",
        "        #     print(f\"t = {buyList[i][0]:.2f} and price = {buyList[i][1]:.2f}\") #.\n",
        "        # print(\"Sell times and prices \")\n",
        "        # for i in range(len(sellList)):\n",
        "        #     print(f\"t = {sellList[i][0]:.2f} and price = {sellList[i][1]:.2f}\") #.\n",
        "        return cumC\n",
        "\n",
        "    def run_policy_sample_paths_1hot(self, theta, piName, params):\n",
        "        FhatIomega__lI = []\n",
        "        for l in range(1, params['L'] + 1):\n",
        "            model_copy = copy(self.model)\n",
        "            record_l = [piName, theta, l]\n",
        "            T = params['T']\n",
        "            # nTrades = {'x_t_buy': 0, 'x_t_sell': 0, 'x_t_hold': 0}\n",
        "            buyList = []\n",
        "            sellList = []\n",
        "            for t in range(T):\n",
        "                x_t_info = getattr(self, piName)(t, model_copy.S_t, theta)\n",
        "                if t == model_copy.initArgs['T'] - 1: #Last time period - sell\n",
        "                    x_t_info = {'x_t_buy': 0, 'x_t_hold': 0, 'x_t_sell': 1}\n",
        "                x_t = model_copy.build_decision_1hot(x_t_info, model_copy.S_t.R_t)\n",
        "                # nTrades['x_t_buy'] += x_t.x_t_buy; #print(f'### {x_t.buy=}')\n",
        "                # nTrades['x_t_sell'] += x_t.x_t_sell; #print(f'### {x_t.sell=}')\n",
        "                # nTrades['x_t_hold'] += model_copy.S_t.R_t\n",
        "                if x_t.x_t_buy > 0:\n",
        "                    buyList.append((t, model_copy.S_t.R_t, model_copy.S_t.p_t, x_t.x_t_buy, params['R__max']))\n",
        "                elif x_t.x_t_sell > 0:\n",
        "                    sellList.append((t, model_copy.S_t.R_t, model_copy.S_t.p_t, x_t.x_t_sell, params['R__max']))\n",
        "                _, _, _ = model_copy.step_1hot(t, x_t)\n",
        "            FhatIomega__lI.append(model_copy.cumC) #. just above (SDAM-eq2.9) #. Fhat for this sample-path is in model_copy.cumC\n",
        "            # print(f\"Inventory traded - Buy: {nTrades['x_t_buy']:.2f} - Hold: {nTrades['x_t_hold']:.2f} - Sell: {nTrades['x_t_sell']:.2f}\")\n",
        "            # print(\"Buy times \")\n",
        "            # for i in range(len(buy_list)):\n",
        "            #     print(f\"t={buy_list[i][0]}, R_t={buy_list[i][1]:.2f}, D_t={buy_list[i][2]:.2f}, x_t.x_t_buy={buy_list[i][3]:.2f}, R__max={buy_list[i][4]:.2f}\")\n",
        "            # print(\"Sell times \")\n",
        "            # for i in range(len(sell_list)):\n",
        "            #     print(f\"t={sell_list[i][0]}, R_t={sell_list[i][1]:.2f}, D_t={sell_list[i][2]:.2f}, x_t.x_t_sell={sell_list[i][3]:.2f}, R__max={buy_list[i][4]:.2f}\")\n",
        "            # return cumC\n",
        "        # end L\n",
        "        return FhatIomega__lI\n",
        "\n",
        "    def perform_grid_search_1hot(self, params, thetaValues):\n",
        "        tS = time.time()\n",
        "        cumCI_theta_I = {}\n",
        "        bestTheta = None\n",
        "        for theta in thetaValues:\n",
        "            #print(\"Starting theta {}\".format(theta))\n",
        "            if theta[0] >= theta[1]:\n",
        "                cumCI_theta_I[theta] = 0\n",
        "            else:\n",
        "                # print(f'\\n=== {theta=} ===')\n",
        "                cumC = self.run_policy_1hot(theta, \"X__BuyLowSellHigh_1hot\", params)\n",
        "                cumCI_theta_I[theta] = cumC\n",
        "                best_theta = max(cumCI_theta_I, key=cumCI_theta_I.get)\n",
        "                # print(f\"Finishing theta {theta} with cumC {cumC:.2f}. Best theta so far {best_theta}. Best contribution {cumCI_theta_I[best_theta]:.2f}\")\n",
        "        print(f\"Finishing GridSearch in {time.time() - tS:.2f} secs\")\n",
        "        print(f\"Best theta: {best_theta}. Best cumC {cumCI_theta_I[best_theta]:.2f}\")\n",
        "        return cumCI_theta_I\n",
        "\n",
        "    def perform_grid_search_sample_paths_1hot(self, params, thetaValues):\n",
        "        tS = time.time()\n",
        "        Fhat_mean = None\n",
        "        Fhat_var = None\n",
        "        Fhat__meanI_th_I = {}\n",
        "        Fhat__stdvI_th_I = {}\n",
        "        Fhat_mean = None\n",
        "        for theta in thetaValues:\n",
        "            if theta[0] >= theta[1]:\n",
        "                Fhat__meanI_th_I[theta] = 0\n",
        "                # pass\n",
        "            else:\n",
        "                # print(f'\\n=== {theta=} ===')\n",
        "                FhatIomega__lI = self.run_policy_sample_paths_1hot(theta, \"X__BuyLowSellHigh_1hot\", params)\n",
        "                Fhat_mean = np.array(FhatIomega__lI).mean() #. (SDAM-eq2.9); call Fbar in future\n",
        "                Fhat_var = np.sum(np.square(np.array(FhatIomega__lI) - Fhat_mean))/(params['L'] - 1)\n",
        "                Fhat__meanI_th_I[theta] = Fhat_mean\n",
        "                Fhat__stdvI_th_I[theta]= np.sqrt(Fhat_var/params['L'])\n",
        "                best_theta = max(Fhat__meanI_th_I, key=Fhat__meanI_th_I.get)\n",
        "                # print(f\"Finishing theta {theta} with cumC {Fhat__meanI_th_I[best_theta]:.2f}. Best theta so far {best_theta}. Best cumC {Fhat__meanI_th_I[best_theta]:.2f}\")\n",
        "        print(f\"Finishing GridSearch in {time.time() - tS:.2f} secs\")\n",
        "        print(f\"Best theta: {best_theta}. Best cumC {Fhat__meanI_th_I[best_theta]:.2f}\")\n",
        "        return Fhat__meanI_th_I, Fhat__stdvI_th_I\n",
        "\n",
        "    def grid_search_theta_values(self, params):\n",
        "        \"\"\"\n",
        "        this function gives a list of theta values needed to run a full grid search\n",
        "        \"\"\"\n",
        "        theta_buy_values = np.arange(params['theta_buy_min'], params['theta_buy_max'], params['theta_inc'])\n",
        "        theta_sell_values = np.arange(params['theta_sell_min'], params['theta_sell_max'], params['theta_inc'])\n",
        "\n",
        "        theta_values = [(x, y) for x in theta_buy_values for y in theta_sell_values]        \n",
        "        return theta_values, theta_buy_values, theta_sell_values\n",
        "\n",
        "    def plot_heat_map(self, contribution_dict, theta_buy_values, theta_sell_values):\n",
        "        contribution_values = [contribution_dict[(theta_buy,theta_sell)]  for theta_sell in theta_sell_values for theta_buy in theta_buy_values]\n",
        "        contributions = np.array(contribution_values)\n",
        "        increment_count = len(theta_buy_values)\n",
        "        contributions = np.reshape(contributions, (-1, increment_count))\n",
        "\n",
        "        fig, ax = plt.subplots()\n",
        "        im = ax.imshow(contributions, cmap='hot',origin='lower',aspect='auto')\n",
        "        # create colorbar\n",
        "        cbar = ax.figure.colorbar(im, ax=ax)\n",
        "        # cbar.ax.set_ylabel(cbarlabel, rotation=-90, va=\"bottom\")\n",
        "        # we want to show all ticks...\n",
        "        ax.set_xticks(np.arange(0,len(theta_buy_values),5))\n",
        "        ax.set_yticks(np.arange(0,len(theta_sell_values),5))\n",
        "        # ... and label them with the respective list entries\n",
        "        ax.set_xticklabels(theta_buy_values[::5])\n",
        "        ax.set_yticklabels(theta_sell_values[::5])\n",
        "        # rotate the tick labels and set their alignment.\n",
        "        #plt.setp(ax.get_xticklabels(), rotation=45, ha=\"right\",rotation_mode=\"anchor\")\n",
        "        ax.set_title(\"Heatmap of contribution values across different values of theta\")\n",
        "\n",
        "        ax.set_ylabel('Theta sell high values') \n",
        "        ax.set_xlabel('Theta buy low values')\n",
        "\n",
        "        #fig.tight_layout()\n",
        "        plt.show()\n",
        "        return True"
      ],
      "metadata": {
        "id": "ogYhzyGffq3F"
      },
      "execution_count": 139,
      "outputs": []
    },
    {
      "cell_type": "markdown",
      "source": [
        "### 4.6 Evaluating Policies"
      ],
      "metadata": {
        "id": "JMEUIRUj-6X-"
      }
    },
    {
      "cell_type": "markdown",
      "source": [
        "#### 4.6.1 Training/Tuning"
      ],
      "metadata": {
        "id": "RRWeulcOj3hH"
      }
    },
    {
      "cell_type": "code",
      "source": [
        "# UPDATE PARAMETERS\n",
        "params.update({'Algorithm': 'GridSearch'}); pprint(f'{params=}')\n",
        "params.update({'R__max': 1})\n",
        "params.update({'R_0': 0})\n",
        "params.update({'L': 500}) #add sample-paths\n",
        "params.update({'T': 100}) #optimal theta not consistent, so raise T\n",
        "params"
      ],
      "metadata": {
        "colab": {
          "base_uri": "https://localhost:8080/"
        },
        "id": "kGN3_Mk_N5aP",
        "outputId": "b33ff40b-0795-4585-9bb1-07da2ff45f3e"
      },
      "execution_count": 140,
      "outputs": [
        {
          "output_type": "stream",
          "name": "stdout",
          "text": [
            "(\"params={'Algorithm': 'GridSearch', 'T': 192, 'eta': 0.9, 'R__max': 1, 'R_0': \"\n",
            " \"1, 'seed': 189654913, 'theta_sell_min': 10, 'theta_sell_max': 100, \"\n",
            " \"'theta_buy_min': 10, 'theta_buy_max': 100, 'theta_inc': 1, \"\n",
            " \"'nPriceChangeInc': 50, 'priceDiscSet': '1, 0.5', 'run3D': False, \"\n",
            " \"'price_disc_list': [1.0, 0.5]}\")\n"
          ]
        },
        {
          "output_type": "execute_result",
          "data": {
            "text/plain": [
              "{'Algorithm': 'GridSearch',\n",
              " 'T': 100,\n",
              " 'eta': 0.9,\n",
              " 'R__max': 1,\n",
              " 'R_0': 0,\n",
              " 'seed': 189654913,\n",
              " 'theta_sell_min': 10,\n",
              " 'theta_sell_max': 100,\n",
              " 'theta_buy_min': 10,\n",
              " 'theta_buy_max': 100,\n",
              " 'theta_inc': 1,\n",
              " 'nPriceChangeInc': 50,\n",
              " 'priceDiscSet': '1, 0.5',\n",
              " 'run3D': False,\n",
              " 'price_disc_list': [1.0, 0.5],\n",
              " 'L': 500}"
            ]
          },
          "metadata": {},
          "execution_count": 140
        }
      ]
    },
    {
      "cell_type": "code",
      "source": [
        "# create a model and a policy\n",
        "piNames = ['X__BuyLowSellHigh_1hot']\n",
        "SVarNames = ['R_t', 'p_t']\n",
        "initialState = {\n",
        "    'R_t': params['R_0'],\n",
        "    'p_t': exogParams['hist_price'][0],\n",
        "}\n",
        "xVarNames = ['x_t_buy', 'x_t_hold', 'x_t_sell']\n",
        "possibleDecisions = [\n",
        "    {'x_t_buy': 1, 'x_t_hold': 0, 'x_t_sell': 0}, \n",
        "    {'x_t_buy': 0, 'x_t_hold': 0, 'x_t_sell': 1},\n",
        "    {'x_t_buy': 0, 'x_t_hold': 1, 'x_t_sell': 0}]\n",
        "M = EnergyStorageModel(\n",
        "    SVarNames, \n",
        "    xVarNames, \n",
        "    initialState, \n",
        "    params, \n",
        "    exogParams,\n",
        "    possibleDecisions\n",
        ")\n",
        "P = EnergyStoragePolicy(M, piNames)"
      ],
      "metadata": {
        "id": "78DsXVSQhnuS"
      },
      "execution_count": 141,
      "outputs": []
    },
    {
      "cell_type": "code",
      "source": [
        "%%time\n",
        "##########################################################################\n",
        "#GridSearch #. SDAM-9.4.1\n",
        "if params['Algorithm'] == 'GridSearch':\n",
        "    # obtain the theta values to carry out a full grid search\n",
        "    grid_search_theta_values = P.grid_search_theta_values(params)\n",
        "    # print(grid_search_theta_values)\n",
        "    \n",
        "    # use those theta values to calculate corresponding contribution values\n",
        "\n",
        "    cumCI_theta_I = \\\n",
        "      P.perform_grid_search_1hot(params, grid_search_theta_values[0])\n",
        "    P.plot_heat_map(\n",
        "        cumCI_theta_I, \n",
        "        grid_search_theta_values[1], \n",
        "        grid_search_theta_values[2])\n",
        "# \n",
        "# \n",
        "# OR\n",
        "# \n",
        "# \n",
        "    # Fhat__meanI_th_I, Fhat__stdvI_th_I = \\\n",
        "    #   P.perform_grid_search_sample_paths_1hot(params, grid_search_theta_values[0])\n",
        "    # P.plot_heat_map(\n",
        "    #     Fhat__meanI_th_I, \n",
        "    #     grid_search_theta_values[1], \n",
        "    #     grid_search_theta_values[2])\n",
        "##################################################################################"
      ],
      "metadata": {
        "colab": {
          "base_uri": "https://localhost:8080/",
          "height": 541
        },
        "id": "zOxnBvS_hnjn",
        "outputId": "e71b5ba6-3e0d-48e7-e92d-2b0717cad8ba"
      },
      "execution_count": 142,
      "outputs": [
        {
          "output_type": "stream",
          "name": "stdout",
          "text": [
            "Finishing GridSearch in 3.77 secs\n",
            "Best theta: (11, 38). Best cumC 141.01\n"
          ]
        },
        {
          "output_type": "display_data",
          "data": {
            "text/plain": [
              "<Figure size 640x480 with 2 Axes>"
            ],
            "image/png": "[encoded data removed]"
          },
          "metadata": {}
        },
        {
          "output_type": "stream",
          "name": "stdout",
          "text": [
            "CPU times: user 4.17 s, sys: 142 ms, total: 4.31 s\n",
            "Wall time: 4.19 s\n"
          ]
        }
      ]
    },
    {
      "cell_type": "markdown",
      "source": [
        "#### 4.6.2 Evaluation"
      ],
      "metadata": {
        "id": "X-DpKcyhQToP"
      }
    },
    {
      "cell_type": "code",
      "source": [
        "params['R_0']"
      ],
      "metadata": {
        "colab": {
          "base_uri": "https://localhost:8080/"
        },
        "id": "B0_e-YoNF3u8",
        "outputId": "7f18e33e-9283-4771-e136-80138386656a"
      },
      "execution_count": 143,
      "outputs": [
        {
          "output_type": "execute_result",
          "data": {
            "text/plain": [
              "0"
            ]
          },
          "metadata": {},
          "execution_count": 143
        }
      ]
    },
    {
      "cell_type": "code",
      "source": [
        "# create a model and a policy\n",
        "piNames = ['X__BuyLowSellHigh_1hot']\n",
        "SNames = ['R_t', 'p_t']\n",
        "initialState = {\n",
        "    # 'R_t': params['R_0'],\n",
        "    'R_t': 1,\n",
        "    'p_t': exogParams['hist_price'][0],\n",
        "}\n",
        "xVarNames = ['x_t_buy', 'x_t_hold', 'x_t_sell']\n",
        "possibleDecisions = M.possibleDecisions\n",
        "M_evalu = EnergyStorageModel(\n",
        "    SVarNames, \n",
        "    xVarNames, \n",
        "    initialState, \n",
        "    params, \n",
        "    exogParams,\n",
        "    possibleDecisions\n",
        ")\n",
        "P_evalu = EnergyStoragePolicy(M_evalu, piNames)\n",
        "params"
      ],
      "metadata": {
        "colab": {
          "base_uri": "https://localhost:8080/"
        },
        "id": "1xa827BkNaws",
        "outputId": "fec43c67-5a88-489e-a24b-b5ea17bd1e03"
      },
      "execution_count": 144,
      "outputs": [
        {
          "output_type": "execute_result",
          "data": {
            "text/plain": [
              "{'Algorithm': 'GridSearch',\n",
              " 'T': 100,\n",
              " 'eta': 0.9,\n",
              " 'R__max': 1,\n",
              " 'R_0': 0,\n",
              " 'seed': 189654913,\n",
              " 'theta_sell_min': 10,\n",
              " 'theta_sell_max': 100,\n",
              " 'theta_buy_min': 10,\n",
              " 'theta_buy_max': 100,\n",
              " 'theta_inc': 1,\n",
              " 'nPriceChangeInc': 50,\n",
              " 'priceDiscSet': '1, 0.5',\n",
              " 'run3D': False,\n",
              " 'price_disc_list': [1.0, 0.5],\n",
              " 'L': 500}"
            ]
          },
          "metadata": {},
          "execution_count": 144
        }
      ]
    },
    {
      "cell_type": "code",
      "source": [
        "def run_policy_evalu_1hot(piInfo_evalu, piName_evalu, stop_time_evalu):\n",
        "    model_copy = copy(M_evalu)\n",
        "    nTrades = {'x_t_buy': 0, 'x_t_sell': 0, 'x_t_hold': 0}\n",
        "    buyList = []\n",
        "    sellList = []\n",
        "    record = []\n",
        "    for t in range(stop_time_evalu):\n",
        "        x_t_info = getattr(P_evalu, piName_evalu)(t, model_copy.S_t, piInfo_evalu)\n",
        "        if t == stop_time_evalu - 1: #Last time period - sell\n",
        "            x_t_info = {'x_t_buy': 0, 'x_t_hold': 0, 'x_t_sell': 1}   \n",
        "        x_t = model_copy.build_decision_1hot(x_t_info, model_copy.S_t.R_t)\n",
        "        # nTrades['x_t_buy'] += x_t.x_t_buy; #print(f'### {x_t.buy=}')\n",
        "        # nTrades['x_t_sell'] += x_t.x_t_sell; #print(f'### {x_t.sell=}')\n",
        "        # nTrades['x_t_hold'] += model_copy.S_t.R_t#.\n",
        "        if x_t.x_t_buy > 0:\n",
        "            buyList.append((t, model_copy.S_t.p_t))\n",
        "        elif x_t.x_t_sell > 0:\n",
        "            sellList.append((t, model_copy.S_t.p_t))\n",
        "        res = model_copy.step_1hot(t, x_t) # step the model forward one iteration\n",
        "        record.append([res[0].R_t, res[0].p_t, res[1], res[2].x_t_buy, res[2].x_t_hold, res[2].x_t_sell])\n",
        "    cumC = model_copy.cumC\n",
        "    # print(\"Energy traded - Sell: {:.2f} - Buy: {:.2f} - Hold % : {:.2f}\".format(nTrades['sell'], nTrades['buy'], nTrades['hold']/model_copy.init_args['T']))\n",
        "    # print(f\"Energy traded - Sell: {nTrades['x_t_sell']:.2f} - Buy: {nTrades['x_t_buy']:.2f} - Hold % : {nTrades['x_t_hold']/model_copy.init_args['T']:.2f}\") #.\n",
        "    # print(\"Sell times and prices \")\n",
        "    # for i in range(len(sell_list)):\n",
        "    #     print(f\"t = {sell_list[i][0]} and price = {sell_list[i][1]:.2f}\") #.\n",
        "    # print(\"Buy times and prices \")\n",
        "    # for i in range(len(buy_list)):\n",
        "    #     print(f\"t = {buy_list[i][0]} and price = {buy_list[i][1]:.2f}\") #.\n",
        "    return cumC, record"
      ],
      "metadata": {
        "id": "vCTEDWJPy3dQ"
      },
      "execution_count": 145,
      "outputs": []
    },
    {
      "cell_type": "code",
      "source": [
        "# EVALUATION\n",
        "piName_evalu = 'X__BuyLowSellHigh_1hot'\n",
        "stop_time_evalu = 180"
      ],
      "metadata": {
        "id": "CmdvSoxJQoLl"
      },
      "execution_count": 146,
      "outputs": []
    },
    {
      "cell_type": "markdown",
      "source": [
        "##### 4.6.2.1 Optimal policy"
      ],
      "metadata": {
        "id": "k_rxr6VDQ-7W"
      }
    },
    {
      "cell_type": "code",
      "source": [
        "piName_evalu"
      ],
      "metadata": {
        "colab": {
          "base_uri": "https://localhost:8080/",
          "height": 36
        },
        "id": "CgQT-KWDPVMW",
        "outputId": "25433820-24d5-449c-e7f3-1cb65cbba5e4"
      },
      "execution_count": 147,
      "outputs": [
        {
          "output_type": "execute_result",
          "data": {
            "text/plain": [
              "'X__BuyLowSellHigh_1hot'"
            ],
            "application/vnd.google.colaboratory.intrinsic+json": {
              "type": "string"
            }
          },
          "metadata": {},
          "execution_count": 147
        }
      ]
    },
    {
      "cell_type": "code",
      "source": [
        "theta_evalu = (11, 38)\n",
        "cumC, record = run_policy_evalu_1hot(theta_evalu, piName_evalu, stop_time_evalu)\n",
        "labels = [\"R_t\", \"p_t\", \"cumC\", \"x_t_buy\", \"x_t_hold\", \"x_t_sell\"]\n",
        "print(f'{theta_evalu=}')\n",
        "df = pd.DataFrame.from_records(data=record, columns=labels); df[:20]"
      ],
      "metadata": {
        "id": "_M33R08Z9g4H",
        "colab": {
          "base_uri": "https://localhost:8080/",
          "height": 693
        },
        "outputId": "65c9def4-33b6-4df4-b13b-d2e2dfc6d84a"
      },
      "execution_count": 148,
      "outputs": [
        {
          "output_type": "stream",
          "name": "stdout",
          "text": [
            "theta_evalu=(11, 38)\n"
          ]
        },
        {
          "output_type": "execute_result",
          "data": {
            "text/plain": [
              "      R_t     p_t   cumC  x_t_buy  x_t_hold  x_t_sell\n",
              "0  1.0000 18.9100 0.0000   0.0000         1    0.0000\n",
              "1  1.0000 14.2700 0.0000   0.0000         1    0.0000\n",
              "2  1.0000  9.6700 0.0000   0.0000         1    0.0000\n",
              "3  1.0000 17.6800 0.0000   0.0000         0    0.0000\n",
              "4  1.0000 11.8800 0.0000   0.0000         1    0.0000\n",
              "5  1.0000  2.0800 0.0000   0.0000         1    0.0000\n",
              "6  1.0000  0.0000 0.0000   0.0000         0    0.0000\n",
              "7  1.0000 18.0000 0.0000   0.0000         0    0.0000\n",
              "8  1.0000 14.4800 0.0000   0.0000         1    0.0000\n",
              "9  1.0000 17.8800 0.0000   0.0000         1    0.0000\n",
              "10 1.0000 24.6400 0.0000   0.0000         1    0.0000\n",
              "11 1.0000 19.5700 0.0000   0.0000         1    0.0000\n",
              "12 1.0000 20.2600 0.0000   0.0000         1    0.0000\n",
              "13 1.0000 22.2100 0.0000   0.0000         1    0.0000\n",
              "14 1.0000 18.5200 0.0000   0.0000         1    0.0000\n",
              "15 1.0000 18.7800 0.0000   0.0000         1    0.0000\n",
              "16 1.0000 23.0900 0.0000   0.0000         1    0.0000\n",
              "17 1.0000 30.6900 0.0000   0.0000         1    0.0000\n",
              "18 1.0000 22.8800 0.0000   0.0000         1    0.0000\n",
              "19 1.0000 24.6000 0.0000   0.0000         1    0.0000"
            ],
            "text/html": [
              "\n",
              "  <div id=\"df-7af52492-ef07-406d-ae68-cb8d337bd557\">\n",
              "    <div class=\"colab-df-container\">\n",
              "      <div>\n",
              "<style scoped>\n",
              "    .dataframe tbody tr th:only-of-type {\n",
              "        vertical-align: middle;\n",
              "    }\n",
              "\n",
              "    .dataframe tbody tr th {\n",
              "        vertical-align: top;\n",
              "    }\n",
              "\n",
              "    .dataframe thead th {\n",
              "        text-align: right;\n",
              "    }\n",
              "</style>\n",
              "<table border=\"1\" class=\"dataframe\">\n",
              "  <thead>\n",
              "    <tr style=\"text-align: right;\">\n",
              "      <th></th>\n",
              "      <th>R_t</th>\n",
              "      <th>p_t</th>\n",
              "      <th>cumC</th>\n",
              "      <th>x_t_buy</th>\n",
              "      <th>x_t_hold</th>\n",
              "      <th>x_t_sell</th>\n",
              "    </tr>\n",
              "  </thead>\n",
              "  <tbody>\n",
              "    <tr>\n",
              "      <th>0</th>\n",
              "      <td>1.0000</td>\n",
              "      <td>18.9100</td>\n",
              "      <td>0.0000</td>\n",
              "      <td>0.0000</td>\n",
              "      <td>1</td>\n",
              "      <td>0.0000</td>\n",
              "    </tr>\n",
              "    <tr>\n",
              "      <th>1</th>\n",
              "      <td>1.0000</td>\n",
              "      <td>14.2700</td>\n",
              "      <td>0.0000</td>\n",
              "      <td>0.0000</td>\n",
              "      <td>1</td>\n",
              "      <td>0.0000</td>\n",
              "    </tr>\n",
              "    <tr>\n",
              "      <th>2</th>\n",
              "      <td>1.0000</td>\n",
              "      <td>9.6700</td>\n",
              "      <td>0.0000</td>\n",
              "      <td>0.0000</td>\n",
              "      <td>1</td>\n",
              "      <td>0.0000</td>\n",
              "    </tr>\n",
              "    <tr>\n",
              "      <th>3</th>\n",
              "      <td>1.0000</td>\n",
              "      <td>17.6800</td>\n",
              "      <td>0.0000</td>\n",
              "      <td>0.0000</td>\n",
              "      <td>0</td>\n",
              "      <td>0.0000</td>\n",
              "    </tr>\n",
              "    <tr>\n",
              "      <th>4</th>\n",
              "      <td>1.0000</td>\n",
              "      <td>11.8800</td>\n",
              "      <td>0.0000</td>\n",
              "      <td>0.0000</td>\n",
              "      <td>1</td>\n",
              "      <td>0.0000</td>\n",
              "    </tr>\n",
              "    <tr>\n",
              "      <th>5</th>\n",
              "      <td>1.0000</td>\n",
              "      <td>2.0800</td>\n",
              "      <td>0.0000</td>\n",
              "      <td>0.0000</td>\n",
              "      <td>1</td>\n",
              "      <td>0.0000</td>\n",
              "    </tr>\n",
              "    <tr>\n",
              "      <th>6</th>\n",
              "      <td>1.0000</td>\n",
              "      <td>0.0000</td>\n",
              "      <td>0.0000</td>\n",
              "      <td>0.0000</td>\n",
              "      <td>0</td>\n",
              "      <td>0.0000</td>\n",
              "    </tr>\n",
              "    <tr>\n",
              "      <th>7</th>\n",
              "      <td>1.0000</td>\n",
              "      <td>18.0000</td>\n",
              "      <td>0.0000</td>\n",
              "      <td>0.0000</td>\n",
              "      <td>0</td>\n",
              "      <td>0.0000</td>\n",
              "    </tr>\n",
              "    <tr>\n",
              "      <th>8</th>\n",
              "      <td>1.0000</td>\n",
              "      <td>14.4800</td>\n",
              "      <td>0.0000</td>\n",
              "      <td>0.0000</td>\n",
              "      <td>1</td>\n",
              "      <td>0.0000</td>\n",
              "    </tr>\n",
              "    <tr>\n",
              "      <th>9</th>\n",
              "      <td>1.0000</td>\n",
              "      <td>17.8800</td>\n",
              "      <td>0.0000</td>\n",
              "      <td>0.0000</td>\n",
              "      <td>1</td>\n",
              "      <td>0.0000</td>\n",
              "    </tr>\n",
              "    <tr>\n",
              "      <th>10</th>\n",
              "      <td>1.0000</td>\n",
              "      <td>24.6400</td>\n",
              "      <td>0.0000</td>\n",
              "      <td>0.0000</td>\n",
              "      <td>1</td>\n",
              "      <td>0.0000</td>\n",
              "    </tr>\n",
              "    <tr>\n",
              "      <th>11</th>\n",
              "      <td>1.0000</td>\n",
              "      <td>19.5700</td>\n",
              "      <td>0.0000</td>\n",
              "      <td>0.0000</td>\n",
              "      <td>1</td>\n",
              "      <td>0.0000</td>\n",
              "    </tr>\n",
              "    <tr>\n",
              "      <th>12</th>\n",
              "      <td>1.0000</td>\n",
              "      <td>20.2600</td>\n",
              "      <td>0.0000</td>\n",
              "      <td>0.0000</td>\n",
              "      <td>1</td>\n",
              "      <td>0.0000</td>\n",
              "    </tr>\n",
              "    <tr>\n",
              "      <th>13</th>\n",
              "      <td>1.0000</td>\n",
              "      <td>22.2100</td>\n",
              "      <td>0.0000</td>\n",
              "      <td>0.0000</td>\n",
              "      <td>1</td>\n",
              "      <td>0.0000</td>\n",
              "    </tr>\n",
              "    <tr>\n",
              "      <th>14</th>\n",
              "      <td>1.0000</td>\n",
              "      <td>18.5200</td>\n",
              "      <td>0.0000</td>\n",
              "      <td>0.0000</td>\n",
              "      <td>1</td>\n",
              "      <td>0.0000</td>\n",
              "    </tr>\n",
              "    <tr>\n",
              "      <th>15</th>\n",
              "      <td>1.0000</td>\n",
              "      <td>18.7800</td>\n",
              "      <td>0.0000</td>\n",
              "      <td>0.0000</td>\n",
              "      <td>1</td>\n",
              "      <td>0.0000</td>\n",
              "    </tr>\n",
              "    <tr>\n",
              "      <th>16</th>\n",
              "      <td>1.0000</td>\n",
              "      <td>23.0900</td>\n",
              "      <td>0.0000</td>\n",
              "      <td>0.0000</td>\n",
              "      <td>1</td>\n",
              "      <td>0.0000</td>\n",
              "    </tr>\n",
              "    <tr>\n",
              "      <th>17</th>\n",
              "      <td>1.0000</td>\n",
              "      <td>30.6900</td>\n",
              "      <td>0.0000</td>\n",
              "      <td>0.0000</td>\n",
              "      <td>1</td>\n",
              "      <td>0.0000</td>\n",
              "    </tr>\n",
              "    <tr>\n",
              "      <th>18</th>\n",
              "      <td>1.0000</td>\n",
              "      <td>22.8800</td>\n",
              "      <td>0.0000</td>\n",
              "      <td>0.0000</td>\n",
              "      <td>1</td>\n",
              "      <td>0.0000</td>\n",
              "    </tr>\n",
              "    <tr>\n",
              "      <th>19</th>\n",
              "      <td>1.0000</td>\n",
              "      <td>24.6000</td>\n",
              "      <td>0.0000</td>\n",
              "      <td>0.0000</td>\n",
              "      <td>1</td>\n",
              "      <td>0.0000</td>\n",
              "    </tr>\n",
              "  </tbody>\n",
              "</table>\n",
              "</div>\n",
              "      <button class=\"colab-df-convert\" onclick=\"convertToInteractive('df-7af52492-ef07-406d-ae68-cb8d337bd557')\"\n",
              "              title=\"Convert this dataframe to an interactive table.\"\n",
              "              style=\"display:none;\">\n",
              "        \n",
              "  <svg xmlns=\"http://www.w3.org/2000/svg\" height=\"24px\"viewBox=\"0 0 24 24\"\n",
              "       width=\"24px\">\n",
              "    <path d=\"M0 0h24v24H0V0z\" fill=\"none\"/>\n",
              "    <path d=\"M18.56 5.44l.94 2.06.94-2.06 2.06-.94-2.06-.94-.94-2.06-.94 2.06-2.06.94zm-11 1L8.5 8.5l.94-2.06 2.06-.94-2.06-.94L8.5 2.5l-.94 2.06-2.06.94zm10 10l.94 2.06.94-2.06 2.06-.94-2.06-.94-.94-2.06-.94 2.06-2.06.94z\"/><path d=\"M17.41 7.96l-1.37-1.37c-.4-.4-.92-.59-1.43-.59-.52 0-1.04.2-1.43.59L10.3 9.45l-7.72 7.72c-.78.78-.78 2.05 0 2.83L4 21.41c.39.39.9.59 1.41.59.51 0 1.02-.2 1.41-.59l7.78-7.78 2.81-2.81c.8-.78.8-2.07 0-2.86zM5.41 20L4 18.59l7.72-7.72 1.47 1.35L5.41 20z\"/>\n",
              "  </svg>\n",
              "      </button>\n",
              "      \n",
              "  <style>\n",
              "    .colab-df-container {\n",
              "      display:flex;\n",
              "      flex-wrap:wrap;\n",
              "      gap: 12px;\n",
              "    }\n",
              "\n",
              "    .colab-df-convert {\n",
              "      background-color: #E8F0FE;\n",
              "      border: none;\n",
              "      border-radius: 50%;\n",
              "      cursor: pointer;\n",
              "      display: none;\n",
              "      fill: #1967D2;\n",
              "      height: 32px;\n",
              "      padding: 0 0 0 0;\n",
              "      width: 32px;\n",
              "    }\n",
              "\n",
              "    .colab-df-convert:hover {\n",
              "      background-color: #E2EBFA;\n",
              "      box-shadow: 0px 1px 2px rgba(60, 64, 67, 0.3), 0px 1px 3px 1px rgba(60, 64, 67, 0.15);\n",
              "      fill: #174EA6;\n",
              "    }\n",
              "\n",
              "    [theme=dark] .colab-df-convert {\n",
              "      background-color: #3B4455;\n",
              "      fill: #D2E3FC;\n",
              "    }\n",
              "\n",
              "    [theme=dark] .colab-df-convert:hover {\n",
              "      background-color: #434B5C;\n",
              "      box-shadow: 0px 1px 3px 1px rgba(0, 0, 0, 0.15);\n",
              "      filter: drop-shadow(0px 1px 2px rgba(0, 0, 0, 0.3));\n",
              "      fill: #FFFFFF;\n",
              "    }\n",
              "  </style>\n",
              "\n",
              "      <script>\n",
              "        const buttonEl =\n",
              "          document.querySelector('#df-7af52492-ef07-406d-ae68-cb8d337bd557 button.colab-df-convert');\n",
              "        buttonEl.style.display =\n",
              "          google.colab.kernel.accessAllowed ? 'block' : 'none';\n",
              "\n",
              "        async function convertToInteractive(key) {\n",
              "          const element = document.querySelector('#df-7af52492-ef07-406d-ae68-cb8d337bd557');\n",
              "          const dataTable =\n",
              "            await google.colab.kernel.invokeFunction('convertToInteractive',\n",
              "                                                     [key], {});\n",
              "          if (!dataTable) return;\n",
              "\n",
              "          const docLinkHtml = 'Like what you see? Visit the ' +\n",
              "            '<a target=\"_blank\" href=https://colab.research.google.com/notebooks/data_table.ipynb>data table notebook</a>'\n",
              "            + ' to learn more about interactive tables.';\n",
              "          element.innerHTML = '';\n",
              "          dataTable['output_type'] = 'display_data';\n",
              "          await google.colab.output.renderOutput(dataTable, element);\n",
              "          const docLink = document.createElement('div');\n",
              "          docLink.innerHTML = docLinkHtml;\n",
              "          element.appendChild(docLink);\n",
              "        }\n",
              "      </script>\n",
              "    </div>\n",
              "  </div>\n",
              "  "
            ]
          },
          "metadata": {},
          "execution_count": 148
        }
      ]
    },
    {
      "cell_type": "code",
      "source": [
        "df.tail()"
      ],
      "metadata": {
        "colab": {
          "base_uri": "https://localhost:8080/",
          "height": 206
        },
        "id": "Ee9oxNfMexEG",
        "outputId": "f65cdee1-e93c-470f-f2ea-3cfb96ac749e"
      },
      "execution_count": 149,
      "outputs": [
        {
          "output_type": "execute_result",
          "data": {
            "text/plain": [
              "       R_t      p_t     cumC  x_t_buy  x_t_hold  x_t_sell\n",
              "175 0.0000  30.3400 184.7686   0.0000         1    0.0000\n",
              "176 0.0000  41.5300 184.7686   0.0000         1    0.0000\n",
              "177 0.0000 107.3400 184.7686   0.0000         0    0.0000\n",
              "178 0.0000  87.5700 184.7686   0.0000         0    0.0000\n",
              "179 0.0000  36.0800 184.7686   0.0000         0    0.0000"
            ],
            "text/html": [
              "\n",
              "  <div id=\"df-c8296b0b-993e-4ea3-8d80-30afff71f4a6\">\n",
              "    <div class=\"colab-df-container\">\n",
              "      <div>\n",
              "<style scoped>\n",
              "    .dataframe tbody tr th:only-of-type {\n",
              "        vertical-align: middle;\n",
              "    }\n",
              "\n",
              "    .dataframe tbody tr th {\n",
              "        vertical-align: top;\n",
              "    }\n",
              "\n",
              "    .dataframe thead th {\n",
              "        text-align: right;\n",
              "    }\n",
              "</style>\n",
              "<table border=\"1\" class=\"dataframe\">\n",
              "  <thead>\n",
              "    <tr style=\"text-align: right;\">\n",
              "      <th></th>\n",
              "      <th>R_t</th>\n",
              "      <th>p_t</th>\n",
              "      <th>cumC</th>\n",
              "      <th>x_t_buy</th>\n",
              "      <th>x_t_hold</th>\n",
              "      <th>x_t_sell</th>\n",
              "    </tr>\n",
              "  </thead>\n",
              "  <tbody>\n",
              "    <tr>\n",
              "      <th>175</th>\n",
              "      <td>0.0000</td>\n",
              "      <td>30.3400</td>\n",
              "      <td>184.7686</td>\n",
              "      <td>0.0000</td>\n",
              "      <td>1</td>\n",
              "      <td>0.0000</td>\n",
              "    </tr>\n",
              "    <tr>\n",
              "      <th>176</th>\n",
              "      <td>0.0000</td>\n",
              "      <td>41.5300</td>\n",
              "      <td>184.7686</td>\n",
              "      <td>0.0000</td>\n",
              "      <td>1</td>\n",
              "      <td>0.0000</td>\n",
              "    </tr>\n",
              "    <tr>\n",
              "      <th>177</th>\n",
              "      <td>0.0000</td>\n",
              "      <td>107.3400</td>\n",
              "      <td>184.7686</td>\n",
              "      <td>0.0000</td>\n",
              "      <td>0</td>\n",
              "      <td>0.0000</td>\n",
              "    </tr>\n",
              "    <tr>\n",
              "      <th>178</th>\n",
              "      <td>0.0000</td>\n",
              "      <td>87.5700</td>\n",
              "      <td>184.7686</td>\n",
              "      <td>0.0000</td>\n",
              "      <td>0</td>\n",
              "      <td>0.0000</td>\n",
              "    </tr>\n",
              "    <tr>\n",
              "      <th>179</th>\n",
              "      <td>0.0000</td>\n",
              "      <td>36.0800</td>\n",
              "      <td>184.7686</td>\n",
              "      <td>0.0000</td>\n",
              "      <td>0</td>\n",
              "      <td>0.0000</td>\n",
              "    </tr>\n",
              "  </tbody>\n",
              "</table>\n",
              "</div>\n",
              "      <button class=\"colab-df-convert\" onclick=\"convertToInteractive('df-c8296b0b-993e-4ea3-8d80-30afff71f4a6')\"\n",
              "              title=\"Convert this dataframe to an interactive table.\"\n",
              "              style=\"display:none;\">\n",
              "        \n",
              "  <svg xmlns=\"http://www.w3.org/2000/svg\" height=\"24px\"viewBox=\"0 0 24 24\"\n",
              "       width=\"24px\">\n",
              "    <path d=\"M0 0h24v24H0V0z\" fill=\"none\"/>\n",
              "    <path d=\"M18.56 5.44l.94 2.06.94-2.06 2.06-.94-2.06-.94-.94-2.06-.94 2.06-2.06.94zm-11 1L8.5 8.5l.94-2.06 2.06-.94-2.06-.94L8.5 2.5l-.94 2.06-2.06.94zm10 10l.94 2.06.94-2.06 2.06-.94-2.06-.94-.94-2.06-.94 2.06-2.06.94z\"/><path d=\"M17.41 7.96l-1.37-1.37c-.4-.4-.92-.59-1.43-.59-.52 0-1.04.2-1.43.59L10.3 9.45l-7.72 7.72c-.78.78-.78 2.05 0 2.83L4 21.41c.39.39.9.59 1.41.59.51 0 1.02-.2 1.41-.59l7.78-7.78 2.81-2.81c.8-.78.8-2.07 0-2.86zM5.41 20L4 18.59l7.72-7.72 1.47 1.35L5.41 20z\"/>\n",
              "  </svg>\n",
              "      </button>\n",
              "      \n",
              "  <style>\n",
              "    .colab-df-container {\n",
              "      display:flex;\n",
              "      flex-wrap:wrap;\n",
              "      gap: 12px;\n",
              "    }\n",
              "\n",
              "    .colab-df-convert {\n",
              "      background-color: #E8F0FE;\n",
              "      border: none;\n",
              "      border-radius: 50%;\n",
              "      cursor: pointer;\n",
              "      display: none;\n",
              "      fill: #1967D2;\n",
              "      height: 32px;\n",
              "      padding: 0 0 0 0;\n",
              "      width: 32px;\n",
              "    }\n",
              "\n",
              "    .colab-df-convert:hover {\n",
              "      background-color: #E2EBFA;\n",
              "      box-shadow: 0px 1px 2px rgba(60, 64, 67, 0.3), 0px 1px 3px 1px rgba(60, 64, 67, 0.15);\n",
              "      fill: #174EA6;\n",
              "    }\n",
              "\n",
              "    [theme=dark] .colab-df-convert {\n",
              "      background-color: #3B4455;\n",
              "      fill: #D2E3FC;\n",
              "    }\n",
              "\n",
              "    [theme=dark] .colab-df-convert:hover {\n",
              "      background-color: #434B5C;\n",
              "      box-shadow: 0px 1px 3px 1px rgba(0, 0, 0, 0.15);\n",
              "      filter: drop-shadow(0px 1px 2px rgba(0, 0, 0, 0.3));\n",
              "      fill: #FFFFFF;\n",
              "    }\n",
              "  </style>\n",
              "\n",
              "      <script>\n",
              "        const buttonEl =\n",
              "          document.querySelector('#df-c8296b0b-993e-4ea3-8d80-30afff71f4a6 button.colab-df-convert');\n",
              "        buttonEl.style.display =\n",
              "          google.colab.kernel.accessAllowed ? 'block' : 'none';\n",
              "\n",
              "        async function convertToInteractive(key) {\n",
              "          const element = document.querySelector('#df-c8296b0b-993e-4ea3-8d80-30afff71f4a6');\n",
              "          const dataTable =\n",
              "            await google.colab.kernel.invokeFunction('convertToInteractive',\n",
              "                                                     [key], {});\n",
              "          if (!dataTable) return;\n",
              "\n",
              "          const docLinkHtml = 'Like what you see? Visit the ' +\n",
              "            '<a target=\"_blank\" href=https://colab.research.google.com/notebooks/data_table.ipynb>data table notebook</a>'\n",
              "            + ' to learn more about interactive tables.';\n",
              "          element.innerHTML = '';\n",
              "          dataTable['output_type'] = 'display_data';\n",
              "          await google.colab.output.renderOutput(dataTable, element);\n",
              "          const docLink = document.createElement('div');\n",
              "          docLink.innerHTML = docLinkHtml;\n",
              "          element.appendChild(docLink);\n",
              "        }\n",
              "      </script>\n",
              "    </div>\n",
              "  </div>\n",
              "  "
            ]
          },
          "metadata": {},
          "execution_count": 149
        }
      ]
    },
    {
      "cell_type": "markdown",
      "source": [
        "##### 4.6.2.2 Non-optimal policy"
      ],
      "metadata": {
        "id": "NjIzSIm5RKjl"
      }
    },
    {
      "cell_type": "code",
      "source": [
        "theta_evalu_non=(30, 95)\n",
        "cumC, record = run_policy_evalu_1hot(theta_evalu_non, piName_evalu, stop_time_evalu)\n",
        "labels = [\"R_t\", \"p_t\", \"cumC\", \"x_t_buy\", \"x_t_hold\", \"x_t_sell\"]\n",
        "print(f'{theta_evalu_non=}')\n",
        "df_non = pd.DataFrame.from_records(data=record, columns=labels); df[:20]"
      ],
      "metadata": {
        "colab": {
          "base_uri": "https://localhost:8080/",
          "height": 693
        },
        "id": "_dJB0Y81SGMK",
        "outputId": "ee7b4f5e-d619-4680-9d88-c25f3e70baf0"
      },
      "execution_count": 150,
      "outputs": [
        {
          "output_type": "stream",
          "name": "stdout",
          "text": [
            "theta_evalu_non=(30, 95)\n"
          ]
        },
        {
          "output_type": "execute_result",
          "data": {
            "text/plain": [
              "      R_t     p_t   cumC  x_t_buy  x_t_hold  x_t_sell\n",
              "0  1.0000 18.9100 0.0000   0.0000         1    0.0000\n",
              "1  1.0000 14.2700 0.0000   0.0000         1    0.0000\n",
              "2  1.0000  9.6700 0.0000   0.0000         1    0.0000\n",
              "3  1.0000 17.6800 0.0000   0.0000         0    0.0000\n",
              "4  1.0000 11.8800 0.0000   0.0000         1    0.0000\n",
              "5  1.0000  2.0800 0.0000   0.0000         1    0.0000\n",
              "6  1.0000  0.0000 0.0000   0.0000         0    0.0000\n",
              "7  1.0000 18.0000 0.0000   0.0000         0    0.0000\n",
              "8  1.0000 14.4800 0.0000   0.0000         1    0.0000\n",
              "9  1.0000 17.8800 0.0000   0.0000         1    0.0000\n",
              "10 1.0000 24.6400 0.0000   0.0000         1    0.0000\n",
              "11 1.0000 19.5700 0.0000   0.0000         1    0.0000\n",
              "12 1.0000 20.2600 0.0000   0.0000         1    0.0000\n",
              "13 1.0000 22.2100 0.0000   0.0000         1    0.0000\n",
              "14 1.0000 18.5200 0.0000   0.0000         1    0.0000\n",
              "15 1.0000 18.7800 0.0000   0.0000         1    0.0000\n",
              "16 1.0000 23.0900 0.0000   0.0000         1    0.0000\n",
              "17 1.0000 30.6900 0.0000   0.0000         1    0.0000\n",
              "18 1.0000 22.8800 0.0000   0.0000         1    0.0000\n",
              "19 1.0000 24.6000 0.0000   0.0000         1    0.0000"
            ],
            "text/html": [
              "\n",
              "  <div id=\"df-b1868568-7295-4e17-ada1-4a8f2689bead\">\n",
              "    <div class=\"colab-df-container\">\n",
              "      <div>\n",
              "<style scoped>\n",
              "    .dataframe tbody tr th:only-of-type {\n",
              "        vertical-align: middle;\n",
              "    }\n",
              "\n",
              "    .dataframe tbody tr th {\n",
              "        vertical-align: top;\n",
              "    }\n",
              "\n",
              "    .dataframe thead th {\n",
              "        text-align: right;\n",
              "    }\n",
              "</style>\n",
              "<table border=\"1\" class=\"dataframe\">\n",
              "  <thead>\n",
              "    <tr style=\"text-align: right;\">\n",
              "      <th></th>\n",
              "      <th>R_t</th>\n",
              "      <th>p_t</th>\n",
              "      <th>cumC</th>\n",
              "      <th>x_t_buy</th>\n",
              "      <th>x_t_hold</th>\n",
              "      <th>x_t_sell</th>\n",
              "    </tr>\n",
              "  </thead>\n",
              "  <tbody>\n",
              "    <tr>\n",
              "      <th>0</th>\n",
              "      <td>1.0000</td>\n",
              "      <td>18.9100</td>\n",
              "      <td>0.0000</td>\n",
              "      <td>0.0000</td>\n",
              "      <td>1</td>\n",
              "      <td>0.0000</td>\n",
              "    </tr>\n",
              "    <tr>\n",
              "      <th>1</th>\n",
              "      <td>1.0000</td>\n",
              "      <td>14.2700</td>\n",
              "      <td>0.0000</td>\n",
              "      <td>0.0000</td>\n",
              "      <td>1</td>\n",
              "      <td>0.0000</td>\n",
              "    </tr>\n",
              "    <tr>\n",
              "      <th>2</th>\n",
              "      <td>1.0000</td>\n",
              "      <td>9.6700</td>\n",
              "      <td>0.0000</td>\n",
              "      <td>0.0000</td>\n",
              "      <td>1</td>\n",
              "      <td>0.0000</td>\n",
              "    </tr>\n",
              "    <tr>\n",
              "      <th>3</th>\n",
              "      <td>1.0000</td>\n",
              "      <td>17.6800</td>\n",
              "      <td>0.0000</td>\n",
              "      <td>0.0000</td>\n",
              "      <td>0</td>\n",
              "      <td>0.0000</td>\n",
              "    </tr>\n",
              "    <tr>\n",
              "      <th>4</th>\n",
              "      <td>1.0000</td>\n",
              "      <td>11.8800</td>\n",
              "      <td>0.0000</td>\n",
              "      <td>0.0000</td>\n",
              "      <td>1</td>\n",
              "      <td>0.0000</td>\n",
              "    </tr>\n",
              "    <tr>\n",
              "      <th>5</th>\n",
              "      <td>1.0000</td>\n",
              "      <td>2.0800</td>\n",
              "      <td>0.0000</td>\n",
              "      <td>0.0000</td>\n",
              "      <td>1</td>\n",
              "      <td>0.0000</td>\n",
              "    </tr>\n",
              "    <tr>\n",
              "      <th>6</th>\n",
              "      <td>1.0000</td>\n",
              "      <td>0.0000</td>\n",
              "      <td>0.0000</td>\n",
              "      <td>0.0000</td>\n",
              "      <td>0</td>\n",
              "      <td>0.0000</td>\n",
              "    </tr>\n",
              "    <tr>\n",
              "      <th>7</th>\n",
              "      <td>1.0000</td>\n",
              "      <td>18.0000</td>\n",
              "      <td>0.0000</td>\n",
              "      <td>0.0000</td>\n",
              "      <td>0</td>\n",
              "      <td>0.0000</td>\n",
              "    </tr>\n",
              "    <tr>\n",
              "      <th>8</th>\n",
              "      <td>1.0000</td>\n",
              "      <td>14.4800</td>\n",
              "      <td>0.0000</td>\n",
              "      <td>0.0000</td>\n",
              "      <td>1</td>\n",
              "      <td>0.0000</td>\n",
              "    </tr>\n",
              "    <tr>\n",
              "      <th>9</th>\n",
              "      <td>1.0000</td>\n",
              "      <td>17.8800</td>\n",
              "      <td>0.0000</td>\n",
              "      <td>0.0000</td>\n",
              "      <td>1</td>\n",
              "      <td>0.0000</td>\n",
              "    </tr>\n",
              "    <tr>\n",
              "      <th>10</th>\n",
              "      <td>1.0000</td>\n",
              "      <td>24.6400</td>\n",
              "      <td>0.0000</td>\n",
              "      <td>0.0000</td>\n",
              "      <td>1</td>\n",
              "      <td>0.0000</td>\n",
              "    </tr>\n",
              "    <tr>\n",
              "      <th>11</th>\n",
              "      <td>1.0000</td>\n",
              "      <td>19.5700</td>\n",
              "      <td>0.0000</td>\n",
              "      <td>0.0000</td>\n",
              "      <td>1</td>\n",
              "      <td>0.0000</td>\n",
              "    </tr>\n",
              "    <tr>\n",
              "      <th>12</th>\n",
              "      <td>1.0000</td>\n",
              "      <td>20.2600</td>\n",
              "      <td>0.0000</td>\n",
              "      <td>0.0000</td>\n",
              "      <td>1</td>\n",
              "      <td>0.0000</td>\n",
              "    </tr>\n",
              "    <tr>\n",
              "      <th>13</th>\n",
              "      <td>1.0000</td>\n",
              "      <td>22.2100</td>\n",
              "      <td>0.0000</td>\n",
              "      <td>0.0000</td>\n",
              "      <td>1</td>\n",
              "      <td>0.0000</td>\n",
              "    </tr>\n",
              "    <tr>\n",
              "      <th>14</th>\n",
              "      <td>1.0000</td>\n",
              "      <td>18.5200</td>\n",
              "      <td>0.0000</td>\n",
              "      <td>0.0000</td>\n",
              "      <td>1</td>\n",
              "      <td>0.0000</td>\n",
              "    </tr>\n",
              "    <tr>\n",
              "      <th>15</th>\n",
              "      <td>1.0000</td>\n",
              "      <td>18.7800</td>\n",
              "      <td>0.0000</td>\n",
              "      <td>0.0000</td>\n",
              "      <td>1</td>\n",
              "      <td>0.0000</td>\n",
              "    </tr>\n",
              "    <tr>\n",
              "      <th>16</th>\n",
              "      <td>1.0000</td>\n",
              "      <td>23.0900</td>\n",
              "      <td>0.0000</td>\n",
              "      <td>0.0000</td>\n",
              "      <td>1</td>\n",
              "      <td>0.0000</td>\n",
              "    </tr>\n",
              "    <tr>\n",
              "      <th>17</th>\n",
              "      <td>1.0000</td>\n",
              "      <td>30.6900</td>\n",
              "      <td>0.0000</td>\n",
              "      <td>0.0000</td>\n",
              "      <td>1</td>\n",
              "      <td>0.0000</td>\n",
              "    </tr>\n",
              "    <tr>\n",
              "      <th>18</th>\n",
              "      <td>1.0000</td>\n",
              "      <td>22.8800</td>\n",
              "      <td>0.0000</td>\n",
              "      <td>0.0000</td>\n",
              "      <td>1</td>\n",
              "      <td>0.0000</td>\n",
              "    </tr>\n",
              "    <tr>\n",
              "      <th>19</th>\n",
              "      <td>1.0000</td>\n",
              "      <td>24.6000</td>\n",
              "      <td>0.0000</td>\n",
              "      <td>0.0000</td>\n",
              "      <td>1</td>\n",
              "      <td>0.0000</td>\n",
              "    </tr>\n",
              "  </tbody>\n",
              "</table>\n",
              "</div>\n",
              "      <button class=\"colab-df-convert\" onclick=\"convertToInteractive('df-b1868568-7295-4e17-ada1-4a8f2689bead')\"\n",
              "              title=\"Convert this dataframe to an interactive table.\"\n",
              "              style=\"display:none;\">\n",
              "        \n",
              "  <svg xmlns=\"http://www.w3.org/2000/svg\" height=\"24px\"viewBox=\"0 0 24 24\"\n",
              "       width=\"24px\">\n",
              "    <path d=\"M0 0h24v24H0V0z\" fill=\"none\"/>\n",
              "    <path d=\"M18.56 5.44l.94 2.06.94-2.06 2.06-.94-2.06-.94-.94-2.06-.94 2.06-2.06.94zm-11 1L8.5 8.5l.94-2.06 2.06-.94-2.06-.94L8.5 2.5l-.94 2.06-2.06.94zm10 10l.94 2.06.94-2.06 2.06-.94-2.06-.94-.94-2.06-.94 2.06-2.06.94z\"/><path d=\"M17.41 7.96l-1.37-1.37c-.4-.4-.92-.59-1.43-.59-.52 0-1.04.2-1.43.59L10.3 9.45l-7.72 7.72c-.78.78-.78 2.05 0 2.83L4 21.41c.39.39.9.59 1.41.59.51 0 1.02-.2 1.41-.59l7.78-7.78 2.81-2.81c.8-.78.8-2.07 0-2.86zM5.41 20L4 18.59l7.72-7.72 1.47 1.35L5.41 20z\"/>\n",
              "  </svg>\n",
              "      </button>\n",
              "      \n",
              "  <style>\n",
              "    .colab-df-container {\n",
              "      display:flex;\n",
              "      flex-wrap:wrap;\n",
              "      gap: 12px;\n",
              "    }\n",
              "\n",
              "    .colab-df-convert {\n",
              "      background-color: #E8F0FE;\n",
              "      border: none;\n",
              "      border-radius: 50%;\n",
              "      cursor: pointer;\n",
              "      display: none;\n",
              "      fill: #1967D2;\n",
              "      height: 32px;\n",
              "      padding: 0 0 0 0;\n",
              "      width: 32px;\n",
              "    }\n",
              "\n",
              "    .colab-df-convert:hover {\n",
              "      background-color: #E2EBFA;\n",
              "      box-shadow: 0px 1px 2px rgba(60, 64, 67, 0.3), 0px 1px 3px 1px rgba(60, 64, 67, 0.15);\n",
              "      fill: #174EA6;\n",
              "    }\n",
              "\n",
              "    [theme=dark] .colab-df-convert {\n",
              "      background-color: #3B4455;\n",
              "      fill: #D2E3FC;\n",
              "    }\n",
              "\n",
              "    [theme=dark] .colab-df-convert:hover {\n",
              "      background-color: #434B5C;\n",
              "      box-shadow: 0px 1px 3px 1px rgba(0, 0, 0, 0.15);\n",
              "      filter: drop-shadow(0px 1px 2px rgba(0, 0, 0, 0.3));\n",
              "      fill: #FFFFFF;\n",
              "    }\n",
              "  </style>\n",
              "\n",
              "      <script>\n",
              "        const buttonEl =\n",
              "          document.querySelector('#df-b1868568-7295-4e17-ada1-4a8f2689bead button.colab-df-convert');\n",
              "        buttonEl.style.display =\n",
              "          google.colab.kernel.accessAllowed ? 'block' : 'none';\n",
              "\n",
              "        async function convertToInteractive(key) {\n",
              "          const element = document.querySelector('#df-b1868568-7295-4e17-ada1-4a8f2689bead');\n",
              "          const dataTable =\n",
              "            await google.colab.kernel.invokeFunction('convertToInteractive',\n",
              "                                                     [key], {});\n",
              "          if (!dataTable) return;\n",
              "\n",
              "          const docLinkHtml = 'Like what you see? Visit the ' +\n",
              "            '<a target=\"_blank\" href=https://colab.research.google.com/notebooks/data_table.ipynb>data table notebook</a>'\n",
              "            + ' to learn more about interactive tables.';\n",
              "          element.innerHTML = '';\n",
              "          dataTable['output_type'] = 'display_data';\n",
              "          await google.colab.output.renderOutput(dataTable, element);\n",
              "          const docLink = document.createElement('div');\n",
              "          docLink.innerHTML = docLinkHtml;\n",
              "          element.appendChild(docLink);\n",
              "        }\n",
              "      </script>\n",
              "    </div>\n",
              "  </div>\n",
              "  "
            ]
          },
          "metadata": {},
          "execution_count": 150
        }
      ]
    },
    {
      "cell_type": "markdown",
      "source": [
        "##### 4.6.2.3 Visualization"
      ],
      "metadata": {
        "id": "cFBcvV1QReFh"
      }
    },
    {
      "cell_type": "code",
      "source": [
        "from certifi.core import where\n",
        "def plot_output_1hot(df1, df2):\n",
        "  legendlabels =     [r'$x_{t,buy}$', r'$x_{t,hold}$', r'$x_{t,sell}$']\n",
        "  n_charts = 4\n",
        "  ylabelsize = 16\n",
        "  mpl.rcParams['lines.linewidth'] = 1.2\n",
        "  fig, axs = plt.subplots(n_charts, sharex=True)\n",
        "  fig.set_figwidth(50); fig.set_figheight(10)\n",
        "  fig.suptitle('PERFORMANCE OF OPTIMIZED Buy-Low-Sell-High POLICY', fontsize=20)\n",
        "  i = 0 #buy/hold/sell\n",
        "  axs[i].set_ylim(auto=True); axs[i].spines['top'].set_visible(False); axs[i].spines['right'].set_visible(True); axs[i].spines['bottom'].set_visible(False)\n",
        "  axs[i].step(df1['x_t_buy'], 'r')\n",
        "  axs[i].step(df1['x_t_hold'], 'g')\n",
        "  axs[i].step(-df1['x_t_sell'], 'b')\n",
        "  axs[i].axhline(y=0, color='k', linestyle=':')  \n",
        "  axs[i].set_ylabel('$x_{t,buy}$\\n$x_{t,hold}$\\n$x_{t,sell}$', rotation=0, ha='right', va='center', fontweight='bold', size=ylabelsize);\n",
        "  i = 1 #R_t\n",
        "  axs[i].set_ylim(auto=True); axs[i].spines['top'].set_visible(False); axs[i].spines['right'].set_visible(True); axs[i].spines['bottom'].set_visible(False)\n",
        "  axs[i].step(df1['R_t'], 'c')\n",
        "  axs[i].axhline(y=0, color='k', linestyle=':')\n",
        "  axs[i].set_ylabel('$R_t$'+'\\n'+'$\\mathrm{[MWh]}$', rotation=0, ha='right', va='center', fontweight='bold', size=ylabelsize);\n",
        "  i = 2 #p_t\n",
        "  axs[i].set_ylim(auto=True); axs[i].spines['top'].set_visible(False); axs[i].spines['right'].set_visible(True); axs[i].spines['bottom'].set_visible(False)\n",
        "  axs[i].step(df1['p_t'], 'm')\n",
        "  axs[i].axhline(y=theta_evalu[0], color='m', linestyle=':')\n",
        "  axs[i].text(0, theta_evalu[0], r'$\\theta^{buy}$', size=16)\n",
        "  axs[i].axhline(y=theta_evalu[1], color='m', linestyle='--')\n",
        "  axs[i].text(0, theta_evalu[1], r'$\\theta^{sell}$', size=16)\n",
        "  axs[i].set_ylabel('$p_t$'+'\\n'+'$\\mathrm{[\\$/MWh]}$', rotation=0, ha='right', va='center', fontweight='bold', size=ylabelsize);\n",
        "  i = 3 #cumC\n",
        "  axs[i].set_ylim(auto=True); axs[i].spines['top'].set_visible(False); axs[i].spines['right'].set_visible(True); axs[i].spines['bottom'].set_visible(False)\n",
        "  axs[i].step(df1['cumC'], 'k')\n",
        "  axs[i].step(df2['cumC'], 'k:')\n",
        "  axs[i].text(0, 100, r'$Optimal\\ (solid)$', size=16)\n",
        "  axs[i].text(0, 50, r'$Non-Optimal\\ (dotted)$', size=16)\n",
        "  axs[i].set_ylabel('$\\mathrm{cumC}$'+'\\n'+'$\\mathrm{(Profit)}$'+'\\n'+''+'$\\mathrm{[\\$]}$', rotation=0, ha='right', va='center', fontweight='bold', size=ylabelsize);\n",
        "  axs[i].set_xlabel('$t\\ \\mathrm{[hours]}$', rotation=0, ha='right', va='center', fontweight='bold', size=ylabelsize);\n",
        "  fig.legend(labels=legendlabels, loc='center', fontsize=18)\n",
        "plot_output_1hot(df, df_non)  "
      ],
      "metadata": {
        "colab": {
          "base_uri": "https://localhost:8080/",
          "height": 967
        },
        "id": "qodYbwPAnAQ2",
        "outputId": "88203e62-43c9-4a74-fca4-273c7977cb45"
      },
      "execution_count": 151,
      "outputs": [
        {
          "output_type": "display_data",
          "data": {
            "text/plain": [
              "<Figure size 5000x1000 with 4 Axes>"
            ],
            "image/png": "[encoded data removed]"
          },
          "metadata": {}
        }
      ]
    },
    {
      "cell_type": "code",
      "source": [],
      "metadata": {
        "id": "BXTYuCedY_-N"
      },
      "execution_count": null,
      "outputs": []
    }
  ],
  "metadata": {
    "kernelspec": {
      "display_name": "Python 3 (ipykernel)",
      "language": "python",
      "name": "python3"
    },
    "language_info": {
      "codemirror_mode": {
        "name": "ipython",
        "version": 3
      },
      "file_extension": ".py",
      "mimetype": "text/x-python",
      "name": "python",
      "nbconvert_exporter": "python",
      "pygments_lexer": "ipython3",
      "version": "3.10.2"
    },
    "colab": {
      "provenance": [],
      "toc_visible": true
    }
  },
  "nbformat": 4,
  "nbformat_minor": 0
}