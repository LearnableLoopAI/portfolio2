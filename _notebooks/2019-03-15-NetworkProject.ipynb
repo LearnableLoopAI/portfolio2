{
 "cells": [
  {
   "cell_type": "markdown",
   "metadata": {},
   "source": [
    "# \"Network Analysis on the Bali network\"\n",
    "\n",
    "> \"A comprehensive assessment of the capabilities of the Python igraph package.\"\n",
    "- toc: true\n",
    "- branch: master\n",
    "- badges: false\n",
    "- comments: true\n",
    "- hide: false\n",
    "- search_exclude: true\n",
    "- metadata_key1: metadata_value1\n",
    "- metadata_key2: metadata_value2\n",
    "- image: images/net_figa.png\n",
    "- categories: [Network Analysis,   Python,igraph]\n",
    "- show_tags: true"
   ]
  },
  {
   "cell_type": "markdown",
   "metadata": {},
   "source": [
    "## Purpose"
   ]
  },
  {
   "cell_type": "markdown",
   "metadata": {},
   "source": [
    "The purpose of this project is to perform a *network analysis* on the Bali terrorist network data set for the purpose of assessing the capabilities of the Python igraph package. The data set includes connection data between various terrorists (see https://www.researchgate.net/publication/249035940_Connecting_Terrorist_Networks for background)."
   ]
  },
  {
   "cell_type": "markdown",
   "metadata": {},
   "source": [
    "## Analysis"
   ]
  },
  {
   "cell_type": "markdown",
   "metadata": {},
   "source": [
    "The notebook for the analysis can be accessed here:"
   ]
  },
  {
   "cell_type": "markdown",
   "metadata": {},
   "source": [
    "[NetworkingProject.ipynb](https://nbviewer.jupyter.org/github/kobus78/NetworkProject/blob/master/NetworkingProject.ipynb \"NetworkingProject.ipynb\")"
   ]
  }
 ],
 "metadata": {
  "kernelspec": {
   "display_name": "Python 3",
   "language": "python",
   "name": "python3"
  },
  "language_info": {
   "codemirror_mode": {
    "name": "ipython",
    "version": 3
   },
   "file_extension": ".py",
   "mimetype": "text/x-python",
   "name": "python",
   "nbconvert_exporter": "python",
   "pygments_lexer": "ipython3",
   "version": "3.7.1"
  }
 },
 "nbformat": 4,
 "nbformat_minor": 2
}
