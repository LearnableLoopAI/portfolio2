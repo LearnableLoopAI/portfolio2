{
  "nbformat": 4,
  "nbformat_minor": 0,
  "metadata": {
    "colab": {
      "provenance": [],
      "collapsed_sections": []
    },
    "kernelspec": {
      "display_name": "Python 3",
      "language": "python",
      "name": "python3"
    },
    "pycharm": {
      "stem_cell": {
        "cell_type": "raw",
        "metadata": {
          "collapsed": false
        },
        "source": []
      }
    }
  },
  "cells": [
    {
      "cell_type": "markdown",
      "metadata": {
        "id": "klGNgWREsvQv"
      },
      "source": [
        "# \"An RL Approach for Inventory Management (Part 9)\"\n",
        "\n",
        "> Tabular Monte-Carlo Control\n",
        "- toc: true\n",
        "- branch: master\n",
        "- badges: false\n",
        "- comments: true\n",
        "- hide: false\n",
        "- search_exclude: true\n",
        "- metadata_key1: metadata_value1\n",
        "- metadata_key2: metadata_value2\n",
        "- image: images/InventoryManagement9.png\n",
        "- categories: [Inventory_Management,   Markov_Decision_Process,   MC]\n",
        "- show_tags: true"
      ]
    },
    {
      "cell_type": "code",
      "source": [
        "# hide\n",
        "# based on 0^mc_simple_inventory_mdp_cap_KE.ipynb"
      ],
      "metadata": {
        "id": "p_zanN3sFGls"
      },
      "execution_count": 1,
      "outputs": []
    },
    {
      "cell_type": "markdown",
      "source": [
        "## 1 Generalized Policy Iteration (GPI)"
      ],
      "metadata": {
        "id": "Triu2kX1eSnO"
      }
    },
    {
      "cell_type": "markdown",
      "source": [
        "In previous projects we have only dealt with the *prediction* problem. In this project we move on to the *control* problem. We stay in the *model-free* or *learning* domain (rather than *planning*), i.e. making use of Reinforcement Learning algorithms. We will explore the *depth of update* dimension, considering both *bootstrapping* and *non-bootstrapping* methods like Temporal-Difference (TD) and Monte-Carlo (MC) algorithms respectively.\n",
        "\n",
        "What is different about Control, rather than Prediction, is the depence on the concept of Generalized Policy Iteration (GPI). \n",
        "\n",
        "The key concept of GPI is that we can:\n",
        "- Evaluate a policy with *any* Policy Evaluation method\n",
        "- Improve a policy with *any* Policy Improvement method"
      ],
      "metadata": {
        "id": "3Z-YYox7_WwE"
      }
    },
    {
      "cell_type": "markdown",
      "source": [
        "## 2 GPI with Evaluation as Monte-Carlo (MC)"
      ],
      "metadata": {
        "id": "ysckUZ1qedkd"
      }
    },
    {
      "cell_type": "markdown",
      "source": [
        "Here is a reasonable way to approach MC Control based on what we have done so far:\n",
        "- do MC Policy Evaluation (which is essentially MC Prediction)\n",
        "- do greedy Policy Improvement\n",
        "- do MC Policy Evaluation on the improved policy\n",
        "- etc., etc.\n",
        "\n",
        "However, this naive approach leads to some complications."
      ],
      "metadata": {
        "id": "1QEFPwSCPkKN"
      }
    },
    {
      "cell_type": "markdown",
      "source": [
        "### 2.1 Greedy Policy Improvement requires $\\mathcal P$ and $\\mathcal R$"
      ],
      "metadata": {
        "id": "974NFaIgPuYM"
      }
    },
    {
      "cell_type": "markdown",
      "source": [
        "The first complication is that:\n",
        "- Greedy Policy Improvement requires the \n",
        "  - state transition probability function $\\mathcal P$\n",
        "  - reward function $\\mathcal R$\n",
        "This is not available in the model-free domain. (They were, however, available in the model-based domain when we performed dynamic programming).\n",
        "\n",
        "We address this complication by noting that\n",
        "\n",
        "$$\n",
        "\\pi'_D(s) = \\underset{a \\in \\mathcal A}{\\text{arg max}} \\{\\mathcal R(s, a) + \\gamma \\sum_{s' \\in \\mathcal N}\\mathcal P(s, a, s') \\cdot V^\\pi(s')\\} \\text{ for all } s \\in \\mathcal N\n",
        "$$\n",
        "\n",
        "can be expressed more concisely as:\n",
        "\n",
        "$$\n",
        "\\pi'_D(s) = \\underset{a \\in \\mathcal A}{\\text{arg max}} Q^\\pi(s, a) \\text{ for all } s \\in \\mathcal N\n",
        "$$\n",
        "\n",
        "This is valuable because:\n",
        "- Instead of doing \n",
        "  - Policy Evaluation to calculate $V^\\pi$\n",
        "- We do \n",
        "  - Policy Evaluation to calculate $Q^\\pi$ (i.e. MC Prediction for the Action Value Function, $Q$)\n"
      ],
      "metadata": {
        "id": "Naq3QOIUHOMv"
      }
    },
    {
      "cell_type": "markdown",
      "source": [
        "### 2.2 Biased initial random occurrences of returns"
      ],
      "metadata": {
        "id": "tCk7373gTuzT"
      }
    },
    {
      "cell_type": "markdown",
      "source": [
        "The second complication is that updates can get biased by initial random occurrences of returns. This could prevent certain actions from being sufficiently chosen. This will lead to inaccurate estimates of the action values for those actions. We want to *exploit* actions that provide better returns but at the same time also be sure to *explore* all possible actions. This problem is known as the *exploration-exploitation dilemma*.\n",
        "\n",
        "The way to address this complication is to modify our Tabular MC Control algorithm:\n",
        "- Instead of doing \n",
        "  - greedy Policy Improvement\n",
        "- we want to do\n",
        "  - $\\epsilon$-greedy Policy Improvement\n",
        "\n",
        "This impoved stochastic policy is defined as:\n",
        "\n",
        "$$\n",
        "\\pi'(s, a) = \n",
        "\\left\\{\n",
        "  \\begin{array}{ll}\n",
        "    \\frac{\\epsilon}{|\\mathcal A|}+1-\\epsilon & \\mbox{if } a= \\mbox{arg max}_{b \\in \\mathcal A} Q(s, b) \\\\\n",
        "    \\frac{\\epsilon}{|\\mathcal A|} & \\mbox{otherwise}\n",
        "  \\end{array}\n",
        "\\right.\n",
        "$$\n",
        "\n",
        "This means the:\n",
        "- *exploit* probability is: $1-\\epsilon$\n",
        "  - select the action that maximizes $Q$ for a given state\n",
        "- *explore* probability is: $\\epsilon$\n",
        "  - uniform-randomly select an allowable action\n",
        "\n",
        "The deterministic greedy policy $\\pi'_D$ is a special case of the $\\epsilon$-greedy policy $\\pi'$. This happens when $\\epsilon=0$.\n"
      ],
      "metadata": {
        "id": "6opqqtuAT18_"
      }
    },
    {
      "cell_type": "code",
      "metadata": {
        "id": "4E8ujfcND6pJ",
        "colab": {
          "base_uri": "https://localhost:8080/"
        },
        "outputId": "35e1c656-43ca-439e-afe7-5c3bad4f79f1"
      },
      "source": [
        "#hide\n",
        "from google.colab import drive\n",
        "drive.mount('/content/gdrive', force_remount=True)\n",
        "root_dir = \"/content/gdrive/My Drive\"\n",
        "base_dir = root_dir + '/Rao_CME241/RL-book'"
      ],
      "execution_count": 2,
      "outputs": [
        {
          "output_type": "stream",
          "name": "stdout",
          "text": [
            "Mounted at /content/gdrive\n"
          ]
        }
      ]
    },
    {
      "cell_type": "code",
      "source": [
        "!python --version"
      ],
      "metadata": {
        "colab": {
          "base_uri": "https://localhost:8080/"
        },
        "id": "Dfw0MzREJJ94",
        "outputId": "3c627ef2-2e37-47ec-deb1-53df6739773b"
      },
      "execution_count": 3,
      "outputs": [
        {
          "output_type": "stream",
          "name": "stdout",
          "text": [
            "Python 3.7.15\n"
          ]
        }
      ]
    },
    {
      "cell_type": "code",
      "source": [
        "# hide\n",
        "base_dir"
      ],
      "metadata": {
        "colab": {
          "base_uri": "https://localhost:8080/",
          "height": 36
        },
        "id": "mp-RjDSfw8TU",
        "outputId": "5cbbf1f4-545b-4f2d-ea06-d0c27a5561c5"
      },
      "execution_count": 4,
      "outputs": [
        {
          "output_type": "execute_result",
          "data": {
            "text/plain": [
              "'/content/gdrive/My Drive/Rao_CME241/RL-book'"
            ],
            "application/vnd.google.colaboratory.intrinsic+json": {
              "type": "string"
            }
          },
          "metadata": {},
          "execution_count": 4
        }
      ]
    },
    {
      "cell_type": "code",
      "source": [
        "# hide\n",
        "import sys\n",
        "sys.path"
      ],
      "metadata": {
        "id": "OYgFYLkywzJR",
        "colab": {
          "base_uri": "https://localhost:8080/"
        },
        "outputId": "974af3a6-2608-402b-e73b-b9a8d09f33dd"
      },
      "execution_count": 5,
      "outputs": [
        {
          "output_type": "execute_result",
          "data": {
            "text/plain": [
              "['/content',\n",
              " '/env/python',\n",
              " '/usr/lib/python37.zip',\n",
              " '/usr/lib/python3.7',\n",
              " '/usr/lib/python3.7/lib-dynload',\n",
              " '',\n",
              " '/usr/local/lib/python3.7/dist-packages',\n",
              " '/usr/lib/python3/dist-packages',\n",
              " '/usr/local/lib/python3.7/dist-packages/IPython/extensions',\n",
              " '/root/.ipython']"
            ]
          },
          "metadata": {},
          "execution_count": 5
        }
      ]
    },
    {
      "cell_type": "code",
      "source": [
        "# hide\n",
        "# sys.path.insert(0, f\"{base_dir}/gen_utils\"); sys.path\n",
        "sys.path.append(f\"{base_dir}\"); sys.path"
      ],
      "metadata": {
        "colab": {
          "base_uri": "https://localhost:8080/"
        },
        "id": "WvyJD3YkYHK9",
        "outputId": "f9e2be85-1b35-4174-a00d-c2c3d59a6b5f"
      },
      "execution_count": 6,
      "outputs": [
        {
          "output_type": "execute_result",
          "data": {
            "text/plain": [
              "['/content',\n",
              " '/env/python',\n",
              " '/usr/lib/python37.zip',\n",
              " '/usr/lib/python3.7',\n",
              " '/usr/lib/python3.7/lib-dynload',\n",
              " '',\n",
              " '/usr/local/lib/python3.7/dist-packages',\n",
              " '/usr/lib/python3/dist-packages',\n",
              " '/usr/local/lib/python3.7/dist-packages/IPython/extensions',\n",
              " '/root/.ipython',\n",
              " '/content/gdrive/My Drive/Rao_CME241/RL-book']"
            ]
          },
          "metadata": {},
          "execution_count": 6
        }
      ]
    },
    {
      "cell_type": "code",
      "source": [
        "from typing import Tuple, Callable, Sequence, Mapping, Iterator, Iterable\n",
        "import itertools\n",
        "import inspect\n",
        "from pprint import pprint"
      ],
      "metadata": {
        "id": "zFY2Ix31JaY-"
      },
      "execution_count": 7,
      "outputs": []
    },
    {
      "cell_type": "code",
      "source": [
        "# hide\n",
        "from rl.distribution_ANNO import (Constant, Choose, Categorical)\n",
        "import rl.iterate_ANNO as iterate\n",
        "from rl.markov_process_ANNO import NonTerminal\n",
        "from rl.markov_decision_process_ANNO import (\n",
        "    FiniteMarkovDecisionProcess, \n",
        "    MarkovDecisionProcess, \n",
        "    S, \n",
        "    A,\n",
        "    Policy\n",
        ")\n",
        "from rl.dynamic_programming_ANNO import (value_iteration_result, V)\n",
        "from rl.approximate_dynamic_programming_ANNO import (QValueFunctionApprox, NTStateDistribution)\n",
        "from rl.function_approx_ANNO import (Tabular, learning_rate_schedule)\n",
        "from rl.policy_ANNO import (\n",
        "    FiniteDeterministicPolicy, \n",
        "    RandomPolicy, \n",
        "    DeterministicPolicy, \n",
        "    UniformPolicy\n",
        ")\n",
        "from rl.returns_ANNO import returns\n",
        "from rl.book45_github3.simple_inventory_mdp_cap import (SimpleInventoryMDPCap, InventoryState)"
      ],
      "metadata": {
        "id": "a36jHDBxIHZ7"
      },
      "execution_count": 8,
      "outputs": []
    },
    {
      "cell_type": "markdown",
      "source": [
        "## 3 Monte-Carlo (MC) Control"
      ],
      "metadata": {
        "id": "zFtr_0jvu5RT"
      }
    },
    {
      "cell_type": "markdown",
      "source": [
        "### 3.1 TAB MC Control"
      ],
      "metadata": {
        "id": "M3wJxPYXdQ1_"
      }
    },
    {
      "cell_type": "markdown",
      "source": [
        "We need to consider two more aspects:\n",
        "\n",
        "- Adequate exploration of:\n",
        "  - actions\n",
        "    - enabled by $\\epsilon$-greedy Policy Improvement\n",
        "  - states\n",
        "    - uniform-sample the initial state of a trace experience the non-terminal states $\\mathcal N$\n",
        "- Reduced exploration as:\n",
        "  - Action Value Function keeps improving\n",
        "  - Zero $\\epsilon$ as number of episodes goes to infinity\n",
        "  - also known as GLIE: *Greedy in the Limit with Infinite Exploration*\n",
        "    - all state-action pairs are explored infinitely many times\n",
        "    - the policy converges to a greedy policy\n",
        "  - reduce $\\epsilon$ as a function of the number of episodes $k$, to be $\\epsilon_k=\\frac{1}{k}$ "
      ],
      "metadata": {
        "id": "ivrlVidydfIb"
      }
    },
    {
      "cell_type": "markdown",
      "source": [
        "Here is a summary of the GLIE Tabular Monte-Carlo Control algorithm.\n",
        "\n",
        "For each episode (terminating trace experience):\n",
        "- Generate the trace experience (episode) with actions sampled from the $\\epsilon$-greedy policy $\\pi$ coming from the latest estimate of the Action Value Function $Q$\n",
        "- Sample the initial state of the trace experience uniformly from the non-terminal states $\\mathcal N$\n",
        "- We now have a trace experience: $\n",
        "S_0, A_0, R_1, S_1, A_1, R_2, S_2, A_2, ..., R_T, S_T$\n",
        "- The return $G_t$ associated with $(S_t,A_t)$ is: $G_t = R_{t+1}+\\gamma R_{t+2}+\\gamma^2R_{t+3}+...+\\gamma^{T-t-1}R_T$\n",
        "- End of trace updates:\n",
        "\n",
        "$$\n",
        "Count(S_t,A_t) ← Count(S_t,A_t) + 1\n",
        "$$\n",
        "\n",
        "$$\n",
        "Q(S_t,A_t) ← Q(S_t,A_t) + \\frac{1}{Count(S_t,A_t)} \\cdot [G_t - Q(S_t,A_t)]\n",
        "$$\n",
        "\n",
        "$$\n",
        "\\epsilon ← \\frac{1}{k}\n",
        "$$\n"
      ],
      "metadata": {
        "id": "_VZjqriYhCK4"
      }
    },
    {
      "cell_type": "markdown",
      "source": [
        "### 3.2 FAP MC Control"
      ],
      "metadata": {
        "id": "9thN1PQYrMHt"
      }
    },
    {
      "cell_type": "markdown",
      "source": [
        "The adaptation for Function Approximation is simple. Instead of the above udpate, we have:\n",
        "\n",
        "$$\n",
        "\\Delta w = \\alpha \\cdot [G_t - Q(S_t,A_t;w)] \\cdot \\nabla_wQ(S_t,A_t;w)\n",
        "$$\n",
        "\n",
        "where $\\alpha$ is the learning rate and $G_t$ is the trace experience return from state $S_t$ after taking action $A_t$ at time $t$ on a trace experience."
      ],
      "metadata": {
        "id": "Go8JnIwBrPKm"
      }
    },
    {
      "cell_type": "markdown",
      "source": [
        "### 3.3 Generalized implementation of GLIE Monte-Carlo Control"
      ],
      "metadata": {
        "id": "1pOykZAMtcGI"
      }
    },
    {
      "cell_type": "markdown",
      "source": [
        "The following code can handle both TAB and FAP cases."
      ],
      "metadata": {
        "id": "x5C2Aw5BtqCU"
      }
    },
    {
      "cell_type": "code",
      "source": [
        "def greedy_policy_from_qvf(\n",
        "    q: QValueFunctionApprox[S, A],\n",
        "    actions: Callable[[NonTerminal[S]], Iterable[A]]\n",
        ") -> DeterministicPolicy[S, A]:\n",
        "    def optimal_action(s: S) -> A:\n",
        "        _, a = q.argmax((NonTerminal(s), a) for a in actions(NonTerminal(s)))\n",
        "        return a\n",
        "    return DeterministicPolicy(optimal_action)"
      ],
      "metadata": {
        "id": "UtFRKNmv-2Sb"
      },
      "execution_count": 9,
      "outputs": []
    },
    {
      "cell_type": "code",
      "source": [
        "def epsilon_greedy_policy(\n",
        "    q: QValueFunctionApprox[S, A],\n",
        "    mdp: MarkovDecisionProcess[S, A],\n",
        "    ε: float = 0.0\n",
        ") -> Policy[S, A]:\n",
        "    def explore(s: S, mdp=mdp) -> Iterable[A]:\n",
        "        return mdp.actions(NonTerminal(s))\n",
        "    return RandomPolicy(Categorical(\n",
        "        {UniformPolicy(explore): ε,\n",
        "         greedy_policy_from_qvf(q, mdp.actions): 1 - ε}\n",
        "    ))"
      ],
      "metadata": {
        "id": "VXuOW7ZD9W4q"
      },
      "execution_count": 10,
      "outputs": []
    },
    {
      "cell_type": "code",
      "source": [
        "def glie_mc_control(\n",
        "    mdp: MarkovDecisionProcess[S, A],\n",
        "    states: NTStateDistribution[S],\n",
        "    approx_0: QValueFunctionApprox[S, A],\n",
        "    γ: float,\n",
        "    ϵ_as_func_of_episodes: Callable[[int], float],\n",
        "    episode_length_tolerance: float = 1e-6\n",
        ") -> Iterator[QValueFunctionApprox[S, A]]:\n",
        "    q: QValueFunctionApprox[S, A] = approx_0\n",
        "    p: Policy[S, A] = epsilon_greedy_policy(q, mdp, 1.0)\n",
        "    yield q\n",
        "\n",
        "    num_episodes: int = 0\n",
        "    while True:\n",
        "        trace: Iterable[TransitionStep[S, A]] = \\\n",
        "            mdp.simulate_action(states, p) #.\n",
        "            # mdp.simulate_actions(states, p) #.\n",
        "        num_episodes += 1\n",
        "        for step in returns(trace, γ, episode_length_tolerance):\n",
        "            q = q.update([((step.state, step.action), step.return_)])\n",
        "        p = epsilon_greedy_policy(q, mdp, ϵ_as_func_of_episodes(num_episodes))\n",
        "        yield q"
      ],
      "metadata": {
        "id": "4ee3nRLTtEYI"
      },
      "execution_count": 11,
      "outputs": []
    },
    {
      "cell_type": "markdown",
      "source": [
        "We run the GLIE TAB MC Control algorithm on the Inventory problem."
      ],
      "metadata": {
        "id": "pXl8_dT_vBDX"
      }
    },
    {
      "cell_type": "code",
      "source": [
        "# hide\n",
        "inspect.getmro(SimpleInventoryMDPCap)"
      ],
      "metadata": {
        "colab": {
          "base_uri": "https://localhost:8080/"
        },
        "id": "_WfX6mQq8dha",
        "outputId": "a2221c21-e942-480e-c4b4-c452ca89c75f"
      },
      "execution_count": 12,
      "outputs": [
        {
          "output_type": "execute_result",
          "data": {
            "text/plain": [
              "(rl.book45_github3.simple_inventory_mdp_cap.SimpleInventoryMDPCap,\n",
              " rl.markov_decision_process_ANNO.FiniteMarkovDecisionProcess,\n",
              " rl.markov_decision_process_ANNO.MarkovDecisionProcess,\n",
              " abc.ABC,\n",
              " typing.Generic,\n",
              " object)"
            ]
          },
          "metadata": {},
          "execution_count": 12
        }
      ]
    },
    {
      "cell_type": "markdown",
      "source": [
        "Let us set the capacity $C=5$, but keep the other parameters as before."
      ],
      "metadata": {
        "id": "-g9qQdnGaXa0"
      }
    },
    {
      "cell_type": "code",
      "source": [
        "# capacity: int = 2\n",
        "capacity: int = 5\n",
        "poisson_lambda: float = 1.0\n",
        "holding_cost: float = 1.0\n",
        "stockout_cost: float = 10.0\n",
        "gamma: float = 0.9"
      ],
      "metadata": {
        "id": "QqBdbpy_85Im"
      },
      "execution_count": 13,
      "outputs": []
    },
    {
      "cell_type": "code",
      "source": [
        "si_mdp: SimpleInventoryMDPCap = SimpleInventoryMDPCap(\n",
        "    capacity=capacity,\n",
        "    poisson_lambda=poisson_lambda,\n",
        "    holding_cost=holding_cost,\n",
        "    stockout_cost=stockout_cost\n",
        ")"
      ],
      "metadata": {
        "id": "qqqJTFu285Fe"
      },
      "execution_count": 14,
      "outputs": []
    },
    {
      "cell_type": "code",
      "source": [
        "mc_episode_length_tol: float = 1e-5\n",
        "epsilon_as_func_of_episodes: Callable[[int], float] = lambda k: k**-0.5\n",
        "initial_learning_rate: float = 0.1\n",
        "half_life: float = 10000.0\n",
        "exponent: float = 1.0"
      ],
      "metadata": {
        "id": "KWwzUAqFvO8j"
      },
      "execution_count": 15,
      "outputs": []
    },
    {
      "cell_type": "code",
      "source": [
        "initial_qvf_dict: Mapping[Tuple[NonTerminal[InventoryState], int], float] = {\n",
        "    (s, a): 0. for s in si_mdp.non_terminal_states for a in si_mdp.actions(s)\n",
        "}\n",
        "# initial_qvf_dict"
      ],
      "metadata": {
        "id": "7JUEqGd-vO1D"
      },
      "execution_count": 16,
      "outputs": []
    },
    {
      "cell_type": "code",
      "source": [
        "learning_rate_func: Callable[[int], float] = learning_rate_schedule(\n",
        "    initial_learning_rate=initial_learning_rate,\n",
        "    half_life=half_life,\n",
        "    exponent=exponent\n",
        ")"
      ],
      "metadata": {
        "id": "9s3oldsrwgXW"
      },
      "execution_count": 17,
      "outputs": []
    },
    {
      "cell_type": "code",
      "source": [
        "qvfas: Iterator[QValueFunctionApprox[InventoryState, int]] = glie_mc_control(\n",
        "    mdp=si_mdp, \n",
        "    states=Choose(si_mdp.non_terminal_states),\n",
        "    approx_0=Tabular(\n",
        "        values_map=initial_qvf_dict, \n",
        "        count_to_weight_func=learning_rate_func\n",
        "    ), \n",
        "    γ=gamma, \n",
        "    ϵ_as_func_of_episodes=epsilon_as_func_of_episodes, \n",
        "    episode_length_tolerance=mc_episode_length_tol\n",
        ")\n",
        "qvfas"
      ],
      "metadata": {
        "id": "kqRyvB5rwgS8",
        "colab": {
          "base_uri": "https://localhost:8080/"
        },
        "outputId": "733cb444-8d32-47c8-bc94-84e56900ab2a"
      },
      "execution_count": 18,
      "outputs": [
        {
          "output_type": "execute_result",
          "data": {
            "text/plain": [
              "<generator object glie_mc_control at 0x7f4ece0dba50>"
            ]
          },
          "metadata": {},
          "execution_count": 18
        }
      ]
    },
    {
      "cell_type": "markdown",
      "source": [
        "Now we get the final estimate of the Optimal Action-Value Function after n_episodes. Then we extract from it the estimate of the Optimal State-Value Function and the Optimal Policy."
      ],
      "metadata": {
        "id": "sDSM3tz_3zFr"
      }
    },
    {
      "cell_type": "code",
      "source": [
        "n_episodes = 10_000"
      ],
      "metadata": {
        "id": "dq5yrMws0tKp"
      },
      "execution_count": 19,
      "outputs": []
    },
    {
      "cell_type": "code",
      "source": [
        "%%time\n",
        "qvfa_lst = [qvfa for qvfa in itertools.islice(qvfas, n_episodes)]"
      ],
      "metadata": {
        "colab": {
          "base_uri": "https://localhost:8080/"
        },
        "id": "JYXtApqxs4Ed",
        "outputId": "19727c78-e38c-40bf-f7fa-fb34b1c8977b"
      },
      "execution_count": 20,
      "outputs": [
        {
          "output_type": "stream",
          "name": "stdout",
          "text": [
            "CPU times: user 3min 45s, sys: 9.56 s, total: 3min 55s\n",
            "Wall time: 3min 55s\n"
          ]
        }
      ]
    },
    {
      "cell_type": "code",
      "source": [
        "final_qvfa: QValueFunctionApprox[InventoryState, int] = iterate.last(qvfa_lst)"
      ],
      "metadata": {
        "id": "YpBYHbx50tEI"
      },
      "execution_count": 21,
      "outputs": []
    },
    {
      "cell_type": "code",
      "source": [
        "final_qvfa"
      ],
      "metadata": {
        "colab": {
          "base_uri": "https://localhost:8080/"
        },
        "id": "r1tMYkZduVIS",
        "outputId": "9a1dbddc-ef8d-48a9-eb03-2bbc1980b7b1"
      },
      "execution_count": 22,
      "outputs": [
        {
          "output_type": "execute_result",
          "data": {
            "text/plain": [
              "Tabular(values_map={(NonTerminal(state=InventoryState(on_hand=0, on_order=0)), 0): -36.42646349321222, (NonTerminal(state=InventoryState(on_hand=0, on_order=0)), 1): -29.060699032997217, (NonTerminal(state=InventoryState(on_hand=0, on_order=0)), 2): -27.087150079704028, (NonTerminal(state=InventoryState(on_hand=0, on_order=0)), 3): -30.864601359578995, (NonTerminal(state=InventoryState(on_hand=0, on_order=0)), 4): -30.7224802208128, (NonTerminal(state=InventoryState(on_hand=0, on_order=0)), 5): -31.13300324967263, (NonTerminal(state=InventoryState(on_hand=0, on_order=1)), 0): -25.013379794523757, (NonTerminal(state=InventoryState(on_hand=0, on_order=1)), 1): -20.460191694734245, (NonTerminal(state=InventoryState(on_hand=0, on_order=1)), 2): -19.82813570939693, (NonTerminal(state=InventoryState(on_hand=0, on_order=1)), 3): -21.89098221975198, (NonTerminal(state=InventoryState(on_hand=0, on_order=1)), 4): -22.147887213017203, (NonTerminal(state=InventoryState(on_hand=0, on_order=2)), 0): -20.11592379169959, (NonTerminal(state=InventoryState(on_hand=0, on_order=2)), 1): -18.606911660781112, (NonTerminal(state=InventoryState(on_hand=0, on_order=2)), 2): -20.67863382785646, (NonTerminal(state=InventoryState(on_hand=0, on_order=2)), 3): -20.177752015101426, (NonTerminal(state=InventoryState(on_hand=0, on_order=3)), 0): -20.988453611587758, (NonTerminal(state=InventoryState(on_hand=0, on_order=3)), 1): -23.127568696684754, (NonTerminal(state=InventoryState(on_hand=0, on_order=3)), 2): -22.77836008689253, (NonTerminal(state=InventoryState(on_hand=0, on_order=4)), 0): -21.941596200718678, (NonTerminal(state=InventoryState(on_hand=0, on_order=4)), 1): -23.775023613787187, (NonTerminal(state=InventoryState(on_hand=0, on_order=5)), 0): -23.310843658928984, (NonTerminal(state=InventoryState(on_hand=1, on_order=0)), 0): -26.54086007449678, (NonTerminal(state=InventoryState(on_hand=1, on_order=0)), 1): -22.39356158612615, (NonTerminal(state=InventoryState(on_hand=1, on_order=0)), 2): -20.948118896458972, (NonTerminal(state=InventoryState(on_hand=1, on_order=0)), 3): -22.87528370416793, (NonTerminal(state=InventoryState(on_hand=1, on_order=0)), 4): -23.33427305061926, (NonTerminal(state=InventoryState(on_hand=1, on_order=1)), 0): -22.829374787688092, (NonTerminal(state=InventoryState(on_hand=1, on_order=1)), 1): -19.880233709770568, (NonTerminal(state=InventoryState(on_hand=1, on_order=1)), 2): -21.825552698989362, (NonTerminal(state=InventoryState(on_hand=1, on_order=1)), 3): -21.771505074412513, (NonTerminal(state=InventoryState(on_hand=1, on_order=2)), 0): -22.162399888928267, (NonTerminal(state=InventoryState(on_hand=1, on_order=2)), 1): -21.231886892555966, (NonTerminal(state=InventoryState(on_hand=1, on_order=2)), 2): -22.256061155747144, (NonTerminal(state=InventoryState(on_hand=1, on_order=3)), 0): -22.035999345366736, (NonTerminal(state=InventoryState(on_hand=1, on_order=3)), 1): -25.085682531678025, (NonTerminal(state=InventoryState(on_hand=1, on_order=4)), 0): -24.069417230201715, (NonTerminal(state=InventoryState(on_hand=2, on_order=0)), 0): -22.77827777660962, (NonTerminal(state=InventoryState(on_hand=2, on_order=0)), 1): -20.653317126539058, (NonTerminal(state=InventoryState(on_hand=2, on_order=0)), 2): -22.082131223774354, (NonTerminal(state=InventoryState(on_hand=2, on_order=0)), 3): -22.762477202947363, (NonTerminal(state=InventoryState(on_hand=2, on_order=1)), 0): -23.10193645697096, (NonTerminal(state=InventoryState(on_hand=2, on_order=1)), 1): -22.38358454913336, (NonTerminal(state=InventoryState(on_hand=2, on_order=1)), 2): -24.042781838697856, (NonTerminal(state=InventoryState(on_hand=2, on_order=2)), 0): -23.914073847610286, (NonTerminal(state=InventoryState(on_hand=2, on_order=2)), 1): -26.188370210742402, (NonTerminal(state=InventoryState(on_hand=2, on_order=3)), 0): -26.1005853075408, (NonTerminal(state=InventoryState(on_hand=3, on_order=0)), 0): -24.506712099647192, (NonTerminal(state=InventoryState(on_hand=3, on_order=0)), 1): -23.106716955361026, (NonTerminal(state=InventoryState(on_hand=3, on_order=0)), 2): -25.392184872676665, (NonTerminal(state=InventoryState(on_hand=3, on_order=1)), 0): -24.142264237284728, (NonTerminal(state=InventoryState(on_hand=3, on_order=1)), 1): -24.565976799496898, (NonTerminal(state=InventoryState(on_hand=3, on_order=2)), 0): -27.30259912593049, (NonTerminal(state=InventoryState(on_hand=4, on_order=0)), 0): -24.992021519041547, (NonTerminal(state=InventoryState(on_hand=4, on_order=0)), 1): -26.297405913515977, (NonTerminal(state=InventoryState(on_hand=4, on_order=1)), 0): -27.33917838980049, (NonTerminal(state=InventoryState(on_hand=5, on_order=0)), 0): -27.849714895093072}, counts_map={(NonTerminal(state=InventoryState(on_hand=2, on_order=3)), 0): 1510, (NonTerminal(state=InventoryState(on_hand=5, on_order=0)), 0): 6052, (NonTerminal(state=InventoryState(on_hand=4, on_order=0)), 1): 2707, (NonTerminal(state=InventoryState(on_hand=4, on_order=1)), 0): 2786, (NonTerminal(state=InventoryState(on_hand=3, on_order=0)), 0): 10392, (NonTerminal(state=InventoryState(on_hand=3, on_order=0)), 2): 2034, (NonTerminal(state=InventoryState(on_hand=2, on_order=2)), 1): 1042, (NonTerminal(state=InventoryState(on_hand=3, on_order=1)), 1): 2337, (NonTerminal(state=InventoryState(on_hand=3, on_order=1)), 0): 111198, (NonTerminal(state=InventoryState(on_hand=1, on_order=0)), 1): 8434, (NonTerminal(state=InventoryState(on_hand=0, on_order=1)), 4): 561, (NonTerminal(state=InventoryState(on_hand=0, on_order=4)), 1): 56, (NonTerminal(state=InventoryState(on_hand=2, on_order=1)), 2): 3652, (NonTerminal(state=InventoryState(on_hand=3, on_order=2)), 0): 3372, (NonTerminal(state=InventoryState(on_hand=4, on_order=0)), 0): 76034, (NonTerminal(state=InventoryState(on_hand=1, on_order=0)), 4): 395, (NonTerminal(state=InventoryState(on_hand=0, on_order=4)), 0): 1132, (NonTerminal(state=InventoryState(on_hand=1, on_order=1)), 3): 1410, (NonTerminal(state=InventoryState(on_hand=0, on_order=3)), 0): 1882, (NonTerminal(state=InventoryState(on_hand=2, on_order=0)), 3): 621, (NonTerminal(state=InventoryState(on_hand=2, on_order=0)), 1): 60193, (NonTerminal(state=InventoryState(on_hand=2, on_order=1)), 0): 49792, (NonTerminal(state=InventoryState(on_hand=2, on_order=0)), 0): 614, (NonTerminal(state=InventoryState(on_hand=0, on_order=0)), 0): 58, (NonTerminal(state=InventoryState(on_hand=0, on_order=0)), 3): 1819, (NonTerminal(state=InventoryState(on_hand=0, on_order=3)), 1): 2652, (NonTerminal(state=InventoryState(on_hand=2, on_order=1)), 1): 169550, (NonTerminal(state=InventoryState(on_hand=2, on_order=0)), 2): 4920, (NonTerminal(state=InventoryState(on_hand=1, on_order=1)), 2): 10049, (NonTerminal(state=InventoryState(on_hand=1, on_order=2)), 2): 1839, (NonTerminal(state=InventoryState(on_hand=1, on_order=2)), 1): 39276, (NonTerminal(state=InventoryState(on_hand=0, on_order=1)), 3): 1765, (NonTerminal(state=InventoryState(on_hand=0, on_order=1)), 2): 106006, (NonTerminal(state=InventoryState(on_hand=0, on_order=2)), 0): 818, (NonTerminal(state=InventoryState(on_hand=1, on_order=3)), 1): 154, (NonTerminal(state=InventoryState(on_hand=0, on_order=1)), 0): 422, (NonTerminal(state=InventoryState(on_hand=0, on_order=0)), 4): 124, (NonTerminal(state=InventoryState(on_hand=3, on_order=0)), 1): 91624, (NonTerminal(state=InventoryState(on_hand=1, on_order=2)), 0): 12933, (NonTerminal(state=InventoryState(on_hand=1, on_order=0)), 0): 157, (NonTerminal(state=InventoryState(on_hand=0, on_order=3)), 2): 439, (NonTerminal(state=InventoryState(on_hand=0, on_order=2)), 2): 5435, (NonTerminal(state=InventoryState(on_hand=2, on_order=2)), 0): 9655, (NonTerminal(state=InventoryState(on_hand=1, on_order=1)), 1): 158909, (NonTerminal(state=InventoryState(on_hand=1, on_order=0)), 2): 17184, (NonTerminal(state=InventoryState(on_hand=1, on_order=0)), 3): 1345, (NonTerminal(state=InventoryState(on_hand=0, on_order=0)), 5): 59, (NonTerminal(state=InventoryState(on_hand=0, on_order=5)), 0): 517, (NonTerminal(state=InventoryState(on_hand=0, on_order=2)), 1): 85223, (NonTerminal(state=InventoryState(on_hand=1, on_order=1)), 0): 1165, (NonTerminal(state=InventoryState(on_hand=0, on_order=2)), 3): 752, (NonTerminal(state=InventoryState(on_hand=1, on_order=3)), 0): 2426, (NonTerminal(state=InventoryState(on_hand=0, on_order=1)), 1): 4316, (NonTerminal(state=InventoryState(on_hand=0, on_order=0)), 1): 950, (NonTerminal(state=InventoryState(on_hand=0, on_order=0)), 2): 8346, (NonTerminal(state=InventoryState(on_hand=1, on_order=4)), 0): 798}, count_to_weight_func=<function learning_rate_schedule.<locals>.lr_func at 0x7f4ece10ee60>)"
            ]
          },
          "metadata": {},
          "execution_count": 22
        }
      ]
    },
    {
      "cell_type": "code",
      "source": [
        "def get_vf_and_policy_from_qvf(\n",
        "    mdp: FiniteMarkovDecisionProcess[S, A],\n",
        "    qvf: QValueFunctionApprox[S, A]\n",
        ") -> Tuple[V[S], FiniteDeterministicPolicy[S, A]]:\n",
        "    opt_vf: V[S] = {\n",
        "        s: max(qvf((s, a)) for a in mdp.actions(s))\n",
        "        for s in mdp.non_terminal_states\n",
        "    }\n",
        "    opt_policy: FiniteDeterministicPolicy[S, A] = \\\n",
        "        FiniteDeterministicPolicy({\n",
        "            s.state: qvf.argmax((s, a) for a in mdp.actions(s))[1]\n",
        "            for s in mdp.non_terminal_states\n",
        "        })\n",
        "    return opt_vf, opt_policy"
      ],
      "metadata": {
        "id": "M2r2pYAm4y5H"
      },
      "execution_count": 23,
      "outputs": []
    },
    {
      "cell_type": "code",
      "source": [
        "opt_svf, opt_pol = get_vf_and_policy_from_qvf(\n",
        "    mdp=si_mdp,\n",
        "    qvf=final_qvfa\n",
        ")"
      ],
      "metadata": {
        "id": "6oJli23c4y1s"
      },
      "execution_count": 24,
      "outputs": []
    },
    {
      "cell_type": "code",
      "source": [
        "print(f\"GLIE MC Optimal Value Function with {n_episodes:d} episodes\")\n",
        "pprint(opt_svf)"
      ],
      "metadata": {
        "colab": {
          "base_uri": "https://localhost:8080/"
        },
        "id": "kwi-K7IK4yyV",
        "outputId": "2aa724fe-83ab-48f4-ec26-3089d75d97df"
      },
      "execution_count": 25,
      "outputs": [
        {
          "output_type": "stream",
          "name": "stdout",
          "text": [
            "GLIE MC Optimal Value Function with 10000 episodes\n",
            "{NonTerminal(state=InventoryState(on_hand=0, on_order=0)): -27.087150079704028,\n",
            " NonTerminal(state=InventoryState(on_hand=0, on_order=1)): -19.82813570939693,\n",
            " NonTerminal(state=InventoryState(on_hand=0, on_order=2)): -18.606911660781112,\n",
            " NonTerminal(state=InventoryState(on_hand=0, on_order=3)): -20.988453611587758,\n",
            " NonTerminal(state=InventoryState(on_hand=0, on_order=4)): -21.941596200718678,\n",
            " NonTerminal(state=InventoryState(on_hand=0, on_order=5)): -23.310843658928984,\n",
            " NonTerminal(state=InventoryState(on_hand=1, on_order=0)): -20.948118896458972,\n",
            " NonTerminal(state=InventoryState(on_hand=1, on_order=1)): -19.880233709770568,\n",
            " NonTerminal(state=InventoryState(on_hand=1, on_order=2)): -21.231886892555966,\n",
            " NonTerminal(state=InventoryState(on_hand=1, on_order=3)): -22.035999345366736,\n",
            " NonTerminal(state=InventoryState(on_hand=1, on_order=4)): -24.069417230201715,\n",
            " NonTerminal(state=InventoryState(on_hand=2, on_order=0)): -20.653317126539058,\n",
            " NonTerminal(state=InventoryState(on_hand=2, on_order=1)): -22.38358454913336,\n",
            " NonTerminal(state=InventoryState(on_hand=2, on_order=2)): -23.914073847610286,\n",
            " NonTerminal(state=InventoryState(on_hand=2, on_order=3)): -26.1005853075408,\n",
            " NonTerminal(state=InventoryState(on_hand=3, on_order=0)): -23.106716955361026,\n",
            " NonTerminal(state=InventoryState(on_hand=3, on_order=1)): -24.142264237284728,\n",
            " NonTerminal(state=InventoryState(on_hand=3, on_order=2)): -27.30259912593049,\n",
            " NonTerminal(state=InventoryState(on_hand=4, on_order=0)): -24.992021519041547,\n",
            " NonTerminal(state=InventoryState(on_hand=4, on_order=1)): -27.33917838980049,\n",
            " NonTerminal(state=InventoryState(on_hand=5, on_order=0)): -27.849714895093072}\n"
          ]
        }
      ]
    },
    {
      "cell_type": "code",
      "source": [
        "print(f\"GLIE MC Optimal Policy with {n_episodes:d} episodes\")\n",
        "pprint(opt_pol)"
      ],
      "metadata": {
        "colab": {
          "base_uri": "https://localhost:8080/"
        },
        "id": "YRBZRCQJ4yrO",
        "outputId": "30b8afa8-d321-4d22-dab7-88396cf5f1fb"
      },
      "execution_count": 26,
      "outputs": [
        {
          "output_type": "stream",
          "name": "stdout",
          "text": [
            "GLIE MC Optimal Policy with 10000 episodes\n",
            "For State InventoryState(on_hand=0, on_order=0): Do Action 2\n",
            "For State InventoryState(on_hand=0, on_order=1): Do Action 2\n",
            "For State InventoryState(on_hand=0, on_order=2): Do Action 1\n",
            "For State InventoryState(on_hand=0, on_order=3): Do Action 0\n",
            "For State InventoryState(on_hand=0, on_order=4): Do Action 0\n",
            "For State InventoryState(on_hand=0, on_order=5): Do Action 0\n",
            "For State InventoryState(on_hand=1, on_order=0): Do Action 2\n",
            "For State InventoryState(on_hand=1, on_order=1): Do Action 1\n",
            "For State InventoryState(on_hand=1, on_order=2): Do Action 1\n",
            "For State InventoryState(on_hand=1, on_order=3): Do Action 0\n",
            "For State InventoryState(on_hand=1, on_order=4): Do Action 0\n",
            "For State InventoryState(on_hand=2, on_order=0): Do Action 1\n",
            "For State InventoryState(on_hand=2, on_order=1): Do Action 1\n",
            "For State InventoryState(on_hand=2, on_order=2): Do Action 0\n",
            "For State InventoryState(on_hand=2, on_order=3): Do Action 0\n",
            "For State InventoryState(on_hand=3, on_order=0): Do Action 1\n",
            "For State InventoryState(on_hand=3, on_order=1): Do Action 0\n",
            "For State InventoryState(on_hand=3, on_order=2): Do Action 0\n",
            "For State InventoryState(on_hand=4, on_order=0): Do Action 0\n",
            "For State InventoryState(on_hand=4, on_order=1): Do Action 0\n",
            "For State InventoryState(on_hand=5, on_order=0): Do Action 0\n",
            "\n"
          ]
        }
      ]
    },
    {
      "cell_type": "markdown",
      "source": [
        "For comparison, we run a Value Iteration to find the *true* Optimal Value Function and Optimal Policy."
      ],
      "metadata": {
        "id": "_bR32UHkfhRG"
      }
    },
    {
      "cell_type": "code",
      "source": [
        "true_opt_svf, true_opt_pol = value_iteration_result(mdp=si_mdp, gamma=gamma)"
      ],
      "metadata": {
        "id": "Sby_t8C7fg4T"
      },
      "execution_count": 27,
      "outputs": []
    },
    {
      "cell_type": "code",
      "source": [
        "print(\"True Optimal State Value Function\")\n",
        "pprint(true_opt_svf)"
      ],
      "metadata": {
        "colab": {
          "base_uri": "https://localhost:8080/"
        },
        "id": "9QmORUb8fgz6",
        "outputId": "04a84967-c8c5-44e7-812f-8362534686a0"
      },
      "execution_count": 28,
      "outputs": [
        {
          "output_type": "stream",
          "name": "stdout",
          "text": [
            "True Optimal State Value Function\n",
            "{NonTerminal(state=InventoryState(on_hand=0, on_order=0)): -26.98163492786722,\n",
            " NonTerminal(state=InventoryState(on_hand=0, on_order=1)): -19.9909558006178,\n",
            " NonTerminal(state=InventoryState(on_hand=0, on_order=2)): -18.86849301795165,\n",
            " NonTerminal(state=InventoryState(on_hand=0, on_order=3)): -19.934022635857023,\n",
            " NonTerminal(state=InventoryState(on_hand=0, on_order=4)): -20.91848526863397,\n",
            " NonTerminal(state=InventoryState(on_hand=0, on_order=5)): -22.77205311116058,\n",
            " NonTerminal(state=InventoryState(on_hand=1, on_order=0)): -20.9909558006178,\n",
            " NonTerminal(state=InventoryState(on_hand=1, on_order=1)): -19.86849301795165,\n",
            " NonTerminal(state=InventoryState(on_hand=1, on_order=2)): -20.934022635857026,\n",
            " NonTerminal(state=InventoryState(on_hand=1, on_order=3)): -21.918485268633972,\n",
            " NonTerminal(state=InventoryState(on_hand=1, on_order=4)): -23.77205311116058,\n",
            " NonTerminal(state=InventoryState(on_hand=2, on_order=0)): -20.86849301795165,\n",
            " NonTerminal(state=InventoryState(on_hand=2, on_order=1)): -21.934022635857023,\n",
            " NonTerminal(state=InventoryState(on_hand=2, on_order=2)): -22.91848526863397,\n",
            " NonTerminal(state=InventoryState(on_hand=2, on_order=3)): -24.77205311116058,\n",
            " NonTerminal(state=InventoryState(on_hand=3, on_order=0)): -22.934022635857026,\n",
            " NonTerminal(state=InventoryState(on_hand=3, on_order=1)): -23.918485268633972,\n",
            " NonTerminal(state=InventoryState(on_hand=3, on_order=2)): -25.772053111160584,\n",
            " NonTerminal(state=InventoryState(on_hand=4, on_order=0)): -24.91848526863397,\n",
            " NonTerminal(state=InventoryState(on_hand=4, on_order=1)): -26.772053111160577,\n",
            " NonTerminal(state=InventoryState(on_hand=5, on_order=0)): -27.772053111160577}\n"
          ]
        }
      ]
    },
    {
      "cell_type": "code",
      "source": [
        "print(\"True Optimal Policy\")\n",
        "pprint(true_opt_pol)"
      ],
      "metadata": {
        "colab": {
          "base_uri": "https://localhost:8080/"
        },
        "id": "Ktndf56UfgsS",
        "outputId": "a347925a-7f8d-48c7-bd8e-0fe96f0e4542"
      },
      "execution_count": 29,
      "outputs": [
        {
          "output_type": "stream",
          "name": "stdout",
          "text": [
            "True Optimal Policy\n",
            "For State InventoryState(on_hand=0, on_order=0): Do Action 2\n",
            "For State InventoryState(on_hand=0, on_order=1): Do Action 2\n",
            "For State InventoryState(on_hand=0, on_order=2): Do Action 1\n",
            "For State InventoryState(on_hand=0, on_order=3): Do Action 1\n",
            "For State InventoryState(on_hand=0, on_order=4): Do Action 0\n",
            "For State InventoryState(on_hand=0, on_order=5): Do Action 0\n",
            "For State InventoryState(on_hand=1, on_order=0): Do Action 2\n",
            "For State InventoryState(on_hand=1, on_order=1): Do Action 1\n",
            "For State InventoryState(on_hand=1, on_order=2): Do Action 1\n",
            "For State InventoryState(on_hand=1, on_order=3): Do Action 0\n",
            "For State InventoryState(on_hand=1, on_order=4): Do Action 0\n",
            "For State InventoryState(on_hand=2, on_order=0): Do Action 1\n",
            "For State InventoryState(on_hand=2, on_order=1): Do Action 1\n",
            "For State InventoryState(on_hand=2, on_order=2): Do Action 0\n",
            "For State InventoryState(on_hand=2, on_order=3): Do Action 0\n",
            "For State InventoryState(on_hand=3, on_order=0): Do Action 1\n",
            "For State InventoryState(on_hand=3, on_order=1): Do Action 0\n",
            "For State InventoryState(on_hand=3, on_order=2): Do Action 0\n",
            "For State InventoryState(on_hand=4, on_order=0): Do Action 0\n",
            "For State InventoryState(on_hand=4, on_order=1): Do Action 0\n",
            "For State InventoryState(on_hand=5, on_order=0): Do Action 0\n",
            "\n"
          ]
        }
      ]
    },
    {
      "cell_type": "markdown",
      "source": [
        "Now we compare values by state for the State Value Function"
      ],
      "metadata": {
        "id": "7poUrkKrxMBE"
      }
    },
    {
      "cell_type": "code",
      "source": [
        "[(true_opt_svf[s], opt_svf[s]) for s in si_mdp.non_terminal_states]"
      ],
      "metadata": {
        "colab": {
          "base_uri": "https://localhost:8080/"
        },
        "id": "CBG3z-ObxTsP",
        "outputId": "c535b721-0456-47ec-d48e-2eac7b5f8890"
      },
      "execution_count": 30,
      "outputs": [
        {
          "output_type": "execute_result",
          "data": {
            "text/plain": [
              "[(-26.98163492786722, -27.087150079704028),\n",
              " (-19.9909558006178, -19.82813570939693),\n",
              " (-18.86849301795165, -18.606911660781112),\n",
              " (-19.934022635857023, -20.988453611587758),\n",
              " (-20.91848526863397, -21.941596200718678),\n",
              " (-22.77205311116058, -23.310843658928984),\n",
              " (-20.9909558006178, -20.948118896458972),\n",
              " (-19.86849301795165, -19.880233709770568),\n",
              " (-20.934022635857026, -21.231886892555966),\n",
              " (-21.918485268633972, -22.035999345366736),\n",
              " (-23.77205311116058, -24.069417230201715),\n",
              " (-20.86849301795165, -20.653317126539058),\n",
              " (-21.934022635857023, -22.38358454913336),\n",
              " (-22.91848526863397, -23.914073847610286),\n",
              " (-24.77205311116058, -26.1005853075408),\n",
              " (-22.934022635857026, -23.106716955361026),\n",
              " (-23.918485268633972, -24.142264237284728),\n",
              " (-25.772053111160584, -27.30259912593049),\n",
              " (-24.91848526863397, -24.992021519041547),\n",
              " (-26.772053111160577, -27.33917838980049),\n",
              " (-27.772053111160577, -27.849714895093072)]"
            ]
          },
          "metadata": {},
          "execution_count": 30
        }
      ]
    },
    {
      "cell_type": "markdown",
      "source": [
        "We also compare values by state for the Policy"
      ],
      "metadata": {
        "id": "Md4A35U7yIGS"
      }
    },
    {
      "cell_type": "code",
      "source": [
        "[(true_opt_pol.policy_map[s.state], opt_pol.policy_map[s.state]) for s in si_mdp.non_terminal_states]"
      ],
      "metadata": {
        "colab": {
          "base_uri": "https://localhost:8080/"
        },
        "id": "MiZG3jRrxTlA",
        "outputId": "ee0976c4-d829-4c4c-8bd4-6a5452ba3db4"
      },
      "execution_count": 31,
      "outputs": [
        {
          "output_type": "execute_result",
          "data": {
            "text/plain": [
              "[(Constant(value=2), Constant(value=2)),\n",
              " (Constant(value=2), Constant(value=2)),\n",
              " (Constant(value=1), Constant(value=1)),\n",
              " (Constant(value=1), Constant(value=0)),\n",
              " (Constant(value=0), Constant(value=0)),\n",
              " (Constant(value=0), Constant(value=0)),\n",
              " (Constant(value=2), Constant(value=2)),\n",
              " (Constant(value=1), Constant(value=1)),\n",
              " (Constant(value=1), Constant(value=1)),\n",
              " (Constant(value=0), Constant(value=0)),\n",
              " (Constant(value=0), Constant(value=0)),\n",
              " (Constant(value=1), Constant(value=1)),\n",
              " (Constant(value=1), Constant(value=1)),\n",
              " (Constant(value=0), Constant(value=0)),\n",
              " (Constant(value=0), Constant(value=0)),\n",
              " (Constant(value=1), Constant(value=1)),\n",
              " (Constant(value=0), Constant(value=0)),\n",
              " (Constant(value=0), Constant(value=0)),\n",
              " (Constant(value=0), Constant(value=0)),\n",
              " (Constant(value=0), Constant(value=0)),\n",
              " (Constant(value=0), Constant(value=0))]"
            ]
          },
          "metadata": {},
          "execution_count": 31
        }
      ]
    },
    {
      "cell_type": "markdown",
      "source": [
        "### 3.4 Visualize"
      ],
      "metadata": {
        "id": "x6WZ1QL60PnI"
      }
    },
    {
      "cell_type": "markdown",
      "source": [
        "Let us visualize the convergence of the Action Value Function (Q) for each of the states:"
      ],
      "metadata": {
        "id": "FUNxceTB0Nnw"
      }
    },
    {
      "cell_type": "code",
      "source": [
        "qvfa_lst[1]"
      ],
      "metadata": {
        "colab": {
          "base_uri": "https://localhost:8080/"
        },
        "id": "eBb0cVGa0NJj",
        "outputId": "29d23d96-95f8-4414-ce61-dca031005ad9"
      },
      "execution_count": 32,
      "outputs": [
        {
          "output_type": "execute_result",
          "data": {
            "text/plain": [
              "Tabular(values_map={(NonTerminal(state=InventoryState(on_hand=0, on_order=0)), 0): -7.781100935628695, (NonTerminal(state=InventoryState(on_hand=0, on_order=0)), 1): 0.0, (NonTerminal(state=InventoryState(on_hand=0, on_order=0)), 2): 0.0, (NonTerminal(state=InventoryState(on_hand=0, on_order=0)), 3): -3.450549697406297, (NonTerminal(state=InventoryState(on_hand=0, on_order=0)), 4): -6.772583134919046, (NonTerminal(state=InventoryState(on_hand=0, on_order=0)), 5): 0.0, (NonTerminal(state=InventoryState(on_hand=0, on_order=1)), 0): -4.045750358386793, (NonTerminal(state=InventoryState(on_hand=0, on_order=1)), 1): 0.0, (NonTerminal(state=InventoryState(on_hand=0, on_order=1)), 2): -5.154369632535813, (NonTerminal(state=InventoryState(on_hand=0, on_order=1)), 3): -2.5382213263503024, (NonTerminal(state=InventoryState(on_hand=0, on_order=1)), 4): -3.107257236224688, (NonTerminal(state=InventoryState(on_hand=0, on_order=2)), 0): -2.5395834074504138, (NonTerminal(state=InventoryState(on_hand=0, on_order=2)), 1): 0.0, (NonTerminal(state=InventoryState(on_hand=0, on_order=2)), 2): 0.0, (NonTerminal(state=InventoryState(on_hand=0, on_order=2)), 3): 0.0, (NonTerminal(state=InventoryState(on_hand=0, on_order=3)), 0): -3.1714463299460505, (NonTerminal(state=InventoryState(on_hand=0, on_order=3)), 1): -4.861826781559919, (NonTerminal(state=InventoryState(on_hand=0, on_order=3)), 2): 0.0, (NonTerminal(state=InventoryState(on_hand=0, on_order=4)), 0): -10.344053241159365, (NonTerminal(state=InventoryState(on_hand=0, on_order=4)), 1): -6.157058697675608, (NonTerminal(state=InventoryState(on_hand=0, on_order=5)), 0): 0.0, (NonTerminal(state=InventoryState(on_hand=1, on_order=0)), 0): -3.7856342255412403, (NonTerminal(state=InventoryState(on_hand=1, on_order=0)), 1): -5.895405295896755, (NonTerminal(state=InventoryState(on_hand=1, on_order=0)), 2): 0.0, (NonTerminal(state=InventoryState(on_hand=1, on_order=0)), 3): 0.0, (NonTerminal(state=InventoryState(on_hand=1, on_order=0)), 4): -9.209665541563986, (NonTerminal(state=InventoryState(on_hand=1, on_order=1)), 0): 0.0, (NonTerminal(state=InventoryState(on_hand=1, on_order=1)), 1): 0.0, (NonTerminal(state=InventoryState(on_hand=1, on_order=1)), 2): -2.140266257328146, (NonTerminal(state=InventoryState(on_hand=1, on_order=1)), 3): -3.057940020465772, (NonTerminal(state=InventoryState(on_hand=1, on_order=2)), 0): -3.0738507355101605, (NonTerminal(state=InventoryState(on_hand=1, on_order=2)), 1): -2.407736120158205, (NonTerminal(state=InventoryState(on_hand=1, on_order=2)), 2): -2.266962508142384, (NonTerminal(state=InventoryState(on_hand=1, on_order=3)), 0): 0.0, (NonTerminal(state=InventoryState(on_hand=1, on_order=3)), 1): -2.9130659351239676, (NonTerminal(state=InventoryState(on_hand=1, on_order=4)), 0): 0.0, (NonTerminal(state=InventoryState(on_hand=2, on_order=0)), 0): -3.9985835784134274, (NonTerminal(state=InventoryState(on_hand=2, on_order=0)), 1): -7.201422817713911, (NonTerminal(state=InventoryState(on_hand=2, on_order=0)), 2): -3.2658888849356744, (NonTerminal(state=InventoryState(on_hand=2, on_order=0)), 3): -8.643831393557821, (NonTerminal(state=InventoryState(on_hand=2, on_order=1)), 0): -15.799002165485819, (NonTerminal(state=InventoryState(on_hand=2, on_order=1)), 1): -6.168882368569335, (NonTerminal(state=InventoryState(on_hand=2, on_order=1)), 2): -3.3819478951274635, (NonTerminal(state=InventoryState(on_hand=2, on_order=2)), 0): 0.0, (NonTerminal(state=InventoryState(on_hand=2, on_order=2)), 1): -6.172365341046465, (NonTerminal(state=InventoryState(on_hand=2, on_order=3)), 0): -9.942512041413721, (NonTerminal(state=InventoryState(on_hand=3, on_order=0)), 0): -3.0595188216844287, (NonTerminal(state=InventoryState(on_hand=3, on_order=0)), 1): -2.875735814917085, (NonTerminal(state=InventoryState(on_hand=3, on_order=0)), 2): -5.999821069865353, (NonTerminal(state=InventoryState(on_hand=3, on_order=1)), 0): -15.322045260207085, (NonTerminal(state=InventoryState(on_hand=3, on_order=1)), 1): -9.061767749469292, (NonTerminal(state=InventoryState(on_hand=3, on_order=2)), 0): -6.448985009820943, (NonTerminal(state=InventoryState(on_hand=4, on_order=0)), 0): -12.349888069034959, (NonTerminal(state=InventoryState(on_hand=4, on_order=0)), 1): -24.508326778262717, (NonTerminal(state=InventoryState(on_hand=4, on_order=1)), 0): -16.2357568395016, (NonTerminal(state=InventoryState(on_hand=5, on_order=0)), 0): -28.830325405614893}, counts_map={(NonTerminal(state=InventoryState(on_hand=2, on_order=3)), 0): 3, (NonTerminal(state=InventoryState(on_hand=5, on_order=0)), 0): 17, (NonTerminal(state=InventoryState(on_hand=4, on_order=0)), 1): 13, (NonTerminal(state=InventoryState(on_hand=4, on_order=1)), 0): 6, (NonTerminal(state=InventoryState(on_hand=3, on_order=0)), 0): 1, (NonTerminal(state=InventoryState(on_hand=3, on_order=0)), 2): 2, (NonTerminal(state=InventoryState(on_hand=2, on_order=2)), 1): 2, (NonTerminal(state=InventoryState(on_hand=3, on_order=1)), 1): 3, (NonTerminal(state=InventoryState(on_hand=3, on_order=1)), 0): 6, (NonTerminal(state=InventoryState(on_hand=1, on_order=0)), 1): 2, (NonTerminal(state=InventoryState(on_hand=0, on_order=1)), 4): 1, (NonTerminal(state=InventoryState(on_hand=0, on_order=4)), 1): 2, (NonTerminal(state=InventoryState(on_hand=2, on_order=1)), 2): 1, (NonTerminal(state=InventoryState(on_hand=3, on_order=2)), 0): 2, (NonTerminal(state=InventoryState(on_hand=4, on_order=0)), 0): 5, (NonTerminal(state=InventoryState(on_hand=1, on_order=0)), 4): 3, (NonTerminal(state=InventoryState(on_hand=0, on_order=4)), 0): 4, (NonTerminal(state=InventoryState(on_hand=1, on_order=1)), 3): 1, (NonTerminal(state=InventoryState(on_hand=0, on_order=3)), 0): 1, (NonTerminal(state=InventoryState(on_hand=2, on_order=0)), 3): 3, (NonTerminal(state=InventoryState(on_hand=2, on_order=0)), 1): 2, (NonTerminal(state=InventoryState(on_hand=2, on_order=1)), 0): 6, (NonTerminal(state=InventoryState(on_hand=2, on_order=0)), 0): 1, (NonTerminal(state=InventoryState(on_hand=0, on_order=0)), 0): 2, (NonTerminal(state=InventoryState(on_hand=0, on_order=0)), 3): 1, (NonTerminal(state=InventoryState(on_hand=0, on_order=3)), 1): 2, (NonTerminal(state=InventoryState(on_hand=2, on_order=1)), 1): 2, (NonTerminal(state=InventoryState(on_hand=2, on_order=0)), 2): 1, (NonTerminal(state=InventoryState(on_hand=1, on_order=1)), 2): 1, (NonTerminal(state=InventoryState(on_hand=1, on_order=2)), 2): 1, (NonTerminal(state=InventoryState(on_hand=1, on_order=2)), 1): 1, (NonTerminal(state=InventoryState(on_hand=0, on_order=1)), 3): 1, (NonTerminal(state=InventoryState(on_hand=0, on_order=1)), 2): 2, (NonTerminal(state=InventoryState(on_hand=0, on_order=2)), 0): 1, (NonTerminal(state=InventoryState(on_hand=1, on_order=3)), 1): 1, (NonTerminal(state=InventoryState(on_hand=0, on_order=1)), 0): 1, (NonTerminal(state=InventoryState(on_hand=0, on_order=0)), 4): 2, (NonTerminal(state=InventoryState(on_hand=3, on_order=0)), 1): 1, (NonTerminal(state=InventoryState(on_hand=1, on_order=2)), 0): 1, (NonTerminal(state=InventoryState(on_hand=1, on_order=0)), 0): 1}, count_to_weight_func=<function learning_rate_schedule.<locals>.lr_func at 0x7f4ece10ee60>)"
            ]
          },
          "metadata": {},
          "execution_count": 32
        }
      ]
    },
    {
      "cell_type": "code",
      "source": [
        "qvfa_lst[1].values_map"
      ],
      "metadata": {
        "colab": {
          "base_uri": "https://localhost:8080/"
        },
        "id": "-PrAtIHf0NGL",
        "outputId": "9c1b8604-f534-4f4d-befc-7fb8069f0147"
      },
      "execution_count": 33,
      "outputs": [
        {
          "output_type": "execute_result",
          "data": {
            "text/plain": [
              "{(NonTerminal(state=InventoryState(on_hand=0, on_order=0)),\n",
              "  0): -7.781100935628695,\n",
              " (NonTerminal(state=InventoryState(on_hand=0, on_order=0)), 1): 0.0,\n",
              " (NonTerminal(state=InventoryState(on_hand=0, on_order=0)), 2): 0.0,\n",
              " (NonTerminal(state=InventoryState(on_hand=0, on_order=0)),\n",
              "  3): -3.450549697406297,\n",
              " (NonTerminal(state=InventoryState(on_hand=0, on_order=0)),\n",
              "  4): -6.772583134919046,\n",
              " (NonTerminal(state=InventoryState(on_hand=0, on_order=0)), 5): 0.0,\n",
              " (NonTerminal(state=InventoryState(on_hand=0, on_order=1)),\n",
              "  0): -4.045750358386793,\n",
              " (NonTerminal(state=InventoryState(on_hand=0, on_order=1)), 1): 0.0,\n",
              " (NonTerminal(state=InventoryState(on_hand=0, on_order=1)),\n",
              "  2): -5.154369632535813,\n",
              " (NonTerminal(state=InventoryState(on_hand=0, on_order=1)),\n",
              "  3): -2.5382213263503024,\n",
              " (NonTerminal(state=InventoryState(on_hand=0, on_order=1)),\n",
              "  4): -3.107257236224688,\n",
              " (NonTerminal(state=InventoryState(on_hand=0, on_order=2)),\n",
              "  0): -2.5395834074504138,\n",
              " (NonTerminal(state=InventoryState(on_hand=0, on_order=2)), 1): 0.0,\n",
              " (NonTerminal(state=InventoryState(on_hand=0, on_order=2)), 2): 0.0,\n",
              " (NonTerminal(state=InventoryState(on_hand=0, on_order=2)), 3): 0.0,\n",
              " (NonTerminal(state=InventoryState(on_hand=0, on_order=3)),\n",
              "  0): -3.1714463299460505,\n",
              " (NonTerminal(state=InventoryState(on_hand=0, on_order=3)),\n",
              "  1): -4.861826781559919,\n",
              " (NonTerminal(state=InventoryState(on_hand=0, on_order=3)), 2): 0.0,\n",
              " (NonTerminal(state=InventoryState(on_hand=0, on_order=4)),\n",
              "  0): -10.344053241159365,\n",
              " (NonTerminal(state=InventoryState(on_hand=0, on_order=4)),\n",
              "  1): -6.157058697675608,\n",
              " (NonTerminal(state=InventoryState(on_hand=0, on_order=5)), 0): 0.0,\n",
              " (NonTerminal(state=InventoryState(on_hand=1, on_order=0)),\n",
              "  0): -3.7856342255412403,\n",
              " (NonTerminal(state=InventoryState(on_hand=1, on_order=0)),\n",
              "  1): -5.895405295896755,\n",
              " (NonTerminal(state=InventoryState(on_hand=1, on_order=0)), 2): 0.0,\n",
              " (NonTerminal(state=InventoryState(on_hand=1, on_order=0)), 3): 0.0,\n",
              " (NonTerminal(state=InventoryState(on_hand=1, on_order=0)),\n",
              "  4): -9.209665541563986,\n",
              " (NonTerminal(state=InventoryState(on_hand=1, on_order=1)), 0): 0.0,\n",
              " (NonTerminal(state=InventoryState(on_hand=1, on_order=1)), 1): 0.0,\n",
              " (NonTerminal(state=InventoryState(on_hand=1, on_order=1)),\n",
              "  2): -2.140266257328146,\n",
              " (NonTerminal(state=InventoryState(on_hand=1, on_order=1)),\n",
              "  3): -3.057940020465772,\n",
              " (NonTerminal(state=InventoryState(on_hand=1, on_order=2)),\n",
              "  0): -3.0738507355101605,\n",
              " (NonTerminal(state=InventoryState(on_hand=1, on_order=2)),\n",
              "  1): -2.407736120158205,\n",
              " (NonTerminal(state=InventoryState(on_hand=1, on_order=2)),\n",
              "  2): -2.266962508142384,\n",
              " (NonTerminal(state=InventoryState(on_hand=1, on_order=3)), 0): 0.0,\n",
              " (NonTerminal(state=InventoryState(on_hand=1, on_order=3)),\n",
              "  1): -2.9130659351239676,\n",
              " (NonTerminal(state=InventoryState(on_hand=1, on_order=4)), 0): 0.0,\n",
              " (NonTerminal(state=InventoryState(on_hand=2, on_order=0)),\n",
              "  0): -3.9985835784134274,\n",
              " (NonTerminal(state=InventoryState(on_hand=2, on_order=0)),\n",
              "  1): -7.201422817713911,\n",
              " (NonTerminal(state=InventoryState(on_hand=2, on_order=0)),\n",
              "  2): -3.2658888849356744,\n",
              " (NonTerminal(state=InventoryState(on_hand=2, on_order=0)),\n",
              "  3): -8.643831393557821,\n",
              " (NonTerminal(state=InventoryState(on_hand=2, on_order=1)),\n",
              "  0): -15.799002165485819,\n",
              " (NonTerminal(state=InventoryState(on_hand=2, on_order=1)),\n",
              "  1): -6.168882368569335,\n",
              " (NonTerminal(state=InventoryState(on_hand=2, on_order=1)),\n",
              "  2): -3.3819478951274635,\n",
              " (NonTerminal(state=InventoryState(on_hand=2, on_order=2)), 0): 0.0,\n",
              " (NonTerminal(state=InventoryState(on_hand=2, on_order=2)),\n",
              "  1): -6.172365341046465,\n",
              " (NonTerminal(state=InventoryState(on_hand=2, on_order=3)),\n",
              "  0): -9.942512041413721,\n",
              " (NonTerminal(state=InventoryState(on_hand=3, on_order=0)),\n",
              "  0): -3.0595188216844287,\n",
              " (NonTerminal(state=InventoryState(on_hand=3, on_order=0)),\n",
              "  1): -2.875735814917085,\n",
              " (NonTerminal(state=InventoryState(on_hand=3, on_order=0)),\n",
              "  2): -5.999821069865353,\n",
              " (NonTerminal(state=InventoryState(on_hand=3, on_order=1)),\n",
              "  0): -15.322045260207085,\n",
              " (NonTerminal(state=InventoryState(on_hand=3, on_order=1)),\n",
              "  1): -9.061767749469292,\n",
              " (NonTerminal(state=InventoryState(on_hand=3, on_order=2)),\n",
              "  0): -6.448985009820943,\n",
              " (NonTerminal(state=InventoryState(on_hand=4, on_order=0)),\n",
              "  0): -12.349888069034959,\n",
              " (NonTerminal(state=InventoryState(on_hand=4, on_order=0)),\n",
              "  1): -24.508326778262717,\n",
              " (NonTerminal(state=InventoryState(on_hand=4, on_order=1)),\n",
              "  0): -16.2357568395016,\n",
              " (NonTerminal(state=InventoryState(on_hand=5, on_order=0)),\n",
              "  0): -28.830325405614893}"
            ]
          },
          "metadata": {},
          "execution_count": 33
        }
      ]
    },
    {
      "cell_type": "code",
      "source": [
        "qvfa_lst[1].counts_map"
      ],
      "metadata": {
        "colab": {
          "base_uri": "https://localhost:8080/"
        },
        "id": "_MtBLoKA6LC1",
        "outputId": "5654757a-feaf-4afd-e68f-2e596308fcd0"
      },
      "execution_count": 34,
      "outputs": [
        {
          "output_type": "execute_result",
          "data": {
            "text/plain": [
              "{(NonTerminal(state=InventoryState(on_hand=2, on_order=3)), 0): 3,\n",
              " (NonTerminal(state=InventoryState(on_hand=5, on_order=0)), 0): 17,\n",
              " (NonTerminal(state=InventoryState(on_hand=4, on_order=0)), 1): 13,\n",
              " (NonTerminal(state=InventoryState(on_hand=4, on_order=1)), 0): 6,\n",
              " (NonTerminal(state=InventoryState(on_hand=3, on_order=0)), 0): 1,\n",
              " (NonTerminal(state=InventoryState(on_hand=3, on_order=0)), 2): 2,\n",
              " (NonTerminal(state=InventoryState(on_hand=2, on_order=2)), 1): 2,\n",
              " (NonTerminal(state=InventoryState(on_hand=3, on_order=1)), 1): 3,\n",
              " (NonTerminal(state=InventoryState(on_hand=3, on_order=1)), 0): 6,\n",
              " (NonTerminal(state=InventoryState(on_hand=1, on_order=0)), 1): 2,\n",
              " (NonTerminal(state=InventoryState(on_hand=0, on_order=1)), 4): 1,\n",
              " (NonTerminal(state=InventoryState(on_hand=0, on_order=4)), 1): 2,\n",
              " (NonTerminal(state=InventoryState(on_hand=2, on_order=1)), 2): 1,\n",
              " (NonTerminal(state=InventoryState(on_hand=3, on_order=2)), 0): 2,\n",
              " (NonTerminal(state=InventoryState(on_hand=4, on_order=0)), 0): 5,\n",
              " (NonTerminal(state=InventoryState(on_hand=1, on_order=0)), 4): 3,\n",
              " (NonTerminal(state=InventoryState(on_hand=0, on_order=4)), 0): 4,\n",
              " (NonTerminal(state=InventoryState(on_hand=1, on_order=1)), 3): 1,\n",
              " (NonTerminal(state=InventoryState(on_hand=0, on_order=3)), 0): 1,\n",
              " (NonTerminal(state=InventoryState(on_hand=2, on_order=0)), 3): 3,\n",
              " (NonTerminal(state=InventoryState(on_hand=2, on_order=0)), 1): 2,\n",
              " (NonTerminal(state=InventoryState(on_hand=2, on_order=1)), 0): 6,\n",
              " (NonTerminal(state=InventoryState(on_hand=2, on_order=0)), 0): 1,\n",
              " (NonTerminal(state=InventoryState(on_hand=0, on_order=0)), 0): 2,\n",
              " (NonTerminal(state=InventoryState(on_hand=0, on_order=0)), 3): 1,\n",
              " (NonTerminal(state=InventoryState(on_hand=0, on_order=3)), 1): 2,\n",
              " (NonTerminal(state=InventoryState(on_hand=2, on_order=1)), 1): 2,\n",
              " (NonTerminal(state=InventoryState(on_hand=2, on_order=0)), 2): 1,\n",
              " (NonTerminal(state=InventoryState(on_hand=1, on_order=1)), 2): 1,\n",
              " (NonTerminal(state=InventoryState(on_hand=1, on_order=2)), 2): 1,\n",
              " (NonTerminal(state=InventoryState(on_hand=1, on_order=2)), 1): 1,\n",
              " (NonTerminal(state=InventoryState(on_hand=0, on_order=1)), 3): 1,\n",
              " (NonTerminal(state=InventoryState(on_hand=0, on_order=1)), 2): 2,\n",
              " (NonTerminal(state=InventoryState(on_hand=0, on_order=2)), 0): 1,\n",
              " (NonTerminal(state=InventoryState(on_hand=1, on_order=3)), 1): 1,\n",
              " (NonTerminal(state=InventoryState(on_hand=0, on_order=1)), 0): 1,\n",
              " (NonTerminal(state=InventoryState(on_hand=0, on_order=0)), 4): 2,\n",
              " (NonTerminal(state=InventoryState(on_hand=3, on_order=0)), 1): 1,\n",
              " (NonTerminal(state=InventoryState(on_hand=1, on_order=2)), 0): 1,\n",
              " (NonTerminal(state=InventoryState(on_hand=1, on_order=0)), 0): 1}"
            ]
          },
          "metadata": {},
          "execution_count": 34
        }
      ]
    },
    {
      "cell_type": "code",
      "source": [
        "# hide\n",
        "# Let us visualize how the Action Value Function for each (state, action) pair converges during the operation of the Monte-Carlo algorithm."
      ],
      "metadata": {
        "id": "NKXpQfBEiJvU"
      },
      "execution_count": 35,
      "outputs": []
    },
    {
      "cell_type": "code",
      "source": [
        "# hide\n",
        "# values_dicts = [(vfa.values_map) for vfa in qvfa_lst]\n",
        "# # values_dicts"
      ],
      "metadata": {
        "id": "CuIqHmox0M-I"
      },
      "execution_count": 36,
      "outputs": []
    },
    {
      "cell_type": "code",
      "source": [
        "# hide\n",
        "# # https://stackoverflow.com/questions/5946236/how-to-merge-dicts-collecting-values-from-matching-keys\n",
        "# from collections import defaultdict\n",
        "# ds = values_dicts\n",
        "# merged_dict = defaultdict(list)\n",
        "# for d in ds: #input dicts\n",
        "#     for key, value in d.items():\n",
        "#         merged_dict[key].append(value)\n",
        "# # merged_dict"
      ],
      "metadata": {
        "id": "HrlFN6Sb0M2X"
      },
      "execution_count": 37,
      "outputs": []
    },
    {
      "cell_type": "code",
      "source": [
        "# hide\n",
        "# len(merged_dict)"
      ],
      "metadata": {
        "id": "_SqgSROT15Cw"
      },
      "execution_count": 38,
      "outputs": []
    },
    {
      "cell_type": "code",
      "source": [
        "# hide\n",
        "# import matplotlib.pyplot as plt\n",
        "# fig,axs = plt.subplots(figsize=(13,10))\n",
        "# axs.set_xlabel('Iterations', fontsize=20)\n",
        "# axs.set_title(f'Convergence of action value functions during Monte-Carlo', fontsize=24)\n",
        "# for it in merged_dict.items():\n",
        "#   axs.plot(it[1], label=f'{it[0][0].state}, {it[0][1]}')\n",
        "# # axs.legend(fontsize=15);"
      ],
      "metadata": {
        "id": "fZ_Ac0P314_Y"
      },
      "execution_count": 39,
      "outputs": []
    },
    {
      "cell_type": "code",
      "source": [
        "# hide\n",
        "# Next we visualize the number of visits for each (state, action) pair during the operation of the Monte-Carlo algorithm."
      ],
      "metadata": {
        "id": "ARcTat-GifIa"
      },
      "execution_count": 40,
      "outputs": []
    },
    {
      "cell_type": "code",
      "source": [
        "# hide\n",
        "# counts_dicts = [(vfa.counts_map) for vfa in qvfa_lst]\n",
        "# # values_dicts"
      ],
      "metadata": {
        "id": "bG38-oI06Piq"
      },
      "execution_count": 41,
      "outputs": []
    },
    {
      "cell_type": "code",
      "source": [
        "# hide\n",
        "# # https://stackoverflow.com/questions/5946236/how-to-merge-dicts-collecting-values-from-matching-keys\n",
        "# from collections import defaultdict\n",
        "# ds = counts_dicts\n",
        "# merged_dict = defaultdict(list)\n",
        "# for d in ds: #input dicts\n",
        "#     for key, value in d.items():\n",
        "#         merged_dict[key].append(value)\n",
        "# # merged_dict"
      ],
      "metadata": {
        "id": "frBE42986Piq"
      },
      "execution_count": 42,
      "outputs": []
    },
    {
      "cell_type": "code",
      "source": [
        "# hide\n",
        "# len(merged_dict)"
      ],
      "metadata": {
        "id": "PSSykhbQ6Piq"
      },
      "execution_count": 43,
      "outputs": []
    },
    {
      "cell_type": "code",
      "source": [
        "# hide\n",
        "# import matplotlib.pyplot as plt\n",
        "# fig,axs = plt.subplots(figsize=(13,10))\n",
        "# axs.set_xlabel('Iterations', fontsize=20)\n",
        "# axs.set_title(f'Visits to each (state, action) pair during Monte-Carlo', fontsize=24)\n",
        "# for it in merged_dict.items():\n",
        "#   axs.plot(it[1], label=f'{it[0][0].state}, {it[0][1]}')\n",
        "# # axs.legend(fontsize=15);"
      ],
      "metadata": {
        "id": "scei6mor6Pir"
      },
      "execution_count": 44,
      "outputs": []
    },
    {
      "cell_type": "markdown",
      "source": [
        "### 3.5 Performance of optimal policy vs other policies"
      ],
      "metadata": {
        "id": "qEGzLKIoh9QF"
      }
    },
    {
      "cell_type": "code",
      "source": [
        "import numpy as np"
      ],
      "metadata": {
        "id": "Nc-nYtIiPdOs"
      },
      "execution_count": 45,
      "outputs": []
    },
    {
      "cell_type": "code",
      "source": [
        "print('capacity =', capacity)\n",
        "print('poisson_lambda =', poisson_lambda) \n",
        "print('holding_cost =', holding_cost)\n",
        "print('stockout_cost =', stockout_cost)\n",
        "print('gamma =', gamma)"
      ],
      "metadata": {
        "colab": {
          "base_uri": "https://localhost:8080/"
        },
        "id": "FrIuQs8t9JH0",
        "outputId": "b3639380-2bbf-4f28-947b-c8f167b39d63"
      },
      "execution_count": 46,
      "outputs": [
        {
          "output_type": "stream",
          "name": "stdout",
          "text": [
            "capacity = 5\n",
            "poisson_lambda = 1.0\n",
            "holding_cost = 1.0\n",
            "stockout_cost = 10.0\n",
            "gamma = 0.9\n"
          ]
        }
      ]
    },
    {
      "cell_type": "code",
      "source": [
        "n_steps = 2_000 #number of simulation steps"
      ],
      "metadata": {
        "id": "E44S1Z-LHqXB"
      },
      "execution_count": 47,
      "outputs": []
    },
    {
      "cell_type": "code",
      "source": [
        "class SimpleInventoryDeterministicPolicy(DeterministicPolicy[InventoryState, int]):\n",
        "  def __init__(self, reorder_point: int):\n",
        "    self.reorder_point: int = reorder_point\n",
        "    def action_for(s: InventoryState) -> int:\n",
        "      return max(self.reorder_point - s.inventory_position(), 0)\n",
        "    super().__init__(action_for)"
      ],
      "metadata": {
        "id": "7oTPjd1lHMs6"
      },
      "execution_count": 48,
      "outputs": []
    },
    {
      "cell_type": "code",
      "source": [
        "# \n",
        "# start state distribution\n",
        "ssd = Choose(si_mdp.non_terminal_states)\n",
        "# ssd"
      ],
      "metadata": {
        "id": "zdu81sYEIhW9"
      },
      "execution_count": 49,
      "outputs": []
    },
    {
      "cell_type": "markdown",
      "source": [
        "#### 3.5.1 Deterministic Policy with Reorder Point set to Capacity (Maximum Inventory)"
      ],
      "metadata": {
        "id": "ISb1-pHso1_d"
      }
    },
    {
      "cell_type": "markdown",
      "source": [
        "$\\theta = \\text{max}(r - (\\alpha + \\beta), 0)$\n",
        "\n",
        "where:\n",
        "  - $\\theta \\in \\mathbb Z_{\\ge0}$ is the order quantity\n",
        "  - $r \\in \\mathbb Z_{\\ge0}$ is the reorder point below which reordering is allowed.\n",
        "  - $\\alpha$ is the on-hand inventory\n",
        "  - $\\beta$ is the on-order inventory\n",
        "  - $(\\alpha,\\beta)$ is the state\n",
        "\n",
        "We set $r = C$ where $C$ is the inventory capacity for the item."
      ],
      "metadata": {
        "id": "ETozFUXoibD0"
      }
    },
    {
      "cell_type": "code",
      "source": [
        "reorder_point_pol_1 = capacity; reorder_point_pol_1"
      ],
      "metadata": {
        "colab": {
          "base_uri": "https://localhost:8080/"
        },
        "id": "OWwRIh-dLC44",
        "outputId": "fdaeab3e-8c69-4c37-917d-195f719baf5c"
      },
      "execution_count": 50,
      "outputs": [
        {
          "output_type": "execute_result",
          "data": {
            "text/plain": [
              "5"
            ]
          },
          "metadata": {},
          "execution_count": 50
        }
      ]
    },
    {
      "cell_type": "code",
      "source": [
        "pol_1 = SimpleInventoryDeterministicPolicy(reorder_point=reorder_point_pol_1); pol_1"
      ],
      "metadata": {
        "colab": {
          "base_uri": "https://localhost:8080/"
        },
        "id": "UW4fJi1NKtEP",
        "outputId": "931c9fef-4333-4f81-ddd4-b2442a5149ff"
      },
      "execution_count": 51,
      "outputs": [
        {
          "output_type": "execute_result",
          "data": {
            "text/plain": [
              "SimpleInventoryDeterministicPolicy(action_for=<function SimpleInventoryDeterministicPolicy.__init__.<locals>.action_for at 0x7f4edd6924d0>)"
            ]
          },
          "metadata": {},
          "execution_count": 51
        }
      ]
    },
    {
      "cell_type": "code",
      "source": [
        "step_gen = si_mdp.simulate_action(\n",
        "    start_state_distribution=ssd, \n",
        "    policy=pol_1) "
      ],
      "metadata": {
        "id": "IHE72pw-KtAl"
      },
      "execution_count": 52,
      "outputs": []
    },
    {
      "cell_type": "code",
      "source": [
        "step_lst = list(itertools.islice(step_gen, n_steps))\n",
        "pprint(step_lst[:5])"
      ],
      "metadata": {
        "colab": {
          "base_uri": "https://localhost:8080/"
        },
        "id": "78ApJGasKs8K",
        "outputId": "a829d9c2-4e9c-4d9a-fd08-33cf011006e7"
      },
      "execution_count": 53,
      "outputs": [
        {
          "output_type": "stream",
          "name": "stdout",
          "text": [
            "[TransitionStep(state=NonTerminal(state=InventoryState(on_hand=1, on_order=0)), action=4, next_state=NonTerminal(state=InventoryState(on_hand=1, on_order=4)), reward=-1.0),\n",
            " TransitionStep(state=NonTerminal(state=InventoryState(on_hand=1, on_order=4)), action=0, next_state=NonTerminal(state=InventoryState(on_hand=4, on_order=0)), reward=-1.0),\n",
            " TransitionStep(state=NonTerminal(state=InventoryState(on_hand=4, on_order=0)), action=1, next_state=NonTerminal(state=InventoryState(on_hand=3, on_order=1)), reward=-4.0),\n",
            " TransitionStep(state=NonTerminal(state=InventoryState(on_hand=3, on_order=1)), action=1, next_state=NonTerminal(state=InventoryState(on_hand=4, on_order=1)), reward=-3.0),\n",
            " TransitionStep(state=NonTerminal(state=InventoryState(on_hand=4, on_order=1)), action=0, next_state=NonTerminal(state=InventoryState(on_hand=1, on_order=0)), reward=-4.0)]\n"
          ]
        }
      ]
    },
    {
      "cell_type": "code",
      "source": [
        "list_of_tuples = [((step.state.state.on_hand,step.state.state.on_order), step.action, (step.next_state.state.on_hand,step.next_state.state.on_order), step.reward) for step in step_lst]\n",
        "# list_of_tuples"
      ],
      "metadata": {
        "id": "Vmz0icOCKs1U"
      },
      "execution_count": 54,
      "outputs": []
    },
    {
      "cell_type": "code",
      "source": [
        "states, actions, next_states, rewards = [list(tup) for tup in zip(*list_of_tuples)]"
      ],
      "metadata": {
        "id": "NrTm7O2FMv3C"
      },
      "execution_count": 55,
      "outputs": []
    },
    {
      "cell_type": "code",
      "source": [
        "cum_reward_pol_1 = np.cumsum(rewards)"
      ],
      "metadata": {
        "id": "xWljpKENO_7k"
      },
      "execution_count": 56,
      "outputs": []
    },
    {
      "cell_type": "markdown",
      "source": [
        "#### 3.5.2 Deterministic Policy with Reorder Point set to Zero (Minimum Inventory)"
      ],
      "metadata": {
        "id": "F6nvU26lT83Q"
      }
    },
    {
      "cell_type": "markdown",
      "source": [
        "$\\theta = \\text{max}(r - (\\alpha + \\beta), 0)$\n",
        "\n",
        "where:\n",
        "  - $\\theta \\in \\mathbb Z_{\\ge0}$ is the order quantity\n",
        "  - $r \\in \\mathbb Z_{\\ge0}$ is the reorder point below which reordering is allowed.\n",
        "  - $\\alpha$ is the on-hand inventory\n",
        "  - $\\beta$ is the on-order inventory\n",
        "  - $(\\alpha,\\beta)$ is the state\n",
        "\n",
        "We set $r = 0$."
      ],
      "metadata": {
        "id": "nLbH82hoT83Q"
      }
    },
    {
      "cell_type": "code",
      "source": [
        "reorder_point_pol_2 = 0; reorder_point_pol_2"
      ],
      "metadata": {
        "colab": {
          "base_uri": "https://localhost:8080/"
        },
        "outputId": "02ef62a8-bbc9-48ed-a8e6-f242843eb6bf",
        "id": "zYvHIYHPT83R"
      },
      "execution_count": 57,
      "outputs": [
        {
          "output_type": "execute_result",
          "data": {
            "text/plain": [
              "0"
            ]
          },
          "metadata": {},
          "execution_count": 57
        }
      ]
    },
    {
      "cell_type": "code",
      "source": [
        "pol_2 = SimpleInventoryDeterministicPolicy(reorder_point=reorder_point_pol_2); pol_2"
      ],
      "metadata": {
        "colab": {
          "base_uri": "https://localhost:8080/"
        },
        "outputId": "2e27a837-0c88-439c-c495-ebfd618b007a",
        "id": "HhhV6m1jT83R"
      },
      "execution_count": 58,
      "outputs": [
        {
          "output_type": "execute_result",
          "data": {
            "text/plain": [
              "SimpleInventoryDeterministicPolicy(action_for=<function SimpleInventoryDeterministicPolicy.__init__.<locals>.action_for at 0x7f4edd692f80>)"
            ]
          },
          "metadata": {},
          "execution_count": 58
        }
      ]
    },
    {
      "cell_type": "code",
      "source": [
        "step_gen = si_mdp.simulate_action(\n",
        "    start_state_distribution=ssd, \n",
        "    policy=pol_2) "
      ],
      "metadata": {
        "id": "Y4hyhbcnT83R"
      },
      "execution_count": 59,
      "outputs": []
    },
    {
      "cell_type": "code",
      "source": [
        "step_lst = list(itertools.islice(step_gen, n_steps))\n",
        "pprint(step_lst[:5])"
      ],
      "metadata": {
        "colab": {
          "base_uri": "https://localhost:8080/"
        },
        "outputId": "25a96b37-242c-4064-c2af-d4cab52392a3",
        "id": "6gONdqxPT83R"
      },
      "execution_count": 60,
      "outputs": [
        {
          "output_type": "stream",
          "name": "stdout",
          "text": [
            "[TransitionStep(state=NonTerminal(state=InventoryState(on_hand=1, on_order=4)), action=0, next_state=NonTerminal(state=InventoryState(on_hand=4, on_order=0)), reward=-1.0),\n",
            " TransitionStep(state=NonTerminal(state=InventoryState(on_hand=4, on_order=0)), action=0, next_state=NonTerminal(state=InventoryState(on_hand=4, on_order=0)), reward=-4.0),\n",
            " TransitionStep(state=NonTerminal(state=InventoryState(on_hand=4, on_order=0)), action=0, next_state=NonTerminal(state=InventoryState(on_hand=3, on_order=0)), reward=-4.0),\n",
            " TransitionStep(state=NonTerminal(state=InventoryState(on_hand=3, on_order=0)), action=0, next_state=NonTerminal(state=InventoryState(on_hand=1, on_order=0)), reward=-3.0),\n",
            " TransitionStep(state=NonTerminal(state=InventoryState(on_hand=1, on_order=0)), action=0, next_state=NonTerminal(state=InventoryState(on_hand=0, on_order=0)), reward=-4.678794411714423)]\n"
          ]
        }
      ]
    },
    {
      "cell_type": "code",
      "source": [
        "list_of_tuples = [((step.state.state.on_hand,step.state.state.on_order), step.action, (step.next_state.state.on_hand,step.next_state.state.on_order), step.reward) for step in step_lst]\n",
        "# list_of_tuples"
      ],
      "metadata": {
        "id": "WZKsXYF1T83R"
      },
      "execution_count": 61,
      "outputs": []
    },
    {
      "cell_type": "code",
      "source": [
        "states, actions, next_states, rewards = [list(tup) for tup in zip(*list_of_tuples)]"
      ],
      "metadata": {
        "id": "iB7cVQ4LT83R"
      },
      "execution_count": 62,
      "outputs": []
    },
    {
      "cell_type": "code",
      "source": [
        "cum_reward_pol_2 = np.cumsum(rewards)"
      ],
      "metadata": {
        "id": "1XyMOQG3T83R"
      },
      "execution_count": 63,
      "outputs": []
    },
    {
      "cell_type": "markdown",
      "source": [
        "#### 3.5.3 Deterministic Policy with Reorder Point set to Midpoint (Midpoint Inventory)"
      ],
      "metadata": {
        "id": "xDgGMkQzChq0"
      }
    },
    {
      "cell_type": "markdown",
      "source": [
        "$\\theta = \\text{max}(r - (\\alpha + \\beta), 0)$\n",
        "\n",
        "where:\n",
        "  - $\\theta \\in \\mathbb Z_{\\ge0}$ is the order quantity\n",
        "  - $r \\in \\mathbb Z_{\\ge0}$ is the reorder point below which reordering is allowed.\n",
        "  - $\\alpha$ is the on-hand inventory\n",
        "  - $\\beta$ is the on-order inventory\n",
        "  - $(\\alpha,\\beta)$ is the state\n",
        "\n",
        "We set $r = \\frac{C}{2}$."
      ],
      "metadata": {
        "id": "oksNTUVkChq0"
      }
    },
    {
      "cell_type": "code",
      "source": [
        "reorder_point_pol_3 = capacity//2; reorder_point_pol_3"
      ],
      "metadata": {
        "colab": {
          "base_uri": "https://localhost:8080/"
        },
        "outputId": "e0877160-6ff4-4413-c16a-55c666d2026f",
        "id": "wPp96bvxChq0"
      },
      "execution_count": 64,
      "outputs": [
        {
          "output_type": "execute_result",
          "data": {
            "text/plain": [
              "2"
            ]
          },
          "metadata": {},
          "execution_count": 64
        }
      ]
    },
    {
      "cell_type": "code",
      "source": [
        "pol_3 = SimpleInventoryDeterministicPolicy(reorder_point=reorder_point_pol_3); pol_3"
      ],
      "metadata": {
        "colab": {
          "base_uri": "https://localhost:8080/"
        },
        "outputId": "2eac6a2d-7200-4ce8-b3d0-d72ad52edd0f",
        "id": "dFolmBi3Chq1"
      },
      "execution_count": 65,
      "outputs": [
        {
          "output_type": "execute_result",
          "data": {
            "text/plain": [
              "SimpleInventoryDeterministicPolicy(action_for=<function SimpleInventoryDeterministicPolicy.__init__.<locals>.action_for at 0x7f4eda423440>)"
            ]
          },
          "metadata": {},
          "execution_count": 65
        }
      ]
    },
    {
      "cell_type": "code",
      "source": [
        "step_gen = si_mdp.simulate_action(\n",
        "    start_state_distribution=ssd, \n",
        "    policy=pol_3) "
      ],
      "metadata": {
        "id": "zYR2DCSYChq1"
      },
      "execution_count": 66,
      "outputs": []
    },
    {
      "cell_type": "code",
      "source": [
        "step_lst = list(itertools.islice(step_gen, n_steps))\n",
        "pprint(step_lst[:5])"
      ],
      "metadata": {
        "colab": {
          "base_uri": "https://localhost:8080/"
        },
        "outputId": "4b54e939-cc30-43df-bbb5-5b1b86f36f4a",
        "id": "vJ3SxhaiChq1"
      },
      "execution_count": 67,
      "outputs": [
        {
          "output_type": "stream",
          "name": "stdout",
          "text": [
            "[TransitionStep(state=NonTerminal(state=InventoryState(on_hand=2, on_order=2)), action=0, next_state=NonTerminal(state=InventoryState(on_hand=4, on_order=0)), reward=-2.0),\n",
            " TransitionStep(state=NonTerminal(state=InventoryState(on_hand=4, on_order=0)), action=0, next_state=NonTerminal(state=InventoryState(on_hand=4, on_order=0)), reward=-4.0),\n",
            " TransitionStep(state=NonTerminal(state=InventoryState(on_hand=4, on_order=0)), action=0, next_state=NonTerminal(state=InventoryState(on_hand=4, on_order=0)), reward=-4.0),\n",
            " TransitionStep(state=NonTerminal(state=InventoryState(on_hand=4, on_order=0)), action=0, next_state=NonTerminal(state=InventoryState(on_hand=2, on_order=0)), reward=-4.0),\n",
            " TransitionStep(state=NonTerminal(state=InventoryState(on_hand=2, on_order=0)), action=0, next_state=NonTerminal(state=InventoryState(on_hand=2, on_order=0)), reward=-2.0)]\n"
          ]
        }
      ]
    },
    {
      "cell_type": "code",
      "source": [
        "list_of_tuples = [((step.state.state.on_hand,step.state.state.on_order), step.action, (step.next_state.state.on_hand,step.next_state.state.on_order), step.reward) for step in step_lst]\n",
        "# list_of_tuples"
      ],
      "metadata": {
        "id": "xfhC4EkcChq1"
      },
      "execution_count": 68,
      "outputs": []
    },
    {
      "cell_type": "code",
      "source": [
        "states, actions, next_states, rewards = [list(tup) for tup in zip(*list_of_tuples)]"
      ],
      "metadata": {
        "id": "kXaY57HpChq1"
      },
      "execution_count": 69,
      "outputs": []
    },
    {
      "cell_type": "code",
      "source": [
        "cum_reward_pol_3 = np.cumsum(rewards)"
      ],
      "metadata": {
        "id": "hdq0WkBkChq1"
      },
      "execution_count": 70,
      "outputs": []
    },
    {
      "cell_type": "markdown",
      "source": [
        "#### 3.5.4 Optimal Policy (Monte-Carlo)"
      ],
      "metadata": {
        "id": "8gbLPLRCgAnm"
      }
    },
    {
      "cell_type": "code",
      "source": [
        "print(f\"GLIE MC Optimal Policy with {n_episodes:d} episodes\")\n",
        "pprint(opt_pol)"
      ],
      "metadata": {
        "id": "BiRD8MRfOjSp",
        "colab": {
          "base_uri": "https://localhost:8080/"
        },
        "outputId": "b1360c32-ac53-4814-8cb7-5062d5d26d39"
      },
      "execution_count": 71,
      "outputs": [
        {
          "output_type": "stream",
          "name": "stdout",
          "text": [
            "GLIE MC Optimal Policy with 10000 episodes\n",
            "For State InventoryState(on_hand=0, on_order=0): Do Action 2\n",
            "For State InventoryState(on_hand=0, on_order=1): Do Action 2\n",
            "For State InventoryState(on_hand=0, on_order=2): Do Action 1\n",
            "For State InventoryState(on_hand=0, on_order=3): Do Action 0\n",
            "For State InventoryState(on_hand=0, on_order=4): Do Action 0\n",
            "For State InventoryState(on_hand=0, on_order=5): Do Action 0\n",
            "For State InventoryState(on_hand=1, on_order=0): Do Action 2\n",
            "For State InventoryState(on_hand=1, on_order=1): Do Action 1\n",
            "For State InventoryState(on_hand=1, on_order=2): Do Action 1\n",
            "For State InventoryState(on_hand=1, on_order=3): Do Action 0\n",
            "For State InventoryState(on_hand=1, on_order=4): Do Action 0\n",
            "For State InventoryState(on_hand=2, on_order=0): Do Action 1\n",
            "For State InventoryState(on_hand=2, on_order=1): Do Action 1\n",
            "For State InventoryState(on_hand=2, on_order=2): Do Action 0\n",
            "For State InventoryState(on_hand=2, on_order=3): Do Action 0\n",
            "For State InventoryState(on_hand=3, on_order=0): Do Action 1\n",
            "For State InventoryState(on_hand=3, on_order=1): Do Action 0\n",
            "For State InventoryState(on_hand=3, on_order=2): Do Action 0\n",
            "For State InventoryState(on_hand=4, on_order=0): Do Action 0\n",
            "For State InventoryState(on_hand=4, on_order=1): Do Action 0\n",
            "For State InventoryState(on_hand=5, on_order=0): Do Action 0\n",
            "\n"
          ]
        }
      ]
    },
    {
      "cell_type": "code",
      "source": [
        "type(opt_pol)"
      ],
      "metadata": {
        "colab": {
          "base_uri": "https://localhost:8080/"
        },
        "id": "JkQMkqRYNuXG",
        "outputId": "cc205580-992c-437c-84e2-efcb5b87f9d1"
      },
      "execution_count": 72,
      "outputs": [
        {
          "output_type": "execute_result",
          "data": {
            "text/plain": [
              "rl.policy_ANNO.FiniteDeterministicPolicy"
            ]
          },
          "metadata": {},
          "execution_count": 72
        }
      ]
    },
    {
      "cell_type": "code",
      "source": [
        "# hide\n",
        "# s = si_mdp.non_terminal_states[2]; s"
      ],
      "metadata": {
        "id": "daBG7bOFOAN2"
      },
      "execution_count": 73,
      "outputs": []
    },
    {
      "cell_type": "code",
      "source": [
        "# hide\n",
        "# opt_pol.act(s)"
      ],
      "metadata": {
        "id": "uzN1vwPUNuTK"
      },
      "execution_count": 74,
      "outputs": []
    },
    {
      "cell_type": "code",
      "source": [
        "step_gen = si_mdp.simulate_action(\n",
        "    start_state_distribution=ssd, \n",
        "    policy=opt_pol) "
      ],
      "metadata": {
        "id": "q-9HhoiwiLhH"
      },
      "execution_count": 75,
      "outputs": []
    },
    {
      "cell_type": "code",
      "source": [
        "step_lst = list(itertools.islice(step_gen, n_steps))\n",
        "pprint(step_lst[:5])"
      ],
      "metadata": {
        "colab": {
          "base_uri": "https://localhost:8080/"
        },
        "id": "J4L8Rw6QiLa3",
        "outputId": "b804c372-bd1d-4211-a082-fa14b1e78e1a"
      },
      "execution_count": 76,
      "outputs": [
        {
          "output_type": "stream",
          "name": "stdout",
          "text": [
            "[TransitionStep(state=NonTerminal(state=InventoryState(on_hand=0, on_order=4)), action=0, next_state=NonTerminal(state=InventoryState(on_hand=0, on_order=0)), reward=-0.04348769566778855),\n",
            " TransitionStep(state=NonTerminal(state=InventoryState(on_hand=0, on_order=0)), action=2, next_state=NonTerminal(state=InventoryState(on_hand=0, on_order=2)), reward=-10.0),\n",
            " TransitionStep(state=NonTerminal(state=InventoryState(on_hand=0, on_order=2)), action=1, next_state=NonTerminal(state=InventoryState(on_hand=1, on_order=1)), reward=-0.0),\n",
            " TransitionStep(state=NonTerminal(state=InventoryState(on_hand=1, on_order=1)), action=1, next_state=NonTerminal(state=InventoryState(on_hand=2, on_order=1)), reward=-1.0),\n",
            " TransitionStep(state=NonTerminal(state=InventoryState(on_hand=2, on_order=1)), action=1, next_state=NonTerminal(state=InventoryState(on_hand=2, on_order=1)), reward=-2.0)]\n"
          ]
        }
      ]
    },
    {
      "cell_type": "code",
      "source": [
        "list_of_tuples = [((step.state.state.on_hand,step.state.state.on_order), step.action, (step.next_state.state.on_hand,step.next_state.state.on_order), step.reward) for step in step_lst]\n",
        "# list_of_tuples"
      ],
      "metadata": {
        "id": "H-6FYQ2yiLXc"
      },
      "execution_count": 77,
      "outputs": []
    },
    {
      "cell_type": "code",
      "source": [
        "states, actions, next_states, rewards = [list(tup) for tup in zip(*list_of_tuples)]"
      ],
      "metadata": {
        "id": "W7eh68r7ciSz"
      },
      "execution_count": 78,
      "outputs": []
    },
    {
      "cell_type": "code",
      "source": [
        "cum_reward_pol_opt = np.cumsum(rewards)"
      ],
      "metadata": {
        "id": "zpr7HREjPkEK"
      },
      "execution_count": 79,
      "outputs": []
    },
    {
      "cell_type": "markdown",
      "source": [
        "#### 3.5.5 True Optimal Policy"
      ],
      "metadata": {
        "id": "vUt5yIam03cC"
      }
    },
    {
      "cell_type": "code",
      "source": [
        "print(f\"GLIE MC True Optimal Policy with {n_episodes:d} episodes\")\n",
        "pprint(true_opt_pol)"
      ],
      "metadata": {
        "id": "nMTlsjYF03cC",
        "colab": {
          "base_uri": "https://localhost:8080/"
        },
        "outputId": "a6f25fd9-ea8e-4175-f5d0-4c71ff2121d5"
      },
      "execution_count": 80,
      "outputs": [
        {
          "output_type": "stream",
          "name": "stdout",
          "text": [
            "GLIE MC True Optimal Policy with 10000 episodes\n",
            "For State InventoryState(on_hand=0, on_order=0): Do Action 2\n",
            "For State InventoryState(on_hand=0, on_order=1): Do Action 2\n",
            "For State InventoryState(on_hand=0, on_order=2): Do Action 1\n",
            "For State InventoryState(on_hand=0, on_order=3): Do Action 1\n",
            "For State InventoryState(on_hand=0, on_order=4): Do Action 0\n",
            "For State InventoryState(on_hand=0, on_order=5): Do Action 0\n",
            "For State InventoryState(on_hand=1, on_order=0): Do Action 2\n",
            "For State InventoryState(on_hand=1, on_order=1): Do Action 1\n",
            "For State InventoryState(on_hand=1, on_order=2): Do Action 1\n",
            "For State InventoryState(on_hand=1, on_order=3): Do Action 0\n",
            "For State InventoryState(on_hand=1, on_order=4): Do Action 0\n",
            "For State InventoryState(on_hand=2, on_order=0): Do Action 1\n",
            "For State InventoryState(on_hand=2, on_order=1): Do Action 1\n",
            "For State InventoryState(on_hand=2, on_order=2): Do Action 0\n",
            "For State InventoryState(on_hand=2, on_order=3): Do Action 0\n",
            "For State InventoryState(on_hand=3, on_order=0): Do Action 1\n",
            "For State InventoryState(on_hand=3, on_order=1): Do Action 0\n",
            "For State InventoryState(on_hand=3, on_order=2): Do Action 0\n",
            "For State InventoryState(on_hand=4, on_order=0): Do Action 0\n",
            "For State InventoryState(on_hand=4, on_order=1): Do Action 0\n",
            "For State InventoryState(on_hand=5, on_order=0): Do Action 0\n",
            "\n"
          ]
        }
      ]
    },
    {
      "cell_type": "code",
      "source": [
        "type(true_opt_pol)"
      ],
      "metadata": {
        "colab": {
          "base_uri": "https://localhost:8080/"
        },
        "outputId": "8e622321-d522-4661-b2c3-e5c454347a06",
        "id": "hNAux0Zs03cC"
      },
      "execution_count": 81,
      "outputs": [
        {
          "output_type": "execute_result",
          "data": {
            "text/plain": [
              "rl.policy_ANNO.FiniteDeterministicPolicy"
            ]
          },
          "metadata": {},
          "execution_count": 81
        }
      ]
    },
    {
      "cell_type": "code",
      "source": [
        "# hide\n",
        "# s = si_mdp.non_terminal_states[2]; s"
      ],
      "metadata": {
        "id": "belwMhK103cC"
      },
      "execution_count": 82,
      "outputs": []
    },
    {
      "cell_type": "code",
      "source": [
        "# hide\n",
        "# opt_pol.act(s)"
      ],
      "metadata": {
        "id": "fCybclJG03cC"
      },
      "execution_count": 83,
      "outputs": []
    },
    {
      "cell_type": "code",
      "source": [
        "step_gen = si_mdp.simulate_action(\n",
        "    start_state_distribution=ssd, \n",
        "    policy=true_opt_pol)"
      ],
      "metadata": {
        "id": "iyH_UvNY03cC"
      },
      "execution_count": 84,
      "outputs": []
    },
    {
      "cell_type": "code",
      "source": [
        "step_lst = list(itertools.islice(step_gen, n_steps))\n",
        "pprint(step_lst[:5])"
      ],
      "metadata": {
        "colab": {
          "base_uri": "https://localhost:8080/"
        },
        "outputId": "d6d6c4b7-ae71-493f-914f-dbbf47a665cc",
        "id": "MALxlymT03cD"
      },
      "execution_count": 85,
      "outputs": [
        {
          "output_type": "stream",
          "name": "stdout",
          "text": [
            "[TransitionStep(state=NonTerminal(state=InventoryState(on_hand=2, on_order=1)), action=1, next_state=NonTerminal(state=InventoryState(on_hand=3, on_order=1)), reward=-2.0),\n",
            " TransitionStep(state=NonTerminal(state=InventoryState(on_hand=3, on_order=1)), action=0, next_state=NonTerminal(state=InventoryState(on_hand=4, on_order=0)), reward=-3.0),\n",
            " TransitionStep(state=NonTerminal(state=InventoryState(on_hand=4, on_order=0)), action=0, next_state=NonTerminal(state=InventoryState(on_hand=4, on_order=0)), reward=-4.0),\n",
            " TransitionStep(state=NonTerminal(state=InventoryState(on_hand=4, on_order=0)), action=0, next_state=NonTerminal(state=InventoryState(on_hand=4, on_order=0)), reward=-4.0),\n",
            " TransitionStep(state=NonTerminal(state=InventoryState(on_hand=4, on_order=0)), action=0, next_state=NonTerminal(state=InventoryState(on_hand=4, on_order=0)), reward=-4.0)]\n"
          ]
        }
      ]
    },
    {
      "cell_type": "code",
      "source": [
        "list_of_tuples = [((step.state.state.on_hand,step.state.state.on_order), step.action, (step.next_state.state.on_hand,step.next_state.state.on_order), step.reward) for step in step_lst]\n",
        "# list_of_tuples"
      ],
      "metadata": {
        "id": "MebN6Ah_03cD"
      },
      "execution_count": 86,
      "outputs": []
    },
    {
      "cell_type": "code",
      "source": [
        "states, actions, next_states, rewards = [list(tup) for tup in zip(*list_of_tuples)]"
      ],
      "metadata": {
        "id": "8YZQvN5U03cD"
      },
      "execution_count": 87,
      "outputs": []
    },
    {
      "cell_type": "code",
      "source": [
        "cum_reward_pol_opt_true = np.cumsum(rewards)"
      ],
      "metadata": {
        "id": "1X1d-DB203cD"
      },
      "execution_count": 88,
      "outputs": []
    },
    {
      "cell_type": "markdown",
      "source": [
        "#### 3.5.6 Visualization"
      ],
      "metadata": {
        "id": "SEMDPxUjTJ90"
      }
    },
    {
      "cell_type": "code",
      "source": [
        "import matplotlib.pyplot as plt\n",
        "label_list = ['Max Inventory', 'Min Inventory', 'Midpoint Inventory', 'Optimal (MC)', 'True Optimal']\n",
        "plot_list = [cum_reward_pol_1, cum_reward_pol_2, cum_reward_pol_3, cum_reward_pol_opt, cum_reward_pol_opt_true]"
      ],
      "metadata": {
        "id": "-Fg_i5RDQyVI"
      },
      "execution_count": 91,
      "outputs": []
    },
    {
      "cell_type": "code",
      "source": [
        "fig,axs = plt.subplots(figsize=(16,15))\n",
        "axs.set_xlabel('Steps', fontsize=20)\n",
        "axs.set_title(f'Cumulative Reward', fontsize=24)\n",
        "for i,cum_r in enumerate(plot_list):\n",
        "  axs.plot(cum_r, label=label_list[i])\n",
        "# axs.set_ylim([-5000,0])\n",
        "axs.legend(fontsize=15);"
      ],
      "metadata": {
        "colab": {
          "base_uri": "https://localhost:8080/",
          "height": 903
        },
        "id": "e8i20qKJQyMk",
        "outputId": "9cf3d9d9-845b-437c-9c2d-408f6230dcc1"
      },
      "execution_count": 92,
      "outputs": [
        {
          "output_type": "display_data",
          "data": {
            "text/plain": [
              "<Figure size 1152x1080 with 1 Axes>"
            ],
            "image/png": "[encoded data removed]"
          },
          "metadata": {
            "needs_background": "light"
          }
        }
      ]
    },
    {
      "cell_type": "code",
      "source": [
        "fig,axs = plt.subplots(figsize=(16,15))\n",
        "axs.set_xlabel('Steps', fontsize=20)\n",
        "axs.set_title(f'Cumulative Cost', fontsize=24)\n",
        "for i,cum_r in enumerate(plot_list):\n",
        "  axs.plot(-cum_r, label=label_list[i])\n",
        "# axs.set_ylim([0, 5000])\n",
        "axs.legend(fontsize=15);"
      ],
      "metadata": {
        "colab": {
          "base_uri": "https://localhost:8080/",
          "height": 911
        },
        "id": "_A-zsqmNQ3yq",
        "outputId": "5b910a7f-1a8a-4cd5-9fcf-23bd36c53923"
      },
      "execution_count": 93,
      "outputs": [
        {
          "output_type": "display_data",
          "data": {
            "text/plain": [
              "<Figure size 1152x1080 with 1 Axes>"
            ],
            "image/png": "[encoded data removed]"
          },
          "metadata": {
            "needs_background": "light"
          }
        }
      ]
    },
    {
      "cell_type": "markdown",
      "source": [
        "Now we zoom in a bit:"
      ],
      "metadata": {
        "id": "WcihQvvM5Ar8"
      }
    },
    {
      "cell_type": "code",
      "source": [
        "fig,axs = plt.subplots(figsize=(16,15))\n",
        "axs.set_xlabel('Steps', fontsize=20)\n",
        "axs.set_title(f'Cumulative Reward', fontsize=24)\n",
        "for i,cum_r in enumerate(plot_list):\n",
        "  axs.plot(cum_r, label=label_list[i])\n",
        "axs.set_ylim([-3000,0])\n",
        "axs.legend(fontsize=15);"
      ],
      "metadata": {
        "colab": {
          "base_uri": "https://localhost:8080/",
          "height": 909
        },
        "outputId": "cdc0f521-1fc6-49cc-ff8d-54a723018eb0",
        "id": "GjaLLYc72b6-"
      },
      "execution_count": 94,
      "outputs": [
        {
          "output_type": "display_data",
          "data": {
            "text/plain": [
              "<Figure size 1152x1080 with 1 Axes>"
            ],
            "image/png": "[encoded data removed]"
          },
          "metadata": {
            "needs_background": "light"
          }
        }
      ]
    },
    {
      "cell_type": "code",
      "source": [
        "fig,axs = plt.subplots(figsize=(16,15))\n",
        "axs.set_xlabel('Steps', fontsize=20)\n",
        "axs.set_title(f'Cumulative Cost', fontsize=24)\n",
        "for i,cum_r in enumerate(plot_list):\n",
        "  axs.plot(-cum_r, label=label_list[i])\n",
        "axs.set_ylim([0, 3000])\n",
        "axs.legend(fontsize=15);"
      ],
      "metadata": {
        "colab": {
          "base_uri": "https://localhost:8080/",
          "height": 911
        },
        "id": "85_q8QoH2qEh",
        "outputId": "23979356-bcfb-412f-d38e-1e765de20a8a"
      },
      "execution_count": 95,
      "outputs": [
        {
          "output_type": "display_data",
          "data": {
            "text/plain": [
              "<Figure size 1152x1080 with 1 Axes>"
            ],
            "image/png": "[encoded data removed]"
          },
          "metadata": {
            "needs_background": "light"
          }
        }
      ]
    },
    {
      "cell_type": "code",
      "source": [],
      "metadata": {
        "id": "QSWFU00oLSC3"
      },
      "execution_count": 95,
      "outputs": []
    }
  ]
}